{
 "cells": [
  {
   "cell_type": "markdown",
   "metadata": {},
   "source": [
    "# Data Visualization Project on Serie A Current Players"
   ]
  },
  {
   "cell_type": "markdown",
   "metadata": {},
   "source": [
    "## 1. Read Essential Libraries"
   ]
  },
  {
   "cell_type": "code",
   "execution_count": 1,
   "metadata": {},
   "outputs": [],
   "source": [
    "import requests\n",
    "import pandas as pd\n",
    "from bs4 import BeautifulSoup\n",
    "import matplotlib.pyplot as plt\n",
    "import numpy\n",
    "import seaborn as sns"
   ]
  },
  {
   "cell_type": "markdown",
   "metadata": {},
   "source": [
    "## 2. Scraping data using the method we used on Premier League"
   ]
  },
  {
   "cell_type": "code",
   "execution_count": 2,
   "metadata": {},
   "outputs": [],
   "source": [
    "def Team(sequence):\n",
    "    #Things we need (Name, Value, Age, Position, Number, Team)\n",
    "    Player_List = []\n",
    "    Value_List = []\n",
    "    Age_List = []\n",
    "    Position_List = []\n",
    "    Number_List = []\n",
    "    Team_List = []\n",
    "    headers = {'User-Agent': \n",
    "           'Mozilla/5.0 (X11; Linux x86_64) AppleWebKit/537.36 (KHTML, like Gecko) Chrome/47.0.2526.106 Safari/537.36'}\n",
    "    for i in range(len(sequence)):\n",
    "        e = sequence[i]\n",
    "        # Scraping\n",
    "        pageTree = requests.get(e, headers=headers)\n",
    "        pageSoup = BeautifulSoup(pageTree.content, 'html.parser')\n",
    "        Players = pageSoup.find_all(\"td\", {\"class\": \"hide\"})\n",
    "        Values = pageSoup.find_all(\"td\", {\"class\": \"rechts hauptlink\"})\n",
    "        Age = pageSoup.find_all(\"td\", {\"class\": \"zentriert\"})\n",
    "        Position = pageSoup.find_all(\"tr\")\n",
    "        Number = pageSoup.find_all(\"td\")\n",
    "        a = 0\n",
    "        b = 0 \n",
    "        c = 1\n",
    "        d = 4\n",
    "        e = 3\n",
    "        while a < len(Players):\n",
    "            Player_List.append(Players[a].text)\n",
    "            a = a + 1\n",
    "            Team_List.append(sequence[i][32:(len(sequence[i])-22)])\n",
    "        while b < len(Values):\n",
    "            Value_List.append(Values[b].text)\n",
    "            b = b + 1\n",
    "        while c < (1+len(Players)*3):\n",
    "            Age_List.append(Age[c].text)\n",
    "            c = c + 3\n",
    "        while d < (4+len(Players)*3):\n",
    "            Position_List.append(Position[d].text)\n",
    "            d = d + 3 \n",
    "        while e < (3+len(Players)*9):\n",
    "            Number_List.append(Number[e].text)\n",
    "            e = e + 9\n",
    "    # Return these results to dataframe\n",
    "    Player = pd.DataFrame({'Player':Player_List})\n",
    "    Value = pd.DataFrame({'Value':Value_List})\n",
    "    Age = pd.DataFrame({'Age':Age_List})    \n",
    "    Position = pd.DataFrame({'Position':Position_List})  \n",
    "    Number = pd.DataFrame({'Number':Number_List})  \n",
    "    Club = pd.DataFrame({'Club':Team_List})\n",
    "    return Player, Value, Age, Position, Number, Club"
   ]
  },
  {
   "cell_type": "code",
   "execution_count": 3,
   "metadata": {},
   "outputs": [],
   "source": [
    "# Scrapping 20 Clubs data\n",
    "Player,Value,Age, Position, Number, Club = Team(['https://www.transfermarkt.co.uk/atalanta-bergamo/startseite/verein/800',\n",
    "      'https://www.transfermarkt.co.uk/fc-bologna/startseite/verein/1025',\n",
    "      'https://www.transfermarkt.co.uk/brescia-calcio/startseite/verein/19',\n",
    "      'https://www.transfermarkt.co.uk/cagliari-calcio/startseite/verein/1390',\n",
    "      'https://www.transfermarkt.co.uk/ac-florenz/startseite/verein/430',\n",
    "      'https://www.transfermarkt.co.uk/fc-genua-1893/startseite/verein/252',\n",
    "      'https://www.transfermarkt.co.uk/hellas-verona/startseite/verein/276',\n",
    "      'https://www.transfermarkt.co.uk/inter-mailand/startseite/verein/46',\n",
    "      'https://www.transfermarkt.co.uk/juventus-turin/startseite/verein/506',\n",
    "      'https://www.transfermarkt.co.uk/lazio-rom/startseite/verein/398',\n",
    "      'https://www.transfermarkt.co.uk/us-lecce/startseite/verein/1005',\n",
    "      'https://www.transfermarkt.co.uk/ac-mailand/startseite/verein/5',\n",
    "      'https://www.transfermarkt.co.uk/ssc-neapel/startseite/verein/6195',\n",
    "      'https://www.transfermarkt.co.uk/fc-parma/startseite/verein/130',\n",
    "      'https://www.transfermarkt.co.uk/as-rom/startseite/verein/12',\n",
    "      'https://www.transfermarkt.co.uk/uc-sampdoria/startseite/verein/1038',\n",
    "      'https://www.transfermarkt.co.uk/us-sassuolo/startseite/verein/6574',\n",
    "      'https://www.transfermarkt.co.uk/spal-2013/startseite/verein/2722',\n",
    "      'https://www.transfermarkt.co.uk/fc-turin/startseite/verein/416',\n",
    "      'https://www.transfermarkt.co.uk/udinese-calcio/startseite/verein/410'])"
   ]
  },
  {
   "cell_type": "code",
   "execution_count": 4,
   "metadata": {},
   "outputs": [],
   "source": [
    "#Join together\n",
    "SerieA =  Player.join(Value).join(Age).join(Position).join(Number).join(Club)"
   ]
  },
  {
   "cell_type": "code",
   "execution_count": 5,
   "metadata": {},
   "outputs": [],
   "source": [
    "# Transform player value to float for further analysis\n",
    "SerieA[['Value']] = pd.concat([Value[col].str.split()\n",
    "                       .str[0]\n",
    "                       .str.replace('£','')\n",
    "                       .str.replace('k','000')\n",
    "                       .str.replace('m','').astype(float) for col in Value], axis=1)"
   ]
  },
  {
   "cell_type": "code",
   "execution_count": 6,
   "metadata": {},
   "outputs": [],
   "source": [
    "# Transform value to the same standard (Million £)\n",
    "Filter = SerieA[SerieA.Value>200].copy(deep=False)\n",
    "Filter['Value'] = Filter['Value'].div(1000000).round(2)\n",
    "SerieA[SerieA.Value>200] = Filter"
   ]
  },
  {
   "cell_type": "code",
   "execution_count": 7,
   "metadata": {},
   "outputs": [],
   "source": [
    "# Transform player birth date and age to age (numeric)\n",
    "SerieA = SerieA.sort_values('Value',ascending = False).reset_index(drop = 'True')\n",
    "Age = SerieA['Age'].str[-3:-1]\n",
    "SerieA['Age'] = Age.astype(int)"
   ]
  },
  {
   "cell_type": "code",
   "execution_count": 8,
   "metadata": {},
   "outputs": [
    {
     "data": {
      "text/plain": [
       "array(['juventus-turin', 'inter-mailan', 'ssc-neapel/', 'lazio-rom',\n",
       "       'ac-florenz', 'ac-maila', 'as-ro', 'atalanta-bergamo', 'fc-turin',\n",
       "       'brescia-calci', 'cagliari-calcio/', 'fc-parma', 'udinese-calcio',\n",
       "       'us-sassuolo/', 'fc-genua-1893', 'fc-bologna/', 'spal-2013/',\n",
       "       'uc-sampdoria/', 'hellas-verona', 'us-lecce/'], dtype=object)"
      ]
     },
     "execution_count": 8,
     "metadata": {},
     "output_type": "execute_result"
    }
   ],
   "source": [
    "# Some names are spelled in a wrong way\n",
    "SerieA['Club'].unique()"
   ]
  },
  {
   "cell_type": "code",
   "execution_count": 9,
   "metadata": {},
   "outputs": [],
   "source": [
    "# Replace them\n",
    "SerieA.Club.replace(['inter-mailan','ssc-neapel/','lazio-rom','ac-florenz','ac-maila',\n",
    "                      'as-ro','atalanta-bergamo','fc-turin','brescia-calci','cagliari-calcio/','us-sassuolo/',\n",
    "                      'fc-genua-1893','fc-bologna/','spal-2013/','uc-sampdoria/','us-lecce/'],\n",
    "                     ['inter-milan','ssc-napoli','lazio','ac-florentina','ac-milan',\n",
    "                      'as-roma','atalanta','torino','brescia','cagliari-calcio','us-sassuolo',\n",
    "                      'genoa','fc-bologna','spal','uc-sampdoria','us-lecce'],inplace=True)"
   ]
  },
  {
   "cell_type": "code",
   "execution_count": 10,
   "metadata": {},
   "outputs": [
    {
     "data": {
      "text/html": [
       "<div>\n",
       "<style scoped>\n",
       "    .dataframe tbody tr th:only-of-type {\n",
       "        vertical-align: middle;\n",
       "    }\n",
       "\n",
       "    .dataframe tbody tr th {\n",
       "        vertical-align: top;\n",
       "    }\n",
       "\n",
       "    .dataframe thead th {\n",
       "        text-align: right;\n",
       "    }\n",
       "</style>\n",
       "<table border=\"1\" class=\"dataframe\">\n",
       "  <thead>\n",
       "    <tr style=\"text-align: right;\">\n",
       "      <th></th>\n",
       "      <th>Player</th>\n",
       "      <th>Value</th>\n",
       "      <th>Age</th>\n",
       "      <th>Position</th>\n",
       "      <th>Number</th>\n",
       "      <th>Club</th>\n",
       "    </tr>\n",
       "  </thead>\n",
       "  <tbody>\n",
       "    <tr>\n",
       "      <th>0</th>\n",
       "      <td>Paulo Dybala</td>\n",
       "      <td>76.50</td>\n",
       "      <td>26</td>\n",
       "      <td>Second Striker</td>\n",
       "      <td>10</td>\n",
       "      <td>juventus-turin</td>\n",
       "    </tr>\n",
       "    <tr>\n",
       "      <th>1</th>\n",
       "      <td>Lautaro Martínez</td>\n",
       "      <td>72.00</td>\n",
       "      <td>22</td>\n",
       "      <td>Centre-Forward</td>\n",
       "      <td>10</td>\n",
       "      <td>inter-milan</td>\n",
       "    </tr>\n",
       "    <tr>\n",
       "      <th>2</th>\n",
       "      <td>Romelu Lukaku</td>\n",
       "      <td>67.50</td>\n",
       "      <td>26</td>\n",
       "      <td>Centre-Forward</td>\n",
       "      <td>9</td>\n",
       "      <td>inter-milan</td>\n",
       "    </tr>\n",
       "    <tr>\n",
       "      <th>3</th>\n",
       "      <td>Cristiano Ronaldo</td>\n",
       "      <td>67.50</td>\n",
       "      <td>34</td>\n",
       "      <td>Left Winger</td>\n",
       "      <td>7</td>\n",
       "      <td>juventus-turin</td>\n",
       "    </tr>\n",
       "    <tr>\n",
       "      <th>4</th>\n",
       "      <td>Kalidou Koulibaly</td>\n",
       "      <td>67.50</td>\n",
       "      <td>28</td>\n",
       "      <td>Centre-Back</td>\n",
       "      <td>26</td>\n",
       "      <td>ssc-napoli</td>\n",
       "    </tr>\n",
       "    <tr>\n",
       "      <th>5</th>\n",
       "      <td>Matthijs de Ligt</td>\n",
       "      <td>67.50</td>\n",
       "      <td>20</td>\n",
       "      <td>Centre-Back</td>\n",
       "      <td>4</td>\n",
       "      <td>juventus-turin</td>\n",
       "    </tr>\n",
       "    <tr>\n",
       "      <th>6</th>\n",
       "      <td>Sergej Milinkovic-Savic</td>\n",
       "      <td>63.00</td>\n",
       "      <td>24</td>\n",
       "      <td>Central Midfield</td>\n",
       "      <td>21</td>\n",
       "      <td>lazio</td>\n",
       "    </tr>\n",
       "    <tr>\n",
       "      <th>7</th>\n",
       "      <td>Miralem Pjanic</td>\n",
       "      <td>63.00</td>\n",
       "      <td>29</td>\n",
       "      <td>Central Midfield</td>\n",
       "      <td>5</td>\n",
       "      <td>juventus-turin</td>\n",
       "    </tr>\n",
       "    <tr>\n",
       "      <th>8</th>\n",
       "      <td>Federico Chiesa</td>\n",
       "      <td>54.00</td>\n",
       "      <td>22</td>\n",
       "      <td>Right Winger</td>\n",
       "      <td>25</td>\n",
       "      <td>ac-florentina</td>\n",
       "    </tr>\n",
       "    <tr>\n",
       "      <th>9</th>\n",
       "      <td>Lorenzo Insigne</td>\n",
       "      <td>54.00</td>\n",
       "      <td>28</td>\n",
       "      <td>Left Winger</td>\n",
       "      <td>24</td>\n",
       "      <td>ssc-napoli</td>\n",
       "    </tr>\n",
       "    <tr>\n",
       "      <th>10</th>\n",
       "      <td>Fabián Ruiz</td>\n",
       "      <td>54.00</td>\n",
       "      <td>23</td>\n",
       "      <td>Central Midfield</td>\n",
       "      <td>8</td>\n",
       "      <td>ssc-napoli</td>\n",
       "    </tr>\n",
       "    <tr>\n",
       "      <th>11</th>\n",
       "      <td>Marcelo Brozovic</td>\n",
       "      <td>54.00</td>\n",
       "      <td>27</td>\n",
       "      <td>Defensive Midfield</td>\n",
       "      <td>77</td>\n",
       "      <td>inter-milan</td>\n",
       "    </tr>\n",
       "    <tr>\n",
       "      <th>12</th>\n",
       "      <td>Stefan de Vrij</td>\n",
       "      <td>54.00</td>\n",
       "      <td>27</td>\n",
       "      <td>Centre-Back</td>\n",
       "      <td>6</td>\n",
       "      <td>inter-milan</td>\n",
       "    </tr>\n",
       "    <tr>\n",
       "      <th>13</th>\n",
       "      <td>Milan Skriniar</td>\n",
       "      <td>54.00</td>\n",
       "      <td>24</td>\n",
       "      <td>Centre-Back</td>\n",
       "      <td>37</td>\n",
       "      <td>inter-milan</td>\n",
       "    </tr>\n",
       "    <tr>\n",
       "      <th>14</th>\n",
       "      <td>Gianluigi Donnarumma</td>\n",
       "      <td>49.50</td>\n",
       "      <td>20</td>\n",
       "      <td>Goalkeeper</td>\n",
       "      <td>99</td>\n",
       "      <td>ac-milan</td>\n",
       "    </tr>\n",
       "    <tr>\n",
       "      <th>15</th>\n",
       "      <td>Alex Sandro</td>\n",
       "      <td>45.00</td>\n",
       "      <td>28</td>\n",
       "      <td>Left-Back</td>\n",
       "      <td>12</td>\n",
       "      <td>juventus-turin</td>\n",
       "    </tr>\n",
       "    <tr>\n",
       "      <th>16</th>\n",
       "      <td>Nicolò Zaniolo</td>\n",
       "      <td>45.00</td>\n",
       "      <td>20</td>\n",
       "      <td>Attacking Midfield</td>\n",
       "      <td>22</td>\n",
       "      <td>as-roma</td>\n",
       "    </tr>\n",
       "    <tr>\n",
       "      <th>17</th>\n",
       "      <td>Allan</td>\n",
       "      <td>45.00</td>\n",
       "      <td>29</td>\n",
       "      <td>Central Midfield</td>\n",
       "      <td>5</td>\n",
       "      <td>ssc-napoli</td>\n",
       "    </tr>\n",
       "    <tr>\n",
       "      <th>18</th>\n",
       "      <td>Ciro Immobile</td>\n",
       "      <td>40.50</td>\n",
       "      <td>29</td>\n",
       "      <td>Centre-Forward</td>\n",
       "      <td>17</td>\n",
       "      <td>lazio</td>\n",
       "    </tr>\n",
       "    <tr>\n",
       "      <th>19</th>\n",
       "      <td>Nicolò Barella</td>\n",
       "      <td>40.50</td>\n",
       "      <td>22</td>\n",
       "      <td>Central Midfield</td>\n",
       "      <td>23</td>\n",
       "      <td>inter-milan</td>\n",
       "    </tr>\n",
       "    <tr>\n",
       "      <th>20</th>\n",
       "      <td>Duván Zapata</td>\n",
       "      <td>40.50</td>\n",
       "      <td>28</td>\n",
       "      <td>Centre-Forward</td>\n",
       "      <td>91</td>\n",
       "      <td>atalanta</td>\n",
       "    </tr>\n",
       "    <tr>\n",
       "      <th>21</th>\n",
       "      <td>Alessio Romagnoli</td>\n",
       "      <td>40.50</td>\n",
       "      <td>25</td>\n",
       "      <td>Centre-Back</td>\n",
       "      <td>13</td>\n",
       "      <td>ac-milan</td>\n",
       "    </tr>\n",
       "    <tr>\n",
       "      <th>22</th>\n",
       "      <td>Luis Alberto</td>\n",
       "      <td>36.00</td>\n",
       "      <td>27</td>\n",
       "      <td>Attacking Midfield</td>\n",
       "      <td>10</td>\n",
       "      <td>lazio</td>\n",
       "    </tr>\n",
       "    <tr>\n",
       "      <th>23</th>\n",
       "      <td>Lorenzo Pellegrini</td>\n",
       "      <td>36.00</td>\n",
       "      <td>23</td>\n",
       "      <td>Central Midfield</td>\n",
       "      <td>7</td>\n",
       "      <td>as-roma</td>\n",
       "    </tr>\n",
       "    <tr>\n",
       "      <th>24</th>\n",
       "      <td>Konstantinos Manolas</td>\n",
       "      <td>36.00</td>\n",
       "      <td>28</td>\n",
       "      <td>Centre-Back</td>\n",
       "      <td>44</td>\n",
       "      <td>ssc-napoli</td>\n",
       "    </tr>\n",
       "    <tr>\n",
       "      <th>25</th>\n",
       "      <td>Piotr Zielinski</td>\n",
       "      <td>36.00</td>\n",
       "      <td>25</td>\n",
       "      <td>Central Midfield</td>\n",
       "      <td>20</td>\n",
       "      <td>ssc-napoli</td>\n",
       "    </tr>\n",
       "    <tr>\n",
       "      <th>26</th>\n",
       "      <td>Arkadiusz Milik</td>\n",
       "      <td>36.00</td>\n",
       "      <td>25</td>\n",
       "      <td>Centre-Forward</td>\n",
       "      <td>99</td>\n",
       "      <td>ssc-napoli</td>\n",
       "    </tr>\n",
       "    <tr>\n",
       "      <th>27</th>\n",
       "      <td>Hirving Lozano</td>\n",
       "      <td>36.00</td>\n",
       "      <td>24</td>\n",
       "      <td>Left Winger</td>\n",
       "      <td>11</td>\n",
       "      <td>ssc-napoli</td>\n",
       "    </tr>\n",
       "    <tr>\n",
       "      <th>28</th>\n",
       "      <td>Alex Meret</td>\n",
       "      <td>36.00</td>\n",
       "      <td>22</td>\n",
       "      <td>Goalkeeper</td>\n",
       "      <td>1</td>\n",
       "      <td>ssc-napoli</td>\n",
       "    </tr>\n",
       "    <tr>\n",
       "      <th>29</th>\n",
       "      <td>Andrea Belotti</td>\n",
       "      <td>36.00</td>\n",
       "      <td>26</td>\n",
       "      <td>Centre-Forward</td>\n",
       "      <td>9</td>\n",
       "      <td>torino</td>\n",
       "    </tr>\n",
       "    <tr>\n",
       "      <th>...</th>\n",
       "      <td>...</td>\n",
       "      <td>...</td>\n",
       "      <td>...</td>\n",
       "      <td>...</td>\n",
       "      <td>...</td>\n",
       "      <td>...</td>\n",
       "    </tr>\n",
       "    <tr>\n",
       "      <th>506</th>\n",
       "      <td>Rafael</td>\n",
       "      <td>0.18</td>\n",
       "      <td>37</td>\n",
       "      <td>Goalkeeper</td>\n",
       "      <td>1</td>\n",
       "      <td>cagliari-calcio</td>\n",
       "    </tr>\n",
       "    <tr>\n",
       "      <th>507</th>\n",
       "      <td>Alessandro Semprini</td>\n",
       "      <td>0.18</td>\n",
       "      <td>21</td>\n",
       "      <td>Right-Back</td>\n",
       "      <td>29</td>\n",
       "      <td>brescia</td>\n",
       "    </tr>\n",
       "    <tr>\n",
       "      <th>508</th>\n",
       "      <td>Ivan Vargic</td>\n",
       "      <td>0.18</td>\n",
       "      <td>32</td>\n",
       "      <td>Goalkeeper</td>\n",
       "      <td>-</td>\n",
       "      <td>lazio</td>\n",
       "    </tr>\n",
       "    <tr>\n",
       "      <th>509</th>\n",
       "      <td>Antonino Gallo</td>\n",
       "      <td>0.18</td>\n",
       "      <td>20</td>\n",
       "      <td>Left-Back</td>\n",
       "      <td>25</td>\n",
       "      <td>us-lecce</td>\n",
       "    </tr>\n",
       "    <tr>\n",
       "      <th>510</th>\n",
       "      <td>Angelo da Costa</td>\n",
       "      <td>0.18</td>\n",
       "      <td>36</td>\n",
       "      <td>Goalkeeper</td>\n",
       "      <td>1</td>\n",
       "      <td>fc-bologna</td>\n",
       "    </tr>\n",
       "    <tr>\n",
       "      <th>511</th>\n",
       "      <td>Alessandro Russo</td>\n",
       "      <td>0.18</td>\n",
       "      <td>18</td>\n",
       "      <td>Goalkeeper</td>\n",
       "      <td>64</td>\n",
       "      <td>us-sassuolo</td>\n",
       "    </tr>\n",
       "    <tr>\n",
       "      <th>512</th>\n",
       "      <td>Samir Ujkani</td>\n",
       "      <td>0.18</td>\n",
       "      <td>31</td>\n",
       "      <td>Goalkeeper</td>\n",
       "      <td>18</td>\n",
       "      <td>torino</td>\n",
       "    </tr>\n",
       "    <tr>\n",
       "      <th>513</th>\n",
       "      <td>Radoslav Tsonev</td>\n",
       "      <td>0.18</td>\n",
       "      <td>24</td>\n",
       "      <td>Central Midfield</td>\n",
       "      <td>-</td>\n",
       "      <td>us-lecce</td>\n",
       "    </tr>\n",
       "    <tr>\n",
       "      <th>514</th>\n",
       "      <td>Antonio Rosati</td>\n",
       "      <td>0.18</td>\n",
       "      <td>36</td>\n",
       "      <td>Goalkeeper</td>\n",
       "      <td>25</td>\n",
       "      <td>torino</td>\n",
       "    </tr>\n",
       "    <tr>\n",
       "      <th>515</th>\n",
       "      <td>Massimiliano Mangraviti</td>\n",
       "      <td>0.18</td>\n",
       "      <td>21</td>\n",
       "      <td>Centre-Back</td>\n",
       "      <td>19</td>\n",
       "      <td>brescia</td>\n",
       "    </tr>\n",
       "    <tr>\n",
       "      <th>516</th>\n",
       "      <td>Nicolò Armini</td>\n",
       "      <td>0.18</td>\n",
       "      <td>18</td>\n",
       "      <td>Centre-Back</td>\n",
       "      <td>13</td>\n",
       "      <td>lazio</td>\n",
       "    </tr>\n",
       "    <tr>\n",
       "      <th>517</th>\n",
       "      <td>Samuele Perisan</td>\n",
       "      <td>0.14</td>\n",
       "      <td>22</td>\n",
       "      <td>Goalkeeper</td>\n",
       "      <td>27</td>\n",
       "      <td>udinese-calcio</td>\n",
       "    </tr>\n",
       "    <tr>\n",
       "      <th>518</th>\n",
       "      <td>Davide Riccardi</td>\n",
       "      <td>0.14</td>\n",
       "      <td>23</td>\n",
       "      <td>Centre-Back</td>\n",
       "      <td>2</td>\n",
       "      <td>us-lecce</td>\n",
       "    </tr>\n",
       "    <tr>\n",
       "      <th>519</th>\n",
       "      <td>Wladimiro Falcone</td>\n",
       "      <td>0.14</td>\n",
       "      <td>24</td>\n",
       "      <td>Goalkeeper</td>\n",
       "      <td>30</td>\n",
       "      <td>uc-sampdoria</td>\n",
       "    </tr>\n",
       "    <tr>\n",
       "      <th>520</th>\n",
       "      <td>Marco Bleve</td>\n",
       "      <td>0.14</td>\n",
       "      <td>24</td>\n",
       "      <td>Goalkeeper</td>\n",
       "      <td>95</td>\n",
       "      <td>us-lecce</td>\n",
       "    </tr>\n",
       "    <tr>\n",
       "      <th>521</th>\n",
       "      <td>Gianluca Pegolo</td>\n",
       "      <td>0.14</td>\n",
       "      <td>38</td>\n",
       "      <td>Goalkeeper</td>\n",
       "      <td>56</td>\n",
       "      <td>us-sassuolo</td>\n",
       "    </tr>\n",
       "    <tr>\n",
       "      <th>522</th>\n",
       "      <td>Leonardo Fontanesi</td>\n",
       "      <td>0.14</td>\n",
       "      <td>23</td>\n",
       "      <td>Centre-Back</td>\n",
       "      <td>96</td>\n",
       "      <td>us-sassuolo</td>\n",
       "    </tr>\n",
       "    <tr>\n",
       "      <th>523</th>\n",
       "      <td>Wilfried Stephane Singo</td>\n",
       "      <td>0.14</td>\n",
       "      <td>19</td>\n",
       "      <td>Centre-Back</td>\n",
       "      <td>17</td>\n",
       "      <td>torino</td>\n",
       "    </tr>\n",
       "    <tr>\n",
       "      <th>524</th>\n",
       "      <td>Lorenzo Andrenacci</td>\n",
       "      <td>0.09</td>\n",
       "      <td>25</td>\n",
       "      <td>Goalkeeper</td>\n",
       "      <td>12</td>\n",
       "      <td>brescia</td>\n",
       "    </tr>\n",
       "    <tr>\n",
       "      <th>525</th>\n",
       "      <td>Mouhamadou Sarr</td>\n",
       "      <td>0.09</td>\n",
       "      <td>23</td>\n",
       "      <td>Goalkeeper</td>\n",
       "      <td>97</td>\n",
       "      <td>fc-bologna</td>\n",
       "    </tr>\n",
       "    <tr>\n",
       "      <th>526</th>\n",
       "      <td>Francesco Rossi</td>\n",
       "      <td>0.09</td>\n",
       "      <td>28</td>\n",
       "      <td>Goalkeeper</td>\n",
       "      <td>31</td>\n",
       "      <td>atalanta</td>\n",
       "    </tr>\n",
       "    <tr>\n",
       "      <th>527</th>\n",
       "      <td>Demba Thiam</td>\n",
       "      <td>0.09</td>\n",
       "      <td>21</td>\n",
       "      <td>Goalkeeper</td>\n",
       "      <td>22</td>\n",
       "      <td>spal</td>\n",
       "    </tr>\n",
       "    <tr>\n",
       "      <th>528</th>\n",
       "      <td>Tommaso Berni</td>\n",
       "      <td>0.09</td>\n",
       "      <td>36</td>\n",
       "      <td>Goalkeeper</td>\n",
       "      <td>46</td>\n",
       "      <td>inter-milan</td>\n",
       "    </tr>\n",
       "    <tr>\n",
       "      <th>529</th>\n",
       "      <td>Edgaras Dubickas</td>\n",
       "      <td>0.09</td>\n",
       "      <td>21</td>\n",
       "      <td>Second Striker</td>\n",
       "      <td>20</td>\n",
       "      <td>us-lecce</td>\n",
       "    </tr>\n",
       "    <tr>\n",
       "      <th>530</th>\n",
       "      <td>Riccardo Mastrilli</td>\n",
       "      <td>0.09</td>\n",
       "      <td>22</td>\n",
       "      <td>Left-Back</td>\n",
       "      <td>98</td>\n",
       "      <td>spal</td>\n",
       "    </tr>\n",
       "    <tr>\n",
       "      <th>531</th>\n",
       "      <td>Lucas Felippe</td>\n",
       "      <td>0.07</td>\n",
       "      <td>19</td>\n",
       "      <td>Central Midfield</td>\n",
       "      <td>18</td>\n",
       "      <td>hellas-verona</td>\n",
       "    </tr>\n",
       "    <tr>\n",
       "      <th>532</th>\n",
       "      <td>Alessandro Berardi</td>\n",
       "      <td>0.04</td>\n",
       "      <td>29</td>\n",
       "      <td>Goalkeeper</td>\n",
       "      <td>22</td>\n",
       "      <td>hellas-verona</td>\n",
       "    </tr>\n",
       "    <tr>\n",
       "      <th>533</th>\n",
       "      <td>Gianmarco Chironi</td>\n",
       "      <td>0.04</td>\n",
       "      <td>22</td>\n",
       "      <td>Goalkeeper</td>\n",
       "      <td>97</td>\n",
       "      <td>us-lecce</td>\n",
       "    </tr>\n",
       "    <tr>\n",
       "      <th>534</th>\n",
       "      <td>Paolo Cannistrà</td>\n",
       "      <td>0.04</td>\n",
       "      <td>19</td>\n",
       "      <td>Centre-Back</td>\n",
       "      <td>67</td>\n",
       "      <td>spal</td>\n",
       "    </tr>\n",
       "    <tr>\n",
       "      <th>535</th>\n",
       "      <td>Jorge Silva</td>\n",
       "      <td>0.04</td>\n",
       "      <td>20</td>\n",
       "      <td>Centre-Back</td>\n",
       "      <td>49</td>\n",
       "      <td>lazio</td>\n",
       "    </tr>\n",
       "  </tbody>\n",
       "</table>\n",
       "<p>536 rows × 6 columns</p>\n",
       "</div>"
      ],
      "text/plain": [
       "                      Player  Value  Age            Position Number  \\\n",
       "0               Paulo Dybala  76.50   26      Second Striker     10   \n",
       "1           Lautaro Martínez  72.00   22      Centre-Forward     10   \n",
       "2              Romelu Lukaku  67.50   26      Centre-Forward      9   \n",
       "3          Cristiano Ronaldo  67.50   34         Left Winger      7   \n",
       "4          Kalidou Koulibaly  67.50   28         Centre-Back     26   \n",
       "5           Matthijs de Ligt  67.50   20         Centre-Back      4   \n",
       "6    Sergej Milinkovic-Savic  63.00   24    Central Midfield     21   \n",
       "7             Miralem Pjanic  63.00   29    Central Midfield      5   \n",
       "8            Federico Chiesa  54.00   22        Right Winger     25   \n",
       "9            Lorenzo Insigne  54.00   28         Left Winger     24   \n",
       "10               Fabián Ruiz  54.00   23    Central Midfield      8   \n",
       "11          Marcelo Brozovic  54.00   27  Defensive Midfield     77   \n",
       "12            Stefan de Vrij  54.00   27         Centre-Back      6   \n",
       "13            Milan Skriniar  54.00   24         Centre-Back     37   \n",
       "14      Gianluigi Donnarumma  49.50   20          Goalkeeper     99   \n",
       "15               Alex Sandro  45.00   28           Left-Back     12   \n",
       "16            Nicolò Zaniolo  45.00   20  Attacking Midfield     22   \n",
       "17                     Allan  45.00   29    Central Midfield      5   \n",
       "18             Ciro Immobile  40.50   29      Centre-Forward     17   \n",
       "19            Nicolò Barella  40.50   22    Central Midfield     23   \n",
       "20              Duván Zapata  40.50   28      Centre-Forward     91   \n",
       "21         Alessio Romagnoli  40.50   25         Centre-Back     13   \n",
       "22              Luis Alberto  36.00   27  Attacking Midfield     10   \n",
       "23        Lorenzo Pellegrini  36.00   23    Central Midfield      7   \n",
       "24      Konstantinos Manolas  36.00   28         Centre-Back     44   \n",
       "25           Piotr Zielinski  36.00   25    Central Midfield     20   \n",
       "26           Arkadiusz Milik  36.00   25      Centre-Forward     99   \n",
       "27            Hirving Lozano  36.00   24         Left Winger     11   \n",
       "28                Alex Meret  36.00   22          Goalkeeper      1   \n",
       "29            Andrea Belotti  36.00   26      Centre-Forward      9   \n",
       "..                       ...    ...  ...                 ...    ...   \n",
       "506                   Rafael   0.18   37          Goalkeeper      1   \n",
       "507      Alessandro Semprini   0.18   21          Right-Back     29   \n",
       "508              Ivan Vargic   0.18   32          Goalkeeper      -   \n",
       "509           Antonino Gallo   0.18   20           Left-Back     25   \n",
       "510          Angelo da Costa   0.18   36          Goalkeeper      1   \n",
       "511         Alessandro Russo   0.18   18          Goalkeeper     64   \n",
       "512             Samir Ujkani   0.18   31          Goalkeeper     18   \n",
       "513          Radoslav Tsonev   0.18   24    Central Midfield      -   \n",
       "514           Antonio Rosati   0.18   36          Goalkeeper     25   \n",
       "515  Massimiliano Mangraviti   0.18   21         Centre-Back     19   \n",
       "516            Nicolò Armini   0.18   18         Centre-Back     13   \n",
       "517          Samuele Perisan   0.14   22          Goalkeeper     27   \n",
       "518          Davide Riccardi   0.14   23         Centre-Back      2   \n",
       "519        Wladimiro Falcone   0.14   24          Goalkeeper     30   \n",
       "520              Marco Bleve   0.14   24          Goalkeeper     95   \n",
       "521          Gianluca Pegolo   0.14   38          Goalkeeper     56   \n",
       "522       Leonardo Fontanesi   0.14   23         Centre-Back     96   \n",
       "523  Wilfried Stephane Singo   0.14   19         Centre-Back     17   \n",
       "524       Lorenzo Andrenacci   0.09   25          Goalkeeper     12   \n",
       "525          Mouhamadou Sarr   0.09   23          Goalkeeper     97   \n",
       "526          Francesco Rossi   0.09   28          Goalkeeper     31   \n",
       "527              Demba Thiam   0.09   21          Goalkeeper     22   \n",
       "528            Tommaso Berni   0.09   36          Goalkeeper     46   \n",
       "529         Edgaras Dubickas   0.09   21      Second Striker     20   \n",
       "530       Riccardo Mastrilli   0.09   22           Left-Back     98   \n",
       "531            Lucas Felippe   0.07   19    Central Midfield     18   \n",
       "532       Alessandro Berardi   0.04   29          Goalkeeper     22   \n",
       "533        Gianmarco Chironi   0.04   22          Goalkeeper     97   \n",
       "534          Paolo Cannistrà   0.04   19         Centre-Back     67   \n",
       "535              Jorge Silva   0.04   20         Centre-Back     49   \n",
       "\n",
       "                Club  \n",
       "0     juventus-turin  \n",
       "1        inter-milan  \n",
       "2        inter-milan  \n",
       "3     juventus-turin  \n",
       "4         ssc-napoli  \n",
       "5     juventus-turin  \n",
       "6              lazio  \n",
       "7     juventus-turin  \n",
       "8      ac-florentina  \n",
       "9         ssc-napoli  \n",
       "10        ssc-napoli  \n",
       "11       inter-milan  \n",
       "12       inter-milan  \n",
       "13       inter-milan  \n",
       "14          ac-milan  \n",
       "15    juventus-turin  \n",
       "16           as-roma  \n",
       "17        ssc-napoli  \n",
       "18             lazio  \n",
       "19       inter-milan  \n",
       "20          atalanta  \n",
       "21          ac-milan  \n",
       "22             lazio  \n",
       "23           as-roma  \n",
       "24        ssc-napoli  \n",
       "25        ssc-napoli  \n",
       "26        ssc-napoli  \n",
       "27        ssc-napoli  \n",
       "28        ssc-napoli  \n",
       "29            torino  \n",
       "..               ...  \n",
       "506  cagliari-calcio  \n",
       "507          brescia  \n",
       "508            lazio  \n",
       "509         us-lecce  \n",
       "510       fc-bologna  \n",
       "511      us-sassuolo  \n",
       "512           torino  \n",
       "513         us-lecce  \n",
       "514           torino  \n",
       "515          brescia  \n",
       "516            lazio  \n",
       "517   udinese-calcio  \n",
       "518         us-lecce  \n",
       "519     uc-sampdoria  \n",
       "520         us-lecce  \n",
       "521      us-sassuolo  \n",
       "522      us-sassuolo  \n",
       "523           torino  \n",
       "524          brescia  \n",
       "525       fc-bologna  \n",
       "526         atalanta  \n",
       "527             spal  \n",
       "528      inter-milan  \n",
       "529         us-lecce  \n",
       "530             spal  \n",
       "531    hellas-verona  \n",
       "532    hellas-verona  \n",
       "533         us-lecce  \n",
       "534             spal  \n",
       "535            lazio  \n",
       "\n",
       "[536 rows x 6 columns]"
      ]
     },
     "execution_count": 10,
     "metadata": {},
     "output_type": "execute_result"
    }
   ],
   "source": [
    "SerieA"
   ]
  },
  {
   "cell_type": "code",
   "execution_count": 11,
   "metadata": {},
   "outputs": [],
   "source": [
    "def Citizenship(x):\n",
    "    headers = {'User-Agent': \n",
    "           'Mozilla/5.0 (X11; Linux x86_64) AppleWebKit/537.36 (KHTML, like Gecko) Chrome/47.0.2526.106 Safari/537.36'}\n",
    "    Country = []\n",
    "    i = 0\n",
    "    while i < len(x.Player):\n",
    "        player = x.Player[i]\n",
    "        data = requests.get(\"https://www.transfermarkt.com/schnellsuche/ergebnis/schnellsuche?query={}&x=0&y=0\".format(player),headers=headers) \n",
    "        soup = BeautifulSoup(data.text, \"lxml\")\n",
    "        hrefs = soup.find_all(\"img\", {\"class\" : \"flaggenrahmen\"},alt=True)\n",
    "        Flag = hrefs[16]['alt']\n",
    "        Country.append(Flag)\n",
    "        i = i+1\n",
    "    return Country"
   ]
  },
  {
   "cell_type": "code",
   "execution_count": 12,
   "metadata": {},
   "outputs": [],
   "source": [
    "# Scraping nationality\n",
    "Citizenship = Citizenship(SerieA)"
   ]
  },
  {
   "cell_type": "code",
   "execution_count": 13,
   "metadata": {},
   "outputs": [],
   "source": [
    "# Join this column to Bundesliga dataset we already have\n",
    "SerieA = SerieA.join(pd.DataFrame({'Citizenship':Citizenship}))"
   ]
  },
  {
   "cell_type": "code",
   "execution_count": 14,
   "metadata": {},
   "outputs": [],
   "source": [
    "#Like the errors happened before, some Brazillian and Spainish players only have one simple name, which sometimes can mislead to wrong search result. So I have to change the nationality manually\n",
    "#Alberto\n",
    "Alberto = SerieA[SerieA.Player=='Luis Alberto'].copy(deep=False)\n",
    "Alberto['Citizenship'] = 'Spain'\n",
    "SerieA[SerieA.Player=='Luis Alberto'] = Alberto\n",
    "#Danilo\n",
    "Danilo = SerieA[SerieA.Player=='Danilo'].copy(deep=False)\n",
    "Danilo['Citizenship'] = 'Brazil'\n",
    "SerieA[SerieA.Player=='Danilo'] = Danilo\n",
    "#Pedro\n",
    "Pedro = SerieA[SerieA.Player=='Pedro'].copy(deep=False)\n",
    "Pedro['Citizenship'] = 'Brazil'\n",
    "SerieA[SerieA.Player=='Pedro'] = Pedro\n",
    "#Samir\n",
    "Samir = SerieA[SerieA.Player=='Samir'].copy(deep=False)\n",
    "Samir['Citizenship'] = 'Brazil'\n",
    "SerieA[SerieA.Player=='Samir'] = Samir\n",
    "#Igor\n",
    "Igor = SerieA[SerieA.Player=='Igor'].copy(deep=False)\n",
    "Igor['Citizenship'] = 'Brazil'\n",
    "SerieA[SerieA.Player=='Igor'] = Igor\n",
    "#Igor\n",
    "Patric = SerieA[SerieA.Player=='Patric'].copy(deep=False)\n",
    "Patric['Citizenship'] = 'Spain'\n",
    "SerieA[SerieA.Player=='Patric'] = Patric\n",
    "#Rômulo\n",
    "Rômulo = SerieA[SerieA.Player=='Rômulo'].copy(deep=False)\n",
    "Rômulo['Citizenship'] = 'Italy'\n",
    "SerieA[SerieA.Player=='Rômulo'] = Rômulo\n",
    "#Nícolas\n",
    "Nícolas = SerieA[SerieA.Player=='Nícolas'].copy(deep=False)\n",
    "Nícolas['Citizenship'] = 'Brazil'\n",
    "SerieA[SerieA.Player=='Nícolas'] = Nícolas\n",
    "#Rafael\n",
    "Rafael = SerieA[SerieA.Player=='Rafael'].copy(deep=False)\n",
    "Rafael['Citizenship'] = 'Brazil'\n",
    "SerieA[SerieA.Player=='Rafael'] = Rafael"
   ]
  },
  {
   "cell_type": "markdown",
   "metadata": {},
   "source": [
    "#### Final Version of Data"
   ]
  },
  {
   "cell_type": "code",
   "execution_count": 15,
   "metadata": {},
   "outputs": [
    {
     "data": {
      "text/html": [
       "<div>\n",
       "<style scoped>\n",
       "    .dataframe tbody tr th:only-of-type {\n",
       "        vertical-align: middle;\n",
       "    }\n",
       "\n",
       "    .dataframe tbody tr th {\n",
       "        vertical-align: top;\n",
       "    }\n",
       "\n",
       "    .dataframe thead th {\n",
       "        text-align: right;\n",
       "    }\n",
       "</style>\n",
       "<table border=\"1\" class=\"dataframe\">\n",
       "  <thead>\n",
       "    <tr style=\"text-align: right;\">\n",
       "      <th></th>\n",
       "      <th>Player</th>\n",
       "      <th>Value</th>\n",
       "      <th>Age</th>\n",
       "      <th>Position</th>\n",
       "      <th>Number</th>\n",
       "      <th>Club</th>\n",
       "      <th>Citizenship</th>\n",
       "    </tr>\n",
       "  </thead>\n",
       "  <tbody>\n",
       "    <tr>\n",
       "      <th>0</th>\n",
       "      <td>Paulo Dybala</td>\n",
       "      <td>76.50</td>\n",
       "      <td>26</td>\n",
       "      <td>Second Striker</td>\n",
       "      <td>10</td>\n",
       "      <td>juventus-turin</td>\n",
       "      <td>Argentina</td>\n",
       "    </tr>\n",
       "    <tr>\n",
       "      <th>1</th>\n",
       "      <td>Lautaro Martínez</td>\n",
       "      <td>72.00</td>\n",
       "      <td>22</td>\n",
       "      <td>Centre-Forward</td>\n",
       "      <td>10</td>\n",
       "      <td>inter-milan</td>\n",
       "      <td>Argentina</td>\n",
       "    </tr>\n",
       "    <tr>\n",
       "      <th>2</th>\n",
       "      <td>Romelu Lukaku</td>\n",
       "      <td>67.50</td>\n",
       "      <td>26</td>\n",
       "      <td>Centre-Forward</td>\n",
       "      <td>9</td>\n",
       "      <td>inter-milan</td>\n",
       "      <td>Belgium</td>\n",
       "    </tr>\n",
       "    <tr>\n",
       "      <th>3</th>\n",
       "      <td>Cristiano Ronaldo</td>\n",
       "      <td>67.50</td>\n",
       "      <td>34</td>\n",
       "      <td>Left Winger</td>\n",
       "      <td>7</td>\n",
       "      <td>juventus-turin</td>\n",
       "      <td>Portugal</td>\n",
       "    </tr>\n",
       "    <tr>\n",
       "      <th>4</th>\n",
       "      <td>Kalidou Koulibaly</td>\n",
       "      <td>67.50</td>\n",
       "      <td>28</td>\n",
       "      <td>Centre-Back</td>\n",
       "      <td>26</td>\n",
       "      <td>ssc-napoli</td>\n",
       "      <td>Senegal</td>\n",
       "    </tr>\n",
       "    <tr>\n",
       "      <th>...</th>\n",
       "      <td>...</td>\n",
       "      <td>...</td>\n",
       "      <td>...</td>\n",
       "      <td>...</td>\n",
       "      <td>...</td>\n",
       "      <td>...</td>\n",
       "      <td>...</td>\n",
       "    </tr>\n",
       "    <tr>\n",
       "      <th>531</th>\n",
       "      <td>Lucas Felippe</td>\n",
       "      <td>0.07</td>\n",
       "      <td>19</td>\n",
       "      <td>Central Midfield</td>\n",
       "      <td>18</td>\n",
       "      <td>hellas-verona</td>\n",
       "      <td>Brazil</td>\n",
       "    </tr>\n",
       "    <tr>\n",
       "      <th>532</th>\n",
       "      <td>Alessandro Berardi</td>\n",
       "      <td>0.04</td>\n",
       "      <td>29</td>\n",
       "      <td>Goalkeeper</td>\n",
       "      <td>22</td>\n",
       "      <td>hellas-verona</td>\n",
       "      <td>Italy</td>\n",
       "    </tr>\n",
       "    <tr>\n",
       "      <th>533</th>\n",
       "      <td>Gianmarco Chironi</td>\n",
       "      <td>0.04</td>\n",
       "      <td>22</td>\n",
       "      <td>Goalkeeper</td>\n",
       "      <td>97</td>\n",
       "      <td>us-lecce</td>\n",
       "      <td>Italy</td>\n",
       "    </tr>\n",
       "    <tr>\n",
       "      <th>534</th>\n",
       "      <td>Paolo Cannistrà</td>\n",
       "      <td>0.04</td>\n",
       "      <td>19</td>\n",
       "      <td>Centre-Back</td>\n",
       "      <td>67</td>\n",
       "      <td>spal</td>\n",
       "      <td>Italy</td>\n",
       "    </tr>\n",
       "    <tr>\n",
       "      <th>535</th>\n",
       "      <td>Jorge Silva</td>\n",
       "      <td>0.04</td>\n",
       "      <td>20</td>\n",
       "      <td>Centre-Back</td>\n",
       "      <td>49</td>\n",
       "      <td>lazio</td>\n",
       "      <td>Portugal</td>\n",
       "    </tr>\n",
       "  </tbody>\n",
       "</table>\n",
       "<p>536 rows × 7 columns</p>\n",
       "</div>"
      ],
      "text/plain": [
       "                 Player  Value  Age          Position Number            Club  \\\n",
       "0          Paulo Dybala  76.50   26    Second Striker     10  juventus-turin   \n",
       "1      Lautaro Martínez  72.00   22    Centre-Forward     10     inter-milan   \n",
       "2         Romelu Lukaku  67.50   26    Centre-Forward      9     inter-milan   \n",
       "3     Cristiano Ronaldo  67.50   34       Left Winger      7  juventus-turin   \n",
       "4     Kalidou Koulibaly  67.50   28       Centre-Back     26      ssc-napoli   \n",
       "..                  ...    ...  ...               ...    ...             ...   \n",
       "531       Lucas Felippe   0.07   19  Central Midfield     18   hellas-verona   \n",
       "532  Alessandro Berardi   0.04   29        Goalkeeper     22   hellas-verona   \n",
       "533   Gianmarco Chironi   0.04   22        Goalkeeper     97        us-lecce   \n",
       "534     Paolo Cannistrà   0.04   19       Centre-Back     67            spal   \n",
       "535         Jorge Silva   0.04   20       Centre-Back     49           lazio   \n",
       "\n",
       "    Citizenship  \n",
       "0     Argentina  \n",
       "1     Argentina  \n",
       "2       Belgium  \n",
       "3      Portugal  \n",
       "4       Senegal  \n",
       "..          ...  \n",
       "531      Brazil  \n",
       "532       Italy  \n",
       "533       Italy  \n",
       "534       Italy  \n",
       "535    Portugal  \n",
       "\n",
       "[536 rows x 7 columns]"
      ]
     },
     "execution_count": 15,
     "metadata": {},
     "output_type": "execute_result"
    }
   ],
   "source": [
    "pd.set_option('display.max_rows', 10)\n",
    "SerieA"
   ]
  },
  {
   "cell_type": "markdown",
   "metadata": {},
   "source": [
    "## 3. Data Visualization"
   ]
  },
  {
   "cell_type": "markdown",
   "metadata": {},
   "source": [
    "#### 10 Most Valuable Player"
   ]
  },
  {
   "cell_type": "code",
   "execution_count": 16,
   "metadata": {},
   "outputs": [
    {
     "data": {
      "text/html": [
       "<div>\n",
       "<style scoped>\n",
       "    .dataframe tbody tr th:only-of-type {\n",
       "        vertical-align: middle;\n",
       "    }\n",
       "\n",
       "    .dataframe tbody tr th {\n",
       "        vertical-align: top;\n",
       "    }\n",
       "\n",
       "    .dataframe thead th {\n",
       "        text-align: right;\n",
       "    }\n",
       "</style>\n",
       "<table border=\"1\" class=\"dataframe\">\n",
       "  <thead>\n",
       "    <tr style=\"text-align: right;\">\n",
       "      <th></th>\n",
       "      <th>Player</th>\n",
       "      <th>Value</th>\n",
       "      <th>Age</th>\n",
       "      <th>Position</th>\n",
       "      <th>Number</th>\n",
       "      <th>Club</th>\n",
       "      <th>Citizenship</th>\n",
       "    </tr>\n",
       "  </thead>\n",
       "  <tbody>\n",
       "    <tr>\n",
       "      <th>0</th>\n",
       "      <td>Paulo Dybala</td>\n",
       "      <td>76.5</td>\n",
       "      <td>26</td>\n",
       "      <td>Second Striker</td>\n",
       "      <td>10</td>\n",
       "      <td>juventus-turin</td>\n",
       "      <td>Argentina</td>\n",
       "    </tr>\n",
       "    <tr>\n",
       "      <th>1</th>\n",
       "      <td>Lautaro Martínez</td>\n",
       "      <td>72.0</td>\n",
       "      <td>22</td>\n",
       "      <td>Centre-Forward</td>\n",
       "      <td>10</td>\n",
       "      <td>inter-milan</td>\n",
       "      <td>Argentina</td>\n",
       "    </tr>\n",
       "    <tr>\n",
       "      <th>2</th>\n",
       "      <td>Romelu Lukaku</td>\n",
       "      <td>67.5</td>\n",
       "      <td>26</td>\n",
       "      <td>Centre-Forward</td>\n",
       "      <td>9</td>\n",
       "      <td>inter-milan</td>\n",
       "      <td>Belgium</td>\n",
       "    </tr>\n",
       "    <tr>\n",
       "      <th>3</th>\n",
       "      <td>Cristiano Ronaldo</td>\n",
       "      <td>67.5</td>\n",
       "      <td>34</td>\n",
       "      <td>Left Winger</td>\n",
       "      <td>7</td>\n",
       "      <td>juventus-turin</td>\n",
       "      <td>Portugal</td>\n",
       "    </tr>\n",
       "    <tr>\n",
       "      <th>4</th>\n",
       "      <td>Kalidou Koulibaly</td>\n",
       "      <td>67.5</td>\n",
       "      <td>28</td>\n",
       "      <td>Centre-Back</td>\n",
       "      <td>26</td>\n",
       "      <td>ssc-napoli</td>\n",
       "      <td>Senegal</td>\n",
       "    </tr>\n",
       "    <tr>\n",
       "      <th>5</th>\n",
       "      <td>Matthijs de Ligt</td>\n",
       "      <td>67.5</td>\n",
       "      <td>20</td>\n",
       "      <td>Centre-Back</td>\n",
       "      <td>4</td>\n",
       "      <td>juventus-turin</td>\n",
       "      <td>Netherlands</td>\n",
       "    </tr>\n",
       "    <tr>\n",
       "      <th>6</th>\n",
       "      <td>Sergej Milinkovic-Savic</td>\n",
       "      <td>63.0</td>\n",
       "      <td>24</td>\n",
       "      <td>Central Midfield</td>\n",
       "      <td>21</td>\n",
       "      <td>lazio</td>\n",
       "      <td>Serbia</td>\n",
       "    </tr>\n",
       "    <tr>\n",
       "      <th>7</th>\n",
       "      <td>Miralem Pjanic</td>\n",
       "      <td>63.0</td>\n",
       "      <td>29</td>\n",
       "      <td>Central Midfield</td>\n",
       "      <td>5</td>\n",
       "      <td>juventus-turin</td>\n",
       "      <td>Bosnia-Herzegovina</td>\n",
       "    </tr>\n",
       "    <tr>\n",
       "      <th>8</th>\n",
       "      <td>Marcelo Brozovic</td>\n",
       "      <td>54.0</td>\n",
       "      <td>27</td>\n",
       "      <td>Defensive Midfield</td>\n",
       "      <td>77</td>\n",
       "      <td>inter-milan</td>\n",
       "      <td>Croatia</td>\n",
       "    </tr>\n",
       "    <tr>\n",
       "      <th>9</th>\n",
       "      <td>Stefan de Vrij</td>\n",
       "      <td>54.0</td>\n",
       "      <td>27</td>\n",
       "      <td>Centre-Back</td>\n",
       "      <td>6</td>\n",
       "      <td>inter-milan</td>\n",
       "      <td>Netherlands</td>\n",
       "    </tr>\n",
       "  </tbody>\n",
       "</table>\n",
       "</div>"
      ],
      "text/plain": [
       "                    Player  Value  Age            Position Number  \\\n",
       "0             Paulo Dybala   76.5   26      Second Striker     10   \n",
       "1         Lautaro Martínez   72.0   22      Centre-Forward     10   \n",
       "2            Romelu Lukaku   67.5   26      Centre-Forward      9   \n",
       "3        Cristiano Ronaldo   67.5   34         Left Winger      7   \n",
       "4        Kalidou Koulibaly   67.5   28         Centre-Back     26   \n",
       "5         Matthijs de Ligt   67.5   20         Centre-Back      4   \n",
       "6  Sergej Milinkovic-Savic   63.0   24    Central Midfield     21   \n",
       "7           Miralem Pjanic   63.0   29    Central Midfield      5   \n",
       "8         Marcelo Brozovic   54.0   27  Defensive Midfield     77   \n",
       "9           Stefan de Vrij   54.0   27         Centre-Back      6   \n",
       "\n",
       "             Club         Citizenship  \n",
       "0  juventus-turin           Argentina  \n",
       "1     inter-milan           Argentina  \n",
       "2     inter-milan             Belgium  \n",
       "3  juventus-turin            Portugal  \n",
       "4      ssc-napoli             Senegal  \n",
       "5  juventus-turin         Netherlands  \n",
       "6           lazio              Serbia  \n",
       "7  juventus-turin  Bosnia-Herzegovina  \n",
       "8     inter-milan             Croatia  \n",
       "9     inter-milan         Netherlands  "
      ]
     },
     "execution_count": 16,
     "metadata": {},
     "output_type": "execute_result"
    }
   ],
   "source": [
    "SerieA.sort_values('Value',ascending = False).reset_index(drop = 'True').loc[:9]"
   ]
  },
  {
   "cell_type": "markdown",
   "metadata": {},
   "source": [
    "#### Where are these players come from (Except Italy)"
   ]
  },
  {
   "cell_type": "code",
   "execution_count": 95,
   "metadata": {},
   "outputs": [
    {
     "data": {
      "application/vnd.plotly.v1+json": {
       "config": {
        "plotlyServerURL": "https://plot.ly"
       },
       "data": [
        {
         "alignmentgroup": "True",
         "hoverlabel": {
          "namelength": 0
         },
         "hovertemplate": "Citizenship=%{x}<br>Player=%{y}",
         "legendgroup": "",
         "marker": {
          "color": "#636efa"
         },
         "name": "",
         "offsetgroup": "",
         "orientation": "v",
         "showlegend": false,
         "textposition": "auto",
         "type": "bar",
         "x": [
          "Brazil",
          "Argentina",
          "Poland",
          "France",
          "Spain",
          "Netherlands",
          "Serbia",
          "Uruguay",
          "Croatia"
         ],
         "xaxis": "x",
         "y": [
          41,
          24,
          17,
          16,
          14,
          13,
          12,
          10,
          10
         ],
         "yaxis": "y"
        }
       ],
       "layout": {
        "barmode": "relative",
        "legend": {
         "tracegroupgap": 0
        },
        "margin": {
         "t": 60
        },
        "template": {
         "data": {
          "bar": [
           {
            "error_x": {
             "color": "#2a3f5f"
            },
            "error_y": {
             "color": "#2a3f5f"
            },
            "marker": {
             "line": {
              "color": "#E5ECF6",
              "width": 0.5
             }
            },
            "type": "bar"
           }
          ],
          "barpolar": [
           {
            "marker": {
             "line": {
              "color": "#E5ECF6",
              "width": 0.5
             }
            },
            "type": "barpolar"
           }
          ],
          "carpet": [
           {
            "aaxis": {
             "endlinecolor": "#2a3f5f",
             "gridcolor": "white",
             "linecolor": "white",
             "minorgridcolor": "white",
             "startlinecolor": "#2a3f5f"
            },
            "baxis": {
             "endlinecolor": "#2a3f5f",
             "gridcolor": "white",
             "linecolor": "white",
             "minorgridcolor": "white",
             "startlinecolor": "#2a3f5f"
            },
            "type": "carpet"
           }
          ],
          "choropleth": [
           {
            "colorbar": {
             "outlinewidth": 0,
             "ticks": ""
            },
            "type": "choropleth"
           }
          ],
          "contour": [
           {
            "colorbar": {
             "outlinewidth": 0,
             "ticks": ""
            },
            "colorscale": [
             [
              0,
              "#0d0887"
             ],
             [
              0.1111111111111111,
              "#46039f"
             ],
             [
              0.2222222222222222,
              "#7201a8"
             ],
             [
              0.3333333333333333,
              "#9c179e"
             ],
             [
              0.4444444444444444,
              "#bd3786"
             ],
             [
              0.5555555555555556,
              "#d8576b"
             ],
             [
              0.6666666666666666,
              "#ed7953"
             ],
             [
              0.7777777777777778,
              "#fb9f3a"
             ],
             [
              0.8888888888888888,
              "#fdca26"
             ],
             [
              1,
              "#f0f921"
             ]
            ],
            "type": "contour"
           }
          ],
          "contourcarpet": [
           {
            "colorbar": {
             "outlinewidth": 0,
             "ticks": ""
            },
            "type": "contourcarpet"
           }
          ],
          "heatmap": [
           {
            "colorbar": {
             "outlinewidth": 0,
             "ticks": ""
            },
            "colorscale": [
             [
              0,
              "#0d0887"
             ],
             [
              0.1111111111111111,
              "#46039f"
             ],
             [
              0.2222222222222222,
              "#7201a8"
             ],
             [
              0.3333333333333333,
              "#9c179e"
             ],
             [
              0.4444444444444444,
              "#bd3786"
             ],
             [
              0.5555555555555556,
              "#d8576b"
             ],
             [
              0.6666666666666666,
              "#ed7953"
             ],
             [
              0.7777777777777778,
              "#fb9f3a"
             ],
             [
              0.8888888888888888,
              "#fdca26"
             ],
             [
              1,
              "#f0f921"
             ]
            ],
            "type": "heatmap"
           }
          ],
          "heatmapgl": [
           {
            "colorbar": {
             "outlinewidth": 0,
             "ticks": ""
            },
            "colorscale": [
             [
              0,
              "#0d0887"
             ],
             [
              0.1111111111111111,
              "#46039f"
             ],
             [
              0.2222222222222222,
              "#7201a8"
             ],
             [
              0.3333333333333333,
              "#9c179e"
             ],
             [
              0.4444444444444444,
              "#bd3786"
             ],
             [
              0.5555555555555556,
              "#d8576b"
             ],
             [
              0.6666666666666666,
              "#ed7953"
             ],
             [
              0.7777777777777778,
              "#fb9f3a"
             ],
             [
              0.8888888888888888,
              "#fdca26"
             ],
             [
              1,
              "#f0f921"
             ]
            ],
            "type": "heatmapgl"
           }
          ],
          "histogram": [
           {
            "marker": {
             "colorbar": {
              "outlinewidth": 0,
              "ticks": ""
             }
            },
            "type": "histogram"
           }
          ],
          "histogram2d": [
           {
            "colorbar": {
             "outlinewidth": 0,
             "ticks": ""
            },
            "colorscale": [
             [
              0,
              "#0d0887"
             ],
             [
              0.1111111111111111,
              "#46039f"
             ],
             [
              0.2222222222222222,
              "#7201a8"
             ],
             [
              0.3333333333333333,
              "#9c179e"
             ],
             [
              0.4444444444444444,
              "#bd3786"
             ],
             [
              0.5555555555555556,
              "#d8576b"
             ],
             [
              0.6666666666666666,
              "#ed7953"
             ],
             [
              0.7777777777777778,
              "#fb9f3a"
             ],
             [
              0.8888888888888888,
              "#fdca26"
             ],
             [
              1,
              "#f0f921"
             ]
            ],
            "type": "histogram2d"
           }
          ],
          "histogram2dcontour": [
           {
            "colorbar": {
             "outlinewidth": 0,
             "ticks": ""
            },
            "colorscale": [
             [
              0,
              "#0d0887"
             ],
             [
              0.1111111111111111,
              "#46039f"
             ],
             [
              0.2222222222222222,
              "#7201a8"
             ],
             [
              0.3333333333333333,
              "#9c179e"
             ],
             [
              0.4444444444444444,
              "#bd3786"
             ],
             [
              0.5555555555555556,
              "#d8576b"
             ],
             [
              0.6666666666666666,
              "#ed7953"
             ],
             [
              0.7777777777777778,
              "#fb9f3a"
             ],
             [
              0.8888888888888888,
              "#fdca26"
             ],
             [
              1,
              "#f0f921"
             ]
            ],
            "type": "histogram2dcontour"
           }
          ],
          "mesh3d": [
           {
            "colorbar": {
             "outlinewidth": 0,
             "ticks": ""
            },
            "type": "mesh3d"
           }
          ],
          "parcoords": [
           {
            "line": {
             "colorbar": {
              "outlinewidth": 0,
              "ticks": ""
             }
            },
            "type": "parcoords"
           }
          ],
          "pie": [
           {
            "automargin": true,
            "type": "pie"
           }
          ],
          "scatter": [
           {
            "marker": {
             "colorbar": {
              "outlinewidth": 0,
              "ticks": ""
             }
            },
            "type": "scatter"
           }
          ],
          "scatter3d": [
           {
            "line": {
             "colorbar": {
              "outlinewidth": 0,
              "ticks": ""
             }
            },
            "marker": {
             "colorbar": {
              "outlinewidth": 0,
              "ticks": ""
             }
            },
            "type": "scatter3d"
           }
          ],
          "scattercarpet": [
           {
            "marker": {
             "colorbar": {
              "outlinewidth": 0,
              "ticks": ""
             }
            },
            "type": "scattercarpet"
           }
          ],
          "scattergeo": [
           {
            "marker": {
             "colorbar": {
              "outlinewidth": 0,
              "ticks": ""
             }
            },
            "type": "scattergeo"
           }
          ],
          "scattergl": [
           {
            "marker": {
             "colorbar": {
              "outlinewidth": 0,
              "ticks": ""
             }
            },
            "type": "scattergl"
           }
          ],
          "scattermapbox": [
           {
            "marker": {
             "colorbar": {
              "outlinewidth": 0,
              "ticks": ""
             }
            },
            "type": "scattermapbox"
           }
          ],
          "scatterpolar": [
           {
            "marker": {
             "colorbar": {
              "outlinewidth": 0,
              "ticks": ""
             }
            },
            "type": "scatterpolar"
           }
          ],
          "scatterpolargl": [
           {
            "marker": {
             "colorbar": {
              "outlinewidth": 0,
              "ticks": ""
             }
            },
            "type": "scatterpolargl"
           }
          ],
          "scatterternary": [
           {
            "marker": {
             "colorbar": {
              "outlinewidth": 0,
              "ticks": ""
             }
            },
            "type": "scatterternary"
           }
          ],
          "surface": [
           {
            "colorbar": {
             "outlinewidth": 0,
             "ticks": ""
            },
            "colorscale": [
             [
              0,
              "#0d0887"
             ],
             [
              0.1111111111111111,
              "#46039f"
             ],
             [
              0.2222222222222222,
              "#7201a8"
             ],
             [
              0.3333333333333333,
              "#9c179e"
             ],
             [
              0.4444444444444444,
              "#bd3786"
             ],
             [
              0.5555555555555556,
              "#d8576b"
             ],
             [
              0.6666666666666666,
              "#ed7953"
             ],
             [
              0.7777777777777778,
              "#fb9f3a"
             ],
             [
              0.8888888888888888,
              "#fdca26"
             ],
             [
              1,
              "#f0f921"
             ]
            ],
            "type": "surface"
           }
          ],
          "table": [
           {
            "cells": {
             "fill": {
              "color": "#EBF0F8"
             },
             "line": {
              "color": "white"
             }
            },
            "header": {
             "fill": {
              "color": "#C8D4E3"
             },
             "line": {
              "color": "white"
             }
            },
            "type": "table"
           }
          ]
         },
         "layout": {
          "annotationdefaults": {
           "arrowcolor": "#2a3f5f",
           "arrowhead": 0,
           "arrowwidth": 1
          },
          "coloraxis": {
           "colorbar": {
            "outlinewidth": 0,
            "ticks": ""
           }
          },
          "colorscale": {
           "diverging": [
            [
             0,
             "#8e0152"
            ],
            [
             0.1,
             "#c51b7d"
            ],
            [
             0.2,
             "#de77ae"
            ],
            [
             0.3,
             "#f1b6da"
            ],
            [
             0.4,
             "#fde0ef"
            ],
            [
             0.5,
             "#f7f7f7"
            ],
            [
             0.6,
             "#e6f5d0"
            ],
            [
             0.7,
             "#b8e186"
            ],
            [
             0.8,
             "#7fbc41"
            ],
            [
             0.9,
             "#4d9221"
            ],
            [
             1,
             "#276419"
            ]
           ],
           "sequential": [
            [
             0,
             "#0d0887"
            ],
            [
             0.1111111111111111,
             "#46039f"
            ],
            [
             0.2222222222222222,
             "#7201a8"
            ],
            [
             0.3333333333333333,
             "#9c179e"
            ],
            [
             0.4444444444444444,
             "#bd3786"
            ],
            [
             0.5555555555555556,
             "#d8576b"
            ],
            [
             0.6666666666666666,
             "#ed7953"
            ],
            [
             0.7777777777777778,
             "#fb9f3a"
            ],
            [
             0.8888888888888888,
             "#fdca26"
            ],
            [
             1,
             "#f0f921"
            ]
           ],
           "sequentialminus": [
            [
             0,
             "#0d0887"
            ],
            [
             0.1111111111111111,
             "#46039f"
            ],
            [
             0.2222222222222222,
             "#7201a8"
            ],
            [
             0.3333333333333333,
             "#9c179e"
            ],
            [
             0.4444444444444444,
             "#bd3786"
            ],
            [
             0.5555555555555556,
             "#d8576b"
            ],
            [
             0.6666666666666666,
             "#ed7953"
            ],
            [
             0.7777777777777778,
             "#fb9f3a"
            ],
            [
             0.8888888888888888,
             "#fdca26"
            ],
            [
             1,
             "#f0f921"
            ]
           ]
          },
          "colorway": [
           "#636efa",
           "#EF553B",
           "#00cc96",
           "#ab63fa",
           "#FFA15A",
           "#19d3f3",
           "#FF6692",
           "#B6E880",
           "#FF97FF",
           "#FECB52"
          ],
          "font": {
           "color": "#2a3f5f"
          },
          "geo": {
           "bgcolor": "white",
           "lakecolor": "white",
           "landcolor": "#E5ECF6",
           "showlakes": true,
           "showland": true,
           "subunitcolor": "white"
          },
          "hoverlabel": {
           "align": "left"
          },
          "hovermode": "closest",
          "mapbox": {
           "style": "light"
          },
          "paper_bgcolor": "white",
          "plot_bgcolor": "#E5ECF6",
          "polar": {
           "angularaxis": {
            "gridcolor": "white",
            "linecolor": "white",
            "ticks": ""
           },
           "bgcolor": "#E5ECF6",
           "radialaxis": {
            "gridcolor": "white",
            "linecolor": "white",
            "ticks": ""
           }
          },
          "scene": {
           "xaxis": {
            "backgroundcolor": "#E5ECF6",
            "gridcolor": "white",
            "gridwidth": 2,
            "linecolor": "white",
            "showbackground": true,
            "ticks": "",
            "zerolinecolor": "white"
           },
           "yaxis": {
            "backgroundcolor": "#E5ECF6",
            "gridcolor": "white",
            "gridwidth": 2,
            "linecolor": "white",
            "showbackground": true,
            "ticks": "",
            "zerolinecolor": "white"
           },
           "zaxis": {
            "backgroundcolor": "#E5ECF6",
            "gridcolor": "white",
            "gridwidth": 2,
            "linecolor": "white",
            "showbackground": true,
            "ticks": "",
            "zerolinecolor": "white"
           }
          },
          "shapedefaults": {
           "line": {
            "color": "#2a3f5f"
           }
          },
          "ternary": {
           "aaxis": {
            "gridcolor": "white",
            "linecolor": "white",
            "ticks": ""
           },
           "baxis": {
            "gridcolor": "white",
            "linecolor": "white",
            "ticks": ""
           },
           "bgcolor": "#E5ECF6",
           "caxis": {
            "gridcolor": "white",
            "linecolor": "white",
            "ticks": ""
           }
          },
          "title": {
           "x": 0.05
          },
          "xaxis": {
           "automargin": true,
           "gridcolor": "white",
           "linecolor": "white",
           "ticks": "",
           "title": {
            "standoff": 15
           },
           "zerolinecolor": "white",
           "zerolinewidth": 2
          },
          "yaxis": {
           "automargin": true,
           "gridcolor": "white",
           "linecolor": "white",
           "ticks": "",
           "title": {
            "standoff": 15
           },
           "zerolinecolor": "white",
           "zerolinewidth": 2
          }
         }
        },
        "xaxis": {
         "anchor": "y",
         "domain": [
          0,
          1
         ],
         "title": {
          "text": "Citizenship"
         }
        },
        "yaxis": {
         "anchor": "x",
         "domain": [
          0,
          1
         ],
         "title": {
          "text": "Player"
         }
        }
       }
      },
      "text/html": [
       "<div>\n",
       "        \n",
       "        \n",
       "            <div id=\"bc49ebd5-03f1-4c9f-8ee3-99c8e4aaedfc\" class=\"plotly-graph-div\" style=\"height:525px; width:100%;\"></div>\n",
       "            <script type=\"text/javascript\">\n",
       "                require([\"plotly\"], function(Plotly) {\n",
       "                    window.PLOTLYENV=window.PLOTLYENV || {};\n",
       "                    \n",
       "                if (document.getElementById(\"bc49ebd5-03f1-4c9f-8ee3-99c8e4aaedfc\")) {\n",
       "                    Plotly.newPlot(\n",
       "                        'bc49ebd5-03f1-4c9f-8ee3-99c8e4aaedfc',\n",
       "                        [{\"alignmentgroup\": \"True\", \"hoverlabel\": {\"namelength\": 0}, \"hovertemplate\": \"Citizenship=%{x}<br>Player=%{y}\", \"legendgroup\": \"\", \"marker\": {\"color\": \"#636efa\"}, \"name\": \"\", \"offsetgroup\": \"\", \"orientation\": \"v\", \"showlegend\": false, \"textposition\": \"auto\", \"type\": \"bar\", \"x\": [\"Brazil\", \"Argentina\", \"Poland\", \"France\", \"Spain\", \"Netherlands\", \"Serbia\", \"Uruguay\", \"Croatia\"], \"xaxis\": \"x\", \"y\": [41, 24, 17, 16, 14, 13, 12, 10, 10], \"yaxis\": \"y\"}],\n",
       "                        {\"barmode\": \"relative\", \"legend\": {\"tracegroupgap\": 0}, \"margin\": {\"t\": 60}, \"template\": {\"data\": {\"bar\": [{\"error_x\": {\"color\": \"#2a3f5f\"}, \"error_y\": {\"color\": \"#2a3f5f\"}, \"marker\": {\"line\": {\"color\": \"#E5ECF6\", \"width\": 0.5}}, \"type\": \"bar\"}], \"barpolar\": [{\"marker\": {\"line\": {\"color\": \"#E5ECF6\", \"width\": 0.5}}, \"type\": \"barpolar\"}], \"carpet\": [{\"aaxis\": {\"endlinecolor\": \"#2a3f5f\", \"gridcolor\": \"white\", \"linecolor\": \"white\", \"minorgridcolor\": \"white\", \"startlinecolor\": \"#2a3f5f\"}, \"baxis\": {\"endlinecolor\": \"#2a3f5f\", \"gridcolor\": \"white\", \"linecolor\": \"white\", \"minorgridcolor\": \"white\", \"startlinecolor\": \"#2a3f5f\"}, \"type\": \"carpet\"}], \"choropleth\": [{\"colorbar\": {\"outlinewidth\": 0, \"ticks\": \"\"}, \"type\": \"choropleth\"}], \"contour\": [{\"colorbar\": {\"outlinewidth\": 0, \"ticks\": \"\"}, \"colorscale\": [[0.0, \"#0d0887\"], [0.1111111111111111, \"#46039f\"], [0.2222222222222222, \"#7201a8\"], [0.3333333333333333, \"#9c179e\"], [0.4444444444444444, \"#bd3786\"], [0.5555555555555556, \"#d8576b\"], [0.6666666666666666, \"#ed7953\"], [0.7777777777777778, \"#fb9f3a\"], [0.8888888888888888, \"#fdca26\"], [1.0, \"#f0f921\"]], \"type\": \"contour\"}], \"contourcarpet\": [{\"colorbar\": {\"outlinewidth\": 0, \"ticks\": \"\"}, \"type\": \"contourcarpet\"}], \"heatmap\": [{\"colorbar\": {\"outlinewidth\": 0, \"ticks\": \"\"}, \"colorscale\": [[0.0, \"#0d0887\"], [0.1111111111111111, \"#46039f\"], [0.2222222222222222, \"#7201a8\"], [0.3333333333333333, \"#9c179e\"], [0.4444444444444444, \"#bd3786\"], [0.5555555555555556, \"#d8576b\"], [0.6666666666666666, \"#ed7953\"], [0.7777777777777778, \"#fb9f3a\"], [0.8888888888888888, \"#fdca26\"], [1.0, \"#f0f921\"]], \"type\": \"heatmap\"}], \"heatmapgl\": [{\"colorbar\": {\"outlinewidth\": 0, \"ticks\": \"\"}, \"colorscale\": [[0.0, \"#0d0887\"], [0.1111111111111111, \"#46039f\"], [0.2222222222222222, \"#7201a8\"], [0.3333333333333333, \"#9c179e\"], [0.4444444444444444, \"#bd3786\"], [0.5555555555555556, \"#d8576b\"], [0.6666666666666666, \"#ed7953\"], [0.7777777777777778, \"#fb9f3a\"], [0.8888888888888888, \"#fdca26\"], [1.0, \"#f0f921\"]], \"type\": \"heatmapgl\"}], \"histogram\": [{\"marker\": {\"colorbar\": {\"outlinewidth\": 0, \"ticks\": \"\"}}, \"type\": \"histogram\"}], \"histogram2d\": [{\"colorbar\": {\"outlinewidth\": 0, \"ticks\": \"\"}, \"colorscale\": [[0.0, \"#0d0887\"], [0.1111111111111111, \"#46039f\"], [0.2222222222222222, \"#7201a8\"], [0.3333333333333333, \"#9c179e\"], [0.4444444444444444, \"#bd3786\"], [0.5555555555555556, \"#d8576b\"], [0.6666666666666666, \"#ed7953\"], [0.7777777777777778, \"#fb9f3a\"], [0.8888888888888888, \"#fdca26\"], [1.0, \"#f0f921\"]], \"type\": \"histogram2d\"}], \"histogram2dcontour\": [{\"colorbar\": {\"outlinewidth\": 0, \"ticks\": \"\"}, \"colorscale\": [[0.0, \"#0d0887\"], [0.1111111111111111, \"#46039f\"], [0.2222222222222222, \"#7201a8\"], [0.3333333333333333, \"#9c179e\"], [0.4444444444444444, \"#bd3786\"], [0.5555555555555556, \"#d8576b\"], [0.6666666666666666, \"#ed7953\"], [0.7777777777777778, \"#fb9f3a\"], [0.8888888888888888, \"#fdca26\"], [1.0, \"#f0f921\"]], \"type\": \"histogram2dcontour\"}], \"mesh3d\": [{\"colorbar\": {\"outlinewidth\": 0, \"ticks\": \"\"}, \"type\": \"mesh3d\"}], \"parcoords\": [{\"line\": {\"colorbar\": {\"outlinewidth\": 0, \"ticks\": \"\"}}, \"type\": \"parcoords\"}], \"pie\": [{\"automargin\": true, \"type\": \"pie\"}], \"scatter\": [{\"marker\": {\"colorbar\": {\"outlinewidth\": 0, \"ticks\": \"\"}}, \"type\": \"scatter\"}], \"scatter3d\": [{\"line\": {\"colorbar\": {\"outlinewidth\": 0, \"ticks\": \"\"}}, \"marker\": {\"colorbar\": {\"outlinewidth\": 0, \"ticks\": \"\"}}, \"type\": \"scatter3d\"}], \"scattercarpet\": [{\"marker\": {\"colorbar\": {\"outlinewidth\": 0, \"ticks\": \"\"}}, \"type\": \"scattercarpet\"}], \"scattergeo\": [{\"marker\": {\"colorbar\": {\"outlinewidth\": 0, \"ticks\": \"\"}}, \"type\": \"scattergeo\"}], \"scattergl\": [{\"marker\": {\"colorbar\": {\"outlinewidth\": 0, \"ticks\": \"\"}}, \"type\": \"scattergl\"}], \"scattermapbox\": [{\"marker\": {\"colorbar\": {\"outlinewidth\": 0, \"ticks\": \"\"}}, \"type\": \"scattermapbox\"}], \"scatterpolar\": [{\"marker\": {\"colorbar\": {\"outlinewidth\": 0, \"ticks\": \"\"}}, \"type\": \"scatterpolar\"}], \"scatterpolargl\": [{\"marker\": {\"colorbar\": {\"outlinewidth\": 0, \"ticks\": \"\"}}, \"type\": \"scatterpolargl\"}], \"scatterternary\": [{\"marker\": {\"colorbar\": {\"outlinewidth\": 0, \"ticks\": \"\"}}, \"type\": \"scatterternary\"}], \"surface\": [{\"colorbar\": {\"outlinewidth\": 0, \"ticks\": \"\"}, \"colorscale\": [[0.0, \"#0d0887\"], [0.1111111111111111, \"#46039f\"], [0.2222222222222222, \"#7201a8\"], [0.3333333333333333, \"#9c179e\"], [0.4444444444444444, \"#bd3786\"], [0.5555555555555556, \"#d8576b\"], [0.6666666666666666, \"#ed7953\"], [0.7777777777777778, \"#fb9f3a\"], [0.8888888888888888, \"#fdca26\"], [1.0, \"#f0f921\"]], \"type\": \"surface\"}], \"table\": [{\"cells\": {\"fill\": {\"color\": \"#EBF0F8\"}, \"line\": {\"color\": \"white\"}}, \"header\": {\"fill\": {\"color\": \"#C8D4E3\"}, \"line\": {\"color\": \"white\"}}, \"type\": \"table\"}]}, \"layout\": {\"annotationdefaults\": {\"arrowcolor\": \"#2a3f5f\", \"arrowhead\": 0, \"arrowwidth\": 1}, \"coloraxis\": {\"colorbar\": {\"outlinewidth\": 0, \"ticks\": \"\"}}, \"colorscale\": {\"diverging\": [[0, \"#8e0152\"], [0.1, \"#c51b7d\"], [0.2, \"#de77ae\"], [0.3, \"#f1b6da\"], [0.4, \"#fde0ef\"], [0.5, \"#f7f7f7\"], [0.6, \"#e6f5d0\"], [0.7, \"#b8e186\"], [0.8, \"#7fbc41\"], [0.9, \"#4d9221\"], [1, \"#276419\"]], \"sequential\": [[0.0, \"#0d0887\"], [0.1111111111111111, \"#46039f\"], [0.2222222222222222, \"#7201a8\"], [0.3333333333333333, \"#9c179e\"], [0.4444444444444444, \"#bd3786\"], [0.5555555555555556, \"#d8576b\"], [0.6666666666666666, \"#ed7953\"], [0.7777777777777778, \"#fb9f3a\"], [0.8888888888888888, \"#fdca26\"], [1.0, \"#f0f921\"]], \"sequentialminus\": [[0.0, \"#0d0887\"], [0.1111111111111111, \"#46039f\"], [0.2222222222222222, \"#7201a8\"], [0.3333333333333333, \"#9c179e\"], [0.4444444444444444, \"#bd3786\"], [0.5555555555555556, \"#d8576b\"], [0.6666666666666666, \"#ed7953\"], [0.7777777777777778, \"#fb9f3a\"], [0.8888888888888888, \"#fdca26\"], [1.0, \"#f0f921\"]]}, \"colorway\": [\"#636efa\", \"#EF553B\", \"#00cc96\", \"#ab63fa\", \"#FFA15A\", \"#19d3f3\", \"#FF6692\", \"#B6E880\", \"#FF97FF\", \"#FECB52\"], \"font\": {\"color\": \"#2a3f5f\"}, \"geo\": {\"bgcolor\": \"white\", \"lakecolor\": \"white\", \"landcolor\": \"#E5ECF6\", \"showlakes\": true, \"showland\": true, \"subunitcolor\": \"white\"}, \"hoverlabel\": {\"align\": \"left\"}, \"hovermode\": \"closest\", \"mapbox\": {\"style\": \"light\"}, \"paper_bgcolor\": \"white\", \"plot_bgcolor\": \"#E5ECF6\", \"polar\": {\"angularaxis\": {\"gridcolor\": \"white\", \"linecolor\": \"white\", \"ticks\": \"\"}, \"bgcolor\": \"#E5ECF6\", \"radialaxis\": {\"gridcolor\": \"white\", \"linecolor\": \"white\", \"ticks\": \"\"}}, \"scene\": {\"xaxis\": {\"backgroundcolor\": \"#E5ECF6\", \"gridcolor\": \"white\", \"gridwidth\": 2, \"linecolor\": \"white\", \"showbackground\": true, \"ticks\": \"\", \"zerolinecolor\": \"white\"}, \"yaxis\": {\"backgroundcolor\": \"#E5ECF6\", \"gridcolor\": \"white\", \"gridwidth\": 2, \"linecolor\": \"white\", \"showbackground\": true, \"ticks\": \"\", \"zerolinecolor\": \"white\"}, \"zaxis\": {\"backgroundcolor\": \"#E5ECF6\", \"gridcolor\": \"white\", \"gridwidth\": 2, \"linecolor\": \"white\", \"showbackground\": true, \"ticks\": \"\", \"zerolinecolor\": \"white\"}}, \"shapedefaults\": {\"line\": {\"color\": \"#2a3f5f\"}}, \"ternary\": {\"aaxis\": {\"gridcolor\": \"white\", \"linecolor\": \"white\", \"ticks\": \"\"}, \"baxis\": {\"gridcolor\": \"white\", \"linecolor\": \"white\", \"ticks\": \"\"}, \"bgcolor\": \"#E5ECF6\", \"caxis\": {\"gridcolor\": \"white\", \"linecolor\": \"white\", \"ticks\": \"\"}}, \"title\": {\"x\": 0.05}, \"xaxis\": {\"automargin\": true, \"gridcolor\": \"white\", \"linecolor\": \"white\", \"ticks\": \"\", \"title\": {\"standoff\": 15}, \"zerolinecolor\": \"white\", \"zerolinewidth\": 2}, \"yaxis\": {\"automargin\": true, \"gridcolor\": \"white\", \"linecolor\": \"white\", \"ticks\": \"\", \"title\": {\"standoff\": 15}, \"zerolinecolor\": \"white\", \"zerolinewidth\": 2}}}, \"xaxis\": {\"anchor\": \"y\", \"domain\": [0.0, 1.0], \"title\": {\"text\": \"Citizenship\"}}, \"yaxis\": {\"anchor\": \"x\", \"domain\": [0.0, 1.0], \"title\": {\"text\": \"Player\"}}},\n",
       "                        {\"responsive\": true}\n",
       "                    ).then(function(){\n",
       "                            \n",
       "var gd = document.getElementById('bc49ebd5-03f1-4c9f-8ee3-99c8e4aaedfc');\n",
       "var x = new MutationObserver(function (mutations, observer) {{\n",
       "        var display = window.getComputedStyle(gd).display;\n",
       "        if (!display || display === 'none') {{\n",
       "            console.log([gd, 'removed!']);\n",
       "            Plotly.purge(gd);\n",
       "            observer.disconnect();\n",
       "        }}\n",
       "}});\n",
       "\n",
       "// Listen for the removal of the full notebook cells\n",
       "var notebookContainer = gd.closest('#notebook-container');\n",
       "if (notebookContainer) {{\n",
       "    x.observe(notebookContainer, {childList: true});\n",
       "}}\n",
       "\n",
       "// Listen for the clearing of the current output cell\n",
       "var outputEl = gd.closest('.output');\n",
       "if (outputEl) {{\n",
       "    x.observe(outputEl, {childList: true});\n",
       "}}\n",
       "\n",
       "                        })\n",
       "                };\n",
       "                });\n",
       "            </script>\n",
       "        </div>"
      ]
     },
     "metadata": {},
     "output_type": "display_data"
    }
   ],
   "source": [
    "import plotly.express as px\n",
    "pd.set_option('display.max_rows', 100)\n",
    "Origin = SerieA.groupby('Citizenship')[['Player']].count().sort_values('Player',ascending = False).reset_index()\n",
    "Origin = Origin[Origin.Citizenship!='Italy']\n",
    "fig = px.bar(Origin[:9],'Citizenship','Player')\n",
    "fig.show()"
   ]
  },
  {
   "cell_type": "code",
   "execution_count": 111,
   "metadata": {},
   "outputs": [
    {
     "data": {
      "application/vnd.plotly.v1+json": {
       "config": {
        "plotlyServerURL": "https://plot.ly"
       },
       "data": [
        {
         "geo": "geo",
         "hoverlabel": {
          "namelength": 0
         },
         "hovertemplate": "Player=%{marker.color}<br>Citizenship=%{location}",
         "legendgroup": "",
         "locationmode": "country names",
         "locations": [
          "Brazil",
          "Argentina",
          "Poland",
          "France",
          "Spain",
          "Netherlands",
          "Serbia",
          "Uruguay",
          "Croatia",
          "Germany",
          "Cote d'Ivoire",
          "Sweden",
          "Denmark",
          "Albania",
          "Colombia",
          "Portugal",
          "Bosnia-Herzegovina",
          "Belgium",
          "Greece",
          "Turkey",
          "Slovakia",
          "Ghana",
          "Slovenia",
          "Czech Republic",
          "Algeria",
          "Senegal",
          "Romania",
          "Switzerland",
          "Nigeria",
          "Kosovo",
          "Morocco",
          "North Macedonia",
          "Chile",
          "Paraguay",
          "Ukraine",
          "Ecuador",
          "Montenegro",
          "England",
          "The Gambia",
          "Finland",
          "Cameroon",
          "Venezuela",
          "Scotland",
          "Japan",
          "Norway",
          "Moldova",
          "Mexico",
          "Martinique",
          "Lithuania",
          "Guinea",
          "Estonia",
          "Equatorial Guinea",
          "DR Congo",
          "Burkina Faso",
          "Bulgaria",
          "Austria",
          "Armenia",
          "Angola",
          "Wales"
         ],
         "marker": {
          "color": [
           41,
           24,
           17,
           16,
           14,
           13,
           12,
           10,
           10,
           9,
           8,
           7,
           7,
           7,
           7,
           6,
           6,
           6,
           5,
           5,
           5,
           5,
           5,
           5,
           4,
           4,
           4,
           4,
           3,
           3,
           3,
           3,
           3,
           3,
           2,
           2,
           2,
           2,
           2,
           2,
           2,
           2,
           1,
           1,
           1,
           1,
           1,
           1,
           1,
           1,
           1,
           1,
           1,
           1,
           1,
           1,
           1,
           1,
           1
          ],
          "coloraxis": "coloraxis",
          "size": [
           41,
           24,
           17,
           16,
           14,
           13,
           12,
           10,
           10,
           9,
           8,
           7,
           7,
           7,
           7,
           6,
           6,
           6,
           5,
           5,
           5,
           5,
           5,
           5,
           4,
           4,
           4,
           4,
           3,
           3,
           3,
           3,
           3,
           3,
           2,
           2,
           2,
           2,
           2,
           2,
           2,
           2,
           1,
           1,
           1,
           1,
           1,
           1,
           1,
           1,
           1,
           1,
           1,
           1,
           1,
           1,
           1,
           1,
           1
          ],
          "sizemode": "area",
          "sizeref": 0.1025
         },
         "name": "",
         "showlegend": false,
         "type": "scattergeo"
        }
       ],
       "layout": {
        "coloraxis": {
         "colorbar": {
          "title": {
           "text": "Player"
          }
         },
         "colorscale": [
          [
           0,
           "#0d0887"
          ],
          [
           0.1111111111111111,
           "#46039f"
          ],
          [
           0.2222222222222222,
           "#7201a8"
          ],
          [
           0.3333333333333333,
           "#9c179e"
          ],
          [
           0.4444444444444444,
           "#bd3786"
          ],
          [
           0.5555555555555556,
           "#d8576b"
          ],
          [
           0.6666666666666666,
           "#ed7953"
          ],
          [
           0.7777777777777778,
           "#fb9f3a"
          ],
          [
           0.8888888888888888,
           "#fdca26"
          ],
          [
           1,
           "#f0f921"
          ]
         ]
        },
        "geo": {
         "center": {},
         "domain": {
          "x": [
           0,
           1
          ],
          "y": [
           0,
           1
          ]
         }
        },
        "legend": {
         "itemsizing": "constant",
         "tracegroupgap": 0
        },
        "margin": {
         "t": 60
        },
        "template": {
         "data": {
          "bar": [
           {
            "error_x": {
             "color": "#2a3f5f"
            },
            "error_y": {
             "color": "#2a3f5f"
            },
            "marker": {
             "line": {
              "color": "#E5ECF6",
              "width": 0.5
             }
            },
            "type": "bar"
           }
          ],
          "barpolar": [
           {
            "marker": {
             "line": {
              "color": "#E5ECF6",
              "width": 0.5
             }
            },
            "type": "barpolar"
           }
          ],
          "carpet": [
           {
            "aaxis": {
             "endlinecolor": "#2a3f5f",
             "gridcolor": "white",
             "linecolor": "white",
             "minorgridcolor": "white",
             "startlinecolor": "#2a3f5f"
            },
            "baxis": {
             "endlinecolor": "#2a3f5f",
             "gridcolor": "white",
             "linecolor": "white",
             "minorgridcolor": "white",
             "startlinecolor": "#2a3f5f"
            },
            "type": "carpet"
           }
          ],
          "choropleth": [
           {
            "colorbar": {
             "outlinewidth": 0,
             "ticks": ""
            },
            "type": "choropleth"
           }
          ],
          "contour": [
           {
            "colorbar": {
             "outlinewidth": 0,
             "ticks": ""
            },
            "colorscale": [
             [
              0,
              "#0d0887"
             ],
             [
              0.1111111111111111,
              "#46039f"
             ],
             [
              0.2222222222222222,
              "#7201a8"
             ],
             [
              0.3333333333333333,
              "#9c179e"
             ],
             [
              0.4444444444444444,
              "#bd3786"
             ],
             [
              0.5555555555555556,
              "#d8576b"
             ],
             [
              0.6666666666666666,
              "#ed7953"
             ],
             [
              0.7777777777777778,
              "#fb9f3a"
             ],
             [
              0.8888888888888888,
              "#fdca26"
             ],
             [
              1,
              "#f0f921"
             ]
            ],
            "type": "contour"
           }
          ],
          "contourcarpet": [
           {
            "colorbar": {
             "outlinewidth": 0,
             "ticks": ""
            },
            "type": "contourcarpet"
           }
          ],
          "heatmap": [
           {
            "colorbar": {
             "outlinewidth": 0,
             "ticks": ""
            },
            "colorscale": [
             [
              0,
              "#0d0887"
             ],
             [
              0.1111111111111111,
              "#46039f"
             ],
             [
              0.2222222222222222,
              "#7201a8"
             ],
             [
              0.3333333333333333,
              "#9c179e"
             ],
             [
              0.4444444444444444,
              "#bd3786"
             ],
             [
              0.5555555555555556,
              "#d8576b"
             ],
             [
              0.6666666666666666,
              "#ed7953"
             ],
             [
              0.7777777777777778,
              "#fb9f3a"
             ],
             [
              0.8888888888888888,
              "#fdca26"
             ],
             [
              1,
              "#f0f921"
             ]
            ],
            "type": "heatmap"
           }
          ],
          "heatmapgl": [
           {
            "colorbar": {
             "outlinewidth": 0,
             "ticks": ""
            },
            "colorscale": [
             [
              0,
              "#0d0887"
             ],
             [
              0.1111111111111111,
              "#46039f"
             ],
             [
              0.2222222222222222,
              "#7201a8"
             ],
             [
              0.3333333333333333,
              "#9c179e"
             ],
             [
              0.4444444444444444,
              "#bd3786"
             ],
             [
              0.5555555555555556,
              "#d8576b"
             ],
             [
              0.6666666666666666,
              "#ed7953"
             ],
             [
              0.7777777777777778,
              "#fb9f3a"
             ],
             [
              0.8888888888888888,
              "#fdca26"
             ],
             [
              1,
              "#f0f921"
             ]
            ],
            "type": "heatmapgl"
           }
          ],
          "histogram": [
           {
            "marker": {
             "colorbar": {
              "outlinewidth": 0,
              "ticks": ""
             }
            },
            "type": "histogram"
           }
          ],
          "histogram2d": [
           {
            "colorbar": {
             "outlinewidth": 0,
             "ticks": ""
            },
            "colorscale": [
             [
              0,
              "#0d0887"
             ],
             [
              0.1111111111111111,
              "#46039f"
             ],
             [
              0.2222222222222222,
              "#7201a8"
             ],
             [
              0.3333333333333333,
              "#9c179e"
             ],
             [
              0.4444444444444444,
              "#bd3786"
             ],
             [
              0.5555555555555556,
              "#d8576b"
             ],
             [
              0.6666666666666666,
              "#ed7953"
             ],
             [
              0.7777777777777778,
              "#fb9f3a"
             ],
             [
              0.8888888888888888,
              "#fdca26"
             ],
             [
              1,
              "#f0f921"
             ]
            ],
            "type": "histogram2d"
           }
          ],
          "histogram2dcontour": [
           {
            "colorbar": {
             "outlinewidth": 0,
             "ticks": ""
            },
            "colorscale": [
             [
              0,
              "#0d0887"
             ],
             [
              0.1111111111111111,
              "#46039f"
             ],
             [
              0.2222222222222222,
              "#7201a8"
             ],
             [
              0.3333333333333333,
              "#9c179e"
             ],
             [
              0.4444444444444444,
              "#bd3786"
             ],
             [
              0.5555555555555556,
              "#d8576b"
             ],
             [
              0.6666666666666666,
              "#ed7953"
             ],
             [
              0.7777777777777778,
              "#fb9f3a"
             ],
             [
              0.8888888888888888,
              "#fdca26"
             ],
             [
              1,
              "#f0f921"
             ]
            ],
            "type": "histogram2dcontour"
           }
          ],
          "mesh3d": [
           {
            "colorbar": {
             "outlinewidth": 0,
             "ticks": ""
            },
            "type": "mesh3d"
           }
          ],
          "parcoords": [
           {
            "line": {
             "colorbar": {
              "outlinewidth": 0,
              "ticks": ""
             }
            },
            "type": "parcoords"
           }
          ],
          "pie": [
           {
            "automargin": true,
            "type": "pie"
           }
          ],
          "scatter": [
           {
            "marker": {
             "colorbar": {
              "outlinewidth": 0,
              "ticks": ""
             }
            },
            "type": "scatter"
           }
          ],
          "scatter3d": [
           {
            "line": {
             "colorbar": {
              "outlinewidth": 0,
              "ticks": ""
             }
            },
            "marker": {
             "colorbar": {
              "outlinewidth": 0,
              "ticks": ""
             }
            },
            "type": "scatter3d"
           }
          ],
          "scattercarpet": [
           {
            "marker": {
             "colorbar": {
              "outlinewidth": 0,
              "ticks": ""
             }
            },
            "type": "scattercarpet"
           }
          ],
          "scattergeo": [
           {
            "marker": {
             "colorbar": {
              "outlinewidth": 0,
              "ticks": ""
             }
            },
            "type": "scattergeo"
           }
          ],
          "scattergl": [
           {
            "marker": {
             "colorbar": {
              "outlinewidth": 0,
              "ticks": ""
             }
            },
            "type": "scattergl"
           }
          ],
          "scattermapbox": [
           {
            "marker": {
             "colorbar": {
              "outlinewidth": 0,
              "ticks": ""
             }
            },
            "type": "scattermapbox"
           }
          ],
          "scatterpolar": [
           {
            "marker": {
             "colorbar": {
              "outlinewidth": 0,
              "ticks": ""
             }
            },
            "type": "scatterpolar"
           }
          ],
          "scatterpolargl": [
           {
            "marker": {
             "colorbar": {
              "outlinewidth": 0,
              "ticks": ""
             }
            },
            "type": "scatterpolargl"
           }
          ],
          "scatterternary": [
           {
            "marker": {
             "colorbar": {
              "outlinewidth": 0,
              "ticks": ""
             }
            },
            "type": "scatterternary"
           }
          ],
          "surface": [
           {
            "colorbar": {
             "outlinewidth": 0,
             "ticks": ""
            },
            "colorscale": [
             [
              0,
              "#0d0887"
             ],
             [
              0.1111111111111111,
              "#46039f"
             ],
             [
              0.2222222222222222,
              "#7201a8"
             ],
             [
              0.3333333333333333,
              "#9c179e"
             ],
             [
              0.4444444444444444,
              "#bd3786"
             ],
             [
              0.5555555555555556,
              "#d8576b"
             ],
             [
              0.6666666666666666,
              "#ed7953"
             ],
             [
              0.7777777777777778,
              "#fb9f3a"
             ],
             [
              0.8888888888888888,
              "#fdca26"
             ],
             [
              1,
              "#f0f921"
             ]
            ],
            "type": "surface"
           }
          ],
          "table": [
           {
            "cells": {
             "fill": {
              "color": "#EBF0F8"
             },
             "line": {
              "color": "white"
             }
            },
            "header": {
             "fill": {
              "color": "#C8D4E3"
             },
             "line": {
              "color": "white"
             }
            },
            "type": "table"
           }
          ]
         },
         "layout": {
          "annotationdefaults": {
           "arrowcolor": "#2a3f5f",
           "arrowhead": 0,
           "arrowwidth": 1
          },
          "coloraxis": {
           "colorbar": {
            "outlinewidth": 0,
            "ticks": ""
           }
          },
          "colorscale": {
           "diverging": [
            [
             0,
             "#8e0152"
            ],
            [
             0.1,
             "#c51b7d"
            ],
            [
             0.2,
             "#de77ae"
            ],
            [
             0.3,
             "#f1b6da"
            ],
            [
             0.4,
             "#fde0ef"
            ],
            [
             0.5,
             "#f7f7f7"
            ],
            [
             0.6,
             "#e6f5d0"
            ],
            [
             0.7,
             "#b8e186"
            ],
            [
             0.8,
             "#7fbc41"
            ],
            [
             0.9,
             "#4d9221"
            ],
            [
             1,
             "#276419"
            ]
           ],
           "sequential": [
            [
             0,
             "#0d0887"
            ],
            [
             0.1111111111111111,
             "#46039f"
            ],
            [
             0.2222222222222222,
             "#7201a8"
            ],
            [
             0.3333333333333333,
             "#9c179e"
            ],
            [
             0.4444444444444444,
             "#bd3786"
            ],
            [
             0.5555555555555556,
             "#d8576b"
            ],
            [
             0.6666666666666666,
             "#ed7953"
            ],
            [
             0.7777777777777778,
             "#fb9f3a"
            ],
            [
             0.8888888888888888,
             "#fdca26"
            ],
            [
             1,
             "#f0f921"
            ]
           ],
           "sequentialminus": [
            [
             0,
             "#0d0887"
            ],
            [
             0.1111111111111111,
             "#46039f"
            ],
            [
             0.2222222222222222,
             "#7201a8"
            ],
            [
             0.3333333333333333,
             "#9c179e"
            ],
            [
             0.4444444444444444,
             "#bd3786"
            ],
            [
             0.5555555555555556,
             "#d8576b"
            ],
            [
             0.6666666666666666,
             "#ed7953"
            ],
            [
             0.7777777777777778,
             "#fb9f3a"
            ],
            [
             0.8888888888888888,
             "#fdca26"
            ],
            [
             1,
             "#f0f921"
            ]
           ]
          },
          "colorway": [
           "#636efa",
           "#EF553B",
           "#00cc96",
           "#ab63fa",
           "#FFA15A",
           "#19d3f3",
           "#FF6692",
           "#B6E880",
           "#FF97FF",
           "#FECB52"
          ],
          "font": {
           "color": "#2a3f5f"
          },
          "geo": {
           "bgcolor": "white",
           "lakecolor": "white",
           "landcolor": "#E5ECF6",
           "showlakes": true,
           "showland": true,
           "subunitcolor": "white"
          },
          "hoverlabel": {
           "align": "left"
          },
          "hovermode": "closest",
          "mapbox": {
           "style": "light"
          },
          "paper_bgcolor": "white",
          "plot_bgcolor": "#E5ECF6",
          "polar": {
           "angularaxis": {
            "gridcolor": "white",
            "linecolor": "white",
            "ticks": ""
           },
           "bgcolor": "#E5ECF6",
           "radialaxis": {
            "gridcolor": "white",
            "linecolor": "white",
            "ticks": ""
           }
          },
          "scene": {
           "xaxis": {
            "backgroundcolor": "#E5ECF6",
            "gridcolor": "white",
            "gridwidth": 2,
            "linecolor": "white",
            "showbackground": true,
            "ticks": "",
            "zerolinecolor": "white"
           },
           "yaxis": {
            "backgroundcolor": "#E5ECF6",
            "gridcolor": "white",
            "gridwidth": 2,
            "linecolor": "white",
            "showbackground": true,
            "ticks": "",
            "zerolinecolor": "white"
           },
           "zaxis": {
            "backgroundcolor": "#E5ECF6",
            "gridcolor": "white",
            "gridwidth": 2,
            "linecolor": "white",
            "showbackground": true,
            "ticks": "",
            "zerolinecolor": "white"
           }
          },
          "shapedefaults": {
           "line": {
            "color": "#2a3f5f"
           }
          },
          "ternary": {
           "aaxis": {
            "gridcolor": "white",
            "linecolor": "white",
            "ticks": ""
           },
           "baxis": {
            "gridcolor": "white",
            "linecolor": "white",
            "ticks": ""
           },
           "bgcolor": "#E5ECF6",
           "caxis": {
            "gridcolor": "white",
            "linecolor": "white",
            "ticks": ""
           }
          },
          "title": {
           "x": 0.05
          },
          "xaxis": {
           "automargin": true,
           "gridcolor": "white",
           "linecolor": "white",
           "ticks": "",
           "title": {
            "standoff": 15
           },
           "zerolinecolor": "white",
           "zerolinewidth": 2
          },
          "yaxis": {
           "automargin": true,
           "gridcolor": "white",
           "linecolor": "white",
           "ticks": "",
           "title": {
            "standoff": 15
           },
           "zerolinecolor": "white",
           "zerolinewidth": 2
          }
         }
        }
       }
      },
      "text/html": [
       "<div>\n",
       "        \n",
       "        \n",
       "            <div id=\"270bf6dd-7980-4b9b-b532-dbcb1fbe9ae4\" class=\"plotly-graph-div\" style=\"height:525px; width:100%;\"></div>\n",
       "            <script type=\"text/javascript\">\n",
       "                require([\"plotly\"], function(Plotly) {\n",
       "                    window.PLOTLYENV=window.PLOTLYENV || {};\n",
       "                    \n",
       "                if (document.getElementById(\"270bf6dd-7980-4b9b-b532-dbcb1fbe9ae4\")) {\n",
       "                    Plotly.newPlot(\n",
       "                        '270bf6dd-7980-4b9b-b532-dbcb1fbe9ae4',\n",
       "                        [{\"geo\": \"geo\", \"hoverlabel\": {\"namelength\": 0}, \"hovertemplate\": \"Player=%{marker.color}<br>Citizenship=%{location}\", \"legendgroup\": \"\", \"locationmode\": \"country names\", \"locations\": [\"Brazil\", \"Argentina\", \"Poland\", \"France\", \"Spain\", \"Netherlands\", \"Serbia\", \"Uruguay\", \"Croatia\", \"Germany\", \"Cote d'Ivoire\", \"Sweden\", \"Denmark\", \"Albania\", \"Colombia\", \"Portugal\", \"Bosnia-Herzegovina\", \"Belgium\", \"Greece\", \"Turkey\", \"Slovakia\", \"Ghana\", \"Slovenia\", \"Czech Republic\", \"Algeria\", \"Senegal\", \"Romania\", \"Switzerland\", \"Nigeria\", \"Kosovo\", \"Morocco\", \"North Macedonia\", \"Chile\", \"Paraguay\", \"Ukraine\", \"Ecuador\", \"Montenegro\", \"England\", \"The Gambia\", \"Finland\", \"Cameroon\", \"Venezuela\", \"Scotland\", \"Japan\", \"Norway\", \"Moldova\", \"Mexico\", \"Martinique\", \"Lithuania\", \"Guinea\", \"Estonia\", \"Equatorial Guinea\", \"DR Congo\", \"Burkina Faso\", \"Bulgaria\", \"Austria\", \"Armenia\", \"Angola\", \"Wales\"], \"marker\": {\"color\": [41, 24, 17, 16, 14, 13, 12, 10, 10, 9, 8, 7, 7, 7, 7, 6, 6, 6, 5, 5, 5, 5, 5, 5, 4, 4, 4, 4, 3, 3, 3, 3, 3, 3, 2, 2, 2, 2, 2, 2, 2, 2, 1, 1, 1, 1, 1, 1, 1, 1, 1, 1, 1, 1, 1, 1, 1, 1, 1], \"coloraxis\": \"coloraxis\", \"size\": [41, 24, 17, 16, 14, 13, 12, 10, 10, 9, 8, 7, 7, 7, 7, 6, 6, 6, 5, 5, 5, 5, 5, 5, 4, 4, 4, 4, 3, 3, 3, 3, 3, 3, 2, 2, 2, 2, 2, 2, 2, 2, 1, 1, 1, 1, 1, 1, 1, 1, 1, 1, 1, 1, 1, 1, 1, 1, 1], \"sizemode\": \"area\", \"sizeref\": 0.1025}, \"name\": \"\", \"showlegend\": false, \"type\": \"scattergeo\"}],\n",
       "                        {\"coloraxis\": {\"colorbar\": {\"title\": {\"text\": \"Player\"}}, \"colorscale\": [[0.0, \"#0d0887\"], [0.1111111111111111, \"#46039f\"], [0.2222222222222222, \"#7201a8\"], [0.3333333333333333, \"#9c179e\"], [0.4444444444444444, \"#bd3786\"], [0.5555555555555556, \"#d8576b\"], [0.6666666666666666, \"#ed7953\"], [0.7777777777777778, \"#fb9f3a\"], [0.8888888888888888, \"#fdca26\"], [1.0, \"#f0f921\"]]}, \"geo\": {\"center\": {}, \"domain\": {\"x\": [0.0, 1.0], \"y\": [0.0, 1.0]}}, \"legend\": {\"itemsizing\": \"constant\", \"tracegroupgap\": 0}, \"margin\": {\"t\": 60}, \"template\": {\"data\": {\"bar\": [{\"error_x\": {\"color\": \"#2a3f5f\"}, \"error_y\": {\"color\": \"#2a3f5f\"}, \"marker\": {\"line\": {\"color\": \"#E5ECF6\", \"width\": 0.5}}, \"type\": \"bar\"}], \"barpolar\": [{\"marker\": {\"line\": {\"color\": \"#E5ECF6\", \"width\": 0.5}}, \"type\": \"barpolar\"}], \"carpet\": [{\"aaxis\": {\"endlinecolor\": \"#2a3f5f\", \"gridcolor\": \"white\", \"linecolor\": \"white\", \"minorgridcolor\": \"white\", \"startlinecolor\": \"#2a3f5f\"}, \"baxis\": {\"endlinecolor\": \"#2a3f5f\", \"gridcolor\": \"white\", \"linecolor\": \"white\", \"minorgridcolor\": \"white\", \"startlinecolor\": \"#2a3f5f\"}, \"type\": \"carpet\"}], \"choropleth\": [{\"colorbar\": {\"outlinewidth\": 0, \"ticks\": \"\"}, \"type\": \"choropleth\"}], \"contour\": [{\"colorbar\": {\"outlinewidth\": 0, \"ticks\": \"\"}, \"colorscale\": [[0.0, \"#0d0887\"], [0.1111111111111111, \"#46039f\"], [0.2222222222222222, \"#7201a8\"], [0.3333333333333333, \"#9c179e\"], [0.4444444444444444, \"#bd3786\"], [0.5555555555555556, \"#d8576b\"], [0.6666666666666666, \"#ed7953\"], [0.7777777777777778, \"#fb9f3a\"], [0.8888888888888888, \"#fdca26\"], [1.0, \"#f0f921\"]], \"type\": \"contour\"}], \"contourcarpet\": [{\"colorbar\": {\"outlinewidth\": 0, \"ticks\": \"\"}, \"type\": \"contourcarpet\"}], \"heatmap\": [{\"colorbar\": {\"outlinewidth\": 0, \"ticks\": \"\"}, \"colorscale\": [[0.0, \"#0d0887\"], [0.1111111111111111, \"#46039f\"], [0.2222222222222222, \"#7201a8\"], [0.3333333333333333, \"#9c179e\"], [0.4444444444444444, \"#bd3786\"], [0.5555555555555556, \"#d8576b\"], [0.6666666666666666, \"#ed7953\"], [0.7777777777777778, \"#fb9f3a\"], [0.8888888888888888, \"#fdca26\"], [1.0, \"#f0f921\"]], \"type\": \"heatmap\"}], \"heatmapgl\": [{\"colorbar\": {\"outlinewidth\": 0, \"ticks\": \"\"}, \"colorscale\": [[0.0, \"#0d0887\"], [0.1111111111111111, \"#46039f\"], [0.2222222222222222, \"#7201a8\"], [0.3333333333333333, \"#9c179e\"], [0.4444444444444444, \"#bd3786\"], [0.5555555555555556, \"#d8576b\"], [0.6666666666666666, \"#ed7953\"], [0.7777777777777778, \"#fb9f3a\"], [0.8888888888888888, \"#fdca26\"], [1.0, \"#f0f921\"]], \"type\": \"heatmapgl\"}], \"histogram\": [{\"marker\": {\"colorbar\": {\"outlinewidth\": 0, \"ticks\": \"\"}}, \"type\": \"histogram\"}], \"histogram2d\": [{\"colorbar\": {\"outlinewidth\": 0, \"ticks\": \"\"}, \"colorscale\": [[0.0, \"#0d0887\"], [0.1111111111111111, \"#46039f\"], [0.2222222222222222, \"#7201a8\"], [0.3333333333333333, \"#9c179e\"], [0.4444444444444444, \"#bd3786\"], [0.5555555555555556, \"#d8576b\"], [0.6666666666666666, \"#ed7953\"], [0.7777777777777778, \"#fb9f3a\"], [0.8888888888888888, \"#fdca26\"], [1.0, \"#f0f921\"]], \"type\": \"histogram2d\"}], \"histogram2dcontour\": [{\"colorbar\": {\"outlinewidth\": 0, \"ticks\": \"\"}, \"colorscale\": [[0.0, \"#0d0887\"], [0.1111111111111111, \"#46039f\"], [0.2222222222222222, \"#7201a8\"], [0.3333333333333333, \"#9c179e\"], [0.4444444444444444, \"#bd3786\"], [0.5555555555555556, \"#d8576b\"], [0.6666666666666666, \"#ed7953\"], [0.7777777777777778, \"#fb9f3a\"], [0.8888888888888888, \"#fdca26\"], [1.0, \"#f0f921\"]], \"type\": \"histogram2dcontour\"}], \"mesh3d\": [{\"colorbar\": {\"outlinewidth\": 0, \"ticks\": \"\"}, \"type\": \"mesh3d\"}], \"parcoords\": [{\"line\": {\"colorbar\": {\"outlinewidth\": 0, \"ticks\": \"\"}}, \"type\": \"parcoords\"}], \"pie\": [{\"automargin\": true, \"type\": \"pie\"}], \"scatter\": [{\"marker\": {\"colorbar\": {\"outlinewidth\": 0, \"ticks\": \"\"}}, \"type\": \"scatter\"}], \"scatter3d\": [{\"line\": {\"colorbar\": {\"outlinewidth\": 0, \"ticks\": \"\"}}, \"marker\": {\"colorbar\": {\"outlinewidth\": 0, \"ticks\": \"\"}}, \"type\": \"scatter3d\"}], \"scattercarpet\": [{\"marker\": {\"colorbar\": {\"outlinewidth\": 0, \"ticks\": \"\"}}, \"type\": \"scattercarpet\"}], \"scattergeo\": [{\"marker\": {\"colorbar\": {\"outlinewidth\": 0, \"ticks\": \"\"}}, \"type\": \"scattergeo\"}], \"scattergl\": [{\"marker\": {\"colorbar\": {\"outlinewidth\": 0, \"ticks\": \"\"}}, \"type\": \"scattergl\"}], \"scattermapbox\": [{\"marker\": {\"colorbar\": {\"outlinewidth\": 0, \"ticks\": \"\"}}, \"type\": \"scattermapbox\"}], \"scatterpolar\": [{\"marker\": {\"colorbar\": {\"outlinewidth\": 0, \"ticks\": \"\"}}, \"type\": \"scatterpolar\"}], \"scatterpolargl\": [{\"marker\": {\"colorbar\": {\"outlinewidth\": 0, \"ticks\": \"\"}}, \"type\": \"scatterpolargl\"}], \"scatterternary\": [{\"marker\": {\"colorbar\": {\"outlinewidth\": 0, \"ticks\": \"\"}}, \"type\": \"scatterternary\"}], \"surface\": [{\"colorbar\": {\"outlinewidth\": 0, \"ticks\": \"\"}, \"colorscale\": [[0.0, \"#0d0887\"], [0.1111111111111111, \"#46039f\"], [0.2222222222222222, \"#7201a8\"], [0.3333333333333333, \"#9c179e\"], [0.4444444444444444, \"#bd3786\"], [0.5555555555555556, \"#d8576b\"], [0.6666666666666666, \"#ed7953\"], [0.7777777777777778, \"#fb9f3a\"], [0.8888888888888888, \"#fdca26\"], [1.0, \"#f0f921\"]], \"type\": \"surface\"}], \"table\": [{\"cells\": {\"fill\": {\"color\": \"#EBF0F8\"}, \"line\": {\"color\": \"white\"}}, \"header\": {\"fill\": {\"color\": \"#C8D4E3\"}, \"line\": {\"color\": \"white\"}}, \"type\": \"table\"}]}, \"layout\": {\"annotationdefaults\": {\"arrowcolor\": \"#2a3f5f\", \"arrowhead\": 0, \"arrowwidth\": 1}, \"coloraxis\": {\"colorbar\": {\"outlinewidth\": 0, \"ticks\": \"\"}}, \"colorscale\": {\"diverging\": [[0, \"#8e0152\"], [0.1, \"#c51b7d\"], [0.2, \"#de77ae\"], [0.3, \"#f1b6da\"], [0.4, \"#fde0ef\"], [0.5, \"#f7f7f7\"], [0.6, \"#e6f5d0\"], [0.7, \"#b8e186\"], [0.8, \"#7fbc41\"], [0.9, \"#4d9221\"], [1, \"#276419\"]], \"sequential\": [[0.0, \"#0d0887\"], [0.1111111111111111, \"#46039f\"], [0.2222222222222222, \"#7201a8\"], [0.3333333333333333, \"#9c179e\"], [0.4444444444444444, \"#bd3786\"], [0.5555555555555556, \"#d8576b\"], [0.6666666666666666, \"#ed7953\"], [0.7777777777777778, \"#fb9f3a\"], [0.8888888888888888, \"#fdca26\"], [1.0, \"#f0f921\"]], \"sequentialminus\": [[0.0, \"#0d0887\"], [0.1111111111111111, \"#46039f\"], [0.2222222222222222, \"#7201a8\"], [0.3333333333333333, \"#9c179e\"], [0.4444444444444444, \"#bd3786\"], [0.5555555555555556, \"#d8576b\"], [0.6666666666666666, \"#ed7953\"], [0.7777777777777778, \"#fb9f3a\"], [0.8888888888888888, \"#fdca26\"], [1.0, \"#f0f921\"]]}, \"colorway\": [\"#636efa\", \"#EF553B\", \"#00cc96\", \"#ab63fa\", \"#FFA15A\", \"#19d3f3\", \"#FF6692\", \"#B6E880\", \"#FF97FF\", \"#FECB52\"], \"font\": {\"color\": \"#2a3f5f\"}, \"geo\": {\"bgcolor\": \"white\", \"lakecolor\": \"white\", \"landcolor\": \"#E5ECF6\", \"showlakes\": true, \"showland\": true, \"subunitcolor\": \"white\"}, \"hoverlabel\": {\"align\": \"left\"}, \"hovermode\": \"closest\", \"mapbox\": {\"style\": \"light\"}, \"paper_bgcolor\": \"white\", \"plot_bgcolor\": \"#E5ECF6\", \"polar\": {\"angularaxis\": {\"gridcolor\": \"white\", \"linecolor\": \"white\", \"ticks\": \"\"}, \"bgcolor\": \"#E5ECF6\", \"radialaxis\": {\"gridcolor\": \"white\", \"linecolor\": \"white\", \"ticks\": \"\"}}, \"scene\": {\"xaxis\": {\"backgroundcolor\": \"#E5ECF6\", \"gridcolor\": \"white\", \"gridwidth\": 2, \"linecolor\": \"white\", \"showbackground\": true, \"ticks\": \"\", \"zerolinecolor\": \"white\"}, \"yaxis\": {\"backgroundcolor\": \"#E5ECF6\", \"gridcolor\": \"white\", \"gridwidth\": 2, \"linecolor\": \"white\", \"showbackground\": true, \"ticks\": \"\", \"zerolinecolor\": \"white\"}, \"zaxis\": {\"backgroundcolor\": \"#E5ECF6\", \"gridcolor\": \"white\", \"gridwidth\": 2, \"linecolor\": \"white\", \"showbackground\": true, \"ticks\": \"\", \"zerolinecolor\": \"white\"}}, \"shapedefaults\": {\"line\": {\"color\": \"#2a3f5f\"}}, \"ternary\": {\"aaxis\": {\"gridcolor\": \"white\", \"linecolor\": \"white\", \"ticks\": \"\"}, \"baxis\": {\"gridcolor\": \"white\", \"linecolor\": \"white\", \"ticks\": \"\"}, \"bgcolor\": \"#E5ECF6\", \"caxis\": {\"gridcolor\": \"white\", \"linecolor\": \"white\", \"ticks\": \"\"}}, \"title\": {\"x\": 0.05}, \"xaxis\": {\"automargin\": true, \"gridcolor\": \"white\", \"linecolor\": \"white\", \"ticks\": \"\", \"title\": {\"standoff\": 15}, \"zerolinecolor\": \"white\", \"zerolinewidth\": 2}, \"yaxis\": {\"automargin\": true, \"gridcolor\": \"white\", \"linecolor\": \"white\", \"ticks\": \"\", \"title\": {\"standoff\": 15}, \"zerolinecolor\": \"white\", \"zerolinewidth\": 2}}}},\n",
       "                        {\"responsive\": true}\n",
       "                    ).then(function(){\n",
       "                            \n",
       "var gd = document.getElementById('270bf6dd-7980-4b9b-b532-dbcb1fbe9ae4');\n",
       "var x = new MutationObserver(function (mutations, observer) {{\n",
       "        var display = window.getComputedStyle(gd).display;\n",
       "        if (!display || display === 'none') {{\n",
       "            console.log([gd, 'removed!']);\n",
       "            Plotly.purge(gd);\n",
       "            observer.disconnect();\n",
       "        }}\n",
       "}});\n",
       "\n",
       "// Listen for the removal of the full notebook cells\n",
       "var notebookContainer = gd.closest('#notebook-container');\n",
       "if (notebookContainer) {{\n",
       "    x.observe(notebookContainer, {childList: true});\n",
       "}}\n",
       "\n",
       "// Listen for the clearing of the current output cell\n",
       "var outputEl = gd.closest('.output');\n",
       "if (outputEl) {{\n",
       "    x.observe(outputEl, {childList: true});\n",
       "}}\n",
       "\n",
       "                        })\n",
       "                };\n",
       "                });\n",
       "            </script>\n",
       "        </div>"
      ]
     },
     "metadata": {},
     "output_type": "display_data"
    }
   ],
   "source": [
    "fig = px.scatter_geo(Origin,locations=\"Citizenship\",locationmode = 'country names',color=\"Player\",size='Player')\n",
    "fig.show()"
   ]
  },
  {
   "cell_type": "markdown",
   "metadata": {},
   "source": [
    "#### Polish Players"
   ]
  },
  {
   "cell_type": "code",
   "execution_count": 18,
   "metadata": {},
   "outputs": [
    {
     "data": {
      "text/html": [
       "<div>\n",
       "<style scoped>\n",
       "    .dataframe tbody tr th:only-of-type {\n",
       "        vertical-align: middle;\n",
       "    }\n",
       "\n",
       "    .dataframe tbody tr th {\n",
       "        vertical-align: top;\n",
       "    }\n",
       "\n",
       "    .dataframe thead th {\n",
       "        text-align: right;\n",
       "    }\n",
       "</style>\n",
       "<table border=\"1\" class=\"dataframe\">\n",
       "  <thead>\n",
       "    <tr style=\"text-align: right;\">\n",
       "      <th></th>\n",
       "      <th>Player</th>\n",
       "      <th>Value</th>\n",
       "      <th>Age</th>\n",
       "      <th>Position</th>\n",
       "      <th>Number</th>\n",
       "      <th>Club</th>\n",
       "      <th>Citizenship</th>\n",
       "    </tr>\n",
       "  </thead>\n",
       "  <tbody>\n",
       "    <tr>\n",
       "      <th>25</th>\n",
       "      <td>Piotr Zielinski</td>\n",
       "      <td>36.00</td>\n",
       "      <td>25</td>\n",
       "      <td>Central Midfield</td>\n",
       "      <td>20</td>\n",
       "      <td>ssc-napoli</td>\n",
       "      <td>Poland</td>\n",
       "    </tr>\n",
       "    <tr>\n",
       "      <th>26</th>\n",
       "      <td>Arkadiusz Milik</td>\n",
       "      <td>36.00</td>\n",
       "      <td>25</td>\n",
       "      <td>Centre-Forward</td>\n",
       "      <td>99</td>\n",
       "      <td>ssc-napoli</td>\n",
       "      <td>Poland</td>\n",
       "    </tr>\n",
       "    <tr>\n",
       "      <th>30</th>\n",
       "      <td>Wojciech Szczesny</td>\n",
       "      <td>36.00</td>\n",
       "      <td>29</td>\n",
       "      <td>Goalkeeper</td>\n",
       "      <td>1</td>\n",
       "      <td>juventus-turin</td>\n",
       "      <td>Poland</td>\n",
       "    </tr>\n",
       "    <tr>\n",
       "      <th>39</th>\n",
       "      <td>Krzysztof Piatek</td>\n",
       "      <td>28.80</td>\n",
       "      <td>24</td>\n",
       "      <td>Centre-Forward</td>\n",
       "      <td>9</td>\n",
       "      <td>ac-milan</td>\n",
       "      <td>Poland</td>\n",
       "    </tr>\n",
       "    <tr>\n",
       "      <th>137</th>\n",
       "      <td>Bartlomiej Dragowski</td>\n",
       "      <td>12.60</td>\n",
       "      <td>22</td>\n",
       "      <td>Goalkeeper</td>\n",
       "      <td>69</td>\n",
       "      <td>ac-florentina</td>\n",
       "      <td>Poland</td>\n",
       "    </tr>\n",
       "    <tr>\n",
       "      <th>139</th>\n",
       "      <td>Karol Linetty</td>\n",
       "      <td>12.60</td>\n",
       "      <td>24</td>\n",
       "      <td>Central Midfield</td>\n",
       "      <td>7</td>\n",
       "      <td>uc-sampdoria</td>\n",
       "      <td>Poland</td>\n",
       "    </tr>\n",
       "    <tr>\n",
       "      <th>191</th>\n",
       "      <td>Bartosz Bereszynski</td>\n",
       "      <td>7.20</td>\n",
       "      <td>27</td>\n",
       "      <td>Right-Back</td>\n",
       "      <td>24</td>\n",
       "      <td>uc-sampdoria</td>\n",
       "      <td>Poland</td>\n",
       "    </tr>\n",
       "    <tr>\n",
       "      <th>210</th>\n",
       "      <td>Lukasz Skorupski</td>\n",
       "      <td>6.30</td>\n",
       "      <td>28</td>\n",
       "      <td>Goalkeeper</td>\n",
       "      <td>28</td>\n",
       "      <td>fc-bologna</td>\n",
       "      <td>Poland</td>\n",
       "    </tr>\n",
       "    <tr>\n",
       "      <th>275</th>\n",
       "      <td>Sebastian Walukiewicz</td>\n",
       "      <td>3.60</td>\n",
       "      <td>19</td>\n",
       "      <td>Centre-Back</td>\n",
       "      <td>40</td>\n",
       "      <td>cagliari-calcio</td>\n",
       "      <td>Poland</td>\n",
       "    </tr>\n",
       "    <tr>\n",
       "      <th>295</th>\n",
       "      <td>Szymon Zurkowski</td>\n",
       "      <td>3.42</td>\n",
       "      <td>22</td>\n",
       "      <td>Central Midfield</td>\n",
       "      <td>27</td>\n",
       "      <td>ac-florentina</td>\n",
       "      <td>Poland</td>\n",
       "    </tr>\n",
       "    <tr>\n",
       "      <th>296</th>\n",
       "      <td>Mariusz Stepinski</td>\n",
       "      <td>3.42</td>\n",
       "      <td>24</td>\n",
       "      <td>Centre-Forward</td>\n",
       "      <td>9</td>\n",
       "      <td>hellas-verona</td>\n",
       "      <td>Poland</td>\n",
       "    </tr>\n",
       "    <tr>\n",
       "      <th>326</th>\n",
       "      <td>Arkadiusz Reca</td>\n",
       "      <td>2.70</td>\n",
       "      <td>24</td>\n",
       "      <td>Left-Back</td>\n",
       "      <td>13</td>\n",
       "      <td>spal</td>\n",
       "      <td>Poland</td>\n",
       "    </tr>\n",
       "    <tr>\n",
       "      <th>355</th>\n",
       "      <td>Lukasz Teodorczyk</td>\n",
       "      <td>1.98</td>\n",
       "      <td>28</td>\n",
       "      <td>Centre-Forward</td>\n",
       "      <td>91</td>\n",
       "      <td>udinese-calcio</td>\n",
       "      <td>Poland</td>\n",
       "    </tr>\n",
       "    <tr>\n",
       "      <th>369</th>\n",
       "      <td>Pawel Dawidowicz</td>\n",
       "      <td>1.80</td>\n",
       "      <td>24</td>\n",
       "      <td>Centre-Back</td>\n",
       "      <td>27</td>\n",
       "      <td>hellas-verona</td>\n",
       "      <td>Poland</td>\n",
       "    </tr>\n",
       "    <tr>\n",
       "      <th>385</th>\n",
       "      <td>Filip Jagiello</td>\n",
       "      <td>1.35</td>\n",
       "      <td>22</td>\n",
       "      <td>Central Midfield</td>\n",
       "      <td>15</td>\n",
       "      <td>genoa</td>\n",
       "      <td>Poland</td>\n",
       "    </tr>\n",
       "    <tr>\n",
       "      <th>461</th>\n",
       "      <td>Thiago Cionek</td>\n",
       "      <td>0.54</td>\n",
       "      <td>33</td>\n",
       "      <td>Centre-Back</td>\n",
       "      <td>4</td>\n",
       "      <td>spal</td>\n",
       "      <td>Poland</td>\n",
       "    </tr>\n",
       "    <tr>\n",
       "      <th>463</th>\n",
       "      <td>Bartosz Salamon</td>\n",
       "      <td>0.45</td>\n",
       "      <td>28</td>\n",
       "      <td>Centre-Back</td>\n",
       "      <td>66</td>\n",
       "      <td>spal</td>\n",
       "      <td>Poland</td>\n",
       "    </tr>\n",
       "  </tbody>\n",
       "</table>\n",
       "</div>"
      ],
      "text/plain": [
       "                    Player  Value  Age          Position Number  \\\n",
       "25         Piotr Zielinski  36.00   25  Central Midfield     20   \n",
       "26         Arkadiusz Milik  36.00   25    Centre-Forward     99   \n",
       "30       Wojciech Szczesny  36.00   29        Goalkeeper      1   \n",
       "39        Krzysztof Piatek  28.80   24    Centre-Forward      9   \n",
       "137   Bartlomiej Dragowski  12.60   22        Goalkeeper     69   \n",
       "139          Karol Linetty  12.60   24  Central Midfield      7   \n",
       "191    Bartosz Bereszynski   7.20   27        Right-Back     24   \n",
       "210       Lukasz Skorupski   6.30   28        Goalkeeper     28   \n",
       "275  Sebastian Walukiewicz   3.60   19       Centre-Back     40   \n",
       "295       Szymon Zurkowski   3.42   22  Central Midfield     27   \n",
       "296      Mariusz Stepinski   3.42   24    Centre-Forward      9   \n",
       "326         Arkadiusz Reca   2.70   24         Left-Back     13   \n",
       "355      Lukasz Teodorczyk   1.98   28    Centre-Forward     91   \n",
       "369       Pawel Dawidowicz   1.80   24       Centre-Back     27   \n",
       "385         Filip Jagiello   1.35   22  Central Midfield     15   \n",
       "461          Thiago Cionek   0.54   33       Centre-Back      4   \n",
       "463        Bartosz Salamon   0.45   28       Centre-Back     66   \n",
       "\n",
       "                Club Citizenship  \n",
       "25        ssc-napoli      Poland  \n",
       "26        ssc-napoli      Poland  \n",
       "30    juventus-turin      Poland  \n",
       "39          ac-milan      Poland  \n",
       "137    ac-florentina      Poland  \n",
       "139     uc-sampdoria      Poland  \n",
       "191     uc-sampdoria      Poland  \n",
       "210       fc-bologna      Poland  \n",
       "275  cagliari-calcio      Poland  \n",
       "295    ac-florentina      Poland  \n",
       "296    hellas-verona      Poland  \n",
       "326             spal      Poland  \n",
       "355   udinese-calcio      Poland  \n",
       "369    hellas-verona      Poland  \n",
       "385            genoa      Poland  \n",
       "461             spal      Poland  \n",
       "463             spal      Poland  "
      ]
     },
     "execution_count": 18,
     "metadata": {},
     "output_type": "execute_result"
    }
   ],
   "source": [
    "SerieA[SerieA.Citizenship=='Poland']"
   ]
  },
  {
   "cell_type": "markdown",
   "metadata": {},
   "source": [
    "#### Players Age Distribution"
   ]
  },
  {
   "cell_type": "code",
   "execution_count": 20,
   "metadata": {},
   "outputs": [
    {
     "data": {
      "text/plain": [
       "count    536.000000\n",
       "mean      26.486940\n",
       "std        4.529015\n",
       "min       17.000000\n",
       "25%       23.000000\n",
       "50%       26.000000\n",
       "75%       29.000000\n",
       "max       41.000000\n",
       "Name: Age, dtype: float64"
      ]
     },
     "execution_count": 20,
     "metadata": {},
     "output_type": "execute_result"
    }
   ],
   "source": [
    "SerieA.Age.describe()"
   ]
  },
  {
   "cell_type": "code",
   "execution_count": 90,
   "metadata": {},
   "outputs": [
    {
     "data": {
      "application/vnd.plotly.v1+json": {
       "config": {
        "plotlyServerURL": "https://plot.ly"
       },
       "data": [
        {
         "alignmentgroup": "True",
         "hoverlabel": {
          "namelength": 0
         },
         "hovertemplate": "Age=%{x}<br>Player=%{y}",
         "legendgroup": "",
         "marker": {
          "color": "#636efa"
         },
         "name": "",
         "offsetgroup": "",
         "orientation": "v",
         "showlegend": false,
         "textposition": "auto",
         "type": "bar",
         "x": [
          17,
          18,
          19,
          20,
          21,
          22,
          23,
          24,
          25,
          26,
          27,
          28,
          29,
          30,
          31,
          32,
          33,
          34,
          35,
          36,
          37,
          38,
          41
         ],
         "xaxis": "x",
         "y": [
          3,
          4,
          16,
          24,
          22,
          50,
          37,
          41,
          40,
          45,
          40,
          48,
          34,
          21,
          26,
          26,
          22,
          9,
          10,
          11,
          2,
          4,
          1
         ],
         "yaxis": "y"
        }
       ],
       "layout": {
        "barmode": "relative",
        "legend": {
         "tracegroupgap": 0
        },
        "margin": {
         "t": 60
        },
        "template": {
         "data": {
          "bar": [
           {
            "error_x": {
             "color": "#2a3f5f"
            },
            "error_y": {
             "color": "#2a3f5f"
            },
            "marker": {
             "line": {
              "color": "#E5ECF6",
              "width": 0.5
             }
            },
            "type": "bar"
           }
          ],
          "barpolar": [
           {
            "marker": {
             "line": {
              "color": "#E5ECF6",
              "width": 0.5
             }
            },
            "type": "barpolar"
           }
          ],
          "carpet": [
           {
            "aaxis": {
             "endlinecolor": "#2a3f5f",
             "gridcolor": "white",
             "linecolor": "white",
             "minorgridcolor": "white",
             "startlinecolor": "#2a3f5f"
            },
            "baxis": {
             "endlinecolor": "#2a3f5f",
             "gridcolor": "white",
             "linecolor": "white",
             "minorgridcolor": "white",
             "startlinecolor": "#2a3f5f"
            },
            "type": "carpet"
           }
          ],
          "choropleth": [
           {
            "colorbar": {
             "outlinewidth": 0,
             "ticks": ""
            },
            "type": "choropleth"
           }
          ],
          "contour": [
           {
            "colorbar": {
             "outlinewidth": 0,
             "ticks": ""
            },
            "colorscale": [
             [
              0,
              "#0d0887"
             ],
             [
              0.1111111111111111,
              "#46039f"
             ],
             [
              0.2222222222222222,
              "#7201a8"
             ],
             [
              0.3333333333333333,
              "#9c179e"
             ],
             [
              0.4444444444444444,
              "#bd3786"
             ],
             [
              0.5555555555555556,
              "#d8576b"
             ],
             [
              0.6666666666666666,
              "#ed7953"
             ],
             [
              0.7777777777777778,
              "#fb9f3a"
             ],
             [
              0.8888888888888888,
              "#fdca26"
             ],
             [
              1,
              "#f0f921"
             ]
            ],
            "type": "contour"
           }
          ],
          "contourcarpet": [
           {
            "colorbar": {
             "outlinewidth": 0,
             "ticks": ""
            },
            "type": "contourcarpet"
           }
          ],
          "heatmap": [
           {
            "colorbar": {
             "outlinewidth": 0,
             "ticks": ""
            },
            "colorscale": [
             [
              0,
              "#0d0887"
             ],
             [
              0.1111111111111111,
              "#46039f"
             ],
             [
              0.2222222222222222,
              "#7201a8"
             ],
             [
              0.3333333333333333,
              "#9c179e"
             ],
             [
              0.4444444444444444,
              "#bd3786"
             ],
             [
              0.5555555555555556,
              "#d8576b"
             ],
             [
              0.6666666666666666,
              "#ed7953"
             ],
             [
              0.7777777777777778,
              "#fb9f3a"
             ],
             [
              0.8888888888888888,
              "#fdca26"
             ],
             [
              1,
              "#f0f921"
             ]
            ],
            "type": "heatmap"
           }
          ],
          "heatmapgl": [
           {
            "colorbar": {
             "outlinewidth": 0,
             "ticks": ""
            },
            "colorscale": [
             [
              0,
              "#0d0887"
             ],
             [
              0.1111111111111111,
              "#46039f"
             ],
             [
              0.2222222222222222,
              "#7201a8"
             ],
             [
              0.3333333333333333,
              "#9c179e"
             ],
             [
              0.4444444444444444,
              "#bd3786"
             ],
             [
              0.5555555555555556,
              "#d8576b"
             ],
             [
              0.6666666666666666,
              "#ed7953"
             ],
             [
              0.7777777777777778,
              "#fb9f3a"
             ],
             [
              0.8888888888888888,
              "#fdca26"
             ],
             [
              1,
              "#f0f921"
             ]
            ],
            "type": "heatmapgl"
           }
          ],
          "histogram": [
           {
            "marker": {
             "colorbar": {
              "outlinewidth": 0,
              "ticks": ""
             }
            },
            "type": "histogram"
           }
          ],
          "histogram2d": [
           {
            "colorbar": {
             "outlinewidth": 0,
             "ticks": ""
            },
            "colorscale": [
             [
              0,
              "#0d0887"
             ],
             [
              0.1111111111111111,
              "#46039f"
             ],
             [
              0.2222222222222222,
              "#7201a8"
             ],
             [
              0.3333333333333333,
              "#9c179e"
             ],
             [
              0.4444444444444444,
              "#bd3786"
             ],
             [
              0.5555555555555556,
              "#d8576b"
             ],
             [
              0.6666666666666666,
              "#ed7953"
             ],
             [
              0.7777777777777778,
              "#fb9f3a"
             ],
             [
              0.8888888888888888,
              "#fdca26"
             ],
             [
              1,
              "#f0f921"
             ]
            ],
            "type": "histogram2d"
           }
          ],
          "histogram2dcontour": [
           {
            "colorbar": {
             "outlinewidth": 0,
             "ticks": ""
            },
            "colorscale": [
             [
              0,
              "#0d0887"
             ],
             [
              0.1111111111111111,
              "#46039f"
             ],
             [
              0.2222222222222222,
              "#7201a8"
             ],
             [
              0.3333333333333333,
              "#9c179e"
             ],
             [
              0.4444444444444444,
              "#bd3786"
             ],
             [
              0.5555555555555556,
              "#d8576b"
             ],
             [
              0.6666666666666666,
              "#ed7953"
             ],
             [
              0.7777777777777778,
              "#fb9f3a"
             ],
             [
              0.8888888888888888,
              "#fdca26"
             ],
             [
              1,
              "#f0f921"
             ]
            ],
            "type": "histogram2dcontour"
           }
          ],
          "mesh3d": [
           {
            "colorbar": {
             "outlinewidth": 0,
             "ticks": ""
            },
            "type": "mesh3d"
           }
          ],
          "parcoords": [
           {
            "line": {
             "colorbar": {
              "outlinewidth": 0,
              "ticks": ""
             }
            },
            "type": "parcoords"
           }
          ],
          "pie": [
           {
            "automargin": true,
            "type": "pie"
           }
          ],
          "scatter": [
           {
            "marker": {
             "colorbar": {
              "outlinewidth": 0,
              "ticks": ""
             }
            },
            "type": "scatter"
           }
          ],
          "scatter3d": [
           {
            "line": {
             "colorbar": {
              "outlinewidth": 0,
              "ticks": ""
             }
            },
            "marker": {
             "colorbar": {
              "outlinewidth": 0,
              "ticks": ""
             }
            },
            "type": "scatter3d"
           }
          ],
          "scattercarpet": [
           {
            "marker": {
             "colorbar": {
              "outlinewidth": 0,
              "ticks": ""
             }
            },
            "type": "scattercarpet"
           }
          ],
          "scattergeo": [
           {
            "marker": {
             "colorbar": {
              "outlinewidth": 0,
              "ticks": ""
             }
            },
            "type": "scattergeo"
           }
          ],
          "scattergl": [
           {
            "marker": {
             "colorbar": {
              "outlinewidth": 0,
              "ticks": ""
             }
            },
            "type": "scattergl"
           }
          ],
          "scattermapbox": [
           {
            "marker": {
             "colorbar": {
              "outlinewidth": 0,
              "ticks": ""
             }
            },
            "type": "scattermapbox"
           }
          ],
          "scatterpolar": [
           {
            "marker": {
             "colorbar": {
              "outlinewidth": 0,
              "ticks": ""
             }
            },
            "type": "scatterpolar"
           }
          ],
          "scatterpolargl": [
           {
            "marker": {
             "colorbar": {
              "outlinewidth": 0,
              "ticks": ""
             }
            },
            "type": "scatterpolargl"
           }
          ],
          "scatterternary": [
           {
            "marker": {
             "colorbar": {
              "outlinewidth": 0,
              "ticks": ""
             }
            },
            "type": "scatterternary"
           }
          ],
          "surface": [
           {
            "colorbar": {
             "outlinewidth": 0,
             "ticks": ""
            },
            "colorscale": [
             [
              0,
              "#0d0887"
             ],
             [
              0.1111111111111111,
              "#46039f"
             ],
             [
              0.2222222222222222,
              "#7201a8"
             ],
             [
              0.3333333333333333,
              "#9c179e"
             ],
             [
              0.4444444444444444,
              "#bd3786"
             ],
             [
              0.5555555555555556,
              "#d8576b"
             ],
             [
              0.6666666666666666,
              "#ed7953"
             ],
             [
              0.7777777777777778,
              "#fb9f3a"
             ],
             [
              0.8888888888888888,
              "#fdca26"
             ],
             [
              1,
              "#f0f921"
             ]
            ],
            "type": "surface"
           }
          ],
          "table": [
           {
            "cells": {
             "fill": {
              "color": "#EBF0F8"
             },
             "line": {
              "color": "white"
             }
            },
            "header": {
             "fill": {
              "color": "#C8D4E3"
             },
             "line": {
              "color": "white"
             }
            },
            "type": "table"
           }
          ]
         },
         "layout": {
          "annotationdefaults": {
           "arrowcolor": "#2a3f5f",
           "arrowhead": 0,
           "arrowwidth": 1
          },
          "coloraxis": {
           "colorbar": {
            "outlinewidth": 0,
            "ticks": ""
           }
          },
          "colorscale": {
           "diverging": [
            [
             0,
             "#8e0152"
            ],
            [
             0.1,
             "#c51b7d"
            ],
            [
             0.2,
             "#de77ae"
            ],
            [
             0.3,
             "#f1b6da"
            ],
            [
             0.4,
             "#fde0ef"
            ],
            [
             0.5,
             "#f7f7f7"
            ],
            [
             0.6,
             "#e6f5d0"
            ],
            [
             0.7,
             "#b8e186"
            ],
            [
             0.8,
             "#7fbc41"
            ],
            [
             0.9,
             "#4d9221"
            ],
            [
             1,
             "#276419"
            ]
           ],
           "sequential": [
            [
             0,
             "#0d0887"
            ],
            [
             0.1111111111111111,
             "#46039f"
            ],
            [
             0.2222222222222222,
             "#7201a8"
            ],
            [
             0.3333333333333333,
             "#9c179e"
            ],
            [
             0.4444444444444444,
             "#bd3786"
            ],
            [
             0.5555555555555556,
             "#d8576b"
            ],
            [
             0.6666666666666666,
             "#ed7953"
            ],
            [
             0.7777777777777778,
             "#fb9f3a"
            ],
            [
             0.8888888888888888,
             "#fdca26"
            ],
            [
             1,
             "#f0f921"
            ]
           ],
           "sequentialminus": [
            [
             0,
             "#0d0887"
            ],
            [
             0.1111111111111111,
             "#46039f"
            ],
            [
             0.2222222222222222,
             "#7201a8"
            ],
            [
             0.3333333333333333,
             "#9c179e"
            ],
            [
             0.4444444444444444,
             "#bd3786"
            ],
            [
             0.5555555555555556,
             "#d8576b"
            ],
            [
             0.6666666666666666,
             "#ed7953"
            ],
            [
             0.7777777777777778,
             "#fb9f3a"
            ],
            [
             0.8888888888888888,
             "#fdca26"
            ],
            [
             1,
             "#f0f921"
            ]
           ]
          },
          "colorway": [
           "#636efa",
           "#EF553B",
           "#00cc96",
           "#ab63fa",
           "#FFA15A",
           "#19d3f3",
           "#FF6692",
           "#B6E880",
           "#FF97FF",
           "#FECB52"
          ],
          "font": {
           "color": "#2a3f5f"
          },
          "geo": {
           "bgcolor": "white",
           "lakecolor": "white",
           "landcolor": "#E5ECF6",
           "showlakes": true,
           "showland": true,
           "subunitcolor": "white"
          },
          "hoverlabel": {
           "align": "left"
          },
          "hovermode": "closest",
          "mapbox": {
           "style": "light"
          },
          "paper_bgcolor": "white",
          "plot_bgcolor": "#E5ECF6",
          "polar": {
           "angularaxis": {
            "gridcolor": "white",
            "linecolor": "white",
            "ticks": ""
           },
           "bgcolor": "#E5ECF6",
           "radialaxis": {
            "gridcolor": "white",
            "linecolor": "white",
            "ticks": ""
           }
          },
          "scene": {
           "xaxis": {
            "backgroundcolor": "#E5ECF6",
            "gridcolor": "white",
            "gridwidth": 2,
            "linecolor": "white",
            "showbackground": true,
            "ticks": "",
            "zerolinecolor": "white"
           },
           "yaxis": {
            "backgroundcolor": "#E5ECF6",
            "gridcolor": "white",
            "gridwidth": 2,
            "linecolor": "white",
            "showbackground": true,
            "ticks": "",
            "zerolinecolor": "white"
           },
           "zaxis": {
            "backgroundcolor": "#E5ECF6",
            "gridcolor": "white",
            "gridwidth": 2,
            "linecolor": "white",
            "showbackground": true,
            "ticks": "",
            "zerolinecolor": "white"
           }
          },
          "shapedefaults": {
           "line": {
            "color": "#2a3f5f"
           }
          },
          "ternary": {
           "aaxis": {
            "gridcolor": "white",
            "linecolor": "white",
            "ticks": ""
           },
           "baxis": {
            "gridcolor": "white",
            "linecolor": "white",
            "ticks": ""
           },
           "bgcolor": "#E5ECF6",
           "caxis": {
            "gridcolor": "white",
            "linecolor": "white",
            "ticks": ""
           }
          },
          "title": {
           "x": 0.05
          },
          "xaxis": {
           "automargin": true,
           "gridcolor": "white",
           "linecolor": "white",
           "ticks": "",
           "title": {
            "standoff": 15
           },
           "zerolinecolor": "white",
           "zerolinewidth": 2
          },
          "yaxis": {
           "automargin": true,
           "gridcolor": "white",
           "linecolor": "white",
           "ticks": "",
           "title": {
            "standoff": 15
           },
           "zerolinecolor": "white",
           "zerolinewidth": 2
          }
         }
        },
        "title": {
         "text": "Player Age Distribution",
         "x": 0.5,
         "xanchor": "center",
         "yanchor": "top"
        },
        "xaxis": {
         "anchor": "y",
         "domain": [
          0,
          1
         ],
         "title": {
          "text": "Age"
         }
        },
        "yaxis": {
         "anchor": "x",
         "domain": [
          0,
          1
         ],
         "title": {
          "text": "Count"
         }
        }
       }
      },
      "text/html": [
       "<div>\n",
       "        \n",
       "        \n",
       "            <div id=\"18b2ec04-1104-4e90-88b5-d0e386f4b5c1\" class=\"plotly-graph-div\" style=\"height:525px; width:100%;\"></div>\n",
       "            <script type=\"text/javascript\">\n",
       "                require([\"plotly\"], function(Plotly) {\n",
       "                    window.PLOTLYENV=window.PLOTLYENV || {};\n",
       "                    \n",
       "                if (document.getElementById(\"18b2ec04-1104-4e90-88b5-d0e386f4b5c1\")) {\n",
       "                    Plotly.newPlot(\n",
       "                        '18b2ec04-1104-4e90-88b5-d0e386f4b5c1',\n",
       "                        [{\"alignmentgroup\": \"True\", \"hoverlabel\": {\"namelength\": 0}, \"hovertemplate\": \"Age=%{x}<br>Player=%{y}\", \"legendgroup\": \"\", \"marker\": {\"color\": \"#636efa\"}, \"name\": \"\", \"offsetgroup\": \"\", \"orientation\": \"v\", \"showlegend\": false, \"textposition\": \"auto\", \"type\": \"bar\", \"x\": [17, 18, 19, 20, 21, 22, 23, 24, 25, 26, 27, 28, 29, 30, 31, 32, 33, 34, 35, 36, 37, 38, 41], \"xaxis\": \"x\", \"y\": [3, 4, 16, 24, 22, 50, 37, 41, 40, 45, 40, 48, 34, 21, 26, 26, 22, 9, 10, 11, 2, 4, 1], \"yaxis\": \"y\"}],\n",
       "                        {\"barmode\": \"relative\", \"legend\": {\"tracegroupgap\": 0}, \"margin\": {\"t\": 60}, \"template\": {\"data\": {\"bar\": [{\"error_x\": {\"color\": \"#2a3f5f\"}, \"error_y\": {\"color\": \"#2a3f5f\"}, \"marker\": {\"line\": {\"color\": \"#E5ECF6\", \"width\": 0.5}}, \"type\": \"bar\"}], \"barpolar\": [{\"marker\": {\"line\": {\"color\": \"#E5ECF6\", \"width\": 0.5}}, \"type\": \"barpolar\"}], \"carpet\": [{\"aaxis\": {\"endlinecolor\": \"#2a3f5f\", \"gridcolor\": \"white\", \"linecolor\": \"white\", \"minorgridcolor\": \"white\", \"startlinecolor\": \"#2a3f5f\"}, \"baxis\": {\"endlinecolor\": \"#2a3f5f\", \"gridcolor\": \"white\", \"linecolor\": \"white\", \"minorgridcolor\": \"white\", \"startlinecolor\": \"#2a3f5f\"}, \"type\": \"carpet\"}], \"choropleth\": [{\"colorbar\": {\"outlinewidth\": 0, \"ticks\": \"\"}, \"type\": \"choropleth\"}], \"contour\": [{\"colorbar\": {\"outlinewidth\": 0, \"ticks\": \"\"}, \"colorscale\": [[0.0, \"#0d0887\"], [0.1111111111111111, \"#46039f\"], [0.2222222222222222, \"#7201a8\"], [0.3333333333333333, \"#9c179e\"], [0.4444444444444444, \"#bd3786\"], [0.5555555555555556, \"#d8576b\"], [0.6666666666666666, \"#ed7953\"], [0.7777777777777778, \"#fb9f3a\"], [0.8888888888888888, \"#fdca26\"], [1.0, \"#f0f921\"]], \"type\": \"contour\"}], \"contourcarpet\": [{\"colorbar\": {\"outlinewidth\": 0, \"ticks\": \"\"}, \"type\": \"contourcarpet\"}], \"heatmap\": [{\"colorbar\": {\"outlinewidth\": 0, \"ticks\": \"\"}, \"colorscale\": [[0.0, \"#0d0887\"], [0.1111111111111111, \"#46039f\"], [0.2222222222222222, \"#7201a8\"], [0.3333333333333333, \"#9c179e\"], [0.4444444444444444, \"#bd3786\"], [0.5555555555555556, \"#d8576b\"], [0.6666666666666666, \"#ed7953\"], [0.7777777777777778, \"#fb9f3a\"], [0.8888888888888888, \"#fdca26\"], [1.0, \"#f0f921\"]], \"type\": \"heatmap\"}], \"heatmapgl\": [{\"colorbar\": {\"outlinewidth\": 0, \"ticks\": \"\"}, \"colorscale\": [[0.0, \"#0d0887\"], [0.1111111111111111, \"#46039f\"], [0.2222222222222222, \"#7201a8\"], [0.3333333333333333, \"#9c179e\"], [0.4444444444444444, \"#bd3786\"], [0.5555555555555556, \"#d8576b\"], [0.6666666666666666, \"#ed7953\"], [0.7777777777777778, \"#fb9f3a\"], [0.8888888888888888, \"#fdca26\"], [1.0, \"#f0f921\"]], \"type\": \"heatmapgl\"}], \"histogram\": [{\"marker\": {\"colorbar\": {\"outlinewidth\": 0, \"ticks\": \"\"}}, \"type\": \"histogram\"}], \"histogram2d\": [{\"colorbar\": {\"outlinewidth\": 0, \"ticks\": \"\"}, \"colorscale\": [[0.0, \"#0d0887\"], [0.1111111111111111, \"#46039f\"], [0.2222222222222222, \"#7201a8\"], [0.3333333333333333, \"#9c179e\"], [0.4444444444444444, \"#bd3786\"], [0.5555555555555556, \"#d8576b\"], [0.6666666666666666, \"#ed7953\"], [0.7777777777777778, \"#fb9f3a\"], [0.8888888888888888, \"#fdca26\"], [1.0, \"#f0f921\"]], \"type\": \"histogram2d\"}], \"histogram2dcontour\": [{\"colorbar\": {\"outlinewidth\": 0, \"ticks\": \"\"}, \"colorscale\": [[0.0, \"#0d0887\"], [0.1111111111111111, \"#46039f\"], [0.2222222222222222, \"#7201a8\"], [0.3333333333333333, \"#9c179e\"], [0.4444444444444444, \"#bd3786\"], [0.5555555555555556, \"#d8576b\"], [0.6666666666666666, \"#ed7953\"], [0.7777777777777778, \"#fb9f3a\"], [0.8888888888888888, \"#fdca26\"], [1.0, \"#f0f921\"]], \"type\": \"histogram2dcontour\"}], \"mesh3d\": [{\"colorbar\": {\"outlinewidth\": 0, \"ticks\": \"\"}, \"type\": \"mesh3d\"}], \"parcoords\": [{\"line\": {\"colorbar\": {\"outlinewidth\": 0, \"ticks\": \"\"}}, \"type\": \"parcoords\"}], \"pie\": [{\"automargin\": true, \"type\": \"pie\"}], \"scatter\": [{\"marker\": {\"colorbar\": {\"outlinewidth\": 0, \"ticks\": \"\"}}, \"type\": \"scatter\"}], \"scatter3d\": [{\"line\": {\"colorbar\": {\"outlinewidth\": 0, \"ticks\": \"\"}}, \"marker\": {\"colorbar\": {\"outlinewidth\": 0, \"ticks\": \"\"}}, \"type\": \"scatter3d\"}], \"scattercarpet\": [{\"marker\": {\"colorbar\": {\"outlinewidth\": 0, \"ticks\": \"\"}}, \"type\": \"scattercarpet\"}], \"scattergeo\": [{\"marker\": {\"colorbar\": {\"outlinewidth\": 0, \"ticks\": \"\"}}, \"type\": \"scattergeo\"}], \"scattergl\": [{\"marker\": {\"colorbar\": {\"outlinewidth\": 0, \"ticks\": \"\"}}, \"type\": \"scattergl\"}], \"scattermapbox\": [{\"marker\": {\"colorbar\": {\"outlinewidth\": 0, \"ticks\": \"\"}}, \"type\": \"scattermapbox\"}], \"scatterpolar\": [{\"marker\": {\"colorbar\": {\"outlinewidth\": 0, \"ticks\": \"\"}}, \"type\": \"scatterpolar\"}], \"scatterpolargl\": [{\"marker\": {\"colorbar\": {\"outlinewidth\": 0, \"ticks\": \"\"}}, \"type\": \"scatterpolargl\"}], \"scatterternary\": [{\"marker\": {\"colorbar\": {\"outlinewidth\": 0, \"ticks\": \"\"}}, \"type\": \"scatterternary\"}], \"surface\": [{\"colorbar\": {\"outlinewidth\": 0, \"ticks\": \"\"}, \"colorscale\": [[0.0, \"#0d0887\"], [0.1111111111111111, \"#46039f\"], [0.2222222222222222, \"#7201a8\"], [0.3333333333333333, \"#9c179e\"], [0.4444444444444444, \"#bd3786\"], [0.5555555555555556, \"#d8576b\"], [0.6666666666666666, \"#ed7953\"], [0.7777777777777778, \"#fb9f3a\"], [0.8888888888888888, \"#fdca26\"], [1.0, \"#f0f921\"]], \"type\": \"surface\"}], \"table\": [{\"cells\": {\"fill\": {\"color\": \"#EBF0F8\"}, \"line\": {\"color\": \"white\"}}, \"header\": {\"fill\": {\"color\": \"#C8D4E3\"}, \"line\": {\"color\": \"white\"}}, \"type\": \"table\"}]}, \"layout\": {\"annotationdefaults\": {\"arrowcolor\": \"#2a3f5f\", \"arrowhead\": 0, \"arrowwidth\": 1}, \"coloraxis\": {\"colorbar\": {\"outlinewidth\": 0, \"ticks\": \"\"}}, \"colorscale\": {\"diverging\": [[0, \"#8e0152\"], [0.1, \"#c51b7d\"], [0.2, \"#de77ae\"], [0.3, \"#f1b6da\"], [0.4, \"#fde0ef\"], [0.5, \"#f7f7f7\"], [0.6, \"#e6f5d0\"], [0.7, \"#b8e186\"], [0.8, \"#7fbc41\"], [0.9, \"#4d9221\"], [1, \"#276419\"]], \"sequential\": [[0.0, \"#0d0887\"], [0.1111111111111111, \"#46039f\"], [0.2222222222222222, \"#7201a8\"], [0.3333333333333333, \"#9c179e\"], [0.4444444444444444, \"#bd3786\"], [0.5555555555555556, \"#d8576b\"], [0.6666666666666666, \"#ed7953\"], [0.7777777777777778, \"#fb9f3a\"], [0.8888888888888888, \"#fdca26\"], [1.0, \"#f0f921\"]], \"sequentialminus\": [[0.0, \"#0d0887\"], [0.1111111111111111, \"#46039f\"], [0.2222222222222222, \"#7201a8\"], [0.3333333333333333, \"#9c179e\"], [0.4444444444444444, \"#bd3786\"], [0.5555555555555556, \"#d8576b\"], [0.6666666666666666, \"#ed7953\"], [0.7777777777777778, \"#fb9f3a\"], [0.8888888888888888, \"#fdca26\"], [1.0, \"#f0f921\"]]}, \"colorway\": [\"#636efa\", \"#EF553B\", \"#00cc96\", \"#ab63fa\", \"#FFA15A\", \"#19d3f3\", \"#FF6692\", \"#B6E880\", \"#FF97FF\", \"#FECB52\"], \"font\": {\"color\": \"#2a3f5f\"}, \"geo\": {\"bgcolor\": \"white\", \"lakecolor\": \"white\", \"landcolor\": \"#E5ECF6\", \"showlakes\": true, \"showland\": true, \"subunitcolor\": \"white\"}, \"hoverlabel\": {\"align\": \"left\"}, \"hovermode\": \"closest\", \"mapbox\": {\"style\": \"light\"}, \"paper_bgcolor\": \"white\", \"plot_bgcolor\": \"#E5ECF6\", \"polar\": {\"angularaxis\": {\"gridcolor\": \"white\", \"linecolor\": \"white\", \"ticks\": \"\"}, \"bgcolor\": \"#E5ECF6\", \"radialaxis\": {\"gridcolor\": \"white\", \"linecolor\": \"white\", \"ticks\": \"\"}}, \"scene\": {\"xaxis\": {\"backgroundcolor\": \"#E5ECF6\", \"gridcolor\": \"white\", \"gridwidth\": 2, \"linecolor\": \"white\", \"showbackground\": true, \"ticks\": \"\", \"zerolinecolor\": \"white\"}, \"yaxis\": {\"backgroundcolor\": \"#E5ECF6\", \"gridcolor\": \"white\", \"gridwidth\": 2, \"linecolor\": \"white\", \"showbackground\": true, \"ticks\": \"\", \"zerolinecolor\": \"white\"}, \"zaxis\": {\"backgroundcolor\": \"#E5ECF6\", \"gridcolor\": \"white\", \"gridwidth\": 2, \"linecolor\": \"white\", \"showbackground\": true, \"ticks\": \"\", \"zerolinecolor\": \"white\"}}, \"shapedefaults\": {\"line\": {\"color\": \"#2a3f5f\"}}, \"ternary\": {\"aaxis\": {\"gridcolor\": \"white\", \"linecolor\": \"white\", \"ticks\": \"\"}, \"baxis\": {\"gridcolor\": \"white\", \"linecolor\": \"white\", \"ticks\": \"\"}, \"bgcolor\": \"#E5ECF6\", \"caxis\": {\"gridcolor\": \"white\", \"linecolor\": \"white\", \"ticks\": \"\"}}, \"title\": {\"x\": 0.05}, \"xaxis\": {\"automargin\": true, \"gridcolor\": \"white\", \"linecolor\": \"white\", \"ticks\": \"\", \"title\": {\"standoff\": 15}, \"zerolinecolor\": \"white\", \"zerolinewidth\": 2}, \"yaxis\": {\"automargin\": true, \"gridcolor\": \"white\", \"linecolor\": \"white\", \"ticks\": \"\", \"title\": {\"standoff\": 15}, \"zerolinecolor\": \"white\", \"zerolinewidth\": 2}}}, \"title\": {\"text\": \"Player Age Distribution\", \"x\": 0.5, \"xanchor\": \"center\", \"yanchor\": \"top\"}, \"xaxis\": {\"anchor\": \"y\", \"domain\": [0.0, 1.0], \"title\": {\"text\": \"Age\"}}, \"yaxis\": {\"anchor\": \"x\", \"domain\": [0.0, 1.0], \"title\": {\"text\": \"Count\"}}},\n",
       "                        {\"responsive\": true}\n",
       "                    ).then(function(){\n",
       "                            \n",
       "var gd = document.getElementById('18b2ec04-1104-4e90-88b5-d0e386f4b5c1');\n",
       "var x = new MutationObserver(function (mutations, observer) {{\n",
       "        var display = window.getComputedStyle(gd).display;\n",
       "        if (!display || display === 'none') {{\n",
       "            console.log([gd, 'removed!']);\n",
       "            Plotly.purge(gd);\n",
       "            observer.disconnect();\n",
       "        }}\n",
       "}});\n",
       "\n",
       "// Listen for the removal of the full notebook cells\n",
       "var notebookContainer = gd.closest('#notebook-container');\n",
       "if (notebookContainer) {{\n",
       "    x.observe(notebookContainer, {childList: true});\n",
       "}}\n",
       "\n",
       "// Listen for the clearing of the current output cell\n",
       "var outputEl = gd.closest('.output');\n",
       "if (outputEl) {{\n",
       "    x.observe(outputEl, {childList: true});\n",
       "}}\n",
       "\n",
       "                        })\n",
       "                };\n",
       "                });\n",
       "            </script>\n",
       "        </div>"
      ]
     },
     "metadata": {},
     "output_type": "display_data"
    }
   ],
   "source": [
    "Age = SerieA.groupby('Age')['Player'].count().reset_index()\n",
    "fig = px.bar(Age,'Age','Player')\n",
    "fig.update_layout(title={'text':'Player Age Distribution','xanchor':'center','yanchor': 'top','x':0.5},\n",
    "                  xaxis_title='Age',\n",
    "                  yaxis_title='Count')\n",
    "fig.show()"
   ]
  },
  {
   "cell_type": "markdown",
   "metadata": {},
   "source": [
    "#### Average Age in Each Team"
   ]
  },
  {
   "cell_type": "code",
   "execution_count": 22,
   "metadata": {},
   "outputs": [
    {
     "data": {
      "text/html": [
       "<div>\n",
       "<style scoped>\n",
       "    .dataframe tbody tr th:only-of-type {\n",
       "        vertical-align: middle;\n",
       "    }\n",
       "\n",
       "    .dataframe tbody tr th {\n",
       "        vertical-align: top;\n",
       "    }\n",
       "\n",
       "    .dataframe thead th {\n",
       "        text-align: right;\n",
       "    }\n",
       "</style>\n",
       "<table border=\"1\" class=\"dataframe\">\n",
       "  <thead>\n",
       "    <tr style=\"text-align: right;\">\n",
       "      <th></th>\n",
       "      <th>Age</th>\n",
       "    </tr>\n",
       "    <tr>\n",
       "      <th>Club</th>\n",
       "      <th></th>\n",
       "    </tr>\n",
       "  </thead>\n",
       "  <tbody>\n",
       "    <tr>\n",
       "      <th>ac-florentina</th>\n",
       "      <td>25.214286</td>\n",
       "    </tr>\n",
       "    <tr>\n",
       "      <th>ac-milan</th>\n",
       "      <td>25.760000</td>\n",
       "    </tr>\n",
       "    <tr>\n",
       "      <th>us-sassuolo</th>\n",
       "      <td>25.769231</td>\n",
       "    </tr>\n",
       "    <tr>\n",
       "      <th>uc-sampdoria</th>\n",
       "      <td>25.777778</td>\n",
       "    </tr>\n",
       "    <tr>\n",
       "      <th>hellas-verona</th>\n",
       "      <td>25.806452</td>\n",
       "    </tr>\n",
       "    <tr>\n",
       "      <th>brescia</th>\n",
       "      <td>26.037037</td>\n",
       "    </tr>\n",
       "    <tr>\n",
       "      <th>udinese-calcio</th>\n",
       "      <td>26.086957</td>\n",
       "    </tr>\n",
       "    <tr>\n",
       "      <th>lazio</th>\n",
       "      <td>26.406250</td>\n",
       "    </tr>\n",
       "    <tr>\n",
       "      <th>torino</th>\n",
       "      <td>26.500000</td>\n",
       "    </tr>\n",
       "    <tr>\n",
       "      <th>us-lecce</th>\n",
       "      <td>26.517241</td>\n",
       "    </tr>\n",
       "    <tr>\n",
       "      <th>fc-bologna</th>\n",
       "      <td>26.520000</td>\n",
       "    </tr>\n",
       "    <tr>\n",
       "      <th>atalanta</th>\n",
       "      <td>26.545455</td>\n",
       "    </tr>\n",
       "    <tr>\n",
       "      <th>genoa</th>\n",
       "      <td>26.566667</td>\n",
       "    </tr>\n",
       "    <tr>\n",
       "      <th>inter-milan</th>\n",
       "      <td>26.642857</td>\n",
       "    </tr>\n",
       "    <tr>\n",
       "      <th>ssc-napoli</th>\n",
       "      <td>26.750000</td>\n",
       "    </tr>\n",
       "    <tr>\n",
       "      <th>spal</th>\n",
       "      <td>26.769231</td>\n",
       "    </tr>\n",
       "    <tr>\n",
       "      <th>as-roma</th>\n",
       "      <td>26.851852</td>\n",
       "    </tr>\n",
       "    <tr>\n",
       "      <th>fc-parma</th>\n",
       "      <td>27.230769</td>\n",
       "    </tr>\n",
       "    <tr>\n",
       "      <th>cagliari-calcio</th>\n",
       "      <td>27.880000</td>\n",
       "    </tr>\n",
       "    <tr>\n",
       "      <th>juventus-turin</th>\n",
       "      <td>28.400000</td>\n",
       "    </tr>\n",
       "  </tbody>\n",
       "</table>\n",
       "</div>"
      ],
      "text/plain": [
       "                       Age\n",
       "Club                      \n",
       "ac-florentina    25.214286\n",
       "ac-milan         25.760000\n",
       "us-sassuolo      25.769231\n",
       "uc-sampdoria     25.777778\n",
       "hellas-verona    25.806452\n",
       "brescia          26.037037\n",
       "udinese-calcio   26.086957\n",
       "lazio            26.406250\n",
       "torino           26.500000\n",
       "us-lecce         26.517241\n",
       "fc-bologna       26.520000\n",
       "atalanta         26.545455\n",
       "genoa            26.566667\n",
       "inter-milan      26.642857\n",
       "ssc-napoli       26.750000\n",
       "spal             26.769231\n",
       "as-roma          26.851852\n",
       "fc-parma         27.230769\n",
       "cagliari-calcio  27.880000\n",
       "juventus-turin   28.400000"
      ]
     },
     "execution_count": 22,
     "metadata": {},
     "output_type": "execute_result"
    }
   ],
   "source": [
    "SerieA.groupby('Club')[['Age']].mean().sort_values('Age',ascending = True)"
   ]
  },
  {
   "cell_type": "markdown",
   "metadata": {},
   "source": [
    "#### Club Value Ranking"
   ]
  },
  {
   "cell_type": "code",
   "execution_count": 43,
   "metadata": {},
   "outputs": [
    {
     "data": {
      "application/vnd.plotly.v1+json": {
       "config": {
        "plotlyServerURL": "https://plot.ly"
       },
       "data": [
        {
         "alignmentgroup": "True",
         "hoverlabel": {
          "namelength": 0
         },
         "hovertemplate": "Club=%{x}<br>Value=%{marker.color}",
         "legendgroup": "",
         "marker": {
          "color": [
           720,
           599.5799999999999,
           590.31,
           408.59999999999997,
           403.02,
           298.93000000000006,
           264.9599999999999,
           255.06,
           201.20000000000002,
           170.19000000000005,
           154.80999999999997,
           137.16000000000003,
           127.31,
           118.80000000000003,
           108.41000000000004,
           106.02000000000001,
           85.95000000000002,
           75.08000000000004,
           58.450000000000024,
           42.62000000000001
          ],
          "coloraxis": "coloraxis"
         },
         "name": "",
         "offsetgroup": "",
         "orientation": "v",
         "showlegend": false,
         "textposition": "auto",
         "type": "bar",
         "x": [
          "juventus-turin",
          "ssc-napoli",
          "inter-milan",
          "ac-milan",
          "as-roma",
          "lazio",
          "atalanta",
          "ac-florentina",
          "torino",
          "cagliari-calcio",
          "us-sassuolo",
          "genoa",
          "uc-sampdoria",
          "udinese-calcio",
          "fc-bologna",
          "fc-parma",
          "brescia",
          "hellas-verona",
          "spal",
          "us-lecce"
         ],
         "xaxis": "x",
         "y": [
          720,
          599.5799999999999,
          590.31,
          408.59999999999997,
          403.02,
          298.93000000000006,
          264.9599999999999,
          255.06,
          201.20000000000002,
          170.19000000000005,
          154.80999999999997,
          137.16000000000003,
          127.31,
          118.80000000000003,
          108.41000000000004,
          106.02000000000001,
          85.95000000000002,
          75.08000000000004,
          58.450000000000024,
          42.62000000000001
         ],
         "yaxis": "y"
        }
       ],
       "layout": {
        "barmode": "relative",
        "coloraxis": {
         "colorbar": {
          "title": {
           "text": "Value"
          }
         },
         "colorscale": [
          [
           0,
           "#0d0887"
          ],
          [
           0.1111111111111111,
           "#46039f"
          ],
          [
           0.2222222222222222,
           "#7201a8"
          ],
          [
           0.3333333333333333,
           "#9c179e"
          ],
          [
           0.4444444444444444,
           "#bd3786"
          ],
          [
           0.5555555555555556,
           "#d8576b"
          ],
          [
           0.6666666666666666,
           "#ed7953"
          ],
          [
           0.7777777777777778,
           "#fb9f3a"
          ],
          [
           0.8888888888888888,
           "#fdca26"
          ],
          [
           1,
           "#f0f921"
          ]
         ]
        },
        "legend": {
         "tracegroupgap": 0
        },
        "margin": {
         "t": 60
        },
        "template": {
         "data": {
          "bar": [
           {
            "error_x": {
             "color": "#2a3f5f"
            },
            "error_y": {
             "color": "#2a3f5f"
            },
            "marker": {
             "line": {
              "color": "#E5ECF6",
              "width": 0.5
             }
            },
            "type": "bar"
           }
          ],
          "barpolar": [
           {
            "marker": {
             "line": {
              "color": "#E5ECF6",
              "width": 0.5
             }
            },
            "type": "barpolar"
           }
          ],
          "carpet": [
           {
            "aaxis": {
             "endlinecolor": "#2a3f5f",
             "gridcolor": "white",
             "linecolor": "white",
             "minorgridcolor": "white",
             "startlinecolor": "#2a3f5f"
            },
            "baxis": {
             "endlinecolor": "#2a3f5f",
             "gridcolor": "white",
             "linecolor": "white",
             "minorgridcolor": "white",
             "startlinecolor": "#2a3f5f"
            },
            "type": "carpet"
           }
          ],
          "choropleth": [
           {
            "colorbar": {
             "outlinewidth": 0,
             "ticks": ""
            },
            "type": "choropleth"
           }
          ],
          "contour": [
           {
            "colorbar": {
             "outlinewidth": 0,
             "ticks": ""
            },
            "colorscale": [
             [
              0,
              "#0d0887"
             ],
             [
              0.1111111111111111,
              "#46039f"
             ],
             [
              0.2222222222222222,
              "#7201a8"
             ],
             [
              0.3333333333333333,
              "#9c179e"
             ],
             [
              0.4444444444444444,
              "#bd3786"
             ],
             [
              0.5555555555555556,
              "#d8576b"
             ],
             [
              0.6666666666666666,
              "#ed7953"
             ],
             [
              0.7777777777777778,
              "#fb9f3a"
             ],
             [
              0.8888888888888888,
              "#fdca26"
             ],
             [
              1,
              "#f0f921"
             ]
            ],
            "type": "contour"
           }
          ],
          "contourcarpet": [
           {
            "colorbar": {
             "outlinewidth": 0,
             "ticks": ""
            },
            "type": "contourcarpet"
           }
          ],
          "heatmap": [
           {
            "colorbar": {
             "outlinewidth": 0,
             "ticks": ""
            },
            "colorscale": [
             [
              0,
              "#0d0887"
             ],
             [
              0.1111111111111111,
              "#46039f"
             ],
             [
              0.2222222222222222,
              "#7201a8"
             ],
             [
              0.3333333333333333,
              "#9c179e"
             ],
             [
              0.4444444444444444,
              "#bd3786"
             ],
             [
              0.5555555555555556,
              "#d8576b"
             ],
             [
              0.6666666666666666,
              "#ed7953"
             ],
             [
              0.7777777777777778,
              "#fb9f3a"
             ],
             [
              0.8888888888888888,
              "#fdca26"
             ],
             [
              1,
              "#f0f921"
             ]
            ],
            "type": "heatmap"
           }
          ],
          "heatmapgl": [
           {
            "colorbar": {
             "outlinewidth": 0,
             "ticks": ""
            },
            "colorscale": [
             [
              0,
              "#0d0887"
             ],
             [
              0.1111111111111111,
              "#46039f"
             ],
             [
              0.2222222222222222,
              "#7201a8"
             ],
             [
              0.3333333333333333,
              "#9c179e"
             ],
             [
              0.4444444444444444,
              "#bd3786"
             ],
             [
              0.5555555555555556,
              "#d8576b"
             ],
             [
              0.6666666666666666,
              "#ed7953"
             ],
             [
              0.7777777777777778,
              "#fb9f3a"
             ],
             [
              0.8888888888888888,
              "#fdca26"
             ],
             [
              1,
              "#f0f921"
             ]
            ],
            "type": "heatmapgl"
           }
          ],
          "histogram": [
           {
            "marker": {
             "colorbar": {
              "outlinewidth": 0,
              "ticks": ""
             }
            },
            "type": "histogram"
           }
          ],
          "histogram2d": [
           {
            "colorbar": {
             "outlinewidth": 0,
             "ticks": ""
            },
            "colorscale": [
             [
              0,
              "#0d0887"
             ],
             [
              0.1111111111111111,
              "#46039f"
             ],
             [
              0.2222222222222222,
              "#7201a8"
             ],
             [
              0.3333333333333333,
              "#9c179e"
             ],
             [
              0.4444444444444444,
              "#bd3786"
             ],
             [
              0.5555555555555556,
              "#d8576b"
             ],
             [
              0.6666666666666666,
              "#ed7953"
             ],
             [
              0.7777777777777778,
              "#fb9f3a"
             ],
             [
              0.8888888888888888,
              "#fdca26"
             ],
             [
              1,
              "#f0f921"
             ]
            ],
            "type": "histogram2d"
           }
          ],
          "histogram2dcontour": [
           {
            "colorbar": {
             "outlinewidth": 0,
             "ticks": ""
            },
            "colorscale": [
             [
              0,
              "#0d0887"
             ],
             [
              0.1111111111111111,
              "#46039f"
             ],
             [
              0.2222222222222222,
              "#7201a8"
             ],
             [
              0.3333333333333333,
              "#9c179e"
             ],
             [
              0.4444444444444444,
              "#bd3786"
             ],
             [
              0.5555555555555556,
              "#d8576b"
             ],
             [
              0.6666666666666666,
              "#ed7953"
             ],
             [
              0.7777777777777778,
              "#fb9f3a"
             ],
             [
              0.8888888888888888,
              "#fdca26"
             ],
             [
              1,
              "#f0f921"
             ]
            ],
            "type": "histogram2dcontour"
           }
          ],
          "mesh3d": [
           {
            "colorbar": {
             "outlinewidth": 0,
             "ticks": ""
            },
            "type": "mesh3d"
           }
          ],
          "parcoords": [
           {
            "line": {
             "colorbar": {
              "outlinewidth": 0,
              "ticks": ""
             }
            },
            "type": "parcoords"
           }
          ],
          "pie": [
           {
            "automargin": true,
            "type": "pie"
           }
          ],
          "scatter": [
           {
            "marker": {
             "colorbar": {
              "outlinewidth": 0,
              "ticks": ""
             }
            },
            "type": "scatter"
           }
          ],
          "scatter3d": [
           {
            "line": {
             "colorbar": {
              "outlinewidth": 0,
              "ticks": ""
             }
            },
            "marker": {
             "colorbar": {
              "outlinewidth": 0,
              "ticks": ""
             }
            },
            "type": "scatter3d"
           }
          ],
          "scattercarpet": [
           {
            "marker": {
             "colorbar": {
              "outlinewidth": 0,
              "ticks": ""
             }
            },
            "type": "scattercarpet"
           }
          ],
          "scattergeo": [
           {
            "marker": {
             "colorbar": {
              "outlinewidth": 0,
              "ticks": ""
             }
            },
            "type": "scattergeo"
           }
          ],
          "scattergl": [
           {
            "marker": {
             "colorbar": {
              "outlinewidth": 0,
              "ticks": ""
             }
            },
            "type": "scattergl"
           }
          ],
          "scattermapbox": [
           {
            "marker": {
             "colorbar": {
              "outlinewidth": 0,
              "ticks": ""
             }
            },
            "type": "scattermapbox"
           }
          ],
          "scatterpolar": [
           {
            "marker": {
             "colorbar": {
              "outlinewidth": 0,
              "ticks": ""
             }
            },
            "type": "scatterpolar"
           }
          ],
          "scatterpolargl": [
           {
            "marker": {
             "colorbar": {
              "outlinewidth": 0,
              "ticks": ""
             }
            },
            "type": "scatterpolargl"
           }
          ],
          "scatterternary": [
           {
            "marker": {
             "colorbar": {
              "outlinewidth": 0,
              "ticks": ""
             }
            },
            "type": "scatterternary"
           }
          ],
          "surface": [
           {
            "colorbar": {
             "outlinewidth": 0,
             "ticks": ""
            },
            "colorscale": [
             [
              0,
              "#0d0887"
             ],
             [
              0.1111111111111111,
              "#46039f"
             ],
             [
              0.2222222222222222,
              "#7201a8"
             ],
             [
              0.3333333333333333,
              "#9c179e"
             ],
             [
              0.4444444444444444,
              "#bd3786"
             ],
             [
              0.5555555555555556,
              "#d8576b"
             ],
             [
              0.6666666666666666,
              "#ed7953"
             ],
             [
              0.7777777777777778,
              "#fb9f3a"
             ],
             [
              0.8888888888888888,
              "#fdca26"
             ],
             [
              1,
              "#f0f921"
             ]
            ],
            "type": "surface"
           }
          ],
          "table": [
           {
            "cells": {
             "fill": {
              "color": "#EBF0F8"
             },
             "line": {
              "color": "white"
             }
            },
            "header": {
             "fill": {
              "color": "#C8D4E3"
             },
             "line": {
              "color": "white"
             }
            },
            "type": "table"
           }
          ]
         },
         "layout": {
          "annotationdefaults": {
           "arrowcolor": "#2a3f5f",
           "arrowhead": 0,
           "arrowwidth": 1
          },
          "coloraxis": {
           "colorbar": {
            "outlinewidth": 0,
            "ticks": ""
           }
          },
          "colorscale": {
           "diverging": [
            [
             0,
             "#8e0152"
            ],
            [
             0.1,
             "#c51b7d"
            ],
            [
             0.2,
             "#de77ae"
            ],
            [
             0.3,
             "#f1b6da"
            ],
            [
             0.4,
             "#fde0ef"
            ],
            [
             0.5,
             "#f7f7f7"
            ],
            [
             0.6,
             "#e6f5d0"
            ],
            [
             0.7,
             "#b8e186"
            ],
            [
             0.8,
             "#7fbc41"
            ],
            [
             0.9,
             "#4d9221"
            ],
            [
             1,
             "#276419"
            ]
           ],
           "sequential": [
            [
             0,
             "#0d0887"
            ],
            [
             0.1111111111111111,
             "#46039f"
            ],
            [
             0.2222222222222222,
             "#7201a8"
            ],
            [
             0.3333333333333333,
             "#9c179e"
            ],
            [
             0.4444444444444444,
             "#bd3786"
            ],
            [
             0.5555555555555556,
             "#d8576b"
            ],
            [
             0.6666666666666666,
             "#ed7953"
            ],
            [
             0.7777777777777778,
             "#fb9f3a"
            ],
            [
             0.8888888888888888,
             "#fdca26"
            ],
            [
             1,
             "#f0f921"
            ]
           ],
           "sequentialminus": [
            [
             0,
             "#0d0887"
            ],
            [
             0.1111111111111111,
             "#46039f"
            ],
            [
             0.2222222222222222,
             "#7201a8"
            ],
            [
             0.3333333333333333,
             "#9c179e"
            ],
            [
             0.4444444444444444,
             "#bd3786"
            ],
            [
             0.5555555555555556,
             "#d8576b"
            ],
            [
             0.6666666666666666,
             "#ed7953"
            ],
            [
             0.7777777777777778,
             "#fb9f3a"
            ],
            [
             0.8888888888888888,
             "#fdca26"
            ],
            [
             1,
             "#f0f921"
            ]
           ]
          },
          "colorway": [
           "#636efa",
           "#EF553B",
           "#00cc96",
           "#ab63fa",
           "#FFA15A",
           "#19d3f3",
           "#FF6692",
           "#B6E880",
           "#FF97FF",
           "#FECB52"
          ],
          "font": {
           "color": "#2a3f5f"
          },
          "geo": {
           "bgcolor": "white",
           "lakecolor": "white",
           "landcolor": "#E5ECF6",
           "showlakes": true,
           "showland": true,
           "subunitcolor": "white"
          },
          "hoverlabel": {
           "align": "left"
          },
          "hovermode": "closest",
          "mapbox": {
           "style": "light"
          },
          "paper_bgcolor": "white",
          "plot_bgcolor": "#E5ECF6",
          "polar": {
           "angularaxis": {
            "gridcolor": "white",
            "linecolor": "white",
            "ticks": ""
           },
           "bgcolor": "#E5ECF6",
           "radialaxis": {
            "gridcolor": "white",
            "linecolor": "white",
            "ticks": ""
           }
          },
          "scene": {
           "xaxis": {
            "backgroundcolor": "#E5ECF6",
            "gridcolor": "white",
            "gridwidth": 2,
            "linecolor": "white",
            "showbackground": true,
            "ticks": "",
            "zerolinecolor": "white"
           },
           "yaxis": {
            "backgroundcolor": "#E5ECF6",
            "gridcolor": "white",
            "gridwidth": 2,
            "linecolor": "white",
            "showbackground": true,
            "ticks": "",
            "zerolinecolor": "white"
           },
           "zaxis": {
            "backgroundcolor": "#E5ECF6",
            "gridcolor": "white",
            "gridwidth": 2,
            "linecolor": "white",
            "showbackground": true,
            "ticks": "",
            "zerolinecolor": "white"
           }
          },
          "shapedefaults": {
           "line": {
            "color": "#2a3f5f"
           }
          },
          "ternary": {
           "aaxis": {
            "gridcolor": "white",
            "linecolor": "white",
            "ticks": ""
           },
           "baxis": {
            "gridcolor": "white",
            "linecolor": "white",
            "ticks": ""
           },
           "bgcolor": "#E5ECF6",
           "caxis": {
            "gridcolor": "white",
            "linecolor": "white",
            "ticks": ""
           }
          },
          "title": {
           "x": 0.05
          },
          "xaxis": {
           "automargin": true,
           "gridcolor": "white",
           "linecolor": "white",
           "ticks": "",
           "title": {
            "standoff": 15
           },
           "zerolinecolor": "white",
           "zerolinewidth": 2
          },
          "yaxis": {
           "automargin": true,
           "gridcolor": "white",
           "linecolor": "white",
           "ticks": "",
           "title": {
            "standoff": 15
           },
           "zerolinecolor": "white",
           "zerolinewidth": 2
          }
         }
        },
        "xaxis": {
         "anchor": "y",
         "domain": [
          0,
          1
         ],
         "title": {
          "text": "Club"
         }
        },
        "yaxis": {
         "anchor": "x",
         "domain": [
          0,
          1
         ],
         "title": {
          "text": "Value"
         }
        }
       }
      },
      "text/html": [
       "<div>\n",
       "        \n",
       "        \n",
       "            <div id=\"1a901480-b2d5-43bc-993d-f9aa9262516f\" class=\"plotly-graph-div\" style=\"height:525px; width:100%;\"></div>\n",
       "            <script type=\"text/javascript\">\n",
       "                require([\"plotly\"], function(Plotly) {\n",
       "                    window.PLOTLYENV=window.PLOTLYENV || {};\n",
       "                    \n",
       "                if (document.getElementById(\"1a901480-b2d5-43bc-993d-f9aa9262516f\")) {\n",
       "                    Plotly.newPlot(\n",
       "                        '1a901480-b2d5-43bc-993d-f9aa9262516f',\n",
       "                        [{\"alignmentgroup\": \"True\", \"hoverlabel\": {\"namelength\": 0}, \"hovertemplate\": \"Club=%{x}<br>Value=%{marker.color}\", \"legendgroup\": \"\", \"marker\": {\"color\": [720.0, 599.5799999999999, 590.31, 408.59999999999997, 403.02, 298.93000000000006, 264.9599999999999, 255.06, 201.20000000000002, 170.19000000000005, 154.80999999999997, 137.16000000000003, 127.31, 118.80000000000003, 108.41000000000004, 106.02000000000001, 85.95000000000002, 75.08000000000004, 58.450000000000024, 42.62000000000001], \"coloraxis\": \"coloraxis\"}, \"name\": \"\", \"offsetgroup\": \"\", \"orientation\": \"v\", \"showlegend\": false, \"textposition\": \"auto\", \"type\": \"bar\", \"x\": [\"juventus-turin\", \"ssc-napoli\", \"inter-milan\", \"ac-milan\", \"as-roma\", \"lazio\", \"atalanta\", \"ac-florentina\", \"torino\", \"cagliari-calcio\", \"us-sassuolo\", \"genoa\", \"uc-sampdoria\", \"udinese-calcio\", \"fc-bologna\", \"fc-parma\", \"brescia\", \"hellas-verona\", \"spal\", \"us-lecce\"], \"xaxis\": \"x\", \"y\": [720.0, 599.5799999999999, 590.31, 408.59999999999997, 403.02, 298.93000000000006, 264.9599999999999, 255.06, 201.20000000000002, 170.19000000000005, 154.80999999999997, 137.16000000000003, 127.31, 118.80000000000003, 108.41000000000004, 106.02000000000001, 85.95000000000002, 75.08000000000004, 58.450000000000024, 42.62000000000001], \"yaxis\": \"y\"}],\n",
       "                        {\"barmode\": \"relative\", \"coloraxis\": {\"colorbar\": {\"title\": {\"text\": \"Value\"}}, \"colorscale\": [[0.0, \"#0d0887\"], [0.1111111111111111, \"#46039f\"], [0.2222222222222222, \"#7201a8\"], [0.3333333333333333, \"#9c179e\"], [0.4444444444444444, \"#bd3786\"], [0.5555555555555556, \"#d8576b\"], [0.6666666666666666, \"#ed7953\"], [0.7777777777777778, \"#fb9f3a\"], [0.8888888888888888, \"#fdca26\"], [1.0, \"#f0f921\"]]}, \"legend\": {\"tracegroupgap\": 0}, \"margin\": {\"t\": 60}, \"template\": {\"data\": {\"bar\": [{\"error_x\": {\"color\": \"#2a3f5f\"}, \"error_y\": {\"color\": \"#2a3f5f\"}, \"marker\": {\"line\": {\"color\": \"#E5ECF6\", \"width\": 0.5}}, \"type\": \"bar\"}], \"barpolar\": [{\"marker\": {\"line\": {\"color\": \"#E5ECF6\", \"width\": 0.5}}, \"type\": \"barpolar\"}], \"carpet\": [{\"aaxis\": {\"endlinecolor\": \"#2a3f5f\", \"gridcolor\": \"white\", \"linecolor\": \"white\", \"minorgridcolor\": \"white\", \"startlinecolor\": \"#2a3f5f\"}, \"baxis\": {\"endlinecolor\": \"#2a3f5f\", \"gridcolor\": \"white\", \"linecolor\": \"white\", \"minorgridcolor\": \"white\", \"startlinecolor\": \"#2a3f5f\"}, \"type\": \"carpet\"}], \"choropleth\": [{\"colorbar\": {\"outlinewidth\": 0, \"ticks\": \"\"}, \"type\": \"choropleth\"}], \"contour\": [{\"colorbar\": {\"outlinewidth\": 0, \"ticks\": \"\"}, \"colorscale\": [[0.0, \"#0d0887\"], [0.1111111111111111, \"#46039f\"], [0.2222222222222222, \"#7201a8\"], [0.3333333333333333, \"#9c179e\"], [0.4444444444444444, \"#bd3786\"], [0.5555555555555556, \"#d8576b\"], [0.6666666666666666, \"#ed7953\"], [0.7777777777777778, \"#fb9f3a\"], [0.8888888888888888, \"#fdca26\"], [1.0, \"#f0f921\"]], \"type\": \"contour\"}], \"contourcarpet\": [{\"colorbar\": {\"outlinewidth\": 0, \"ticks\": \"\"}, \"type\": \"contourcarpet\"}], \"heatmap\": [{\"colorbar\": {\"outlinewidth\": 0, \"ticks\": \"\"}, \"colorscale\": [[0.0, \"#0d0887\"], [0.1111111111111111, \"#46039f\"], [0.2222222222222222, \"#7201a8\"], [0.3333333333333333, \"#9c179e\"], [0.4444444444444444, \"#bd3786\"], [0.5555555555555556, \"#d8576b\"], [0.6666666666666666, \"#ed7953\"], [0.7777777777777778, \"#fb9f3a\"], [0.8888888888888888, \"#fdca26\"], [1.0, \"#f0f921\"]], \"type\": \"heatmap\"}], \"heatmapgl\": [{\"colorbar\": {\"outlinewidth\": 0, \"ticks\": \"\"}, \"colorscale\": [[0.0, \"#0d0887\"], [0.1111111111111111, \"#46039f\"], [0.2222222222222222, \"#7201a8\"], [0.3333333333333333, \"#9c179e\"], [0.4444444444444444, \"#bd3786\"], [0.5555555555555556, \"#d8576b\"], [0.6666666666666666, \"#ed7953\"], [0.7777777777777778, \"#fb9f3a\"], [0.8888888888888888, \"#fdca26\"], [1.0, \"#f0f921\"]], \"type\": \"heatmapgl\"}], \"histogram\": [{\"marker\": {\"colorbar\": {\"outlinewidth\": 0, \"ticks\": \"\"}}, \"type\": \"histogram\"}], \"histogram2d\": [{\"colorbar\": {\"outlinewidth\": 0, \"ticks\": \"\"}, \"colorscale\": [[0.0, \"#0d0887\"], [0.1111111111111111, \"#46039f\"], [0.2222222222222222, \"#7201a8\"], [0.3333333333333333, \"#9c179e\"], [0.4444444444444444, \"#bd3786\"], [0.5555555555555556, \"#d8576b\"], [0.6666666666666666, \"#ed7953\"], [0.7777777777777778, \"#fb9f3a\"], [0.8888888888888888, \"#fdca26\"], [1.0, \"#f0f921\"]], \"type\": \"histogram2d\"}], \"histogram2dcontour\": [{\"colorbar\": {\"outlinewidth\": 0, \"ticks\": \"\"}, \"colorscale\": [[0.0, \"#0d0887\"], [0.1111111111111111, \"#46039f\"], [0.2222222222222222, \"#7201a8\"], [0.3333333333333333, \"#9c179e\"], [0.4444444444444444, \"#bd3786\"], [0.5555555555555556, \"#d8576b\"], [0.6666666666666666, \"#ed7953\"], [0.7777777777777778, \"#fb9f3a\"], [0.8888888888888888, \"#fdca26\"], [1.0, \"#f0f921\"]], \"type\": \"histogram2dcontour\"}], \"mesh3d\": [{\"colorbar\": {\"outlinewidth\": 0, \"ticks\": \"\"}, \"type\": \"mesh3d\"}], \"parcoords\": [{\"line\": {\"colorbar\": {\"outlinewidth\": 0, \"ticks\": \"\"}}, \"type\": \"parcoords\"}], \"pie\": [{\"automargin\": true, \"type\": \"pie\"}], \"scatter\": [{\"marker\": {\"colorbar\": {\"outlinewidth\": 0, \"ticks\": \"\"}}, \"type\": \"scatter\"}], \"scatter3d\": [{\"line\": {\"colorbar\": {\"outlinewidth\": 0, \"ticks\": \"\"}}, \"marker\": {\"colorbar\": {\"outlinewidth\": 0, \"ticks\": \"\"}}, \"type\": \"scatter3d\"}], \"scattercarpet\": [{\"marker\": {\"colorbar\": {\"outlinewidth\": 0, \"ticks\": \"\"}}, \"type\": \"scattercarpet\"}], \"scattergeo\": [{\"marker\": {\"colorbar\": {\"outlinewidth\": 0, \"ticks\": \"\"}}, \"type\": \"scattergeo\"}], \"scattergl\": [{\"marker\": {\"colorbar\": {\"outlinewidth\": 0, \"ticks\": \"\"}}, \"type\": \"scattergl\"}], \"scattermapbox\": [{\"marker\": {\"colorbar\": {\"outlinewidth\": 0, \"ticks\": \"\"}}, \"type\": \"scattermapbox\"}], \"scatterpolar\": [{\"marker\": {\"colorbar\": {\"outlinewidth\": 0, \"ticks\": \"\"}}, \"type\": \"scatterpolar\"}], \"scatterpolargl\": [{\"marker\": {\"colorbar\": {\"outlinewidth\": 0, \"ticks\": \"\"}}, \"type\": \"scatterpolargl\"}], \"scatterternary\": [{\"marker\": {\"colorbar\": {\"outlinewidth\": 0, \"ticks\": \"\"}}, \"type\": \"scatterternary\"}], \"surface\": [{\"colorbar\": {\"outlinewidth\": 0, \"ticks\": \"\"}, \"colorscale\": [[0.0, \"#0d0887\"], [0.1111111111111111, \"#46039f\"], [0.2222222222222222, \"#7201a8\"], [0.3333333333333333, \"#9c179e\"], [0.4444444444444444, \"#bd3786\"], [0.5555555555555556, \"#d8576b\"], [0.6666666666666666, \"#ed7953\"], [0.7777777777777778, \"#fb9f3a\"], [0.8888888888888888, \"#fdca26\"], [1.0, \"#f0f921\"]], \"type\": \"surface\"}], \"table\": [{\"cells\": {\"fill\": {\"color\": \"#EBF0F8\"}, \"line\": {\"color\": \"white\"}}, \"header\": {\"fill\": {\"color\": \"#C8D4E3\"}, \"line\": {\"color\": \"white\"}}, \"type\": \"table\"}]}, \"layout\": {\"annotationdefaults\": {\"arrowcolor\": \"#2a3f5f\", \"arrowhead\": 0, \"arrowwidth\": 1}, \"coloraxis\": {\"colorbar\": {\"outlinewidth\": 0, \"ticks\": \"\"}}, \"colorscale\": {\"diverging\": [[0, \"#8e0152\"], [0.1, \"#c51b7d\"], [0.2, \"#de77ae\"], [0.3, \"#f1b6da\"], [0.4, \"#fde0ef\"], [0.5, \"#f7f7f7\"], [0.6, \"#e6f5d0\"], [0.7, \"#b8e186\"], [0.8, \"#7fbc41\"], [0.9, \"#4d9221\"], [1, \"#276419\"]], \"sequential\": [[0.0, \"#0d0887\"], [0.1111111111111111, \"#46039f\"], [0.2222222222222222, \"#7201a8\"], [0.3333333333333333, \"#9c179e\"], [0.4444444444444444, \"#bd3786\"], [0.5555555555555556, \"#d8576b\"], [0.6666666666666666, \"#ed7953\"], [0.7777777777777778, \"#fb9f3a\"], [0.8888888888888888, \"#fdca26\"], [1.0, \"#f0f921\"]], \"sequentialminus\": [[0.0, \"#0d0887\"], [0.1111111111111111, \"#46039f\"], [0.2222222222222222, \"#7201a8\"], [0.3333333333333333, \"#9c179e\"], [0.4444444444444444, \"#bd3786\"], [0.5555555555555556, \"#d8576b\"], [0.6666666666666666, \"#ed7953\"], [0.7777777777777778, \"#fb9f3a\"], [0.8888888888888888, \"#fdca26\"], [1.0, \"#f0f921\"]]}, \"colorway\": [\"#636efa\", \"#EF553B\", \"#00cc96\", \"#ab63fa\", \"#FFA15A\", \"#19d3f3\", \"#FF6692\", \"#B6E880\", \"#FF97FF\", \"#FECB52\"], \"font\": {\"color\": \"#2a3f5f\"}, \"geo\": {\"bgcolor\": \"white\", \"lakecolor\": \"white\", \"landcolor\": \"#E5ECF6\", \"showlakes\": true, \"showland\": true, \"subunitcolor\": \"white\"}, \"hoverlabel\": {\"align\": \"left\"}, \"hovermode\": \"closest\", \"mapbox\": {\"style\": \"light\"}, \"paper_bgcolor\": \"white\", \"plot_bgcolor\": \"#E5ECF6\", \"polar\": {\"angularaxis\": {\"gridcolor\": \"white\", \"linecolor\": \"white\", \"ticks\": \"\"}, \"bgcolor\": \"#E5ECF6\", \"radialaxis\": {\"gridcolor\": \"white\", \"linecolor\": \"white\", \"ticks\": \"\"}}, \"scene\": {\"xaxis\": {\"backgroundcolor\": \"#E5ECF6\", \"gridcolor\": \"white\", \"gridwidth\": 2, \"linecolor\": \"white\", \"showbackground\": true, \"ticks\": \"\", \"zerolinecolor\": \"white\"}, \"yaxis\": {\"backgroundcolor\": \"#E5ECF6\", \"gridcolor\": \"white\", \"gridwidth\": 2, \"linecolor\": \"white\", \"showbackground\": true, \"ticks\": \"\", \"zerolinecolor\": \"white\"}, \"zaxis\": {\"backgroundcolor\": \"#E5ECF6\", \"gridcolor\": \"white\", \"gridwidth\": 2, \"linecolor\": \"white\", \"showbackground\": true, \"ticks\": \"\", \"zerolinecolor\": \"white\"}}, \"shapedefaults\": {\"line\": {\"color\": \"#2a3f5f\"}}, \"ternary\": {\"aaxis\": {\"gridcolor\": \"white\", \"linecolor\": \"white\", \"ticks\": \"\"}, \"baxis\": {\"gridcolor\": \"white\", \"linecolor\": \"white\", \"ticks\": \"\"}, \"bgcolor\": \"#E5ECF6\", \"caxis\": {\"gridcolor\": \"white\", \"linecolor\": \"white\", \"ticks\": \"\"}}, \"title\": {\"x\": 0.05}, \"xaxis\": {\"automargin\": true, \"gridcolor\": \"white\", \"linecolor\": \"white\", \"ticks\": \"\", \"title\": {\"standoff\": 15}, \"zerolinecolor\": \"white\", \"zerolinewidth\": 2}, \"yaxis\": {\"automargin\": true, \"gridcolor\": \"white\", \"linecolor\": \"white\", \"ticks\": \"\", \"title\": {\"standoff\": 15}, \"zerolinecolor\": \"white\", \"zerolinewidth\": 2}}}, \"xaxis\": {\"anchor\": \"y\", \"domain\": [0.0, 1.0], \"title\": {\"text\": \"Club\"}}, \"yaxis\": {\"anchor\": \"x\", \"domain\": [0.0, 1.0], \"title\": {\"text\": \"Value\"}}},\n",
       "                        {\"responsive\": true}\n",
       "                    ).then(function(){\n",
       "                            \n",
       "var gd = document.getElementById('1a901480-b2d5-43bc-993d-f9aa9262516f');\n",
       "var x = new MutationObserver(function (mutations, observer) {{\n",
       "        var display = window.getComputedStyle(gd).display;\n",
       "        if (!display || display === 'none') {{\n",
       "            console.log([gd, 'removed!']);\n",
       "            Plotly.purge(gd);\n",
       "            observer.disconnect();\n",
       "        }}\n",
       "}});\n",
       "\n",
       "// Listen for the removal of the full notebook cells\n",
       "var notebookContainer = gd.closest('#notebook-container');\n",
       "if (notebookContainer) {{\n",
       "    x.observe(notebookContainer, {childList: true});\n",
       "}}\n",
       "\n",
       "// Listen for the clearing of the current output cell\n",
       "var outputEl = gd.closest('.output');\n",
       "if (outputEl) {{\n",
       "    x.observe(outputEl, {childList: true});\n",
       "}}\n",
       "\n",
       "                        })\n",
       "                };\n",
       "                });\n",
       "            </script>\n",
       "        </div>"
      ]
     },
     "metadata": {},
     "output_type": "display_data"
    }
   ],
   "source": [
    "import plotly.express as px\n",
    "ClubValue = SerieA.groupby('Club')[['Value']].sum().sort_values('Value',ascending = False).reset_index()\n",
    "fig = px.bar(ClubValue, x='Club',y='Value',color='Value')\n",
    "fig.show()"
   ]
  },
  {
   "cell_type": "code",
   "execution_count": 69,
   "metadata": {},
   "outputs": [
    {
     "name": "stderr",
     "output_type": "stream",
     "text": [
      "C:\\Users\\lzd05\\Anaconda3\\lib\\site-packages\\ipykernel_launcher.py:3: SettingWithCopyWarning:\n",
      "\n",
      "\n",
      "A value is trying to be set on a copy of a slice from a DataFrame.\n",
      "Try using .loc[row_indexer,col_indexer] = value instead\n",
      "\n",
      "See the caveats in the documentation: http://pandas.pydata.org/pandas-docs/stable/indexing.html#indexing-view-versus-copy\n",
      "\n",
      "C:\\Users\\lzd05\\Anaconda3\\lib\\site-packages\\ipykernel_launcher.py:7: SettingWithCopyWarning:\n",
      "\n",
      "\n",
      "A value is trying to be set on a copy of a slice from a DataFrame.\n",
      "Try using .loc[row_indexer,col_indexer] = value instead\n",
      "\n",
      "See the caveats in the documentation: http://pandas.pydata.org/pandas-docs/stable/indexing.html#indexing-view-versus-copy\n",
      "\n",
      "C:\\Users\\lzd05\\Anaconda3\\lib\\site-packages\\ipykernel_launcher.py:10: SettingWithCopyWarning:\n",
      "\n",
      "\n",
      "A value is trying to be set on a copy of a slice from a DataFrame.\n",
      "Try using .loc[row_indexer,col_indexer] = value instead\n",
      "\n",
      "See the caveats in the documentation: http://pandas.pydata.org/pandas-docs/stable/indexing.html#indexing-view-versus-copy\n",
      "\n",
      "C:\\Users\\lzd05\\Anaconda3\\lib\\site-packages\\ipykernel_launcher.py:12: SettingWithCopyWarning:\n",
      "\n",
      "\n",
      "A value is trying to be set on a copy of a slice from a DataFrame.\n",
      "Try using .loc[row_indexer,col_indexer] = value instead\n",
      "\n",
      "See the caveats in the documentation: http://pandas.pydata.org/pandas-docs/stable/indexing.html#indexing-view-versus-copy\n",
      "\n"
     ]
    }
   ],
   "source": [
    "Forward = SerieA[(SerieA.Position == 'Second Striker')|(SerieA.Position == 'Centre-Forward')|\n",
    "                 (SerieA.Position == 'Left Winger')|(SerieA.Position == 'Right Winger')]\n",
    "Forward['Position_Modified'] = 'Forward'\n",
    "Midfield = SerieA[(SerieA.Position == 'Central Midfield')|(SerieA.Position == 'Attacking Midfield')|\n",
    "                 (SerieA.Position == 'Defensive Midfield')|(SerieA.Position == 'Left Midfield')|\n",
    "                 (SerieA.Position == 'Right Midfield')]\n",
    "Midfield['Position_Modified'] = 'Midfield'\n",
    "Defender = SerieA[(SerieA.Position == 'Centre-Back')|(SerieA.Position == 'Left-Back')|\n",
    "                 (SerieA.Position == 'Right-Back')]\n",
    "Defender['Position_Modified'] = 'Defender'\n",
    "Goalkeeper = SerieA[SerieA.Position == 'Goalkeeper']\n",
    "Goalkeeper['Position_Modified'] = 'Goalkeeper'"
   ]
  },
  {
   "cell_type": "code",
   "execution_count": 72,
   "metadata": {},
   "outputs": [
    {
     "data": {
      "text/html": [
       "<div>\n",
       "<style scoped>\n",
       "    .dataframe tbody tr th:only-of-type {\n",
       "        vertical-align: middle;\n",
       "    }\n",
       "\n",
       "    .dataframe tbody tr th {\n",
       "        vertical-align: top;\n",
       "    }\n",
       "\n",
       "    .dataframe thead th {\n",
       "        text-align: right;\n",
       "    }\n",
       "</style>\n",
       "<table border=\"1\" class=\"dataframe\">\n",
       "  <thead>\n",
       "    <tr style=\"text-align: right;\">\n",
       "      <th></th>\n",
       "      <th>Player</th>\n",
       "      <th>Value</th>\n",
       "      <th>Age</th>\n",
       "      <th>Position</th>\n",
       "      <th>Number</th>\n",
       "      <th>Club</th>\n",
       "      <th>Citizenship</th>\n",
       "      <th>Position_Modified</th>\n",
       "    </tr>\n",
       "  </thead>\n",
       "  <tbody>\n",
       "    <tr>\n",
       "      <th>0</th>\n",
       "      <td>Paulo Dybala</td>\n",
       "      <td>76.50</td>\n",
       "      <td>26</td>\n",
       "      <td>Second Striker</td>\n",
       "      <td>10</td>\n",
       "      <td>juventus-turin</td>\n",
       "      <td>Argentina</td>\n",
       "      <td>Forward</td>\n",
       "    </tr>\n",
       "    <tr>\n",
       "      <th>1</th>\n",
       "      <td>Lautaro Martínez</td>\n",
       "      <td>72.00</td>\n",
       "      <td>22</td>\n",
       "      <td>Centre-Forward</td>\n",
       "      <td>10</td>\n",
       "      <td>inter-milan</td>\n",
       "      <td>Argentina</td>\n",
       "      <td>Forward</td>\n",
       "    </tr>\n",
       "    <tr>\n",
       "      <th>2</th>\n",
       "      <td>Kalidou Koulibaly</td>\n",
       "      <td>67.50</td>\n",
       "      <td>28</td>\n",
       "      <td>Centre-Back</td>\n",
       "      <td>26</td>\n",
       "      <td>ssc-napoli</td>\n",
       "      <td>Senegal</td>\n",
       "      <td>Defender</td>\n",
       "    </tr>\n",
       "    <tr>\n",
       "      <th>3</th>\n",
       "      <td>Matthijs de Ligt</td>\n",
       "      <td>67.50</td>\n",
       "      <td>20</td>\n",
       "      <td>Centre-Back</td>\n",
       "      <td>4</td>\n",
       "      <td>juventus-turin</td>\n",
       "      <td>Netherlands</td>\n",
       "      <td>Defender</td>\n",
       "    </tr>\n",
       "    <tr>\n",
       "      <th>4</th>\n",
       "      <td>Cristiano Ronaldo</td>\n",
       "      <td>67.50</td>\n",
       "      <td>34</td>\n",
       "      <td>Left Winger</td>\n",
       "      <td>7</td>\n",
       "      <td>juventus-turin</td>\n",
       "      <td>Portugal</td>\n",
       "      <td>Forward</td>\n",
       "    </tr>\n",
       "    <tr>\n",
       "      <th>5</th>\n",
       "      <td>Romelu Lukaku</td>\n",
       "      <td>67.50</td>\n",
       "      <td>26</td>\n",
       "      <td>Centre-Forward</td>\n",
       "      <td>9</td>\n",
       "      <td>inter-milan</td>\n",
       "      <td>Belgium</td>\n",
       "      <td>Forward</td>\n",
       "    </tr>\n",
       "    <tr>\n",
       "      <th>6</th>\n",
       "      <td>Miralem Pjanic</td>\n",
       "      <td>63.00</td>\n",
       "      <td>29</td>\n",
       "      <td>Central Midfield</td>\n",
       "      <td>5</td>\n",
       "      <td>juventus-turin</td>\n",
       "      <td>Bosnia-Herzegovina</td>\n",
       "      <td>Midfield</td>\n",
       "    </tr>\n",
       "    <tr>\n",
       "      <th>7</th>\n",
       "      <td>Sergej Milinkovic-Savic</td>\n",
       "      <td>63.00</td>\n",
       "      <td>24</td>\n",
       "      <td>Central Midfield</td>\n",
       "      <td>21</td>\n",
       "      <td>lazio</td>\n",
       "      <td>Serbia</td>\n",
       "      <td>Midfield</td>\n",
       "    </tr>\n",
       "    <tr>\n",
       "      <th>8</th>\n",
       "      <td>Stefan de Vrij</td>\n",
       "      <td>54.00</td>\n",
       "      <td>27</td>\n",
       "      <td>Centre-Back</td>\n",
       "      <td>6</td>\n",
       "      <td>inter-milan</td>\n",
       "      <td>Netherlands</td>\n",
       "      <td>Defender</td>\n",
       "    </tr>\n",
       "    <tr>\n",
       "      <th>9</th>\n",
       "      <td>Fabián Ruiz</td>\n",
       "      <td>54.00</td>\n",
       "      <td>23</td>\n",
       "      <td>Central Midfield</td>\n",
       "      <td>8</td>\n",
       "      <td>ssc-napoli</td>\n",
       "      <td>Spain</td>\n",
       "      <td>Midfield</td>\n",
       "    </tr>\n",
       "    <tr>\n",
       "      <th>10</th>\n",
       "      <td>Marcelo Brozovic</td>\n",
       "      <td>54.00</td>\n",
       "      <td>27</td>\n",
       "      <td>Defensive Midfield</td>\n",
       "      <td>77</td>\n",
       "      <td>inter-milan</td>\n",
       "      <td>Croatia</td>\n",
       "      <td>Midfield</td>\n",
       "    </tr>\n",
       "    <tr>\n",
       "      <th>11</th>\n",
       "      <td>Lorenzo Insigne</td>\n",
       "      <td>54.00</td>\n",
       "      <td>28</td>\n",
       "      <td>Left Winger</td>\n",
       "      <td>24</td>\n",
       "      <td>ssc-napoli</td>\n",
       "      <td>Italy</td>\n",
       "      <td>Forward</td>\n",
       "    </tr>\n",
       "    <tr>\n",
       "      <th>12</th>\n",
       "      <td>Milan Skriniar</td>\n",
       "      <td>54.00</td>\n",
       "      <td>24</td>\n",
       "      <td>Centre-Back</td>\n",
       "      <td>37</td>\n",
       "      <td>inter-milan</td>\n",
       "      <td>Slovakia</td>\n",
       "      <td>Defender</td>\n",
       "    </tr>\n",
       "    <tr>\n",
       "      <th>13</th>\n",
       "      <td>Federico Chiesa</td>\n",
       "      <td>54.00</td>\n",
       "      <td>22</td>\n",
       "      <td>Right Winger</td>\n",
       "      <td>25</td>\n",
       "      <td>ac-florentina</td>\n",
       "      <td>Italy</td>\n",
       "      <td>Forward</td>\n",
       "    </tr>\n",
       "    <tr>\n",
       "      <th>14</th>\n",
       "      <td>Gianluigi Donnarumma</td>\n",
       "      <td>49.50</td>\n",
       "      <td>20</td>\n",
       "      <td>Goalkeeper</td>\n",
       "      <td>99</td>\n",
       "      <td>ac-milan</td>\n",
       "      <td>Italy</td>\n",
       "      <td>Goalkeeper</td>\n",
       "    </tr>\n",
       "    <tr>\n",
       "      <th>15</th>\n",
       "      <td>Nicolò Zaniolo</td>\n",
       "      <td>45.00</td>\n",
       "      <td>20</td>\n",
       "      <td>Attacking Midfield</td>\n",
       "      <td>22</td>\n",
       "      <td>as-roma</td>\n",
       "      <td>Italy</td>\n",
       "      <td>Midfield</td>\n",
       "    </tr>\n",
       "    <tr>\n",
       "      <th>16</th>\n",
       "      <td>Alex Sandro</td>\n",
       "      <td>45.00</td>\n",
       "      <td>28</td>\n",
       "      <td>Left-Back</td>\n",
       "      <td>12</td>\n",
       "      <td>juventus-turin</td>\n",
       "      <td>Brazil</td>\n",
       "      <td>Defender</td>\n",
       "    </tr>\n",
       "    <tr>\n",
       "      <th>17</th>\n",
       "      <td>Allan</td>\n",
       "      <td>45.00</td>\n",
       "      <td>29</td>\n",
       "      <td>Central Midfield</td>\n",
       "      <td>5</td>\n",
       "      <td>ssc-napoli</td>\n",
       "      <td>Brazil</td>\n",
       "      <td>Midfield</td>\n",
       "    </tr>\n",
       "    <tr>\n",
       "      <th>18</th>\n",
       "      <td>Ciro Immobile</td>\n",
       "      <td>40.50</td>\n",
       "      <td>29</td>\n",
       "      <td>Centre-Forward</td>\n",
       "      <td>17</td>\n",
       "      <td>lazio</td>\n",
       "      <td>Italy</td>\n",
       "      <td>Forward</td>\n",
       "    </tr>\n",
       "    <tr>\n",
       "      <th>19</th>\n",
       "      <td>Duván Zapata</td>\n",
       "      <td>40.50</td>\n",
       "      <td>28</td>\n",
       "      <td>Centre-Forward</td>\n",
       "      <td>91</td>\n",
       "      <td>atalanta</td>\n",
       "      <td>Colombia</td>\n",
       "      <td>Forward</td>\n",
       "    </tr>\n",
       "    <tr>\n",
       "      <th>20</th>\n",
       "      <td>Alessio Romagnoli</td>\n",
       "      <td>40.50</td>\n",
       "      <td>25</td>\n",
       "      <td>Centre-Back</td>\n",
       "      <td>13</td>\n",
       "      <td>ac-milan</td>\n",
       "      <td>Italy</td>\n",
       "      <td>Defender</td>\n",
       "    </tr>\n",
       "    <tr>\n",
       "      <th>21</th>\n",
       "      <td>Nicolò Barella</td>\n",
       "      <td>40.50</td>\n",
       "      <td>22</td>\n",
       "      <td>Central Midfield</td>\n",
       "      <td>23</td>\n",
       "      <td>inter-milan</td>\n",
       "      <td>Italy</td>\n",
       "      <td>Midfield</td>\n",
       "    </tr>\n",
       "    <tr>\n",
       "      <th>22</th>\n",
       "      <td>Arkadiusz Milik</td>\n",
       "      <td>36.00</td>\n",
       "      <td>25</td>\n",
       "      <td>Centre-Forward</td>\n",
       "      <td>99</td>\n",
       "      <td>ssc-napoli</td>\n",
       "      <td>Poland</td>\n",
       "      <td>Forward</td>\n",
       "    </tr>\n",
       "    <tr>\n",
       "      <th>23</th>\n",
       "      <td>Rodrigo Bentancur</td>\n",
       "      <td>36.00</td>\n",
       "      <td>22</td>\n",
       "      <td>Central Midfield</td>\n",
       "      <td>30</td>\n",
       "      <td>juventus-turin</td>\n",
       "      <td>Uruguay</td>\n",
       "      <td>Midfield</td>\n",
       "    </tr>\n",
       "    <tr>\n",
       "      <th>24</th>\n",
       "      <td>Luis Alberto</td>\n",
       "      <td>36.00</td>\n",
       "      <td>27</td>\n",
       "      <td>Attacking Midfield</td>\n",
       "      <td>10</td>\n",
       "      <td>lazio</td>\n",
       "      <td>Spain</td>\n",
       "      <td>Midfield</td>\n",
       "    </tr>\n",
       "    <tr>\n",
       "      <th>25</th>\n",
       "      <td>Lorenzo Pellegrini</td>\n",
       "      <td>36.00</td>\n",
       "      <td>23</td>\n",
       "      <td>Central Midfield</td>\n",
       "      <td>7</td>\n",
       "      <td>as-roma</td>\n",
       "      <td>Italy</td>\n",
       "      <td>Midfield</td>\n",
       "    </tr>\n",
       "    <tr>\n",
       "      <th>26</th>\n",
       "      <td>Piotr Zielinski</td>\n",
       "      <td>36.00</td>\n",
       "      <td>25</td>\n",
       "      <td>Central Midfield</td>\n",
       "      <td>20</td>\n",
       "      <td>ssc-napoli</td>\n",
       "      <td>Poland</td>\n",
       "      <td>Midfield</td>\n",
       "    </tr>\n",
       "    <tr>\n",
       "      <th>27</th>\n",
       "      <td>Aaron Ramsey</td>\n",
       "      <td>36.00</td>\n",
       "      <td>29</td>\n",
       "      <td>Central Midfield</td>\n",
       "      <td>8</td>\n",
       "      <td>juventus-turin</td>\n",
       "      <td>Wales</td>\n",
       "      <td>Midfield</td>\n",
       "    </tr>\n",
       "    <tr>\n",
       "      <th>28</th>\n",
       "      <td>Alex Meret</td>\n",
       "      <td>36.00</td>\n",
       "      <td>22</td>\n",
       "      <td>Goalkeeper</td>\n",
       "      <td>1</td>\n",
       "      <td>ssc-napoli</td>\n",
       "      <td>Italy</td>\n",
       "      <td>Goalkeeper</td>\n",
       "    </tr>\n",
       "    <tr>\n",
       "      <th>29</th>\n",
       "      <td>Hirving Lozano</td>\n",
       "      <td>36.00</td>\n",
       "      <td>24</td>\n",
       "      <td>Left Winger</td>\n",
       "      <td>11</td>\n",
       "      <td>ssc-napoli</td>\n",
       "      <td>Mexico</td>\n",
       "      <td>Forward</td>\n",
       "    </tr>\n",
       "    <tr>\n",
       "      <th>30</th>\n",
       "      <td>Wojciech Szczesny</td>\n",
       "      <td>36.00</td>\n",
       "      <td>29</td>\n",
       "      <td>Goalkeeper</td>\n",
       "      <td>1</td>\n",
       "      <td>juventus-turin</td>\n",
       "      <td>Poland</td>\n",
       "      <td>Goalkeeper</td>\n",
       "    </tr>\n",
       "    <tr>\n",
       "      <th>31</th>\n",
       "      <td>Andrea Belotti</td>\n",
       "      <td>36.00</td>\n",
       "      <td>26</td>\n",
       "      <td>Centre-Forward</td>\n",
       "      <td>9</td>\n",
       "      <td>torino</td>\n",
       "      <td>Italy</td>\n",
       "      <td>Forward</td>\n",
       "    </tr>\n",
       "    <tr>\n",
       "      <th>32</th>\n",
       "      <td>Federico Bernardeschi</td>\n",
       "      <td>36.00</td>\n",
       "      <td>25</td>\n",
       "      <td>Right Winger</td>\n",
       "      <td>33</td>\n",
       "      <td>juventus-turin</td>\n",
       "      <td>Italy</td>\n",
       "      <td>Forward</td>\n",
       "    </tr>\n",
       "    <tr>\n",
       "      <th>33</th>\n",
       "      <td>Konstantinos Manolas</td>\n",
       "      <td>36.00</td>\n",
       "      <td>28</td>\n",
       "      <td>Centre-Back</td>\n",
       "      <td>44</td>\n",
       "      <td>ssc-napoli</td>\n",
       "      <td>Greece</td>\n",
       "      <td>Defender</td>\n",
       "    </tr>\n",
       "    <tr>\n",
       "      <th>34</th>\n",
       "      <td>Joaquín Correa</td>\n",
       "      <td>34.20</td>\n",
       "      <td>25</td>\n",
       "      <td>Second Striker</td>\n",
       "      <td>11</td>\n",
       "      <td>lazio</td>\n",
       "      <td>Argentina</td>\n",
       "      <td>Forward</td>\n",
       "    </tr>\n",
       "    <tr>\n",
       "      <th>35</th>\n",
       "      <td>Douglas Costa</td>\n",
       "      <td>34.20</td>\n",
       "      <td>29</td>\n",
       "      <td>Right Winger</td>\n",
       "      <td>11</td>\n",
       "      <td>juventus-turin</td>\n",
       "      <td>Brazil</td>\n",
       "      <td>Forward</td>\n",
       "    </tr>\n",
       "    <tr>\n",
       "      <th>36</th>\n",
       "      <td>Cengiz Ünder</td>\n",
       "      <td>31.50</td>\n",
       "      <td>22</td>\n",
       "      <td>Right Winger</td>\n",
       "      <td>17</td>\n",
       "      <td>as-roma</td>\n",
       "      <td>Turkey</td>\n",
       "      <td>Forward</td>\n",
       "    </tr>\n",
       "    <tr>\n",
       "      <th>37</th>\n",
       "      <td>Lucas Paquetá</td>\n",
       "      <td>29.70</td>\n",
       "      <td>22</td>\n",
       "      <td>Attacking Midfield</td>\n",
       "      <td>39</td>\n",
       "      <td>ac-milan</td>\n",
       "      <td>Brazil</td>\n",
       "      <td>Midfield</td>\n",
       "    </tr>\n",
       "    <tr>\n",
       "      <th>38</th>\n",
       "      <td>Krzysztof Piatek</td>\n",
       "      <td>28.80</td>\n",
       "      <td>24</td>\n",
       "      <td>Centre-Forward</td>\n",
       "      <td>9</td>\n",
       "      <td>ac-milan</td>\n",
       "      <td>Poland</td>\n",
       "      <td>Forward</td>\n",
       "    </tr>\n",
       "    <tr>\n",
       "      <th>39</th>\n",
       "      <td>Adrien Rabiot</td>\n",
       "      <td>28.80</td>\n",
       "      <td>24</td>\n",
       "      <td>Central Midfield</td>\n",
       "      <td>25</td>\n",
       "      <td>juventus-turin</td>\n",
       "      <td>France</td>\n",
       "      <td>Midfield</td>\n",
       "    </tr>\n",
       "    <tr>\n",
       "      <th>40</th>\n",
       "      <td>Gonzalo Higuaín</td>\n",
       "      <td>28.80</td>\n",
       "      <td>32</td>\n",
       "      <td>Centre-Forward</td>\n",
       "      <td>21</td>\n",
       "      <td>juventus-turin</td>\n",
       "      <td>Argentina</td>\n",
       "      <td>Forward</td>\n",
       "    </tr>\n",
       "    <tr>\n",
       "      <th>41</th>\n",
       "      <td>Emre Can</td>\n",
       "      <td>27.00</td>\n",
       "      <td>26</td>\n",
       "      <td>Defensive Midfield</td>\n",
       "      <td>23</td>\n",
       "      <td>juventus-turin</td>\n",
       "      <td>Germany</td>\n",
       "      <td>Midfield</td>\n",
       "    </tr>\n",
       "    <tr>\n",
       "      <th>42</th>\n",
       "      <td>Stefano Sensi</td>\n",
       "      <td>27.00</td>\n",
       "      <td>24</td>\n",
       "      <td>Central Midfield</td>\n",
       "      <td>12</td>\n",
       "      <td>inter-milan</td>\n",
       "      <td>Italy</td>\n",
       "      <td>Midfield</td>\n",
       "    </tr>\n",
       "    <tr>\n",
       "      <th>43</th>\n",
       "      <td>Nikola Milenkovic</td>\n",
       "      <td>27.00</td>\n",
       "      <td>22</td>\n",
       "      <td>Centre-Back</td>\n",
       "      <td>4</td>\n",
       "      <td>ac-florentina</td>\n",
       "      <td>Serbia</td>\n",
       "      <td>Defender</td>\n",
       "    </tr>\n",
       "    <tr>\n",
       "      <th>44</th>\n",
       "      <td>Sandro Tonali</td>\n",
       "      <td>27.00</td>\n",
       "      <td>19</td>\n",
       "      <td>Defensive Midfield</td>\n",
       "      <td>4</td>\n",
       "      <td>brescia</td>\n",
       "      <td>Italy</td>\n",
       "      <td>Midfield</td>\n",
       "    </tr>\n",
       "    <tr>\n",
       "      <th>45</th>\n",
       "      <td>Suso</td>\n",
       "      <td>27.00</td>\n",
       "      <td>26</td>\n",
       "      <td>Right Winger</td>\n",
       "      <td>8</td>\n",
       "      <td>ac-milan</td>\n",
       "      <td>Spain</td>\n",
       "      <td>Forward</td>\n",
       "    </tr>\n",
       "    <tr>\n",
       "      <th>46</th>\n",
       "      <td>Ante Rebic</td>\n",
       "      <td>27.00</td>\n",
       "      <td>26</td>\n",
       "      <td>Second Striker</td>\n",
       "      <td>18</td>\n",
       "      <td>ac-milan</td>\n",
       "      <td>Croatia</td>\n",
       "      <td>Forward</td>\n",
       "    </tr>\n",
       "    <tr>\n",
       "      <th>47</th>\n",
       "      <td>Matteo Politano</td>\n",
       "      <td>25.20</td>\n",
       "      <td>26</td>\n",
       "      <td>Right Winger</td>\n",
       "      <td>16</td>\n",
       "      <td>inter-milan</td>\n",
       "      <td>Italy</td>\n",
       "      <td>Forward</td>\n",
       "    </tr>\n",
       "    <tr>\n",
       "      <th>48</th>\n",
       "      <td>Gianluca Mancini</td>\n",
       "      <td>25.20</td>\n",
       "      <td>23</td>\n",
       "      <td>Centre-Back</td>\n",
       "      <td>23</td>\n",
       "      <td>as-roma</td>\n",
       "      <td>Italy</td>\n",
       "      <td>Defender</td>\n",
       "    </tr>\n",
       "    <tr>\n",
       "      <th>49</th>\n",
       "      <td>Nahitan Nández</td>\n",
       "      <td>23.40</td>\n",
       "      <td>24</td>\n",
       "      <td>Central Midfield</td>\n",
       "      <td>18</td>\n",
       "      <td>cagliari-calcio</td>\n",
       "      <td>Uruguay</td>\n",
       "      <td>Midfield</td>\n",
       "    </tr>\n",
       "    <tr>\n",
       "      <th>...</th>\n",
       "      <td>...</td>\n",
       "      <td>...</td>\n",
       "      <td>...</td>\n",
       "      <td>...</td>\n",
       "      <td>...</td>\n",
       "      <td>...</td>\n",
       "      <td>...</td>\n",
       "      <td>...</td>\n",
       "    </tr>\n",
       "    <tr>\n",
       "      <th>486</th>\n",
       "      <td>Silvio Proto</td>\n",
       "      <td>0.36</td>\n",
       "      <td>36</td>\n",
       "      <td>Goalkeeper</td>\n",
       "      <td>24</td>\n",
       "      <td>lazio</td>\n",
       "      <td>Belgium</td>\n",
       "      <td>Goalkeeper</td>\n",
       "    </tr>\n",
       "    <tr>\n",
       "      <th>487</th>\n",
       "      <td>Nehuén Paz</td>\n",
       "      <td>0.36</td>\n",
       "      <td>26</td>\n",
       "      <td>Centre-Back</td>\n",
       "      <td>6</td>\n",
       "      <td>fc-bologna</td>\n",
       "      <td>Argentina</td>\n",
       "      <td>Defender</td>\n",
       "    </tr>\n",
       "    <tr>\n",
       "      <th>488</th>\n",
       "      <td>Mattia Viviani</td>\n",
       "      <td>0.36</td>\n",
       "      <td>19</td>\n",
       "      <td>Defensive Midfield</td>\n",
       "      <td>24</td>\n",
       "      <td>brescia</td>\n",
       "      <td>Italy</td>\n",
       "      <td>Midfield</td>\n",
       "    </tr>\n",
       "    <tr>\n",
       "      <th>489</th>\n",
       "      <td>Giampaolo Pazzini</td>\n",
       "      <td>0.36</td>\n",
       "      <td>35</td>\n",
       "      <td>Centre-Forward</td>\n",
       "      <td>11</td>\n",
       "      <td>hellas-verona</td>\n",
       "      <td>Italy</td>\n",
       "      <td>Forward</td>\n",
       "    </tr>\n",
       "    <tr>\n",
       "      <th>490</th>\n",
       "      <td>Daniele Ragatzu</td>\n",
       "      <td>0.36</td>\n",
       "      <td>28</td>\n",
       "      <td>Second Striker</td>\n",
       "      <td>26</td>\n",
       "      <td>cagliari-calcio</td>\n",
       "      <td>Italy</td>\n",
       "      <td>Forward</td>\n",
       "    </tr>\n",
       "    <tr>\n",
       "      <th>491</th>\n",
       "      <td>Leandrinho</td>\n",
       "      <td>0.36</td>\n",
       "      <td>21</td>\n",
       "      <td>Left Winger</td>\n",
       "      <td>98</td>\n",
       "      <td>ssc-napoli</td>\n",
       "      <td>Brazil</td>\n",
       "      <td>Forward</td>\n",
       "    </tr>\n",
       "    <tr>\n",
       "      <th>492</th>\n",
       "      <td>Felipe</td>\n",
       "      <td>0.36</td>\n",
       "      <td>35</td>\n",
       "      <td>Centre-Back</td>\n",
       "      <td>27</td>\n",
       "      <td>spal</td>\n",
       "      <td>Brazil</td>\n",
       "      <td>Defender</td>\n",
       "    </tr>\n",
       "    <tr>\n",
       "      <th>493</th>\n",
       "      <td>Luigi Vitale</td>\n",
       "      <td>0.36</td>\n",
       "      <td>32</td>\n",
       "      <td>Left-Back</td>\n",
       "      <td>3</td>\n",
       "      <td>hellas-verona</td>\n",
       "      <td>Italy</td>\n",
       "      <td>Defender</td>\n",
       "    </tr>\n",
       "    <tr>\n",
       "      <th>494</th>\n",
       "      <td>Djavan Anderson</td>\n",
       "      <td>0.27</td>\n",
       "      <td>24</td>\n",
       "      <td>Right Midfield</td>\n",
       "      <td>8</td>\n",
       "      <td>lazio</td>\n",
       "      <td>Netherlands</td>\n",
       "      <td>Midfield</td>\n",
       "    </tr>\n",
       "    <tr>\n",
       "      <th>495</th>\n",
       "      <td>Andrea Seculin</td>\n",
       "      <td>0.27</td>\n",
       "      <td>29</td>\n",
       "      <td>Goalkeeper</td>\n",
       "      <td>22</td>\n",
       "      <td>uc-sampdoria</td>\n",
       "      <td>Italy</td>\n",
       "      <td>Goalkeeper</td>\n",
       "    </tr>\n",
       "    <tr>\n",
       "      <th>496</th>\n",
       "      <td>Fabrizio Alastra</td>\n",
       "      <td>0.27</td>\n",
       "      <td>22</td>\n",
       "      <td>Goalkeeper</td>\n",
       "      <td>53</td>\n",
       "      <td>fc-parma</td>\n",
       "      <td>Italy</td>\n",
       "      <td>Goalkeeper</td>\n",
       "    </tr>\n",
       "    <tr>\n",
       "      <th>497</th>\n",
       "      <td>Guido Guerrieri</td>\n",
       "      <td>0.27</td>\n",
       "      <td>23</td>\n",
       "      <td>Goalkeeper</td>\n",
       "      <td>23</td>\n",
       "      <td>lazio</td>\n",
       "      <td>Italy</td>\n",
       "      <td>Goalkeeper</td>\n",
       "    </tr>\n",
       "    <tr>\n",
       "      <th>498</th>\n",
       "      <td>Emerson Espinoza</td>\n",
       "      <td>0.27</td>\n",
       "      <td>18</td>\n",
       "      <td>Defensive Midfield</td>\n",
       "      <td>-</td>\n",
       "      <td>fc-parma</td>\n",
       "      <td>Ecuador</td>\n",
       "      <td>Midfield</td>\n",
       "    </tr>\n",
       "    <tr>\n",
       "      <th>499</th>\n",
       "      <td>Cyril Théréau</td>\n",
       "      <td>0.27</td>\n",
       "      <td>36</td>\n",
       "      <td>Second Striker</td>\n",
       "      <td>77</td>\n",
       "      <td>ac-florentina</td>\n",
       "      <td>France</td>\n",
       "      <td>Forward</td>\n",
       "    </tr>\n",
       "    <tr>\n",
       "      <th>500</th>\n",
       "      <td>Sergio Floccari</td>\n",
       "      <td>0.27</td>\n",
       "      <td>38</td>\n",
       "      <td>Centre-Forward</td>\n",
       "      <td>10</td>\n",
       "      <td>spal</td>\n",
       "      <td>Italy</td>\n",
       "      <td>Forward</td>\n",
       "    </tr>\n",
       "    <tr>\n",
       "      <th>501</th>\n",
       "      <td>Daniele Gastaldello</td>\n",
       "      <td>0.27</td>\n",
       "      <td>36</td>\n",
       "      <td>Centre-Back</td>\n",
       "      <td>5</td>\n",
       "      <td>brescia</td>\n",
       "      <td>Italy</td>\n",
       "      <td>Defender</td>\n",
       "    </tr>\n",
       "    <tr>\n",
       "      <th>502</th>\n",
       "      <td>Alessandro Matri</td>\n",
       "      <td>0.27</td>\n",
       "      <td>35</td>\n",
       "      <td>Centre-Forward</td>\n",
       "      <td>21</td>\n",
       "      <td>brescia</td>\n",
       "      <td>Italy</td>\n",
       "      <td>Forward</td>\n",
       "    </tr>\n",
       "    <tr>\n",
       "      <th>503</th>\n",
       "      <td>Emanuele Rovini</td>\n",
       "      <td>0.22</td>\n",
       "      <td>24</td>\n",
       "      <td>Centre-Forward</td>\n",
       "      <td>40</td>\n",
       "      <td>udinese-calcio</td>\n",
       "      <td>Italy</td>\n",
       "      <td>Forward</td>\n",
       "    </tr>\n",
       "    <tr>\n",
       "      <th>504</th>\n",
       "      <td>Antonino Gallo</td>\n",
       "      <td>0.18</td>\n",
       "      <td>20</td>\n",
       "      <td>Left-Back</td>\n",
       "      <td>25</td>\n",
       "      <td>us-lecce</td>\n",
       "      <td>Italy</td>\n",
       "      <td>Defender</td>\n",
       "    </tr>\n",
       "    <tr>\n",
       "      <th>505</th>\n",
       "      <td>Antonio Rosati</td>\n",
       "      <td>0.18</td>\n",
       "      <td>36</td>\n",
       "      <td>Goalkeeper</td>\n",
       "      <td>25</td>\n",
       "      <td>torino</td>\n",
       "      <td>Italy</td>\n",
       "      <td>Goalkeeper</td>\n",
       "    </tr>\n",
       "    <tr>\n",
       "      <th>506</th>\n",
       "      <td>Samir Ujkani</td>\n",
       "      <td>0.18</td>\n",
       "      <td>31</td>\n",
       "      <td>Goalkeeper</td>\n",
       "      <td>18</td>\n",
       "      <td>torino</td>\n",
       "      <td>Kosovo</td>\n",
       "      <td>Goalkeeper</td>\n",
       "    </tr>\n",
       "    <tr>\n",
       "      <th>507</th>\n",
       "      <td>Alessandro Russo</td>\n",
       "      <td>0.18</td>\n",
       "      <td>18</td>\n",
       "      <td>Goalkeeper</td>\n",
       "      <td>64</td>\n",
       "      <td>us-sassuolo</td>\n",
       "      <td>Italy</td>\n",
       "      <td>Goalkeeper</td>\n",
       "    </tr>\n",
       "    <tr>\n",
       "      <th>508</th>\n",
       "      <td>Angelo da Costa</td>\n",
       "      <td>0.18</td>\n",
       "      <td>36</td>\n",
       "      <td>Goalkeeper</td>\n",
       "      <td>1</td>\n",
       "      <td>fc-bologna</td>\n",
       "      <td>Brazil</td>\n",
       "      <td>Goalkeeper</td>\n",
       "    </tr>\n",
       "    <tr>\n",
       "      <th>509</th>\n",
       "      <td>Ivan Vargic</td>\n",
       "      <td>0.18</td>\n",
       "      <td>32</td>\n",
       "      <td>Goalkeeper</td>\n",
       "      <td>-</td>\n",
       "      <td>lazio</td>\n",
       "      <td>Croatia</td>\n",
       "      <td>Goalkeeper</td>\n",
       "    </tr>\n",
       "    <tr>\n",
       "      <th>510</th>\n",
       "      <td>Rafael</td>\n",
       "      <td>0.18</td>\n",
       "      <td>37</td>\n",
       "      <td>Goalkeeper</td>\n",
       "      <td>1</td>\n",
       "      <td>cagliari-calcio</td>\n",
       "      <td>Brazil</td>\n",
       "      <td>Goalkeeper</td>\n",
       "    </tr>\n",
       "    <tr>\n",
       "      <th>511</th>\n",
       "      <td>Federico Marchetti</td>\n",
       "      <td>0.18</td>\n",
       "      <td>36</td>\n",
       "      <td>Goalkeeper</td>\n",
       "      <td>22</td>\n",
       "      <td>genoa</td>\n",
       "      <td>Italy</td>\n",
       "      <td>Goalkeeper</td>\n",
       "    </tr>\n",
       "    <tr>\n",
       "      <th>512</th>\n",
       "      <td>Wesley</td>\n",
       "      <td>0.18</td>\n",
       "      <td>19</td>\n",
       "      <td>Right-Back</td>\n",
       "      <td>30</td>\n",
       "      <td>hellas-verona</td>\n",
       "      <td>Brazil</td>\n",
       "      <td>Defender</td>\n",
       "    </tr>\n",
       "    <tr>\n",
       "      <th>513</th>\n",
       "      <td>Alessandro Semprini</td>\n",
       "      <td>0.18</td>\n",
       "      <td>21</td>\n",
       "      <td>Right-Back</td>\n",
       "      <td>29</td>\n",
       "      <td>brescia</td>\n",
       "      <td>Italy</td>\n",
       "      <td>Defender</td>\n",
       "    </tr>\n",
       "    <tr>\n",
       "      <th>514</th>\n",
       "      <td>Massimiliano Mangraviti</td>\n",
       "      <td>0.18</td>\n",
       "      <td>21</td>\n",
       "      <td>Centre-Back</td>\n",
       "      <td>19</td>\n",
       "      <td>brescia</td>\n",
       "      <td>Italy</td>\n",
       "      <td>Defender</td>\n",
       "    </tr>\n",
       "    <tr>\n",
       "      <th>515</th>\n",
       "      <td>Nicolò Armini</td>\n",
       "      <td>0.18</td>\n",
       "      <td>18</td>\n",
       "      <td>Centre-Back</td>\n",
       "      <td>13</td>\n",
       "      <td>lazio</td>\n",
       "      <td>Italy</td>\n",
       "      <td>Defender</td>\n",
       "    </tr>\n",
       "    <tr>\n",
       "      <th>516</th>\n",
       "      <td>Radoslav Tsonev</td>\n",
       "      <td>0.18</td>\n",
       "      <td>24</td>\n",
       "      <td>Central Midfield</td>\n",
       "      <td>-</td>\n",
       "      <td>us-lecce</td>\n",
       "      <td>Bulgaria</td>\n",
       "      <td>Midfield</td>\n",
       "    </tr>\n",
       "    <tr>\n",
       "      <th>517</th>\n",
       "      <td>Samuele Perisan</td>\n",
       "      <td>0.14</td>\n",
       "      <td>22</td>\n",
       "      <td>Goalkeeper</td>\n",
       "      <td>27</td>\n",
       "      <td>udinese-calcio</td>\n",
       "      <td>Italy</td>\n",
       "      <td>Goalkeeper</td>\n",
       "    </tr>\n",
       "    <tr>\n",
       "      <th>518</th>\n",
       "      <td>Davide Riccardi</td>\n",
       "      <td>0.14</td>\n",
       "      <td>23</td>\n",
       "      <td>Centre-Back</td>\n",
       "      <td>2</td>\n",
       "      <td>us-lecce</td>\n",
       "      <td>Italy</td>\n",
       "      <td>Defender</td>\n",
       "    </tr>\n",
       "    <tr>\n",
       "      <th>519</th>\n",
       "      <td>Leonardo Fontanesi</td>\n",
       "      <td>0.14</td>\n",
       "      <td>23</td>\n",
       "      <td>Centre-Back</td>\n",
       "      <td>96</td>\n",
       "      <td>us-sassuolo</td>\n",
       "      <td>Italy</td>\n",
       "      <td>Defender</td>\n",
       "    </tr>\n",
       "    <tr>\n",
       "      <th>520</th>\n",
       "      <td>Wilfried Stephane Singo</td>\n",
       "      <td>0.14</td>\n",
       "      <td>19</td>\n",
       "      <td>Centre-Back</td>\n",
       "      <td>17</td>\n",
       "      <td>torino</td>\n",
       "      <td>Cote d'Ivoire</td>\n",
       "      <td>Defender</td>\n",
       "    </tr>\n",
       "    <tr>\n",
       "      <th>521</th>\n",
       "      <td>Gianluca Pegolo</td>\n",
       "      <td>0.14</td>\n",
       "      <td>38</td>\n",
       "      <td>Goalkeeper</td>\n",
       "      <td>56</td>\n",
       "      <td>us-sassuolo</td>\n",
       "      <td>Italy</td>\n",
       "      <td>Goalkeeper</td>\n",
       "    </tr>\n",
       "    <tr>\n",
       "      <th>522</th>\n",
       "      <td>Marco Bleve</td>\n",
       "      <td>0.14</td>\n",
       "      <td>24</td>\n",
       "      <td>Goalkeeper</td>\n",
       "      <td>95</td>\n",
       "      <td>us-lecce</td>\n",
       "      <td>Italy</td>\n",
       "      <td>Goalkeeper</td>\n",
       "    </tr>\n",
       "    <tr>\n",
       "      <th>523</th>\n",
       "      <td>Wladimiro Falcone</td>\n",
       "      <td>0.14</td>\n",
       "      <td>24</td>\n",
       "      <td>Goalkeeper</td>\n",
       "      <td>30</td>\n",
       "      <td>uc-sampdoria</td>\n",
       "      <td>Italy</td>\n",
       "      <td>Goalkeeper</td>\n",
       "    </tr>\n",
       "    <tr>\n",
       "      <th>524</th>\n",
       "      <td>Lorenzo Andrenacci</td>\n",
       "      <td>0.09</td>\n",
       "      <td>25</td>\n",
       "      <td>Goalkeeper</td>\n",
       "      <td>12</td>\n",
       "      <td>brescia</td>\n",
       "      <td>Italy</td>\n",
       "      <td>Goalkeeper</td>\n",
       "    </tr>\n",
       "    <tr>\n",
       "      <th>525</th>\n",
       "      <td>Francesco Rossi</td>\n",
       "      <td>0.09</td>\n",
       "      <td>28</td>\n",
       "      <td>Goalkeeper</td>\n",
       "      <td>31</td>\n",
       "      <td>atalanta</td>\n",
       "      <td>Italy</td>\n",
       "      <td>Goalkeeper</td>\n",
       "    </tr>\n",
       "    <tr>\n",
       "      <th>526</th>\n",
       "      <td>Edgaras Dubickas</td>\n",
       "      <td>0.09</td>\n",
       "      <td>21</td>\n",
       "      <td>Second Striker</td>\n",
       "      <td>20</td>\n",
       "      <td>us-lecce</td>\n",
       "      <td>Lithuania</td>\n",
       "      <td>Forward</td>\n",
       "    </tr>\n",
       "    <tr>\n",
       "      <th>527</th>\n",
       "      <td>Demba Thiam</td>\n",
       "      <td>0.09</td>\n",
       "      <td>21</td>\n",
       "      <td>Goalkeeper</td>\n",
       "      <td>22</td>\n",
       "      <td>spal</td>\n",
       "      <td>France</td>\n",
       "      <td>Goalkeeper</td>\n",
       "    </tr>\n",
       "    <tr>\n",
       "      <th>528</th>\n",
       "      <td>Tommaso Berni</td>\n",
       "      <td>0.09</td>\n",
       "      <td>36</td>\n",
       "      <td>Goalkeeper</td>\n",
       "      <td>46</td>\n",
       "      <td>inter-milan</td>\n",
       "      <td>Italy</td>\n",
       "      <td>Goalkeeper</td>\n",
       "    </tr>\n",
       "    <tr>\n",
       "      <th>529</th>\n",
       "      <td>Riccardo Mastrilli</td>\n",
       "      <td>0.09</td>\n",
       "      <td>22</td>\n",
       "      <td>Left-Back</td>\n",
       "      <td>98</td>\n",
       "      <td>spal</td>\n",
       "      <td>Italy</td>\n",
       "      <td>Defender</td>\n",
       "    </tr>\n",
       "    <tr>\n",
       "      <th>530</th>\n",
       "      <td>Mouhamadou Sarr</td>\n",
       "      <td>0.09</td>\n",
       "      <td>23</td>\n",
       "      <td>Goalkeeper</td>\n",
       "      <td>97</td>\n",
       "      <td>fc-bologna</td>\n",
       "      <td>Senegal</td>\n",
       "      <td>Goalkeeper</td>\n",
       "    </tr>\n",
       "    <tr>\n",
       "      <th>531</th>\n",
       "      <td>Lucas Felippe</td>\n",
       "      <td>0.07</td>\n",
       "      <td>19</td>\n",
       "      <td>Central Midfield</td>\n",
       "      <td>18</td>\n",
       "      <td>hellas-verona</td>\n",
       "      <td>Brazil</td>\n",
       "      <td>Midfield</td>\n",
       "    </tr>\n",
       "    <tr>\n",
       "      <th>532</th>\n",
       "      <td>Jorge Silva</td>\n",
       "      <td>0.04</td>\n",
       "      <td>20</td>\n",
       "      <td>Centre-Back</td>\n",
       "      <td>49</td>\n",
       "      <td>lazio</td>\n",
       "      <td>Portugal</td>\n",
       "      <td>Defender</td>\n",
       "    </tr>\n",
       "    <tr>\n",
       "      <th>533</th>\n",
       "      <td>Paolo Cannistrà</td>\n",
       "      <td>0.04</td>\n",
       "      <td>19</td>\n",
       "      <td>Centre-Back</td>\n",
       "      <td>67</td>\n",
       "      <td>spal</td>\n",
       "      <td>Italy</td>\n",
       "      <td>Defender</td>\n",
       "    </tr>\n",
       "    <tr>\n",
       "      <th>534</th>\n",
       "      <td>Alessandro Berardi</td>\n",
       "      <td>0.04</td>\n",
       "      <td>29</td>\n",
       "      <td>Goalkeeper</td>\n",
       "      <td>22</td>\n",
       "      <td>hellas-verona</td>\n",
       "      <td>Italy</td>\n",
       "      <td>Goalkeeper</td>\n",
       "    </tr>\n",
       "    <tr>\n",
       "      <th>535</th>\n",
       "      <td>Gianmarco Chironi</td>\n",
       "      <td>0.04</td>\n",
       "      <td>22</td>\n",
       "      <td>Goalkeeper</td>\n",
       "      <td>97</td>\n",
       "      <td>us-lecce</td>\n",
       "      <td>Italy</td>\n",
       "      <td>Goalkeeper</td>\n",
       "    </tr>\n",
       "  </tbody>\n",
       "</table>\n",
       "<p>536 rows × 8 columns</p>\n",
       "</div>"
      ],
      "text/plain": [
       "                      Player  Value  Age            Position Number  \\\n",
       "0               Paulo Dybala  76.50   26      Second Striker     10   \n",
       "1           Lautaro Martínez  72.00   22      Centre-Forward     10   \n",
       "2          Kalidou Koulibaly  67.50   28         Centre-Back     26   \n",
       "3           Matthijs de Ligt  67.50   20         Centre-Back      4   \n",
       "4          Cristiano Ronaldo  67.50   34         Left Winger      7   \n",
       "5              Romelu Lukaku  67.50   26      Centre-Forward      9   \n",
       "6             Miralem Pjanic  63.00   29    Central Midfield      5   \n",
       "7    Sergej Milinkovic-Savic  63.00   24    Central Midfield     21   \n",
       "8             Stefan de Vrij  54.00   27         Centre-Back      6   \n",
       "9                Fabián Ruiz  54.00   23    Central Midfield      8   \n",
       "10          Marcelo Brozovic  54.00   27  Defensive Midfield     77   \n",
       "11           Lorenzo Insigne  54.00   28         Left Winger     24   \n",
       "12            Milan Skriniar  54.00   24         Centre-Back     37   \n",
       "13           Federico Chiesa  54.00   22        Right Winger     25   \n",
       "14      Gianluigi Donnarumma  49.50   20          Goalkeeper     99   \n",
       "15            Nicolò Zaniolo  45.00   20  Attacking Midfield     22   \n",
       "16               Alex Sandro  45.00   28           Left-Back     12   \n",
       "17                     Allan  45.00   29    Central Midfield      5   \n",
       "18             Ciro Immobile  40.50   29      Centre-Forward     17   \n",
       "19              Duván Zapata  40.50   28      Centre-Forward     91   \n",
       "20         Alessio Romagnoli  40.50   25         Centre-Back     13   \n",
       "21            Nicolò Barella  40.50   22    Central Midfield     23   \n",
       "22           Arkadiusz Milik  36.00   25      Centre-Forward     99   \n",
       "23         Rodrigo Bentancur  36.00   22    Central Midfield     30   \n",
       "24              Luis Alberto  36.00   27  Attacking Midfield     10   \n",
       "25        Lorenzo Pellegrini  36.00   23    Central Midfield      7   \n",
       "26           Piotr Zielinski  36.00   25    Central Midfield     20   \n",
       "27              Aaron Ramsey  36.00   29    Central Midfield      8   \n",
       "28                Alex Meret  36.00   22          Goalkeeper      1   \n",
       "29            Hirving Lozano  36.00   24         Left Winger     11   \n",
       "30         Wojciech Szczesny  36.00   29          Goalkeeper      1   \n",
       "31            Andrea Belotti  36.00   26      Centre-Forward      9   \n",
       "32     Federico Bernardeschi  36.00   25        Right Winger     33   \n",
       "33      Konstantinos Manolas  36.00   28         Centre-Back     44   \n",
       "34            Joaquín Correa  34.20   25      Second Striker     11   \n",
       "35             Douglas Costa  34.20   29        Right Winger     11   \n",
       "36              Cengiz Ünder  31.50   22        Right Winger     17   \n",
       "37             Lucas Paquetá  29.70   22  Attacking Midfield     39   \n",
       "38          Krzysztof Piatek  28.80   24      Centre-Forward      9   \n",
       "39             Adrien Rabiot  28.80   24    Central Midfield     25   \n",
       "40           Gonzalo Higuaín  28.80   32      Centre-Forward     21   \n",
       "41                  Emre Can  27.00   26  Defensive Midfield     23   \n",
       "42             Stefano Sensi  27.00   24    Central Midfield     12   \n",
       "43         Nikola Milenkovic  27.00   22         Centre-Back      4   \n",
       "44             Sandro Tonali  27.00   19  Defensive Midfield      4   \n",
       "45                      Suso  27.00   26        Right Winger      8   \n",
       "46                Ante Rebic  27.00   26      Second Striker     18   \n",
       "47           Matteo Politano  25.20   26        Right Winger     16   \n",
       "48          Gianluca Mancini  25.20   23         Centre-Back     23   \n",
       "49            Nahitan Nández  23.40   24    Central Midfield     18   \n",
       "..                       ...    ...  ...                 ...    ...   \n",
       "486             Silvio Proto   0.36   36          Goalkeeper     24   \n",
       "487               Nehuén Paz   0.36   26         Centre-Back      6   \n",
       "488           Mattia Viviani   0.36   19  Defensive Midfield     24   \n",
       "489        Giampaolo Pazzini   0.36   35      Centre-Forward     11   \n",
       "490          Daniele Ragatzu   0.36   28      Second Striker     26   \n",
       "491               Leandrinho   0.36   21         Left Winger     98   \n",
       "492                   Felipe   0.36   35         Centre-Back     27   \n",
       "493             Luigi Vitale   0.36   32           Left-Back      3   \n",
       "494          Djavan Anderson   0.27   24      Right Midfield      8   \n",
       "495           Andrea Seculin   0.27   29          Goalkeeper     22   \n",
       "496         Fabrizio Alastra   0.27   22          Goalkeeper     53   \n",
       "497          Guido Guerrieri   0.27   23          Goalkeeper     23   \n",
       "498         Emerson Espinoza   0.27   18  Defensive Midfield      -   \n",
       "499            Cyril Théréau   0.27   36      Second Striker     77   \n",
       "500          Sergio Floccari   0.27   38      Centre-Forward     10   \n",
       "501      Daniele Gastaldello   0.27   36         Centre-Back      5   \n",
       "502         Alessandro Matri   0.27   35      Centre-Forward     21   \n",
       "503          Emanuele Rovini   0.22   24      Centre-Forward     40   \n",
       "504           Antonino Gallo   0.18   20           Left-Back     25   \n",
       "505           Antonio Rosati   0.18   36          Goalkeeper     25   \n",
       "506             Samir Ujkani   0.18   31          Goalkeeper     18   \n",
       "507         Alessandro Russo   0.18   18          Goalkeeper     64   \n",
       "508          Angelo da Costa   0.18   36          Goalkeeper      1   \n",
       "509              Ivan Vargic   0.18   32          Goalkeeper      -   \n",
       "510                   Rafael   0.18   37          Goalkeeper      1   \n",
       "511       Federico Marchetti   0.18   36          Goalkeeper     22   \n",
       "512                   Wesley   0.18   19          Right-Back     30   \n",
       "513      Alessandro Semprini   0.18   21          Right-Back     29   \n",
       "514  Massimiliano Mangraviti   0.18   21         Centre-Back     19   \n",
       "515            Nicolò Armini   0.18   18         Centre-Back     13   \n",
       "516          Radoslav Tsonev   0.18   24    Central Midfield      -   \n",
       "517          Samuele Perisan   0.14   22          Goalkeeper     27   \n",
       "518          Davide Riccardi   0.14   23         Centre-Back      2   \n",
       "519       Leonardo Fontanesi   0.14   23         Centre-Back     96   \n",
       "520  Wilfried Stephane Singo   0.14   19         Centre-Back     17   \n",
       "521          Gianluca Pegolo   0.14   38          Goalkeeper     56   \n",
       "522              Marco Bleve   0.14   24          Goalkeeper     95   \n",
       "523        Wladimiro Falcone   0.14   24          Goalkeeper     30   \n",
       "524       Lorenzo Andrenacci   0.09   25          Goalkeeper     12   \n",
       "525          Francesco Rossi   0.09   28          Goalkeeper     31   \n",
       "526         Edgaras Dubickas   0.09   21      Second Striker     20   \n",
       "527              Demba Thiam   0.09   21          Goalkeeper     22   \n",
       "528            Tommaso Berni   0.09   36          Goalkeeper     46   \n",
       "529       Riccardo Mastrilli   0.09   22           Left-Back     98   \n",
       "530          Mouhamadou Sarr   0.09   23          Goalkeeper     97   \n",
       "531            Lucas Felippe   0.07   19    Central Midfield     18   \n",
       "532              Jorge Silva   0.04   20         Centre-Back     49   \n",
       "533          Paolo Cannistrà   0.04   19         Centre-Back     67   \n",
       "534       Alessandro Berardi   0.04   29          Goalkeeper     22   \n",
       "535        Gianmarco Chironi   0.04   22          Goalkeeper     97   \n",
       "\n",
       "                Club         Citizenship Position_Modified  \n",
       "0     juventus-turin           Argentina           Forward  \n",
       "1        inter-milan           Argentina           Forward  \n",
       "2         ssc-napoli             Senegal          Defender  \n",
       "3     juventus-turin         Netherlands          Defender  \n",
       "4     juventus-turin            Portugal           Forward  \n",
       "5        inter-milan             Belgium           Forward  \n",
       "6     juventus-turin  Bosnia-Herzegovina          Midfield  \n",
       "7              lazio              Serbia          Midfield  \n",
       "8        inter-milan         Netherlands          Defender  \n",
       "9         ssc-napoli               Spain          Midfield  \n",
       "10       inter-milan             Croatia          Midfield  \n",
       "11        ssc-napoli               Italy           Forward  \n",
       "12       inter-milan            Slovakia          Defender  \n",
       "13     ac-florentina               Italy           Forward  \n",
       "14          ac-milan               Italy        Goalkeeper  \n",
       "15           as-roma               Italy          Midfield  \n",
       "16    juventus-turin              Brazil          Defender  \n",
       "17        ssc-napoli              Brazil          Midfield  \n",
       "18             lazio               Italy           Forward  \n",
       "19          atalanta            Colombia           Forward  \n",
       "20          ac-milan               Italy          Defender  \n",
       "21       inter-milan               Italy          Midfield  \n",
       "22        ssc-napoli              Poland           Forward  \n",
       "23    juventus-turin             Uruguay          Midfield  \n",
       "24             lazio               Spain          Midfield  \n",
       "25           as-roma               Italy          Midfield  \n",
       "26        ssc-napoli              Poland          Midfield  \n",
       "27    juventus-turin               Wales          Midfield  \n",
       "28        ssc-napoli               Italy        Goalkeeper  \n",
       "29        ssc-napoli              Mexico           Forward  \n",
       "30    juventus-turin              Poland        Goalkeeper  \n",
       "31            torino               Italy           Forward  \n",
       "32    juventus-turin               Italy           Forward  \n",
       "33        ssc-napoli              Greece          Defender  \n",
       "34             lazio           Argentina           Forward  \n",
       "35    juventus-turin              Brazil           Forward  \n",
       "36           as-roma              Turkey           Forward  \n",
       "37          ac-milan              Brazil          Midfield  \n",
       "38          ac-milan              Poland           Forward  \n",
       "39    juventus-turin              France          Midfield  \n",
       "40    juventus-turin           Argentina           Forward  \n",
       "41    juventus-turin             Germany          Midfield  \n",
       "42       inter-milan               Italy          Midfield  \n",
       "43     ac-florentina              Serbia          Defender  \n",
       "44           brescia               Italy          Midfield  \n",
       "45          ac-milan               Spain           Forward  \n",
       "46          ac-milan             Croatia           Forward  \n",
       "47       inter-milan               Italy           Forward  \n",
       "48           as-roma               Italy          Defender  \n",
       "49   cagliari-calcio             Uruguay          Midfield  \n",
       "..               ...                 ...               ...  \n",
       "486            lazio             Belgium        Goalkeeper  \n",
       "487       fc-bologna           Argentina          Defender  \n",
       "488          brescia               Italy          Midfield  \n",
       "489    hellas-verona               Italy           Forward  \n",
       "490  cagliari-calcio               Italy           Forward  \n",
       "491       ssc-napoli              Brazil           Forward  \n",
       "492             spal              Brazil          Defender  \n",
       "493    hellas-verona               Italy          Defender  \n",
       "494            lazio         Netherlands          Midfield  \n",
       "495     uc-sampdoria               Italy        Goalkeeper  \n",
       "496         fc-parma               Italy        Goalkeeper  \n",
       "497            lazio               Italy        Goalkeeper  \n",
       "498         fc-parma             Ecuador          Midfield  \n",
       "499    ac-florentina              France           Forward  \n",
       "500             spal               Italy           Forward  \n",
       "501          brescia               Italy          Defender  \n",
       "502          brescia               Italy           Forward  \n",
       "503   udinese-calcio               Italy           Forward  \n",
       "504         us-lecce               Italy          Defender  \n",
       "505           torino               Italy        Goalkeeper  \n",
       "506           torino              Kosovo        Goalkeeper  \n",
       "507      us-sassuolo               Italy        Goalkeeper  \n",
       "508       fc-bologna              Brazil        Goalkeeper  \n",
       "509            lazio             Croatia        Goalkeeper  \n",
       "510  cagliari-calcio              Brazil        Goalkeeper  \n",
       "511            genoa               Italy        Goalkeeper  \n",
       "512    hellas-verona              Brazil          Defender  \n",
       "513          brescia               Italy          Defender  \n",
       "514          brescia               Italy          Defender  \n",
       "515            lazio               Italy          Defender  \n",
       "516         us-lecce            Bulgaria          Midfield  \n",
       "517   udinese-calcio               Italy        Goalkeeper  \n",
       "518         us-lecce               Italy          Defender  \n",
       "519      us-sassuolo               Italy          Defender  \n",
       "520           torino       Cote d'Ivoire          Defender  \n",
       "521      us-sassuolo               Italy        Goalkeeper  \n",
       "522         us-lecce               Italy        Goalkeeper  \n",
       "523     uc-sampdoria               Italy        Goalkeeper  \n",
       "524          brescia               Italy        Goalkeeper  \n",
       "525         atalanta               Italy        Goalkeeper  \n",
       "526         us-lecce           Lithuania           Forward  \n",
       "527             spal              France        Goalkeeper  \n",
       "528      inter-milan               Italy        Goalkeeper  \n",
       "529             spal               Italy          Defender  \n",
       "530       fc-bologna             Senegal        Goalkeeper  \n",
       "531    hellas-verona              Brazil          Midfield  \n",
       "532            lazio            Portugal          Defender  \n",
       "533             spal               Italy          Defender  \n",
       "534    hellas-verona               Italy        Goalkeeper  \n",
       "535         us-lecce               Italy        Goalkeeper  \n",
       "\n",
       "[536 rows x 8 columns]"
      ]
     },
     "execution_count": 72,
     "metadata": {},
     "output_type": "execute_result"
    }
   ],
   "source": [
    "SerieA = Forward.append(Midfield).append(Defender).append(Goalkeeper).sort_values('Value',ascending = False).reset_index(drop=\"True\")\n",
    "SerieA"
   ]
  },
  {
   "cell_type": "code",
   "execution_count": 94,
   "metadata": {},
   "outputs": [
    {
     "data": {
      "application/vnd.plotly.v1+json": {
       "config": {
        "plotlyServerURL": "https://plot.ly"
       },
       "data": [
        {
         "hoverlabel": {
          "namelength": 0
         },
         "hovertemplate": "Position_Modified=Forward<br>Age=%{x}<br>Value=%{y}",
         "legendgroup": "Position_Modified=Forward",
         "marker": {
          "color": "#636efa",
          "symbol": "circle"
         },
         "mode": "markers",
         "name": "Position_Modified=Forward",
         "showlegend": true,
         "type": "scatter",
         "x": [
          26,
          22,
          34,
          26,
          28,
          22,
          29,
          28,
          25,
          24,
          26,
          25,
          25,
          29,
          22,
          24,
          32,
          26,
          26,
          26,
          19,
          32,
          20,
          31,
          25,
          23,
          22,
          20,
          22,
          27,
          22,
          28,
          32,
          31,
          25,
          24,
          24,
          31,
          31,
          28,
          20,
          22,
          27,
          33,
          24,
          30,
          23,
          28,
          28,
          17,
          29,
          21,
          31,
          28,
          32,
          18,
          32,
          23,
          31,
          26,
          24,
          26,
          28,
          26,
          20,
          32,
          27,
          27,
          26,
          19,
          29,
          29,
          24,
          22,
          28,
          21,
          28,
          25,
          26,
          34,
          23,
          29,
          36,
          30,
          20,
          27,
          32,
          24,
          29,
          38,
          28,
          31,
          27,
          22,
          27,
          28,
          22,
          36,
          26,
          31,
          23,
          30,
          24,
          26,
          23,
          19,
          21,
          20,
          30,
          24,
          19,
          31,
          20,
          19,
          37,
          21,
          25,
          36,
          35,
          28,
          21,
          36,
          38,
          35,
          24,
          21
         ],
         "xaxis": "x",
         "y": [
          76.5,
          72,
          67.5,
          67.5,
          54,
          54,
          40.5,
          40.5,
          36,
          36,
          36,
          36,
          34.2,
          34.2,
          31.5,
          28.8,
          28.8,
          27,
          27,
          25.2,
          22.5,
          22.5,
          22.5,
          22.5,
          21.6,
          20.7,
          19.8,
          19.8,
          18,
          18,
          18,
          17.1,
          16.2,
          16.2,
          16.2,
          16.2,
          15.3,
          14.4,
          13.5,
          13.5,
          13.5,
          13.5,
          13.5,
          12.6,
          12.6,
          11.7,
          10.8,
          10.8,
          10.8,
          9,
          9,
          9,
          9,
          8.1,
          8.1,
          8.1,
          7.65,
          7.2,
          7.2,
          7.2,
          6.75,
          6.75,
          6.75,
          6.75,
          6.75,
          6.3,
          6.3,
          6.3,
          5.85,
          5.4,
          5.4,
          5.4,
          5.4,
          4.95,
          4.5,
          4.5,
          4.5,
          4.5,
          4.5,
          4.5,
          4.05,
          4.05,
          3.6,
          3.6,
          3.6,
          3.6,
          3.6,
          3.42,
          3.15,
          3.15,
          2.7,
          2.7,
          2.7,
          2.52,
          2.48,
          1.98,
          1.8,
          1.8,
          1.62,
          1.53,
          1.35,
          1.35,
          1.35,
          1.08,
          0.9,
          0.9,
          0.9,
          0.9,
          0.9,
          0.81,
          0.63,
          0.63,
          0.54,
          0.45,
          0.45,
          0.45,
          0.45,
          0.36,
          0.36,
          0.36,
          0.36,
          0.27,
          0.27,
          0.27,
          0.22,
          0.09
         ],
         "yaxis": "y"
        },
        {
         "hoverlabel": {
          "namelength": 0
         },
         "hovertemplate": "Position_Modified=Defender<br>Age=%{x}<br>Value=%{y}",
         "legendgroup": "Position_Modified=Defender",
         "marker": {
          "color": "#EF553B",
          "symbol": "circle"
         },
         "mode": "markers",
         "name": "Position_Modified=Defender",
         "showlegend": true,
         "type": "scatter",
         "x": [
          28,
          20,
          27,
          24,
          28,
          25,
          28,
          22,
          23,
          22,
          32,
          27,
          20,
          28,
          24,
          30,
          28,
          21,
          25,
          26,
          28,
          25,
          28,
          28,
          29,
          25,
          25,
          27,
          31,
          20,
          25,
          29,
          28,
          33,
          28,
          21,
          26,
          23,
          26,
          31,
          29,
          27,
          26,
          22,
          27,
          22,
          22,
          21,
          26,
          30,
          19,
          23,
          27,
          34,
          30,
          22,
          24,
          27,
          23,
          22,
          23,
          28,
          27,
          23,
          30,
          25,
          30,
          26,
          25,
          22,
          26,
          33,
          25,
          35,
          25,
          29,
          29,
          24,
          26,
          33,
          20,
          23,
          23,
          25,
          22,
          22,
          22,
          25,
          27,
          28,
          26,
          29,
          32,
          25,
          24,
          19,
          22,
          30,
          28,
          21,
          31,
          29,
          27,
          26,
          21,
          22,
          31,
          33,
          26,
          24,
          21,
          29,
          25,
          22,
          29,
          25,
          26,
          24,
          33,
          20,
          27,
          21,
          24,
          23,
          22,
          24,
          23,
          28,
          27,
          28,
          27,
          27,
          20,
          32,
          28,
          26,
          25,
          26,
          33,
          34,
          29,
          32,
          30,
          23,
          33,
          22,
          33,
          30,
          28,
          31,
          17,
          38,
          25,
          33,
          32,
          29,
          32,
          27,
          27,
          20,
          25,
          35,
          28,
          33,
          32,
          28,
          34,
          21,
          25,
          24,
          20,
          20,
          35,
          28,
          26,
          35,
          32,
          36,
          20,
          19,
          21,
          21,
          18,
          23,
          23,
          19,
          22,
          20,
          19
         ],
         "xaxis": "x",
         "y": [
          67.5,
          67.5,
          54,
          54,
          45,
          40.5,
          36,
          27,
          25.2,
          22.5,
          22.5,
          22.5,
          20.7,
          18,
          18,
          18,
          18,
          18,
          17.1,
          16.2,
          16.2,
          16.2,
          16.2,
          15.3,
          15.3,
          14.4,
          14.4,
          13.5,
          13.5,
          13.5,
          13.5,
          13.5,
          13.5,
          13.5,
          13.5,
          13.5,
          13.5,
          13.5,
          13.5,
          11.7,
          11.7,
          10.8,
          10.8,
          10.8,
          10.8,
          10.8,
          9,
          9,
          9,
          9,
          9,
          9,
          9,
          7.2,
          7.2,
          7.2,
          7.2,
          7.2,
          7.2,
          7.2,
          6.75,
          6.3,
          6.3,
          6.3,
          5.85,
          5.85,
          5.4,
          5.4,
          5.4,
          5.4,
          4.5,
          4.5,
          4.5,
          4.5,
          4.5,
          4.5,
          4.5,
          4.5,
          4.5,
          4.5,
          4.5,
          4.5,
          4.5,
          4.5,
          4.5,
          4.5,
          4.05,
          4.05,
          3.6,
          3.6,
          3.6,
          3.6,
          3.6,
          3.6,
          3.6,
          3.6,
          3.6,
          3.15,
          3.15,
          3.15,
          3.15,
          3.15,
          3.15,
          2.7,
          2.7,
          2.7,
          2.7,
          2.7,
          2.7,
          2.7,
          2.7,
          2.7,
          2.7,
          2.52,
          2.25,
          2.25,
          1.8,
          1.8,
          1.8,
          1.8,
          1.8,
          1.8,
          1.8,
          1.8,
          1.8,
          1.8,
          1.71,
          1.62,
          1.62,
          1.53,
          1.44,
          1.44,
          1.35,
          1.35,
          1.35,
          1.35,
          1.35,
          1.35,
          1.35,
          1.35,
          1.35,
          1.35,
          1.26,
          0.9,
          0.9,
          0.9,
          0.9,
          0.9,
          0.9,
          0.9,
          0.9,
          0.9,
          0.9,
          0.9,
          0.81,
          0.81,
          0.81,
          0.72,
          0.72,
          0.72,
          0.72,
          0.63,
          0.63,
          0.54,
          0.54,
          0.45,
          0.45,
          0.45,
          0.45,
          0.45,
          0.45,
          0.45,
          0.45,
          0.36,
          0.36,
          0.36,
          0.36,
          0.27,
          0.18,
          0.18,
          0.18,
          0.18,
          0.18,
          0.14,
          0.14,
          0.14,
          0.09,
          0.04,
          0.04
         ],
         "yaxis": "y"
        },
        {
         "hoverlabel": {
          "namelength": 0
         },
         "hovertemplate": "Position_Modified=Midfield<br>Age=%{x}<br>Value=%{y}",
         "legendgroup": "Position_Modified=Midfield",
         "marker": {
          "color": "#00cc96",
          "symbol": "circle"
         },
         "mode": "markers",
         "name": "Position_Modified=Midfield",
         "showlegend": true,
         "type": "scatter",
         "x": [
          29,
          24,
          23,
          27,
          20,
          29,
          22,
          22,
          27,
          23,
          25,
          29,
          22,
          24,
          26,
          24,
          19,
          24,
          30,
          23,
          24,
          26,
          25,
          22,
          28,
          28,
          31,
          22,
          27,
          25,
          23,
          32,
          30,
          26,
          21,
          22,
          28,
          26,
          20,
          19,
          25,
          22,
          30,
          24,
          26,
          26,
          24,
          25,
          24,
          22,
          24,
          27,
          23,
          31,
          25,
          25,
          26,
          26,
          23,
          27,
          29,
          26,
          28,
          33,
          28,
          24,
          32,
          32,
          32,
          21,
          27,
          27,
          30,
          23,
          24,
          21,
          26,
          30,
          26,
          20,
          23,
          32,
          31,
          29,
          23,
          25,
          25,
          29,
          26,
          30,
          27,
          23,
          22,
          33,
          28,
          26,
          33,
          27,
          17,
          25,
          22,
          28,
          23,
          32,
          24,
          30,
          29,
          22,
          21,
          26,
          24,
          23,
          31,
          22,
          27,
          33,
          27,
          21,
          27,
          31,
          23,
          28,
          32,
          34,
          29,
          27,
          22,
          31,
          33,
          27,
          22,
          33,
          35,
          23,
          29,
          28,
          24,
          34,
          33,
          19,
          31,
          33,
          33,
          31,
          26,
          28,
          35,
          20,
          23,
          19,
          20,
          33,
          35,
          32,
          19,
          24,
          18,
          24,
          19
         ],
         "xaxis": "x",
         "y": [
          63,
          63,
          54,
          54,
          45,
          45,
          40.5,
          36,
          36,
          36,
          36,
          36,
          29.7,
          28.8,
          27,
          27,
          27,
          23.4,
          22.5,
          22.5,
          22.5,
          22.5,
          22.5,
          22.5,
          21.6,
          20.7,
          18,
          18,
          18,
          18,
          17.1,
          16.2,
          16.2,
          16.2,
          15.75,
          15.3,
          15.3,
          15.3,
          15.3,
          13.5,
          13.5,
          13.5,
          13.5,
          13.5,
          13.5,
          12.6,
          12.6,
          12.6,
          12.6,
          11.7,
          10.8,
          10.8,
          10.8,
          10.8,
          9.9,
          9,
          9,
          9,
          9,
          8.55,
          7.2,
          7.2,
          7.2,
          6.75,
          6.75,
          6.3,
          6.3,
          6.3,
          6.3,
          6.3,
          6.3,
          6.3,
          5.4,
          5.4,
          5.4,
          4.95,
          4.5,
          4.5,
          4.5,
          4.5,
          4.5,
          4.5,
          4.05,
          4.05,
          4.05,
          3.6,
          3.6,
          3.6,
          3.6,
          3.6,
          3.6,
          3.6,
          3.42,
          3.15,
          3.15,
          3.15,
          3.15,
          3.15,
          3.15,
          3.15,
          2.7,
          2.7,
          2.7,
          2.7,
          2.7,
          2.7,
          2.7,
          2.7,
          2.7,
          2.7,
          2.7,
          2.25,
          2.25,
          2.25,
          2.25,
          2.25,
          2.25,
          2.25,
          2.25,
          2.25,
          1.8,
          1.8,
          1.8,
          1.8,
          1.8,
          1.35,
          1.35,
          1.35,
          1.35,
          1.35,
          1.35,
          1.35,
          1.35,
          1.26,
          1.08,
          1.08,
          1.08,
          0.9,
          0.9,
          0.9,
          0.9,
          0.9,
          0.9,
          0.9,
          0.9,
          0.81,
          0.72,
          0.72,
          0.72,
          0.72,
          0.45,
          0.45,
          0.45,
          0.45,
          0.36,
          0.27,
          0.27,
          0.18,
          0.07
         ],
         "yaxis": "y"
        },
        {
         "hoverlabel": {
          "namelength": 0
         },
         "hovertemplate": "Position_Modified=Goalkeeper<br>Age=%{x}<br>Value=%{y}",
         "legendgroup": "Position_Modified=Goalkeeper",
         "marker": {
          "color": "#ab63fa",
          "symbol": "circle"
         },
         "mode": "markers",
         "name": "Position_Modified=Goalkeeper",
         "showlegend": true,
         "type": "scatter",
         "x": [
          20,
          22,
          29,
          24,
          25,
          25,
          22,
          22,
          25,
          22,
          24,
          27,
          33,
          30,
          28,
          35,
          28,
          32,
          26,
          31,
          32,
          30,
          28,
          27,
          26,
          22,
          34,
          41,
          27,
          36,
          34,
          28,
          31,
          23,
          29,
          31,
          29,
          22,
          29,
          29,
          36,
          29,
          22,
          23,
          36,
          31,
          18,
          36,
          32,
          37,
          36,
          22,
          38,
          24,
          24,
          25,
          28,
          21,
          36,
          23,
          29,
          22
         ],
         "xaxis": "x",
         "y": [
          49.5,
          36,
          36,
          22.5,
          21.6,
          18,
          13.5,
          13.5,
          13.5,
          12.6,
          10.8,
          9,
          7.2,
          7.2,
          6.3,
          5.4,
          4.5,
          4.5,
          4.5,
          3.15,
          3.15,
          2.7,
          2.7,
          2.25,
          1.62,
          1.17,
          0.9,
          0.9,
          0.9,
          0.72,
          0.72,
          0.72,
          0.54,
          0.54,
          0.45,
          0.45,
          0.45,
          0.45,
          0.45,
          0.36,
          0.36,
          0.27,
          0.27,
          0.27,
          0.18,
          0.18,
          0.18,
          0.18,
          0.18,
          0.18,
          0.18,
          0.14,
          0.14,
          0.14,
          0.14,
          0.09,
          0.09,
          0.09,
          0.09,
          0.09,
          0.04,
          0.04
         ],
         "yaxis": "y"
        }
       ],
       "layout": {
        "legend": {
         "tracegroupgap": 0
        },
        "margin": {
         "t": 60
        },
        "template": {
         "data": {
          "bar": [
           {
            "error_x": {
             "color": "#2a3f5f"
            },
            "error_y": {
             "color": "#2a3f5f"
            },
            "marker": {
             "line": {
              "color": "#E5ECF6",
              "width": 0.5
             }
            },
            "type": "bar"
           }
          ],
          "barpolar": [
           {
            "marker": {
             "line": {
              "color": "#E5ECF6",
              "width": 0.5
             }
            },
            "type": "barpolar"
           }
          ],
          "carpet": [
           {
            "aaxis": {
             "endlinecolor": "#2a3f5f",
             "gridcolor": "white",
             "linecolor": "white",
             "minorgridcolor": "white",
             "startlinecolor": "#2a3f5f"
            },
            "baxis": {
             "endlinecolor": "#2a3f5f",
             "gridcolor": "white",
             "linecolor": "white",
             "minorgridcolor": "white",
             "startlinecolor": "#2a3f5f"
            },
            "type": "carpet"
           }
          ],
          "choropleth": [
           {
            "colorbar": {
             "outlinewidth": 0,
             "ticks": ""
            },
            "type": "choropleth"
           }
          ],
          "contour": [
           {
            "colorbar": {
             "outlinewidth": 0,
             "ticks": ""
            },
            "colorscale": [
             [
              0,
              "#0d0887"
             ],
             [
              0.1111111111111111,
              "#46039f"
             ],
             [
              0.2222222222222222,
              "#7201a8"
             ],
             [
              0.3333333333333333,
              "#9c179e"
             ],
             [
              0.4444444444444444,
              "#bd3786"
             ],
             [
              0.5555555555555556,
              "#d8576b"
             ],
             [
              0.6666666666666666,
              "#ed7953"
             ],
             [
              0.7777777777777778,
              "#fb9f3a"
             ],
             [
              0.8888888888888888,
              "#fdca26"
             ],
             [
              1,
              "#f0f921"
             ]
            ],
            "type": "contour"
           }
          ],
          "contourcarpet": [
           {
            "colorbar": {
             "outlinewidth": 0,
             "ticks": ""
            },
            "type": "contourcarpet"
           }
          ],
          "heatmap": [
           {
            "colorbar": {
             "outlinewidth": 0,
             "ticks": ""
            },
            "colorscale": [
             [
              0,
              "#0d0887"
             ],
             [
              0.1111111111111111,
              "#46039f"
             ],
             [
              0.2222222222222222,
              "#7201a8"
             ],
             [
              0.3333333333333333,
              "#9c179e"
             ],
             [
              0.4444444444444444,
              "#bd3786"
             ],
             [
              0.5555555555555556,
              "#d8576b"
             ],
             [
              0.6666666666666666,
              "#ed7953"
             ],
             [
              0.7777777777777778,
              "#fb9f3a"
             ],
             [
              0.8888888888888888,
              "#fdca26"
             ],
             [
              1,
              "#f0f921"
             ]
            ],
            "type": "heatmap"
           }
          ],
          "heatmapgl": [
           {
            "colorbar": {
             "outlinewidth": 0,
             "ticks": ""
            },
            "colorscale": [
             [
              0,
              "#0d0887"
             ],
             [
              0.1111111111111111,
              "#46039f"
             ],
             [
              0.2222222222222222,
              "#7201a8"
             ],
             [
              0.3333333333333333,
              "#9c179e"
             ],
             [
              0.4444444444444444,
              "#bd3786"
             ],
             [
              0.5555555555555556,
              "#d8576b"
             ],
             [
              0.6666666666666666,
              "#ed7953"
             ],
             [
              0.7777777777777778,
              "#fb9f3a"
             ],
             [
              0.8888888888888888,
              "#fdca26"
             ],
             [
              1,
              "#f0f921"
             ]
            ],
            "type": "heatmapgl"
           }
          ],
          "histogram": [
           {
            "marker": {
             "colorbar": {
              "outlinewidth": 0,
              "ticks": ""
             }
            },
            "type": "histogram"
           }
          ],
          "histogram2d": [
           {
            "colorbar": {
             "outlinewidth": 0,
             "ticks": ""
            },
            "colorscale": [
             [
              0,
              "#0d0887"
             ],
             [
              0.1111111111111111,
              "#46039f"
             ],
             [
              0.2222222222222222,
              "#7201a8"
             ],
             [
              0.3333333333333333,
              "#9c179e"
             ],
             [
              0.4444444444444444,
              "#bd3786"
             ],
             [
              0.5555555555555556,
              "#d8576b"
             ],
             [
              0.6666666666666666,
              "#ed7953"
             ],
             [
              0.7777777777777778,
              "#fb9f3a"
             ],
             [
              0.8888888888888888,
              "#fdca26"
             ],
             [
              1,
              "#f0f921"
             ]
            ],
            "type": "histogram2d"
           }
          ],
          "histogram2dcontour": [
           {
            "colorbar": {
             "outlinewidth": 0,
             "ticks": ""
            },
            "colorscale": [
             [
              0,
              "#0d0887"
             ],
             [
              0.1111111111111111,
              "#46039f"
             ],
             [
              0.2222222222222222,
              "#7201a8"
             ],
             [
              0.3333333333333333,
              "#9c179e"
             ],
             [
              0.4444444444444444,
              "#bd3786"
             ],
             [
              0.5555555555555556,
              "#d8576b"
             ],
             [
              0.6666666666666666,
              "#ed7953"
             ],
             [
              0.7777777777777778,
              "#fb9f3a"
             ],
             [
              0.8888888888888888,
              "#fdca26"
             ],
             [
              1,
              "#f0f921"
             ]
            ],
            "type": "histogram2dcontour"
           }
          ],
          "mesh3d": [
           {
            "colorbar": {
             "outlinewidth": 0,
             "ticks": ""
            },
            "type": "mesh3d"
           }
          ],
          "parcoords": [
           {
            "line": {
             "colorbar": {
              "outlinewidth": 0,
              "ticks": ""
             }
            },
            "type": "parcoords"
           }
          ],
          "pie": [
           {
            "automargin": true,
            "type": "pie"
           }
          ],
          "scatter": [
           {
            "marker": {
             "colorbar": {
              "outlinewidth": 0,
              "ticks": ""
             }
            },
            "type": "scatter"
           }
          ],
          "scatter3d": [
           {
            "line": {
             "colorbar": {
              "outlinewidth": 0,
              "ticks": ""
             }
            },
            "marker": {
             "colorbar": {
              "outlinewidth": 0,
              "ticks": ""
             }
            },
            "type": "scatter3d"
           }
          ],
          "scattercarpet": [
           {
            "marker": {
             "colorbar": {
              "outlinewidth": 0,
              "ticks": ""
             }
            },
            "type": "scattercarpet"
           }
          ],
          "scattergeo": [
           {
            "marker": {
             "colorbar": {
              "outlinewidth": 0,
              "ticks": ""
             }
            },
            "type": "scattergeo"
           }
          ],
          "scattergl": [
           {
            "marker": {
             "colorbar": {
              "outlinewidth": 0,
              "ticks": ""
             }
            },
            "type": "scattergl"
           }
          ],
          "scattermapbox": [
           {
            "marker": {
             "colorbar": {
              "outlinewidth": 0,
              "ticks": ""
             }
            },
            "type": "scattermapbox"
           }
          ],
          "scatterpolar": [
           {
            "marker": {
             "colorbar": {
              "outlinewidth": 0,
              "ticks": ""
             }
            },
            "type": "scatterpolar"
           }
          ],
          "scatterpolargl": [
           {
            "marker": {
             "colorbar": {
              "outlinewidth": 0,
              "ticks": ""
             }
            },
            "type": "scatterpolargl"
           }
          ],
          "scatterternary": [
           {
            "marker": {
             "colorbar": {
              "outlinewidth": 0,
              "ticks": ""
             }
            },
            "type": "scatterternary"
           }
          ],
          "surface": [
           {
            "colorbar": {
             "outlinewidth": 0,
             "ticks": ""
            },
            "colorscale": [
             [
              0,
              "#0d0887"
             ],
             [
              0.1111111111111111,
              "#46039f"
             ],
             [
              0.2222222222222222,
              "#7201a8"
             ],
             [
              0.3333333333333333,
              "#9c179e"
             ],
             [
              0.4444444444444444,
              "#bd3786"
             ],
             [
              0.5555555555555556,
              "#d8576b"
             ],
             [
              0.6666666666666666,
              "#ed7953"
             ],
             [
              0.7777777777777778,
              "#fb9f3a"
             ],
             [
              0.8888888888888888,
              "#fdca26"
             ],
             [
              1,
              "#f0f921"
             ]
            ],
            "type": "surface"
           }
          ],
          "table": [
           {
            "cells": {
             "fill": {
              "color": "#EBF0F8"
             },
             "line": {
              "color": "white"
             }
            },
            "header": {
             "fill": {
              "color": "#C8D4E3"
             },
             "line": {
              "color": "white"
             }
            },
            "type": "table"
           }
          ]
         },
         "layout": {
          "annotationdefaults": {
           "arrowcolor": "#2a3f5f",
           "arrowhead": 0,
           "arrowwidth": 1
          },
          "coloraxis": {
           "colorbar": {
            "outlinewidth": 0,
            "ticks": ""
           }
          },
          "colorscale": {
           "diverging": [
            [
             0,
             "#8e0152"
            ],
            [
             0.1,
             "#c51b7d"
            ],
            [
             0.2,
             "#de77ae"
            ],
            [
             0.3,
             "#f1b6da"
            ],
            [
             0.4,
             "#fde0ef"
            ],
            [
             0.5,
             "#f7f7f7"
            ],
            [
             0.6,
             "#e6f5d0"
            ],
            [
             0.7,
             "#b8e186"
            ],
            [
             0.8,
             "#7fbc41"
            ],
            [
             0.9,
             "#4d9221"
            ],
            [
             1,
             "#276419"
            ]
           ],
           "sequential": [
            [
             0,
             "#0d0887"
            ],
            [
             0.1111111111111111,
             "#46039f"
            ],
            [
             0.2222222222222222,
             "#7201a8"
            ],
            [
             0.3333333333333333,
             "#9c179e"
            ],
            [
             0.4444444444444444,
             "#bd3786"
            ],
            [
             0.5555555555555556,
             "#d8576b"
            ],
            [
             0.6666666666666666,
             "#ed7953"
            ],
            [
             0.7777777777777778,
             "#fb9f3a"
            ],
            [
             0.8888888888888888,
             "#fdca26"
            ],
            [
             1,
             "#f0f921"
            ]
           ],
           "sequentialminus": [
            [
             0,
             "#0d0887"
            ],
            [
             0.1111111111111111,
             "#46039f"
            ],
            [
             0.2222222222222222,
             "#7201a8"
            ],
            [
             0.3333333333333333,
             "#9c179e"
            ],
            [
             0.4444444444444444,
             "#bd3786"
            ],
            [
             0.5555555555555556,
             "#d8576b"
            ],
            [
             0.6666666666666666,
             "#ed7953"
            ],
            [
             0.7777777777777778,
             "#fb9f3a"
            ],
            [
             0.8888888888888888,
             "#fdca26"
            ],
            [
             1,
             "#f0f921"
            ]
           ]
          },
          "colorway": [
           "#636efa",
           "#EF553B",
           "#00cc96",
           "#ab63fa",
           "#FFA15A",
           "#19d3f3",
           "#FF6692",
           "#B6E880",
           "#FF97FF",
           "#FECB52"
          ],
          "font": {
           "color": "#2a3f5f"
          },
          "geo": {
           "bgcolor": "white",
           "lakecolor": "white",
           "landcolor": "#E5ECF6",
           "showlakes": true,
           "showland": true,
           "subunitcolor": "white"
          },
          "hoverlabel": {
           "align": "left"
          },
          "hovermode": "closest",
          "mapbox": {
           "style": "light"
          },
          "paper_bgcolor": "white",
          "plot_bgcolor": "#E5ECF6",
          "polar": {
           "angularaxis": {
            "gridcolor": "white",
            "linecolor": "white",
            "ticks": ""
           },
           "bgcolor": "#E5ECF6",
           "radialaxis": {
            "gridcolor": "white",
            "linecolor": "white",
            "ticks": ""
           }
          },
          "scene": {
           "xaxis": {
            "backgroundcolor": "#E5ECF6",
            "gridcolor": "white",
            "gridwidth": 2,
            "linecolor": "white",
            "showbackground": true,
            "ticks": "",
            "zerolinecolor": "white"
           },
           "yaxis": {
            "backgroundcolor": "#E5ECF6",
            "gridcolor": "white",
            "gridwidth": 2,
            "linecolor": "white",
            "showbackground": true,
            "ticks": "",
            "zerolinecolor": "white"
           },
           "zaxis": {
            "backgroundcolor": "#E5ECF6",
            "gridcolor": "white",
            "gridwidth": 2,
            "linecolor": "white",
            "showbackground": true,
            "ticks": "",
            "zerolinecolor": "white"
           }
          },
          "shapedefaults": {
           "line": {
            "color": "#2a3f5f"
           }
          },
          "ternary": {
           "aaxis": {
            "gridcolor": "white",
            "linecolor": "white",
            "ticks": ""
           },
           "baxis": {
            "gridcolor": "white",
            "linecolor": "white",
            "ticks": ""
           },
           "bgcolor": "#E5ECF6",
           "caxis": {
            "gridcolor": "white",
            "linecolor": "white",
            "ticks": ""
           }
          },
          "title": {
           "x": 0.05
          },
          "xaxis": {
           "automargin": true,
           "gridcolor": "white",
           "linecolor": "white",
           "ticks": "",
           "title": {
            "standoff": 15
           },
           "zerolinecolor": "white",
           "zerolinewidth": 2
          },
          "yaxis": {
           "automargin": true,
           "gridcolor": "white",
           "linecolor": "white",
           "ticks": "",
           "title": {
            "standoff": 15
           },
           "zerolinecolor": "white",
           "zerolinewidth": 2
          }
         }
        },
        "title": {
         "text": "The relationship between age and value",
         "x": 0.5,
         "xanchor": "center",
         "yanchor": "top"
        },
        "xaxis": {
         "anchor": "y",
         "domain": [
          0,
          1
         ],
         "title": {
          "text": "Age"
         }
        },
        "yaxis": {
         "anchor": "x",
         "domain": [
          0,
          1
         ],
         "title": {
          "text": "Player Value (in Million £)"
         }
        }
       }
      },
      "text/html": [
       "<div>\n",
       "        \n",
       "        \n",
       "            <div id=\"39be55b7-0246-4f71-ae52-dd7c657365c7\" class=\"plotly-graph-div\" style=\"height:525px; width:100%;\"></div>\n",
       "            <script type=\"text/javascript\">\n",
       "                require([\"plotly\"], function(Plotly) {\n",
       "                    window.PLOTLYENV=window.PLOTLYENV || {};\n",
       "                    \n",
       "                if (document.getElementById(\"39be55b7-0246-4f71-ae52-dd7c657365c7\")) {\n",
       "                    Plotly.newPlot(\n",
       "                        '39be55b7-0246-4f71-ae52-dd7c657365c7',\n",
       "                        [{\"hoverlabel\": {\"namelength\": 0}, \"hovertemplate\": \"Position_Modified=Forward<br>Age=%{x}<br>Value=%{y}\", \"legendgroup\": \"Position_Modified=Forward\", \"marker\": {\"color\": \"#636efa\", \"symbol\": \"circle\"}, \"mode\": \"markers\", \"name\": \"Position_Modified=Forward\", \"showlegend\": true, \"type\": \"scatter\", \"x\": [26, 22, 34, 26, 28, 22, 29, 28, 25, 24, 26, 25, 25, 29, 22, 24, 32, 26, 26, 26, 19, 32, 20, 31, 25, 23, 22, 20, 22, 27, 22, 28, 32, 31, 25, 24, 24, 31, 31, 28, 20, 22, 27, 33, 24, 30, 23, 28, 28, 17, 29, 21, 31, 28, 32, 18, 32, 23, 31, 26, 24, 26, 28, 26, 20, 32, 27, 27, 26, 19, 29, 29, 24, 22, 28, 21, 28, 25, 26, 34, 23, 29, 36, 30, 20, 27, 32, 24, 29, 38, 28, 31, 27, 22, 27, 28, 22, 36, 26, 31, 23, 30, 24, 26, 23, 19, 21, 20, 30, 24, 19, 31, 20, 19, 37, 21, 25, 36, 35, 28, 21, 36, 38, 35, 24, 21], \"xaxis\": \"x\", \"y\": [76.5, 72.0, 67.5, 67.5, 54.0, 54.0, 40.5, 40.5, 36.0, 36.0, 36.0, 36.0, 34.2, 34.2, 31.5, 28.8, 28.8, 27.0, 27.0, 25.2, 22.5, 22.5, 22.5, 22.5, 21.6, 20.7, 19.8, 19.8, 18.0, 18.0, 18.0, 17.1, 16.2, 16.2, 16.2, 16.2, 15.3, 14.4, 13.5, 13.5, 13.5, 13.5, 13.5, 12.6, 12.6, 11.7, 10.8, 10.8, 10.8, 9.0, 9.0, 9.0, 9.0, 8.1, 8.1, 8.1, 7.65, 7.2, 7.2, 7.2, 6.75, 6.75, 6.75, 6.75, 6.75, 6.3, 6.3, 6.3, 5.85, 5.4, 5.4, 5.4, 5.4, 4.95, 4.5, 4.5, 4.5, 4.5, 4.5, 4.5, 4.05, 4.05, 3.6, 3.6, 3.6, 3.6, 3.6, 3.42, 3.15, 3.15, 2.7, 2.7, 2.7, 2.52, 2.48, 1.98, 1.8, 1.8, 1.62, 1.53, 1.35, 1.35, 1.35, 1.08, 0.9, 0.9, 0.9, 0.9, 0.9, 0.81, 0.63, 0.63, 0.54, 0.45, 0.45, 0.45, 0.45, 0.36, 0.36, 0.36, 0.36, 0.27, 0.27, 0.27, 0.22, 0.09], \"yaxis\": \"y\"}, {\"hoverlabel\": {\"namelength\": 0}, \"hovertemplate\": \"Position_Modified=Defender<br>Age=%{x}<br>Value=%{y}\", \"legendgroup\": \"Position_Modified=Defender\", \"marker\": {\"color\": \"#EF553B\", \"symbol\": \"circle\"}, \"mode\": \"markers\", \"name\": \"Position_Modified=Defender\", \"showlegend\": true, \"type\": \"scatter\", \"x\": [28, 20, 27, 24, 28, 25, 28, 22, 23, 22, 32, 27, 20, 28, 24, 30, 28, 21, 25, 26, 28, 25, 28, 28, 29, 25, 25, 27, 31, 20, 25, 29, 28, 33, 28, 21, 26, 23, 26, 31, 29, 27, 26, 22, 27, 22, 22, 21, 26, 30, 19, 23, 27, 34, 30, 22, 24, 27, 23, 22, 23, 28, 27, 23, 30, 25, 30, 26, 25, 22, 26, 33, 25, 35, 25, 29, 29, 24, 26, 33, 20, 23, 23, 25, 22, 22, 22, 25, 27, 28, 26, 29, 32, 25, 24, 19, 22, 30, 28, 21, 31, 29, 27, 26, 21, 22, 31, 33, 26, 24, 21, 29, 25, 22, 29, 25, 26, 24, 33, 20, 27, 21, 24, 23, 22, 24, 23, 28, 27, 28, 27, 27, 20, 32, 28, 26, 25, 26, 33, 34, 29, 32, 30, 23, 33, 22, 33, 30, 28, 31, 17, 38, 25, 33, 32, 29, 32, 27, 27, 20, 25, 35, 28, 33, 32, 28, 34, 21, 25, 24, 20, 20, 35, 28, 26, 35, 32, 36, 20, 19, 21, 21, 18, 23, 23, 19, 22, 20, 19], \"xaxis\": \"x\", \"y\": [67.5, 67.5, 54.0, 54.0, 45.0, 40.5, 36.0, 27.0, 25.2, 22.5, 22.5, 22.5, 20.7, 18.0, 18.0, 18.0, 18.0, 18.0, 17.1, 16.2, 16.2, 16.2, 16.2, 15.3, 15.3, 14.4, 14.4, 13.5, 13.5, 13.5, 13.5, 13.5, 13.5, 13.5, 13.5, 13.5, 13.5, 13.5, 13.5, 11.7, 11.7, 10.8, 10.8, 10.8, 10.8, 10.8, 9.0, 9.0, 9.0, 9.0, 9.0, 9.0, 9.0, 7.2, 7.2, 7.2, 7.2, 7.2, 7.2, 7.2, 6.75, 6.3, 6.3, 6.3, 5.85, 5.85, 5.4, 5.4, 5.4, 5.4, 4.5, 4.5, 4.5, 4.5, 4.5, 4.5, 4.5, 4.5, 4.5, 4.5, 4.5, 4.5, 4.5, 4.5, 4.5, 4.5, 4.05, 4.05, 3.6, 3.6, 3.6, 3.6, 3.6, 3.6, 3.6, 3.6, 3.6, 3.15, 3.15, 3.15, 3.15, 3.15, 3.15, 2.7, 2.7, 2.7, 2.7, 2.7, 2.7, 2.7, 2.7, 2.7, 2.7, 2.52, 2.25, 2.25, 1.8, 1.8, 1.8, 1.8, 1.8, 1.8, 1.8, 1.8, 1.8, 1.8, 1.71, 1.62, 1.62, 1.53, 1.44, 1.44, 1.35, 1.35, 1.35, 1.35, 1.35, 1.35, 1.35, 1.35, 1.35, 1.35, 1.26, 0.9, 0.9, 0.9, 0.9, 0.9, 0.9, 0.9, 0.9, 0.9, 0.9, 0.9, 0.81, 0.81, 0.81, 0.72, 0.72, 0.72, 0.72, 0.63, 0.63, 0.54, 0.54, 0.45, 0.45, 0.45, 0.45, 0.45, 0.45, 0.45, 0.45, 0.36, 0.36, 0.36, 0.36, 0.27, 0.18, 0.18, 0.18, 0.18, 0.18, 0.14, 0.14, 0.14, 0.09, 0.04, 0.04], \"yaxis\": \"y\"}, {\"hoverlabel\": {\"namelength\": 0}, \"hovertemplate\": \"Position_Modified=Midfield<br>Age=%{x}<br>Value=%{y}\", \"legendgroup\": \"Position_Modified=Midfield\", \"marker\": {\"color\": \"#00cc96\", \"symbol\": \"circle\"}, \"mode\": \"markers\", \"name\": \"Position_Modified=Midfield\", \"showlegend\": true, \"type\": \"scatter\", \"x\": [29, 24, 23, 27, 20, 29, 22, 22, 27, 23, 25, 29, 22, 24, 26, 24, 19, 24, 30, 23, 24, 26, 25, 22, 28, 28, 31, 22, 27, 25, 23, 32, 30, 26, 21, 22, 28, 26, 20, 19, 25, 22, 30, 24, 26, 26, 24, 25, 24, 22, 24, 27, 23, 31, 25, 25, 26, 26, 23, 27, 29, 26, 28, 33, 28, 24, 32, 32, 32, 21, 27, 27, 30, 23, 24, 21, 26, 30, 26, 20, 23, 32, 31, 29, 23, 25, 25, 29, 26, 30, 27, 23, 22, 33, 28, 26, 33, 27, 17, 25, 22, 28, 23, 32, 24, 30, 29, 22, 21, 26, 24, 23, 31, 22, 27, 33, 27, 21, 27, 31, 23, 28, 32, 34, 29, 27, 22, 31, 33, 27, 22, 33, 35, 23, 29, 28, 24, 34, 33, 19, 31, 33, 33, 31, 26, 28, 35, 20, 23, 19, 20, 33, 35, 32, 19, 24, 18, 24, 19], \"xaxis\": \"x\", \"y\": [63.0, 63.0, 54.0, 54.0, 45.0, 45.0, 40.5, 36.0, 36.0, 36.0, 36.0, 36.0, 29.7, 28.8, 27.0, 27.0, 27.0, 23.4, 22.5, 22.5, 22.5, 22.5, 22.5, 22.5, 21.6, 20.7, 18.0, 18.0, 18.0, 18.0, 17.1, 16.2, 16.2, 16.2, 15.75, 15.3, 15.3, 15.3, 15.3, 13.5, 13.5, 13.5, 13.5, 13.5, 13.5, 12.6, 12.6, 12.6, 12.6, 11.7, 10.8, 10.8, 10.8, 10.8, 9.9, 9.0, 9.0, 9.0, 9.0, 8.55, 7.2, 7.2, 7.2, 6.75, 6.75, 6.3, 6.3, 6.3, 6.3, 6.3, 6.3, 6.3, 5.4, 5.4, 5.4, 4.95, 4.5, 4.5, 4.5, 4.5, 4.5, 4.5, 4.05, 4.05, 4.05, 3.6, 3.6, 3.6, 3.6, 3.6, 3.6, 3.6, 3.42, 3.15, 3.15, 3.15, 3.15, 3.15, 3.15, 3.15, 2.7, 2.7, 2.7, 2.7, 2.7, 2.7, 2.7, 2.7, 2.7, 2.7, 2.7, 2.25, 2.25, 2.25, 2.25, 2.25, 2.25, 2.25, 2.25, 2.25, 1.8, 1.8, 1.8, 1.8, 1.8, 1.35, 1.35, 1.35, 1.35, 1.35, 1.35, 1.35, 1.35, 1.26, 1.08, 1.08, 1.08, 0.9, 0.9, 0.9, 0.9, 0.9, 0.9, 0.9, 0.9, 0.81, 0.72, 0.72, 0.72, 0.72, 0.45, 0.45, 0.45, 0.45, 0.36, 0.27, 0.27, 0.18, 0.07], \"yaxis\": \"y\"}, {\"hoverlabel\": {\"namelength\": 0}, \"hovertemplate\": \"Position_Modified=Goalkeeper<br>Age=%{x}<br>Value=%{y}\", \"legendgroup\": \"Position_Modified=Goalkeeper\", \"marker\": {\"color\": \"#ab63fa\", \"symbol\": \"circle\"}, \"mode\": \"markers\", \"name\": \"Position_Modified=Goalkeeper\", \"showlegend\": true, \"type\": \"scatter\", \"x\": [20, 22, 29, 24, 25, 25, 22, 22, 25, 22, 24, 27, 33, 30, 28, 35, 28, 32, 26, 31, 32, 30, 28, 27, 26, 22, 34, 41, 27, 36, 34, 28, 31, 23, 29, 31, 29, 22, 29, 29, 36, 29, 22, 23, 36, 31, 18, 36, 32, 37, 36, 22, 38, 24, 24, 25, 28, 21, 36, 23, 29, 22], \"xaxis\": \"x\", \"y\": [49.5, 36.0, 36.0, 22.5, 21.6, 18.0, 13.5, 13.5, 13.5, 12.6, 10.8, 9.0, 7.2, 7.2, 6.3, 5.4, 4.5, 4.5, 4.5, 3.15, 3.15, 2.7, 2.7, 2.25, 1.62, 1.17, 0.9, 0.9, 0.9, 0.72, 0.72, 0.72, 0.54, 0.54, 0.45, 0.45, 0.45, 0.45, 0.45, 0.36, 0.36, 0.27, 0.27, 0.27, 0.18, 0.18, 0.18, 0.18, 0.18, 0.18, 0.18, 0.14, 0.14, 0.14, 0.14, 0.09, 0.09, 0.09, 0.09, 0.09, 0.04, 0.04], \"yaxis\": \"y\"}],\n",
       "                        {\"legend\": {\"tracegroupgap\": 0}, \"margin\": {\"t\": 60}, \"template\": {\"data\": {\"bar\": [{\"error_x\": {\"color\": \"#2a3f5f\"}, \"error_y\": {\"color\": \"#2a3f5f\"}, \"marker\": {\"line\": {\"color\": \"#E5ECF6\", \"width\": 0.5}}, \"type\": \"bar\"}], \"barpolar\": [{\"marker\": {\"line\": {\"color\": \"#E5ECF6\", \"width\": 0.5}}, \"type\": \"barpolar\"}], \"carpet\": [{\"aaxis\": {\"endlinecolor\": \"#2a3f5f\", \"gridcolor\": \"white\", \"linecolor\": \"white\", \"minorgridcolor\": \"white\", \"startlinecolor\": \"#2a3f5f\"}, \"baxis\": {\"endlinecolor\": \"#2a3f5f\", \"gridcolor\": \"white\", \"linecolor\": \"white\", \"minorgridcolor\": \"white\", \"startlinecolor\": \"#2a3f5f\"}, \"type\": \"carpet\"}], \"choropleth\": [{\"colorbar\": {\"outlinewidth\": 0, \"ticks\": \"\"}, \"type\": \"choropleth\"}], \"contour\": [{\"colorbar\": {\"outlinewidth\": 0, \"ticks\": \"\"}, \"colorscale\": [[0.0, \"#0d0887\"], [0.1111111111111111, \"#46039f\"], [0.2222222222222222, \"#7201a8\"], [0.3333333333333333, \"#9c179e\"], [0.4444444444444444, \"#bd3786\"], [0.5555555555555556, \"#d8576b\"], [0.6666666666666666, \"#ed7953\"], [0.7777777777777778, \"#fb9f3a\"], [0.8888888888888888, \"#fdca26\"], [1.0, \"#f0f921\"]], \"type\": \"contour\"}], \"contourcarpet\": [{\"colorbar\": {\"outlinewidth\": 0, \"ticks\": \"\"}, \"type\": \"contourcarpet\"}], \"heatmap\": [{\"colorbar\": {\"outlinewidth\": 0, \"ticks\": \"\"}, \"colorscale\": [[0.0, \"#0d0887\"], [0.1111111111111111, \"#46039f\"], [0.2222222222222222, \"#7201a8\"], [0.3333333333333333, \"#9c179e\"], [0.4444444444444444, \"#bd3786\"], [0.5555555555555556, \"#d8576b\"], [0.6666666666666666, \"#ed7953\"], [0.7777777777777778, \"#fb9f3a\"], [0.8888888888888888, \"#fdca26\"], [1.0, \"#f0f921\"]], \"type\": \"heatmap\"}], \"heatmapgl\": [{\"colorbar\": {\"outlinewidth\": 0, \"ticks\": \"\"}, \"colorscale\": [[0.0, \"#0d0887\"], [0.1111111111111111, \"#46039f\"], [0.2222222222222222, \"#7201a8\"], [0.3333333333333333, \"#9c179e\"], [0.4444444444444444, \"#bd3786\"], [0.5555555555555556, \"#d8576b\"], [0.6666666666666666, \"#ed7953\"], [0.7777777777777778, \"#fb9f3a\"], [0.8888888888888888, \"#fdca26\"], [1.0, \"#f0f921\"]], \"type\": \"heatmapgl\"}], \"histogram\": [{\"marker\": {\"colorbar\": {\"outlinewidth\": 0, \"ticks\": \"\"}}, \"type\": \"histogram\"}], \"histogram2d\": [{\"colorbar\": {\"outlinewidth\": 0, \"ticks\": \"\"}, \"colorscale\": [[0.0, \"#0d0887\"], [0.1111111111111111, \"#46039f\"], [0.2222222222222222, \"#7201a8\"], [0.3333333333333333, \"#9c179e\"], [0.4444444444444444, \"#bd3786\"], [0.5555555555555556, \"#d8576b\"], [0.6666666666666666, \"#ed7953\"], [0.7777777777777778, \"#fb9f3a\"], [0.8888888888888888, \"#fdca26\"], [1.0, \"#f0f921\"]], \"type\": \"histogram2d\"}], \"histogram2dcontour\": [{\"colorbar\": {\"outlinewidth\": 0, \"ticks\": \"\"}, \"colorscale\": [[0.0, \"#0d0887\"], [0.1111111111111111, \"#46039f\"], [0.2222222222222222, \"#7201a8\"], [0.3333333333333333, \"#9c179e\"], [0.4444444444444444, \"#bd3786\"], [0.5555555555555556, \"#d8576b\"], [0.6666666666666666, \"#ed7953\"], [0.7777777777777778, \"#fb9f3a\"], [0.8888888888888888, \"#fdca26\"], [1.0, \"#f0f921\"]], \"type\": \"histogram2dcontour\"}], \"mesh3d\": [{\"colorbar\": {\"outlinewidth\": 0, \"ticks\": \"\"}, \"type\": \"mesh3d\"}], \"parcoords\": [{\"line\": {\"colorbar\": {\"outlinewidth\": 0, \"ticks\": \"\"}}, \"type\": \"parcoords\"}], \"pie\": [{\"automargin\": true, \"type\": \"pie\"}], \"scatter\": [{\"marker\": {\"colorbar\": {\"outlinewidth\": 0, \"ticks\": \"\"}}, \"type\": \"scatter\"}], \"scatter3d\": [{\"line\": {\"colorbar\": {\"outlinewidth\": 0, \"ticks\": \"\"}}, \"marker\": {\"colorbar\": {\"outlinewidth\": 0, \"ticks\": \"\"}}, \"type\": \"scatter3d\"}], \"scattercarpet\": [{\"marker\": {\"colorbar\": {\"outlinewidth\": 0, \"ticks\": \"\"}}, \"type\": \"scattercarpet\"}], \"scattergeo\": [{\"marker\": {\"colorbar\": {\"outlinewidth\": 0, \"ticks\": \"\"}}, \"type\": \"scattergeo\"}], \"scattergl\": [{\"marker\": {\"colorbar\": {\"outlinewidth\": 0, \"ticks\": \"\"}}, \"type\": \"scattergl\"}], \"scattermapbox\": [{\"marker\": {\"colorbar\": {\"outlinewidth\": 0, \"ticks\": \"\"}}, \"type\": \"scattermapbox\"}], \"scatterpolar\": [{\"marker\": {\"colorbar\": {\"outlinewidth\": 0, \"ticks\": \"\"}}, \"type\": \"scatterpolar\"}], \"scatterpolargl\": [{\"marker\": {\"colorbar\": {\"outlinewidth\": 0, \"ticks\": \"\"}}, \"type\": \"scatterpolargl\"}], \"scatterternary\": [{\"marker\": {\"colorbar\": {\"outlinewidth\": 0, \"ticks\": \"\"}}, \"type\": \"scatterternary\"}], \"surface\": [{\"colorbar\": {\"outlinewidth\": 0, \"ticks\": \"\"}, \"colorscale\": [[0.0, \"#0d0887\"], [0.1111111111111111, \"#46039f\"], [0.2222222222222222, \"#7201a8\"], [0.3333333333333333, \"#9c179e\"], [0.4444444444444444, \"#bd3786\"], [0.5555555555555556, \"#d8576b\"], [0.6666666666666666, \"#ed7953\"], [0.7777777777777778, \"#fb9f3a\"], [0.8888888888888888, \"#fdca26\"], [1.0, \"#f0f921\"]], \"type\": \"surface\"}], \"table\": [{\"cells\": {\"fill\": {\"color\": \"#EBF0F8\"}, \"line\": {\"color\": \"white\"}}, \"header\": {\"fill\": {\"color\": \"#C8D4E3\"}, \"line\": {\"color\": \"white\"}}, \"type\": \"table\"}]}, \"layout\": {\"annotationdefaults\": {\"arrowcolor\": \"#2a3f5f\", \"arrowhead\": 0, \"arrowwidth\": 1}, \"coloraxis\": {\"colorbar\": {\"outlinewidth\": 0, \"ticks\": \"\"}}, \"colorscale\": {\"diverging\": [[0, \"#8e0152\"], [0.1, \"#c51b7d\"], [0.2, \"#de77ae\"], [0.3, \"#f1b6da\"], [0.4, \"#fde0ef\"], [0.5, \"#f7f7f7\"], [0.6, \"#e6f5d0\"], [0.7, \"#b8e186\"], [0.8, \"#7fbc41\"], [0.9, \"#4d9221\"], [1, \"#276419\"]], \"sequential\": [[0.0, \"#0d0887\"], [0.1111111111111111, \"#46039f\"], [0.2222222222222222, \"#7201a8\"], [0.3333333333333333, \"#9c179e\"], [0.4444444444444444, \"#bd3786\"], [0.5555555555555556, \"#d8576b\"], [0.6666666666666666, \"#ed7953\"], [0.7777777777777778, \"#fb9f3a\"], [0.8888888888888888, \"#fdca26\"], [1.0, \"#f0f921\"]], \"sequentialminus\": [[0.0, \"#0d0887\"], [0.1111111111111111, \"#46039f\"], [0.2222222222222222, \"#7201a8\"], [0.3333333333333333, \"#9c179e\"], [0.4444444444444444, \"#bd3786\"], [0.5555555555555556, \"#d8576b\"], [0.6666666666666666, \"#ed7953\"], [0.7777777777777778, \"#fb9f3a\"], [0.8888888888888888, \"#fdca26\"], [1.0, \"#f0f921\"]]}, \"colorway\": [\"#636efa\", \"#EF553B\", \"#00cc96\", \"#ab63fa\", \"#FFA15A\", \"#19d3f3\", \"#FF6692\", \"#B6E880\", \"#FF97FF\", \"#FECB52\"], \"font\": {\"color\": \"#2a3f5f\"}, \"geo\": {\"bgcolor\": \"white\", \"lakecolor\": \"white\", \"landcolor\": \"#E5ECF6\", \"showlakes\": true, \"showland\": true, \"subunitcolor\": \"white\"}, \"hoverlabel\": {\"align\": \"left\"}, \"hovermode\": \"closest\", \"mapbox\": {\"style\": \"light\"}, \"paper_bgcolor\": \"white\", \"plot_bgcolor\": \"#E5ECF6\", \"polar\": {\"angularaxis\": {\"gridcolor\": \"white\", \"linecolor\": \"white\", \"ticks\": \"\"}, \"bgcolor\": \"#E5ECF6\", \"radialaxis\": {\"gridcolor\": \"white\", \"linecolor\": \"white\", \"ticks\": \"\"}}, \"scene\": {\"xaxis\": {\"backgroundcolor\": \"#E5ECF6\", \"gridcolor\": \"white\", \"gridwidth\": 2, \"linecolor\": \"white\", \"showbackground\": true, \"ticks\": \"\", \"zerolinecolor\": \"white\"}, \"yaxis\": {\"backgroundcolor\": \"#E5ECF6\", \"gridcolor\": \"white\", \"gridwidth\": 2, \"linecolor\": \"white\", \"showbackground\": true, \"ticks\": \"\", \"zerolinecolor\": \"white\"}, \"zaxis\": {\"backgroundcolor\": \"#E5ECF6\", \"gridcolor\": \"white\", \"gridwidth\": 2, \"linecolor\": \"white\", \"showbackground\": true, \"ticks\": \"\", \"zerolinecolor\": \"white\"}}, \"shapedefaults\": {\"line\": {\"color\": \"#2a3f5f\"}}, \"ternary\": {\"aaxis\": {\"gridcolor\": \"white\", \"linecolor\": \"white\", \"ticks\": \"\"}, \"baxis\": {\"gridcolor\": \"white\", \"linecolor\": \"white\", \"ticks\": \"\"}, \"bgcolor\": \"#E5ECF6\", \"caxis\": {\"gridcolor\": \"white\", \"linecolor\": \"white\", \"ticks\": \"\"}}, \"title\": {\"x\": 0.05}, \"xaxis\": {\"automargin\": true, \"gridcolor\": \"white\", \"linecolor\": \"white\", \"ticks\": \"\", \"title\": {\"standoff\": 15}, \"zerolinecolor\": \"white\", \"zerolinewidth\": 2}, \"yaxis\": {\"automargin\": true, \"gridcolor\": \"white\", \"linecolor\": \"white\", \"ticks\": \"\", \"title\": {\"standoff\": 15}, \"zerolinecolor\": \"white\", \"zerolinewidth\": 2}}}, \"title\": {\"text\": \"The relationship between age and value\", \"x\": 0.5, \"xanchor\": \"center\", \"yanchor\": \"top\"}, \"xaxis\": {\"anchor\": \"y\", \"domain\": [0.0, 1.0], \"title\": {\"text\": \"Age\"}}, \"yaxis\": {\"anchor\": \"x\", \"domain\": [0.0, 1.0], \"title\": {\"text\": \"Player Value (in Million \\u00a3)\"}}},\n",
       "                        {\"responsive\": true}\n",
       "                    ).then(function(){\n",
       "                            \n",
       "var gd = document.getElementById('39be55b7-0246-4f71-ae52-dd7c657365c7');\n",
       "var x = new MutationObserver(function (mutations, observer) {{\n",
       "        var display = window.getComputedStyle(gd).display;\n",
       "        if (!display || display === 'none') {{\n",
       "            console.log([gd, 'removed!']);\n",
       "            Plotly.purge(gd);\n",
       "            observer.disconnect();\n",
       "        }}\n",
       "}});\n",
       "\n",
       "// Listen for the removal of the full notebook cells\n",
       "var notebookContainer = gd.closest('#notebook-container');\n",
       "if (notebookContainer) {{\n",
       "    x.observe(notebookContainer, {childList: true});\n",
       "}}\n",
       "\n",
       "// Listen for the clearing of the current output cell\n",
       "var outputEl = gd.closest('.output');\n",
       "if (outputEl) {{\n",
       "    x.observe(outputEl, {childList: true});\n",
       "}}\n",
       "\n",
       "                        })\n",
       "                };\n",
       "                });\n",
       "            </script>\n",
       "        </div>"
      ]
     },
     "metadata": {},
     "output_type": "display_data"
    }
   ],
   "source": [
    "fig = px.scatter(SerieA, x=\"Age\", y=\"Value\",color='Position_Modified')\n",
    "fig.update_layout(\n",
    "    title={'text':\"The relationship between age and value\",'xanchor':'center','yanchor':'top','x':0.5},\n",
    "    xaxis_title=\"Age\",\n",
    "    yaxis_title=\"Player Value (in Million £)\")\n",
    "fig.show()"
   ]
  }
 ],
 "metadata": {
  "kernelspec": {
   "display_name": "Python 3",
   "language": "python",
   "name": "python3"
  },
  "language_info": {
   "codemirror_mode": {
    "name": "ipython",
    "version": 3
   },
   "file_extension": ".py",
   "mimetype": "text/x-python",
   "name": "python",
   "nbconvert_exporter": "python",
   "pygments_lexer": "ipython3",
   "version": "3.6.7"
  }
 },
 "nbformat": 4,
 "nbformat_minor": 2
}
