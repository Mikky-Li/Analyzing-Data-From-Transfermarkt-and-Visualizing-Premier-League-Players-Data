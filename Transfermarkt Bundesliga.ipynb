{
 "cells": [
  {
   "cell_type": "markdown",
   "metadata": {},
   "source": [
    "# Data Visualization Project on Bundesliga Current Players"
   ]
  },
  {
   "cell_type": "markdown",
   "metadata": {},
   "source": [
    "## 1. Read Essential Libraries"
   ]
  },
  {
   "cell_type": "code",
   "execution_count": 2,
   "metadata": {},
   "outputs": [],
   "source": [
    "import requests\n",
    "import pandas as pd\n",
    "from bs4 import BeautifulSoup\n",
    "import matplotlib.pyplot as plt\n",
    "import numpy\n",
    "import seaborn as sns"
   ]
  },
  {
   "cell_type": "markdown",
   "metadata": {},
   "source": [
    "## 2. Read Data"
   ]
  },
  {
   "cell_type": "code",
   "execution_count": 3,
   "metadata": {},
   "outputs": [],
   "source": [
    "Bundesliga = pd.read_csv('Bundesliga.csv')"
   ]
  },
  {
   "cell_type": "markdown",
   "metadata": {},
   "source": [
    "## 3. Data Visualization"
   ]
  },
  {
   "cell_type": "markdown",
   "metadata": {},
   "source": [
    "#### 10 Most Expensive Players in Bundesliga"
   ]
  },
  {
   "cell_type": "code",
   "execution_count": 4,
   "metadata": {},
   "outputs": [
    {
     "data": {
      "text/html": [
       "<div>\n",
       "<style scoped>\n",
       "    .dataframe tbody tr th:only-of-type {\n",
       "        vertical-align: middle;\n",
       "    }\n",
       "\n",
       "    .dataframe tbody tr th {\n",
       "        vertical-align: top;\n",
       "    }\n",
       "\n",
       "    .dataframe thead th {\n",
       "        text-align: right;\n",
       "    }\n",
       "</style>\n",
       "<table border=\"1\" class=\"dataframe\">\n",
       "  <thead>\n",
       "    <tr style=\"text-align: right;\">\n",
       "      <th></th>\n",
       "      <th>Unnamed: 0</th>\n",
       "      <th>Player</th>\n",
       "      <th>Value</th>\n",
       "      <th>Age</th>\n",
       "      <th>Position</th>\n",
       "      <th>Number</th>\n",
       "      <th>Club</th>\n",
       "      <th>Citizenship</th>\n",
       "    </tr>\n",
       "  </thead>\n",
       "  <tbody>\n",
       "    <tr>\n",
       "      <th>0</th>\n",
       "      <td>0</td>\n",
       "      <td>Jadon Sancho</td>\n",
       "      <td>108.0</td>\n",
       "      <td>19</td>\n",
       "      <td>Right Winger</td>\n",
       "      <td>7</td>\n",
       "      <td>borussia-dortmund</td>\n",
       "      <td>England</td>\n",
       "    </tr>\n",
       "    <tr>\n",
       "      <th>1</th>\n",
       "      <td>1</td>\n",
       "      <td>Kai Havertz</td>\n",
       "      <td>81.0</td>\n",
       "      <td>20</td>\n",
       "      <td>Attacking Midfield</td>\n",
       "      <td>29</td>\n",
       "      <td>bayer-04-leverkuse</td>\n",
       "      <td>Germany</td>\n",
       "    </tr>\n",
       "    <tr>\n",
       "      <th>2</th>\n",
       "      <td>2</td>\n",
       "      <td>Serge Gnabry</td>\n",
       "      <td>72.0</td>\n",
       "      <td>24</td>\n",
       "      <td>Right Winger</td>\n",
       "      <td>22</td>\n",
       "      <td>fc-bayern-munchen</td>\n",
       "      <td>Germany</td>\n",
       "    </tr>\n",
       "    <tr>\n",
       "      <th>3</th>\n",
       "      <td>3</td>\n",
       "      <td>Joshua Kimmich</td>\n",
       "      <td>72.0</td>\n",
       "      <td>24</td>\n",
       "      <td>Right-Back</td>\n",
       "      <td>32</td>\n",
       "      <td>fc-bayern-munchen</td>\n",
       "      <td>Germany</td>\n",
       "    </tr>\n",
       "    <tr>\n",
       "      <th>4</th>\n",
       "      <td>4</td>\n",
       "      <td>Timo Werner</td>\n",
       "      <td>67.5</td>\n",
       "      <td>23</td>\n",
       "      <td>Centre-Forward</td>\n",
       "      <td>11</td>\n",
       "      <td>rasenballsport-leipzig</td>\n",
       "      <td>Germany</td>\n",
       "    </tr>\n",
       "    <tr>\n",
       "      <th>5</th>\n",
       "      <td>5</td>\n",
       "      <td>Robert Lewandowski</td>\n",
       "      <td>63.0</td>\n",
       "      <td>31</td>\n",
       "      <td>Centre-Forward</td>\n",
       "      <td>9</td>\n",
       "      <td>fc-bayern-munchen</td>\n",
       "      <td>Poland</td>\n",
       "    </tr>\n",
       "    <tr>\n",
       "      <th>6</th>\n",
       "      <td>6</td>\n",
       "      <td>Philippe Coutinho</td>\n",
       "      <td>63.0</td>\n",
       "      <td>27</td>\n",
       "      <td>Attacking Midfield</td>\n",
       "      <td>10</td>\n",
       "      <td>fc-bayern-munchen</td>\n",
       "      <td>Brazil</td>\n",
       "    </tr>\n",
       "    <tr>\n",
       "      <th>7</th>\n",
       "      <td>7</td>\n",
       "      <td>Lucas Hernández</td>\n",
       "      <td>63.0</td>\n",
       "      <td>23</td>\n",
       "      <td>Centre-Back</td>\n",
       "      <td>21</td>\n",
       "      <td>fc-bayern-munchen</td>\n",
       "      <td>France</td>\n",
       "    </tr>\n",
       "    <tr>\n",
       "      <th>8</th>\n",
       "      <td>8</td>\n",
       "      <td>David Alaba</td>\n",
       "      <td>58.5</td>\n",
       "      <td>27</td>\n",
       "      <td>Left-Back</td>\n",
       "      <td>27</td>\n",
       "      <td>fc-bayern-munchen</td>\n",
       "      <td>Austria</td>\n",
       "    </tr>\n",
       "    <tr>\n",
       "      <th>9</th>\n",
       "      <td>9</td>\n",
       "      <td>Thiago</td>\n",
       "      <td>54.0</td>\n",
       "      <td>28</td>\n",
       "      <td>Central Midfield</td>\n",
       "      <td>6</td>\n",
       "      <td>fc-bayern-munchen</td>\n",
       "      <td>Spain</td>\n",
       "    </tr>\n",
       "  </tbody>\n",
       "</table>\n",
       "</div>"
      ],
      "text/plain": [
       "   Unnamed: 0              Player  Value  Age            Position Number  \\\n",
       "0           0        Jadon Sancho  108.0   19        Right Winger      7   \n",
       "1           1         Kai Havertz   81.0   20  Attacking Midfield     29   \n",
       "2           2        Serge Gnabry   72.0   24        Right Winger     22   \n",
       "3           3      Joshua Kimmich   72.0   24          Right-Back     32   \n",
       "4           4         Timo Werner   67.5   23      Centre-Forward     11   \n",
       "5           5  Robert Lewandowski   63.0   31      Centre-Forward      9   \n",
       "6           6   Philippe Coutinho   63.0   27  Attacking Midfield     10   \n",
       "7           7     Lucas Hernández   63.0   23         Centre-Back     21   \n",
       "8           8         David Alaba   58.5   27           Left-Back     27   \n",
       "9           9              Thiago   54.0   28    Central Midfield      6   \n",
       "\n",
       "                     Club Citizenship  \n",
       "0       borussia-dortmund     England  \n",
       "1      bayer-04-leverkuse     Germany  \n",
       "2       fc-bayern-munchen     Germany  \n",
       "3       fc-bayern-munchen     Germany  \n",
       "4  rasenballsport-leipzig     Germany  \n",
       "5       fc-bayern-munchen      Poland  \n",
       "6       fc-bayern-munchen      Brazil  \n",
       "7       fc-bayern-munchen      France  \n",
       "8       fc-bayern-munchen     Austria  \n",
       "9       fc-bayern-munchen       Spain  "
      ]
     },
     "execution_count": 4,
     "metadata": {},
     "output_type": "execute_result"
    }
   ],
   "source": [
    "Bundesliga.loc[:9,]"
   ]
  },
  {
   "cell_type": "markdown",
   "metadata": {},
   "source": [
    "#### 10 Most Expensive German Players in Bundesliga"
   ]
  },
  {
   "cell_type": "code",
   "execution_count": 5,
   "metadata": {},
   "outputs": [
    {
     "data": {
      "text/html": [
       "<div>\n",
       "<style scoped>\n",
       "    .dataframe tbody tr th:only-of-type {\n",
       "        vertical-align: middle;\n",
       "    }\n",
       "\n",
       "    .dataframe tbody tr th {\n",
       "        vertical-align: top;\n",
       "    }\n",
       "\n",
       "    .dataframe thead th {\n",
       "        text-align: right;\n",
       "    }\n",
       "</style>\n",
       "<table border=\"1\" class=\"dataframe\">\n",
       "  <thead>\n",
       "    <tr style=\"text-align: right;\">\n",
       "      <th></th>\n",
       "      <th>Unnamed: 0</th>\n",
       "      <th>Player</th>\n",
       "      <th>Value</th>\n",
       "      <th>Age</th>\n",
       "      <th>Position</th>\n",
       "      <th>Number</th>\n",
       "      <th>Club</th>\n",
       "      <th>Citizenship</th>\n",
       "    </tr>\n",
       "  </thead>\n",
       "  <tbody>\n",
       "    <tr>\n",
       "      <th>0</th>\n",
       "      <td>1</td>\n",
       "      <td>Kai Havertz</td>\n",
       "      <td>81.0</td>\n",
       "      <td>20</td>\n",
       "      <td>Attacking Midfield</td>\n",
       "      <td>29</td>\n",
       "      <td>bayer-04-leverkuse</td>\n",
       "      <td>Germany</td>\n",
       "    </tr>\n",
       "    <tr>\n",
       "      <th>1</th>\n",
       "      <td>2</td>\n",
       "      <td>Serge Gnabry</td>\n",
       "      <td>72.0</td>\n",
       "      <td>24</td>\n",
       "      <td>Right Winger</td>\n",
       "      <td>22</td>\n",
       "      <td>fc-bayern-munchen</td>\n",
       "      <td>Germany</td>\n",
       "    </tr>\n",
       "    <tr>\n",
       "      <th>2</th>\n",
       "      <td>3</td>\n",
       "      <td>Joshua Kimmich</td>\n",
       "      <td>72.0</td>\n",
       "      <td>24</td>\n",
       "      <td>Right-Back</td>\n",
       "      <td>32</td>\n",
       "      <td>fc-bayern-munchen</td>\n",
       "      <td>Germany</td>\n",
       "    </tr>\n",
       "    <tr>\n",
       "      <th>3</th>\n",
       "      <td>4</td>\n",
       "      <td>Timo Werner</td>\n",
       "      <td>67.5</td>\n",
       "      <td>23</td>\n",
       "      <td>Centre-Forward</td>\n",
       "      <td>11</td>\n",
       "      <td>rasenballsport-leipzig</td>\n",
       "      <td>Germany</td>\n",
       "    </tr>\n",
       "    <tr>\n",
       "      <th>4</th>\n",
       "      <td>10</td>\n",
       "      <td>Niklas Süle</td>\n",
       "      <td>54.0</td>\n",
       "      <td>24</td>\n",
       "      <td>Centre-Back</td>\n",
       "      <td>4</td>\n",
       "      <td>fc-bayern-munchen</td>\n",
       "      <td>Germany</td>\n",
       "    </tr>\n",
       "    <tr>\n",
       "      <th>5</th>\n",
       "      <td>12</td>\n",
       "      <td>Leon Goretzka</td>\n",
       "      <td>45.0</td>\n",
       "      <td>24</td>\n",
       "      <td>Central Midfield</td>\n",
       "      <td>18</td>\n",
       "      <td>fc-bayern-munchen</td>\n",
       "      <td>Germany</td>\n",
       "    </tr>\n",
       "    <tr>\n",
       "      <th>6</th>\n",
       "      <td>14</td>\n",
       "      <td>Julian Brandt</td>\n",
       "      <td>45.0</td>\n",
       "      <td>23</td>\n",
       "      <td>Attacking Midfield</td>\n",
       "      <td>19</td>\n",
       "      <td>borussia-dortmund</td>\n",
       "      <td>Germany</td>\n",
       "    </tr>\n",
       "    <tr>\n",
       "      <th>7</th>\n",
       "      <td>20</td>\n",
       "      <td>Marco Reus</td>\n",
       "      <td>36.0</td>\n",
       "      <td>30</td>\n",
       "      <td>Attacking Midfield</td>\n",
       "      <td>11</td>\n",
       "      <td>borussia-dortmund</td>\n",
       "      <td>Germany</td>\n",
       "    </tr>\n",
       "    <tr>\n",
       "      <th>8</th>\n",
       "      <td>27</td>\n",
       "      <td>Jonathan Tah</td>\n",
       "      <td>33.3</td>\n",
       "      <td>23</td>\n",
       "      <td>Centre-Back</td>\n",
       "      <td>4</td>\n",
       "      <td>bayer-04-leverkuse</td>\n",
       "      <td>Germany</td>\n",
       "    </tr>\n",
       "    <tr>\n",
       "      <th>9</th>\n",
       "      <td>28</td>\n",
       "      <td>Lukas Klostermann</td>\n",
       "      <td>31.5</td>\n",
       "      <td>23</td>\n",
       "      <td>Right-Back</td>\n",
       "      <td>16</td>\n",
       "      <td>rasenballsport-leipzig</td>\n",
       "      <td>Germany</td>\n",
       "    </tr>\n",
       "  </tbody>\n",
       "</table>\n",
       "</div>"
      ],
      "text/plain": [
       "   Unnamed: 0             Player  Value  Age            Position Number  \\\n",
       "0           1        Kai Havertz   81.0   20  Attacking Midfield     29   \n",
       "1           2       Serge Gnabry   72.0   24        Right Winger     22   \n",
       "2           3     Joshua Kimmich   72.0   24          Right-Back     32   \n",
       "3           4        Timo Werner   67.5   23      Centre-Forward     11   \n",
       "4          10        Niklas Süle   54.0   24         Centre-Back      4   \n",
       "5          12      Leon Goretzka   45.0   24    Central Midfield     18   \n",
       "6          14      Julian Brandt   45.0   23  Attacking Midfield     19   \n",
       "7          20         Marco Reus   36.0   30  Attacking Midfield     11   \n",
       "8          27       Jonathan Tah   33.3   23         Centre-Back      4   \n",
       "9          28  Lukas Klostermann   31.5   23          Right-Back     16   \n",
       "\n",
       "                     Club Citizenship  \n",
       "0      bayer-04-leverkuse     Germany  \n",
       "1       fc-bayern-munchen     Germany  \n",
       "2       fc-bayern-munchen     Germany  \n",
       "3  rasenballsport-leipzig     Germany  \n",
       "4       fc-bayern-munchen     Germany  \n",
       "5       fc-bayern-munchen     Germany  \n",
       "6       borussia-dortmund     Germany  \n",
       "7       borussia-dortmund     Germany  \n",
       "8      bayer-04-leverkuse     Germany  \n",
       "9  rasenballsport-leipzig     Germany  "
      ]
     },
     "execution_count": 5,
     "metadata": {},
     "output_type": "execute_result"
    }
   ],
   "source": [
    "Bundesliga[Bundesliga.Citizenship == 'Germany'].reset_index(drop = 'True').loc[:9]"
   ]
  },
  {
   "cell_type": "markdown",
   "metadata": {},
   "source": [
    "#### Descriptive Statistics of Age"
   ]
  },
  {
   "cell_type": "code",
   "execution_count": 6,
   "metadata": {},
   "outputs": [
    {
     "data": {
      "text/plain": [
       "count    532.000000\n",
       "mean      25.195489\n",
       "std        4.439098\n",
       "min       17.000000\n",
       "25%       22.000000\n",
       "50%       25.000000\n",
       "75%       28.000000\n",
       "max       41.000000\n",
       "Name: Age, dtype: float64"
      ]
     },
     "execution_count": 6,
     "metadata": {},
     "output_type": "execute_result"
    }
   ],
   "source": [
    "Bundesliga.Age.describe()"
   ]
  },
  {
   "cell_type": "markdown",
   "metadata": {},
   "source": [
    "#### The distribution of 534 Players Age"
   ]
  },
  {
   "cell_type": "code",
   "execution_count": 7,
   "metadata": {},
   "outputs": [
    {
     "data": {
      "image/png": "[encoded data removed]",
      "text/plain": [
       "<Figure size 432x288 with 1 Axes>"
      ]
     },
     "metadata": {
      "needs_background": "light"
     },
     "output_type": "display_data"
    }
   ],
   "source": [
    "Bundesliga.groupby('Age')[['Player']].count().plot.bar()\n",
    "plt.ylabel('Count')\n",
    "plt.title('Age Distribution')\n",
    "plt.show()"
   ]
  },
  {
   "cell_type": "markdown",
   "metadata": {},
   "source": [
    "#### Average Age of 18 Clubs"
   ]
  },
  {
   "cell_type": "code",
   "execution_count": 9,
   "metadata": {},
   "outputs": [
    {
     "data": {
      "image/png": "[encoded data removed]",
      "text/plain": [
       "<Figure size 432x288 with 1 Axes>"
      ]
     },
     "metadata": {
      "needs_background": "light"
     },
     "output_type": "display_data"
    }
   ],
   "source": [
    "Bundesliga.groupby('Club')[['Age']].mean().sort_values('Age').plot.barh()\n",
    "plt.ylabel('Average Age')\n",
    "plt.title('Average Age in 18 clubs')\n",
    "plt.show()"
   ]
  },
  {
   "cell_type": "markdown",
   "metadata": {},
   "source": [
    "#### Total Players Value of 18 Clubs"
   ]
  },
  {
   "cell_type": "code",
   "execution_count": 10,
   "metadata": {},
   "outputs": [
    {
     "data": {
      "image/png": "[encoded data removed]",
      "text/plain": [
       "<Figure size 432x288 with 1 Axes>"
      ]
     },
     "metadata": {
      "needs_background": "light"
     },
     "output_type": "display_data"
    }
   ],
   "source": [
    "Bundesliga.groupby('Club')[['Value']].sum().sort_values('Value',ascending = False).plot.bar()\n",
    "plt.ylabel('Total Value (Million £)')\n",
    "plt.title('Players Value 18 clubs')\n",
    "plt.show()"
   ]
  },
  {
   "cell_type": "markdown",
   "metadata": {},
   "source": [
    "#### Players Nationality"
   ]
  },
  {
   "cell_type": "code",
   "execution_count": 14,
   "metadata": {},
   "outputs": [
    {
     "name": "stdout",
     "output_type": "stream",
     "text": [
      "Players come from 59 Countries\n"
     ]
    }
   ],
   "source": [
    "# Number of Countries who have players in Bundesliga\n",
    "print('Players come from '+str(len(Bundesliga.groupby('Citizenship')[['Player']].count().sort_values('Player',ascending = False).reset_index()))+' Countries')"
   ]
  },
  {
   "cell_type": "code",
   "execution_count": 16,
   "metadata": {},
   "outputs": [
    {
     "data": {
      "image/png": "[encoded data removed]",
      "text/plain": [
       "<Figure size 432x288 with 1 Axes>"
      ]
     },
     "metadata": {
      "needs_background": "light"
     },
     "output_type": "display_data"
    }
   ],
   "source": [
    "Top10country = Bundesliga.groupby('Citizenship')[['Player']].count().sort_values('Player',ascending = False).reset_index().loc[:9]\n",
    "plt.bar('Citizenship','Player',data=Top10country)\n",
    "plt.xticks(rotation=45, ha='right')\n",
    "plt.xlabel('Countries')\n",
    "plt.ylabel('Count')\n",
    "plt.title('Top 10 Countries with Most Players')\n",
    "plt.show()"
   ]
  }
 ],
 "metadata": {
  "kernelspec": {
   "display_name": "Python 3",
   "language": "python",
   "name": "python3"
  },
  "language_info": {
   "codemirror_mode": {
    "name": "ipython",
    "version": 3
   },
   "file_extension": ".py",
   "mimetype": "text/x-python",
   "name": "python",
   "nbconvert_exporter": "python",
   "pygments_lexer": "ipython3",
   "version": "3.6.7"
  }
 },
 "nbformat": 4,
 "nbformat_minor": 2
}
