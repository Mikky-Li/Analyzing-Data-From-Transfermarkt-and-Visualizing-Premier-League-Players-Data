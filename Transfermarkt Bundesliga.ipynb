{
 "cells": [
  {
   "cell_type": "markdown",
   "metadata": {},
   "source": [
    "# Data Visualization Project on Bundesliga Current Players"
   ]
  },
  {
   "cell_type": "markdown",
   "metadata": {},
   "source": [
    "## 1. Read Essential Libraries"
   ]
  },
  {
   "cell_type": "code",
   "execution_count": 1,
   "metadata": {},
   "outputs": [],
   "source": [
    "import requests\n",
    "import pandas as pd\n",
    "from bs4 import BeautifulSoup\n",
    "import matplotlib.pyplot as plt\n",
    "import numpy\n",
    "import seaborn as sns"
   ]
  },
  {
   "cell_type": "markdown",
   "metadata": {},
   "source": [
    "## 2. Scraping data using the method we used on Premier League"
   ]
  },
  {
   "cell_type": "code",
   "execution_count": 2,
   "metadata": {},
   "outputs": [],
   "source": [
    "def Team(sequence):\n",
    "    #Things we need (Name, Value, Age, Position, Number, Team)\n",
    "    Player_List = []\n",
    "    Value_List = []\n",
    "    Age_List = []\n",
    "    Position_List = []\n",
    "    Number_List = []\n",
    "    Team_List = []\n",
    "    headers = {'User-Agent': \n",
    "           'Mozilla/5.0 (X11; Linux x86_64) AppleWebKit/537.36 (KHTML, like Gecko) Chrome/47.0.2526.106 Safari/537.36'}\n",
    "    for i in range(len(sequence)):\n",
    "        e = sequence[i]\n",
    "        # Scraping\n",
    "        pageTree = requests.get(e, headers=headers)\n",
    "        pageSoup = BeautifulSoup(pageTree.content, 'html.parser')\n",
    "        Players = pageSoup.find_all(\"td\", {\"class\": \"hide\"})\n",
    "        Values = pageSoup.find_all(\"td\", {\"class\": \"rechts hauptlink\"})\n",
    "        Age = pageSoup.find_all(\"td\", {\"class\": \"zentriert\"})\n",
    "        Position = pageSoup.find_all(\"tr\")\n",
    "        Number = pageSoup.find_all(\"td\")\n",
    "        a = 0\n",
    "        b = 0 \n",
    "        c = 1\n",
    "        d = 4\n",
    "        e = 3\n",
    "        while a < len(Players):\n",
    "            Player_List.append(Players[a].text)\n",
    "            a = a + 1\n",
    "            Team_List.append(sequence[i][32:(len(sequence[i])-22)])\n",
    "        while b < len(Values):\n",
    "            Value_List.append(Values[b].text)\n",
    "            b = b + 1\n",
    "        while c < (1+len(Players)*3):\n",
    "            Age_List.append(Age[c].text)\n",
    "            c = c + 3\n",
    "        while d < (4+len(Players)*3):\n",
    "            Position_List.append(Position[d].text)\n",
    "            d = d + 3 \n",
    "        while e < (3+len(Players)*9):\n",
    "            Number_List.append(Number[e].text)\n",
    "            e = e + 9\n",
    "    # Return these results to dataframe\n",
    "    Player = pd.DataFrame({'Player':Player_List})\n",
    "    Value = pd.DataFrame({'Value':Value_List})\n",
    "    Age = pd.DataFrame({'Age':Age_List})    \n",
    "    Position = pd.DataFrame({'Position':Position_List})  \n",
    "    Number = pd.DataFrame({'Number':Number_List})  \n",
    "    Club = pd.DataFrame({'Club':Team_List})\n",
    "    return Player, Value, Age, Position, Number, Club"
   ]
  },
  {
   "cell_type": "code",
   "execution_count": 5,
   "metadata": {},
   "outputs": [],
   "source": [
    "# Scrapping 18 Clubs data\n",
    "Player,Value,Age, Position, Number, Club = Team(['https://www.transfermarkt.co.uk/fc-bayern-munchen/startseite/verein/27',\n",
    "      'https://www.transfermarkt.co.uk/borussia-dortmund/startseite/verein/16',\n",
    "      'https://www.transfermarkt.co.uk/rasenballsport-leipzig/startseite/verein/23826',\n",
    "      'https://www.transfermarkt.co.uk/bayer-04-leverkusen/startseite/verein/15',\n",
    "      'https://www.transfermarkt.co.uk/borussia-monchengladbach/startseite/verein/18',\n",
    "      'https://www.transfermarkt.co.uk/vfl-wolfsburg/startseite/verein/82',\n",
    "      'https://www.transfermarkt.co.uk/eintracht-frankfurt/startseite/verein/24',\n",
    "      'https://www.transfermarkt.co.uk/sv-werder-bremen/startseite/verein/86',\n",
    "      'https://www.transfermarkt.co.uk/tsg-1899-hoffenheim/startseite/verein/533',\n",
    "      'https://www.transfermarkt.co.uk/fortuna-dusseldorf/startseite/verein/38',\n",
    "      'https://www.transfermarkt.co.uk/hertha-bsc/startseite/verein/44',\n",
    "      'https://www.transfermarkt.co.uk/1-fsv-mainz-05/startseite/verein/39',\n",
    "      'https://www.transfermarkt.co.uk/sc-freiburg/startseite/verein/60',\n",
    "      'https://www.transfermarkt.co.uk/fc-schalke-04/startseite/verein/33',\n",
    "      'https://www.transfermarkt.co.uk/fc-augsburg/startseite/verein/167',\n",
    "      'https://www.transfermarkt.co.uk/1-fc-koln/startseite/verein/3',\n",
    "      'https://www.transfermarkt.co.uk/sc-paderborn-07/startseite/verein/127',\n",
    "      'https://www.transfermarkt.co.uk/1-fc-union-berlin/startseite/verein/89'])"
   ]
  },
  {
   "cell_type": "code",
   "execution_count": 6,
   "metadata": {},
   "outputs": [],
   "source": [
    "#Join together\n",
    "Bundesliga =  Player.join(Value).join(Age).join(Position).join(Number).join(Club)"
   ]
  },
  {
   "cell_type": "code",
   "execution_count": 7,
   "metadata": {},
   "outputs": [],
   "source": [
    "# Transform player value to float for further analysis\n",
    "Bundesliga[['Value']] = pd.concat([Value[col].str.split()\n",
    "                       .str[0]\n",
    "                       .str.replace('£','')\n",
    "                       .str.replace('k','000')\n",
    "                       .str.replace('m','').astype(float) for col in Value], axis=1)"
   ]
  },
  {
   "cell_type": "code",
   "execution_count": 8,
   "metadata": {},
   "outputs": [],
   "source": [
    "# Transform value to the same standard (Million £)\n",
    "Filter = Bundesliga[Bundesliga.Value>200].copy(deep=False)\n",
    "Filter['Value'] = Filter['Value'].div(1000000).round(2)\n",
    "Bundesliga[Bundesliga.Value>200] = Filter"
   ]
  },
  {
   "cell_type": "code",
   "execution_count": 9,
   "metadata": {},
   "outputs": [],
   "source": [
    "# Transform player birth date and age to age (numeric)\n",
    "Bundesliga = Bundesliga.sort_values('Value',ascending = False).reset_index(drop = 'True')\n",
    "Age = Bundesliga['Age'].str[-3:-1]\n",
    "Bundesliga['Age'] = Age.astype(int)"
   ]
  },
  {
   "cell_type": "code",
   "execution_count": 10,
   "metadata": {},
   "outputs": [
    {
     "data": {
      "text/plain": [
       "array(['borussia-dortmun', 'bayer-04-leverkuse', 'fc-bayern-munche',\n",
       "       'rasenballsport-leipzig/s', 'borussia-monchengladbac',\n",
       "       'tsg-1899-hoffenheim', 'eintracht-frankfur', 'sv-werder-breme',\n",
       "       'fc-schalke-0', 'vfl-wolfsbur', '1-fsv-mainz-0', 'hertha-bs',\n",
       "       'sc-freibur', 'fc-augsburg', 'fortuna-dusseldor', '1-fc-ko',\n",
       "       'sc-paderborn-07', '1-fc-union-berli'], dtype=object)"
      ]
     },
     "execution_count": 10,
     "metadata": {},
     "output_type": "execute_result"
    }
   ],
   "source": [
    "# Some names are spelled in a wrong way\n",
    "Bundesliga['Club'].unique()"
   ]
  },
  {
   "cell_type": "code",
   "execution_count": 11,
   "metadata": {},
   "outputs": [],
   "source": [
    "# Replace them\n",
    "Bundesliga.Club.replace(['borussia-dortmun','c','fc-bayern-munche','rasenballsport-leipzig/s','borussia-monchengladbac',\n",
    "                      'eintracht-frankfur','sv-werder-breme','fc-schalke-0','vfl-wolfsbur','1-fsv-mainz-0','hertha-bs',\n",
    "                      'sc-freibur','fortuna-dusseldor','1-fc-ko','1-fc-union-berli'],\n",
    "                     ['borussia-dortmund','bayer-04-leverkusen','fc-bayern-munchen','rasenballsport-leipzig','borussia-monchengladbach',\n",
    "                      'eintracht-frankfurt','sv-werder-bremen','fc-schalke-04','vfl-wolfsburg','1-fsv-mainz-05','hertha-bsc',\n",
    "                      'sc-freiburg','fortuna-dusseldorf','1-fc-koln','1-fc-union-berlin'],inplace=True)"
   ]
  },
  {
   "cell_type": "markdown",
   "metadata": {},
   "source": [
    "#### Scrap Nationality"
   ]
  },
  {
   "cell_type": "code",
   "execution_count": 12,
   "metadata": {},
   "outputs": [],
   "source": [
    "def Citizenship(x):\n",
    "    headers = {'User-Agent': \n",
    "           'Mozilla/5.0 (X11; Linux x86_64) AppleWebKit/537.36 (KHTML, like Gecko) Chrome/47.0.2526.106 Safari/537.36'}\n",
    "    Country = []\n",
    "    i = 0\n",
    "    while i < len(x.Player):\n",
    "        player = x.Player[i]\n",
    "        data = requests.get(\"https://www.transfermarkt.com/schnellsuche/ergebnis/schnellsuche?query={}&x=0&y=0\".format(player),headers=headers) \n",
    "        soup = BeautifulSoup(data.text, \"lxml\")\n",
    "        hrefs = soup.find_all(\"img\", {\"class\" : \"flaggenrahmen\"},alt=True)\n",
    "        Flag = hrefs[16]['alt']\n",
    "        Country.append(Flag)\n",
    "        i = i+1\n",
    "    return Country"
   ]
  },
  {
   "cell_type": "code",
   "execution_count": 14,
   "metadata": {},
   "outputs": [],
   "source": [
    "# However, when scraping nationalities, I encountered some problem. It turns out that this player cannot be searched. \n",
    "# So I delete him first and then add him later\n",
    "Bundesliga = Bundesliga[Bundesliga.Player!='Jeremiah St. Juste'].reset_index(drop=\"True\")"
   ]
  },
  {
   "cell_type": "code",
   "execution_count": 15,
   "metadata": {},
   "outputs": [],
   "source": [
    "# Scraping nationality\n",
    "Citizenship = Citizenship(Bundesliga)"
   ]
  },
  {
   "cell_type": "code",
   "execution_count": 16,
   "metadata": {},
   "outputs": [],
   "source": [
    "# Join this column to Bundesliga dataset we already have\n",
    "Bundesliga = Bundesliga.join(pd.DataFrame({'Citizenship':Citizenship}))"
   ]
  },
  {
   "cell_type": "code",
   "execution_count": 24,
   "metadata": {},
   "outputs": [
    {
     "data": {
      "text/html": [
       "<div>\n",
       "<style scoped>\n",
       "    .dataframe tbody tr th:only-of-type {\n",
       "        vertical-align: middle;\n",
       "    }\n",
       "\n",
       "    .dataframe tbody tr th {\n",
       "        vertical-align: top;\n",
       "    }\n",
       "\n",
       "    .dataframe thead th {\n",
       "        text-align: right;\n",
       "    }\n",
       "</style>\n",
       "<table border=\"1\" class=\"dataframe\">\n",
       "  <thead>\n",
       "    <tr style=\"text-align: right;\">\n",
       "      <th></th>\n",
       "      <th>Player</th>\n",
       "      <th>Value</th>\n",
       "      <th>Age</th>\n",
       "      <th>Position</th>\n",
       "      <th>Number</th>\n",
       "      <th>Club</th>\n",
       "      <th>Citizenship</th>\n",
       "    </tr>\n",
       "  </thead>\n",
       "  <tbody>\n",
       "    <tr>\n",
       "      <th>0</th>\n",
       "      <td>Jeremiah St. Juste</td>\n",
       "      <td>8.1</td>\n",
       "      <td>23</td>\n",
       "      <td>Centre-Back</td>\n",
       "      <td>4</td>\n",
       "      <td>1-fsv-mainz-05</td>\n",
       "      <td>Netherlands</td>\n",
       "    </tr>\n",
       "  </tbody>\n",
       "</table>\n",
       "</div>"
      ],
      "text/plain": [
       "               Player  Value  Age     Position  Number            Club  \\\n",
       "0  Jeremiah St. Juste    8.1   23  Centre-Back       4  1-fsv-mainz-05   \n",
       "\n",
       "   Citizenship  \n",
       "0  Netherlands  "
      ]
     },
     "execution_count": 24,
     "metadata": {},
     "output_type": "execute_result"
    }
   ],
   "source": [
    "# The player that we deleted before\n",
    "Jeremiah = pd.DataFrame({'Player':['Jeremiah St. Juste'],'Value':[8.10],'Age':[23],\n",
    "                         'Position': ['Centre-Back'],'Number':[4],'Club':['1-fsv-mainz-05'],'Citizenship':['Netherlands']})\n",
    "Jeremiah = Jeremiah[['Player','Value', 'Age','Position','Number','Club','Citizenship']]"
   ]
  },
  {
   "cell_type": "code",
   "execution_count": 26,
   "metadata": {},
   "outputs": [],
   "source": [
    "# add him in\n",
    "Bundesliga = Bundesliga.append(Jeremiah)"
   ]
  },
  {
   "cell_type": "markdown",
   "metadata": {},
   "source": [
    "### Final Data"
   ]
  },
  {
   "cell_type": "code",
   "execution_count": 29,
   "metadata": {},
   "outputs": [],
   "source": [
    "Bundesliga = Bundesliga.sort_values('Value',ascending = False).reset_index(drop=\"True\")"
   ]
  },
  {
   "cell_type": "markdown",
   "metadata": {},
   "source": [
    "## 3. Data Visualization"
   ]
  },
  {
   "cell_type": "markdown",
   "metadata": {},
   "source": [
    "#### 10 Most Expensive Players in Bundesliga"
   ]
  },
  {
   "cell_type": "code",
   "execution_count": 39,
   "metadata": {},
   "outputs": [
    {
     "data": {
      "text/html": [
       "<div>\n",
       "<style scoped>\n",
       "    .dataframe tbody tr th:only-of-type {\n",
       "        vertical-align: middle;\n",
       "    }\n",
       "\n",
       "    .dataframe tbody tr th {\n",
       "        vertical-align: top;\n",
       "    }\n",
       "\n",
       "    .dataframe thead th {\n",
       "        text-align: right;\n",
       "    }\n",
       "</style>\n",
       "<table border=\"1\" class=\"dataframe\">\n",
       "  <thead>\n",
       "    <tr style=\"text-align: right;\">\n",
       "      <th></th>\n",
       "      <th>Player</th>\n",
       "      <th>Value</th>\n",
       "      <th>Age</th>\n",
       "      <th>Position</th>\n",
       "      <th>Number</th>\n",
       "      <th>Club</th>\n",
       "      <th>Citizenship</th>\n",
       "    </tr>\n",
       "  </thead>\n",
       "  <tbody>\n",
       "    <tr>\n",
       "      <th>0</th>\n",
       "      <td>Jadon Sancho</td>\n",
       "      <td>108.0</td>\n",
       "      <td>19</td>\n",
       "      <td>Right Winger</td>\n",
       "      <td>7</td>\n",
       "      <td>borussia-dortmund</td>\n",
       "      <td>England</td>\n",
       "    </tr>\n",
       "    <tr>\n",
       "      <th>1</th>\n",
       "      <td>Kai Havertz</td>\n",
       "      <td>81.0</td>\n",
       "      <td>20</td>\n",
       "      <td>Attacking Midfield</td>\n",
       "      <td>29</td>\n",
       "      <td>bayer-04-leverkuse</td>\n",
       "      <td>Germany</td>\n",
       "    </tr>\n",
       "    <tr>\n",
       "      <th>2</th>\n",
       "      <td>Serge Gnabry</td>\n",
       "      <td>72.0</td>\n",
       "      <td>24</td>\n",
       "      <td>Right Winger</td>\n",
       "      <td>22</td>\n",
       "      <td>fc-bayern-munchen</td>\n",
       "      <td>Germany</td>\n",
       "    </tr>\n",
       "    <tr>\n",
       "      <th>3</th>\n",
       "      <td>Joshua Kimmich</td>\n",
       "      <td>72.0</td>\n",
       "      <td>24</td>\n",
       "      <td>Right-Back</td>\n",
       "      <td>32</td>\n",
       "      <td>fc-bayern-munchen</td>\n",
       "      <td>Germany</td>\n",
       "    </tr>\n",
       "    <tr>\n",
       "      <th>4</th>\n",
       "      <td>Timo Werner</td>\n",
       "      <td>67.5</td>\n",
       "      <td>23</td>\n",
       "      <td>Centre-Forward</td>\n",
       "      <td>11</td>\n",
       "      <td>rasenballsport-leipzig</td>\n",
       "      <td>Germany</td>\n",
       "    </tr>\n",
       "    <tr>\n",
       "      <th>5</th>\n",
       "      <td>Robert Lewandowski</td>\n",
       "      <td>63.0</td>\n",
       "      <td>31</td>\n",
       "      <td>Centre-Forward</td>\n",
       "      <td>9</td>\n",
       "      <td>fc-bayern-munchen</td>\n",
       "      <td>Poland</td>\n",
       "    </tr>\n",
       "    <tr>\n",
       "      <th>6</th>\n",
       "      <td>Philippe Coutinho</td>\n",
       "      <td>63.0</td>\n",
       "      <td>27</td>\n",
       "      <td>Attacking Midfield</td>\n",
       "      <td>10</td>\n",
       "      <td>fc-bayern-munchen</td>\n",
       "      <td>Brazil</td>\n",
       "    </tr>\n",
       "    <tr>\n",
       "      <th>7</th>\n",
       "      <td>Lucas Hernández</td>\n",
       "      <td>63.0</td>\n",
       "      <td>23</td>\n",
       "      <td>Centre-Back</td>\n",
       "      <td>21</td>\n",
       "      <td>fc-bayern-munchen</td>\n",
       "      <td>France</td>\n",
       "    </tr>\n",
       "    <tr>\n",
       "      <th>8</th>\n",
       "      <td>David Alaba</td>\n",
       "      <td>58.5</td>\n",
       "      <td>27</td>\n",
       "      <td>Left-Back</td>\n",
       "      <td>27</td>\n",
       "      <td>fc-bayern-munchen</td>\n",
       "      <td>Austria</td>\n",
       "    </tr>\n",
       "    <tr>\n",
       "      <th>9</th>\n",
       "      <td>Thiago</td>\n",
       "      <td>54.0</td>\n",
       "      <td>28</td>\n",
       "      <td>Central Midfield</td>\n",
       "      <td>6</td>\n",
       "      <td>fc-bayern-munchen</td>\n",
       "      <td>Spain</td>\n",
       "    </tr>\n",
       "  </tbody>\n",
       "</table>\n",
       "</div>"
      ],
      "text/plain": [
       "               Player  Value  Age            Position Number  \\\n",
       "0        Jadon Sancho  108.0   19        Right Winger      7   \n",
       "1         Kai Havertz   81.0   20  Attacking Midfield     29   \n",
       "2        Serge Gnabry   72.0   24        Right Winger     22   \n",
       "3      Joshua Kimmich   72.0   24          Right-Back     32   \n",
       "4         Timo Werner   67.5   23      Centre-Forward     11   \n",
       "5  Robert Lewandowski   63.0   31      Centre-Forward      9   \n",
       "6   Philippe Coutinho   63.0   27  Attacking Midfield     10   \n",
       "7     Lucas Hernández   63.0   23         Centre-Back     21   \n",
       "8         David Alaba   58.5   27           Left-Back     27   \n",
       "9              Thiago   54.0   28    Central Midfield      6   \n",
       "\n",
       "                     Club Citizenship  \n",
       "0       borussia-dortmund     England  \n",
       "1      bayer-04-leverkuse     Germany  \n",
       "2       fc-bayern-munchen     Germany  \n",
       "3       fc-bayern-munchen     Germany  \n",
       "4  rasenballsport-leipzig     Germany  \n",
       "5       fc-bayern-munchen      Poland  \n",
       "6       fc-bayern-munchen      Brazil  \n",
       "7       fc-bayern-munchen      France  \n",
       "8       fc-bayern-munchen     Austria  \n",
       "9       fc-bayern-munchen       Spain  "
      ]
     },
     "execution_count": 39,
     "metadata": {},
     "output_type": "execute_result"
    }
   ],
   "source": [
    "Bundesliga.loc[:9,]"
   ]
  },
  {
   "cell_type": "markdown",
   "metadata": {},
   "source": [
    "#### 10 Most Expensive German Players in Bundesliga"
   ]
  },
  {
   "cell_type": "code",
   "execution_count": 67,
   "metadata": {},
   "outputs": [
    {
     "data": {
      "text/html": [
       "<div>\n",
       "<style scoped>\n",
       "    .dataframe tbody tr th:only-of-type {\n",
       "        vertical-align: middle;\n",
       "    }\n",
       "\n",
       "    .dataframe tbody tr th {\n",
       "        vertical-align: top;\n",
       "    }\n",
       "\n",
       "    .dataframe thead th {\n",
       "        text-align: right;\n",
       "    }\n",
       "</style>\n",
       "<table border=\"1\" class=\"dataframe\">\n",
       "  <thead>\n",
       "    <tr style=\"text-align: right;\">\n",
       "      <th></th>\n",
       "      <th>Player</th>\n",
       "      <th>Value</th>\n",
       "      <th>Age</th>\n",
       "      <th>Position</th>\n",
       "      <th>Number</th>\n",
       "      <th>Club</th>\n",
       "      <th>Citizenship</th>\n",
       "    </tr>\n",
       "  </thead>\n",
       "  <tbody>\n",
       "    <tr>\n",
       "      <th>0</th>\n",
       "      <td>Kai Havertz</td>\n",
       "      <td>81.0</td>\n",
       "      <td>20</td>\n",
       "      <td>Attacking Midfield</td>\n",
       "      <td>29</td>\n",
       "      <td>bayer-04-leverkuse</td>\n",
       "      <td>Germany</td>\n",
       "    </tr>\n",
       "    <tr>\n",
       "      <th>1</th>\n",
       "      <td>Serge Gnabry</td>\n",
       "      <td>72.0</td>\n",
       "      <td>24</td>\n",
       "      <td>Right Winger</td>\n",
       "      <td>22</td>\n",
       "      <td>fc-bayern-munchen</td>\n",
       "      <td>Germany</td>\n",
       "    </tr>\n",
       "    <tr>\n",
       "      <th>2</th>\n",
       "      <td>Joshua Kimmich</td>\n",
       "      <td>72.0</td>\n",
       "      <td>24</td>\n",
       "      <td>Right-Back</td>\n",
       "      <td>32</td>\n",
       "      <td>fc-bayern-munchen</td>\n",
       "      <td>Germany</td>\n",
       "    </tr>\n",
       "    <tr>\n",
       "      <th>3</th>\n",
       "      <td>Timo Werner</td>\n",
       "      <td>67.5</td>\n",
       "      <td>23</td>\n",
       "      <td>Centre-Forward</td>\n",
       "      <td>11</td>\n",
       "      <td>rasenballsport-leipzig</td>\n",
       "      <td>Germany</td>\n",
       "    </tr>\n",
       "    <tr>\n",
       "      <th>4</th>\n",
       "      <td>Niklas Süle</td>\n",
       "      <td>54.0</td>\n",
       "      <td>24</td>\n",
       "      <td>Centre-Back</td>\n",
       "      <td>4</td>\n",
       "      <td>fc-bayern-munchen</td>\n",
       "      <td>Germany</td>\n",
       "    </tr>\n",
       "    <tr>\n",
       "      <th>5</th>\n",
       "      <td>Leon Goretzka</td>\n",
       "      <td>45.0</td>\n",
       "      <td>24</td>\n",
       "      <td>Central Midfield</td>\n",
       "      <td>18</td>\n",
       "      <td>fc-bayern-munchen</td>\n",
       "      <td>Germany</td>\n",
       "    </tr>\n",
       "    <tr>\n",
       "      <th>6</th>\n",
       "      <td>Julian Brandt</td>\n",
       "      <td>45.0</td>\n",
       "      <td>23</td>\n",
       "      <td>Attacking Midfield</td>\n",
       "      <td>19</td>\n",
       "      <td>borussia-dortmund</td>\n",
       "      <td>Germany</td>\n",
       "    </tr>\n",
       "    <tr>\n",
       "      <th>7</th>\n",
       "      <td>Marco Reus</td>\n",
       "      <td>36.0</td>\n",
       "      <td>30</td>\n",
       "      <td>Attacking Midfield</td>\n",
       "      <td>11</td>\n",
       "      <td>borussia-dortmund</td>\n",
       "      <td>Germany</td>\n",
       "    </tr>\n",
       "    <tr>\n",
       "      <th>8</th>\n",
       "      <td>Jonathan Tah</td>\n",
       "      <td>33.3</td>\n",
       "      <td>23</td>\n",
       "      <td>Centre-Back</td>\n",
       "      <td>4</td>\n",
       "      <td>bayer-04-leverkuse</td>\n",
       "      <td>Germany</td>\n",
       "    </tr>\n",
       "    <tr>\n",
       "      <th>9</th>\n",
       "      <td>Lukas Klostermann</td>\n",
       "      <td>31.5</td>\n",
       "      <td>23</td>\n",
       "      <td>Right-Back</td>\n",
       "      <td>16</td>\n",
       "      <td>rasenballsport-leipzig</td>\n",
       "      <td>Germany</td>\n",
       "    </tr>\n",
       "  </tbody>\n",
       "</table>\n",
       "</div>"
      ],
      "text/plain": [
       "              Player  Value  Age            Position Number  \\\n",
       "0        Kai Havertz   81.0   20  Attacking Midfield     29   \n",
       "1       Serge Gnabry   72.0   24        Right Winger     22   \n",
       "2     Joshua Kimmich   72.0   24          Right-Back     32   \n",
       "3        Timo Werner   67.5   23      Centre-Forward     11   \n",
       "4        Niklas Süle   54.0   24         Centre-Back      4   \n",
       "5      Leon Goretzka   45.0   24    Central Midfield     18   \n",
       "6      Julian Brandt   45.0   23  Attacking Midfield     19   \n",
       "7         Marco Reus   36.0   30  Attacking Midfield     11   \n",
       "8       Jonathan Tah   33.3   23         Centre-Back      4   \n",
       "9  Lukas Klostermann   31.5   23          Right-Back     16   \n",
       "\n",
       "                     Club Citizenship  \n",
       "0      bayer-04-leverkuse     Germany  \n",
       "1       fc-bayern-munchen     Germany  \n",
       "2       fc-bayern-munchen     Germany  \n",
       "3  rasenballsport-leipzig     Germany  \n",
       "4       fc-bayern-munchen     Germany  \n",
       "5       fc-bayern-munchen     Germany  \n",
       "6       borussia-dortmund     Germany  \n",
       "7       borussia-dortmund     Germany  \n",
       "8      bayer-04-leverkuse     Germany  \n",
       "9  rasenballsport-leipzig     Germany  "
      ]
     },
     "execution_count": 67,
     "metadata": {},
     "output_type": "execute_result"
    }
   ],
   "source": [
    "Bundesliga[Bundesliga.Citizenship == 'Germany'].reset_index(drop = 'True').loc[:9]"
   ]
  },
  {
   "cell_type": "markdown",
   "metadata": {},
   "source": [
    "#### Descriptive Statistics of Age"
   ]
  },
  {
   "cell_type": "code",
   "execution_count": 45,
   "metadata": {},
   "outputs": [
    {
     "data": {
      "text/plain": [
       "count    532.000000\n",
       "mean      25.195489\n",
       "std        4.439098\n",
       "min       17.000000\n",
       "25%       22.000000\n",
       "50%       25.000000\n",
       "75%       28.000000\n",
       "max       41.000000\n",
       "Name: Age, dtype: float64"
      ]
     },
     "execution_count": 45,
     "metadata": {},
     "output_type": "execute_result"
    }
   ],
   "source": [
    "Bundesliga.Age.describe()"
   ]
  },
  {
   "cell_type": "markdown",
   "metadata": {},
   "source": [
    "#### The distribution of 534 Players Age"
   ]
  },
  {
   "cell_type": "code",
   "execution_count": 68,
   "metadata": {},
   "outputs": [
    {
     "data": {
      "image/png": "[encoded data removed]",
      "text/plain": [
       "<Figure size 432x288 with 1 Axes>"
      ]
     },
     "metadata": {
      "needs_background": "light"
     },
     "output_type": "display_data"
    }
   ],
   "source": [
    "Bundesliga.groupby('Age')[['Player']].count().plot.bar()\n",
    "plt.ylabel('Count')\n",
    "plt.title('Age Distribution')\n",
    "plt.show()"
   ]
  },
  {
   "cell_type": "markdown",
   "metadata": {},
   "source": [
    "#### Average Age of 18 Clubs"
   ]
  },
  {
   "cell_type": "code",
   "execution_count": 63,
   "metadata": {},
   "outputs": [
    {
     "data": {
      "image/png": "[encoded data removed]",
      "text/plain": [
       "<Figure size 432x288 with 1 Axes>"
      ]
     },
     "metadata": {
      "needs_background": "light"
     },
     "output_type": "display_data"
    }
   ],
   "source": [
    "Bundesliga.groupby('Club')[['Age']].mean().sort_values('Age').plot.bar()\n",
    "plt.ylabel('Average Age')\n",
    "plt.title('Average Age in 18 clubs')\n",
    "plt.show()"
   ]
  },
  {
   "cell_type": "markdown",
   "metadata": {},
   "source": [
    "#### Total Players Value of 18 Clubs"
   ]
  },
  {
   "cell_type": "code",
   "execution_count": 64,
   "metadata": {},
   "outputs": [
    {
     "data": {
      "image/png": "[encoded data removed]",
      "text/plain": [
       "<Figure size 432x288 with 1 Axes>"
      ]
     },
     "metadata": {
      "needs_background": "light"
     },
     "output_type": "display_data"
    }
   ],
   "source": [
    "Bundesliga.groupby('Club')[['Value']].sum().sort_values('Value',ascending = False).plot.bar()\n",
    "plt.ylabel('Total Value (Million £)')\n",
    "plt.title('Players Value 18 clubs')\n",
    "plt.show()"
   ]
  },
  {
   "cell_type": "markdown",
   "metadata": {},
   "source": [
    "#### Players Nationality"
   ]
  },
  {
   "cell_type": "code",
   "execution_count": 90,
   "metadata": {},
   "outputs": [
    {
     "data": {
      "text/plain": [
       "59"
      ]
     },
     "execution_count": 90,
     "metadata": {},
     "output_type": "execute_result"
    }
   ],
   "source": [
    "# Number of Countries who have players in Bundesliga\n",
    "len(Bundesliga.groupby('Citizenship')[['Player']].count().sort_values('Player',ascending = False).reset_index())"
   ]
  },
  {
   "cell_type": "code",
   "execution_count": 98,
   "metadata": {},
   "outputs": [
    {
     "data": {
      "image/png": "[encoded data removed]",
      "text/plain": [
       "<Figure size 432x288 with 1 Axes>"
      ]
     },
     "metadata": {
      "needs_background": "light"
     },
     "output_type": "display_data"
    }
   ],
   "source": [
    "Top10country = Bundesliga.groupby('Citizenship')[['Player']].count().sort_values('Player',ascending = False).reset_index().loc[:9]\n",
    "plt.bar('Citizenship','Player',data=Top10country)\n",
    "plt.xticks(rotation=45, ha='right')\n",
    "plt.xlabel('Countries')\n",
    "plt.ylabel('Count')\n",
    "plt.title('Top 10 Countries with Most Players')\n",
    "plt.show()\n",
    "# Visualizing it on Tableau or Power BI is more convenient"
   ]
  }
 ],
 "metadata": {
  "kernelspec": {
   "display_name": "Python 3",
   "language": "python",
   "name": "python3"
  },
  "language_info": {
   "codemirror_mode": {
    "name": "ipython",
    "version": 3
   },
   "file_extension": ".py",
   "mimetype": "text/x-python",
   "name": "python",
   "nbconvert_exporter": "python",
   "pygments_lexer": "ipython3",
   "version": "3.6.7"
  }
 },
 "nbformat": 4,
 "nbformat_minor": 2
}
