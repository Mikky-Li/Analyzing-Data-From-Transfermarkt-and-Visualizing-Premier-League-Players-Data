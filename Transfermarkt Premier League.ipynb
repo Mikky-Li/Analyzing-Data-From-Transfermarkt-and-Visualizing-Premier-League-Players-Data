{
 "cells": [
  {
   "cell_type": "markdown",
   "metadata": {},
   "source": [
    "# Analyzing Data from Transfermarkt and Visualize"
   ]
  },
  {
   "cell_type": "markdown",
   "metadata": {},
   "source": [
    "### 1. Read Libraries"
   ]
  },
  {
   "cell_type": "code",
   "execution_count": 2,
   "metadata": {},
   "outputs": [],
   "source": [
    "import requests\n",
    "import pandas as pd\n",
    "from bs4 import BeautifulSoup\n",
    "import matplotlib.pyplot as plt\n",
    "import numpy\n",
    "import seaborn as sns"
   ]
  },
  {
   "cell_type": "markdown",
   "metadata": {},
   "source": [
    "### 2. Read Premier League Players Data"
   ]
  },
  {
   "cell_type": "code",
   "execution_count": 3,
   "metadata": {},
   "outputs": [],
   "source": [
    "Ranking = pd.read_csv('Premier_League.csv')"
   ]
  },
  {
   "cell_type": "markdown",
   "metadata": {},
   "source": [
    "### 3. Data Visualization"
   ]
  },
  {
   "cell_type": "markdown",
   "metadata": {},
   "source": [
    "#### The descriptive Statistics of Age"
   ]
  },
  {
   "cell_type": "code",
   "execution_count": 4,
   "metadata": {},
   "outputs": [
    {
     "data": {
      "text/plain": [
       "count    524.000000\n",
       "mean      26.557252\n",
       "std        4.201721\n",
       "min       18.000000\n",
       "25%       23.000000\n",
       "50%       27.000000\n",
       "75%       30.000000\n",
       "max       39.000000\n",
       "Name: Age, dtype: float64"
      ]
     },
     "execution_count": 4,
     "metadata": {},
     "output_type": "execute_result"
    }
   ],
   "source": [
    "Ranking['Age'].describe()"
   ]
  },
  {
   "cell_type": "markdown",
   "metadata": {},
   "source": [
    "#### Top 10 Players with highest values"
   ]
  },
  {
   "cell_type": "code",
   "execution_count": 5,
   "metadata": {},
   "outputs": [
    {
     "data": {
      "text/html": [
       "<div>\n",
       "<style scoped>\n",
       "    .dataframe tbody tr th:only-of-type {\n",
       "        vertical-align: middle;\n",
       "    }\n",
       "\n",
       "    .dataframe tbody tr th {\n",
       "        vertical-align: top;\n",
       "    }\n",
       "\n",
       "    .dataframe thead th {\n",
       "        text-align: right;\n",
       "    }\n",
       "</style>\n",
       "<table border=\"1\" class=\"dataframe\">\n",
       "  <thead>\n",
       "    <tr style=\"text-align: right;\">\n",
       "      <th></th>\n",
       "      <th>Player</th>\n",
       "      <th>Value</th>\n",
       "      <th>Age</th>\n",
       "      <th>Position</th>\n",
       "      <th>Number</th>\n",
       "      <th>Club</th>\n",
       "      <th>Citizenship</th>\n",
       "    </tr>\n",
       "  </thead>\n",
       "  <tbody>\n",
       "    <tr>\n",
       "      <th>0</th>\n",
       "      <td>Raheem Sterling</td>\n",
       "      <td>144.0</td>\n",
       "      <td>25</td>\n",
       "      <td>Left Winger</td>\n",
       "      <td>7</td>\n",
       "      <td>manchester city</td>\n",
       "      <td>England</td>\n",
       "    </tr>\n",
       "    <tr>\n",
       "      <th>1</th>\n",
       "      <td>Mohamed Salah</td>\n",
       "      <td>135.0</td>\n",
       "      <td>27</td>\n",
       "      <td>Right Winger</td>\n",
       "      <td>11</td>\n",
       "      <td>fc liverpool</td>\n",
       "      <td>Egypt</td>\n",
       "    </tr>\n",
       "    <tr>\n",
       "      <th>2</th>\n",
       "      <td>Kevin De Bruyne</td>\n",
       "      <td>135.0</td>\n",
       "      <td>28</td>\n",
       "      <td>Attacking Midfield</td>\n",
       "      <td>17</td>\n",
       "      <td>manchester city</td>\n",
       "      <td>Belgium</td>\n",
       "    </tr>\n",
       "    <tr>\n",
       "      <th>3</th>\n",
       "      <td>Sadio Mané</td>\n",
       "      <td>135.0</td>\n",
       "      <td>27</td>\n",
       "      <td>Left Winger</td>\n",
       "      <td>10</td>\n",
       "      <td>fc liverpool</td>\n",
       "      <td>Senegal</td>\n",
       "    </tr>\n",
       "    <tr>\n",
       "      <th>4</th>\n",
       "      <td>Harry Kane</td>\n",
       "      <td>135.0</td>\n",
       "      <td>26</td>\n",
       "      <td>Centre Forward</td>\n",
       "      <td>10</td>\n",
       "      <td>tottenham hotspurs</td>\n",
       "      <td>England</td>\n",
       "    </tr>\n",
       "    <tr>\n",
       "      <th>5</th>\n",
       "      <td>Trent Alexander Arnold</td>\n",
       "      <td>99.0</td>\n",
       "      <td>21</td>\n",
       "      <td>Right Back</td>\n",
       "      <td>66</td>\n",
       "      <td>fc liverpool</td>\n",
       "      <td>England</td>\n",
       "    </tr>\n",
       "    <tr>\n",
       "      <th>6</th>\n",
       "      <td>Paul Pogba</td>\n",
       "      <td>90.0</td>\n",
       "      <td>26</td>\n",
       "      <td>Central Midfield</td>\n",
       "      <td>6</td>\n",
       "      <td>manchester united</td>\n",
       "      <td>France</td>\n",
       "    </tr>\n",
       "    <tr>\n",
       "      <th>7</th>\n",
       "      <td>Bernardo Silva</td>\n",
       "      <td>90.0</td>\n",
       "      <td>25</td>\n",
       "      <td>Right Winger</td>\n",
       "      <td>20</td>\n",
       "      <td>manchester city</td>\n",
       "      <td>Portugal</td>\n",
       "    </tr>\n",
       "    <tr>\n",
       "      <th>8</th>\n",
       "      <td>N'Golo Kanté</td>\n",
       "      <td>90.0</td>\n",
       "      <td>28</td>\n",
       "      <td>Central Midfield</td>\n",
       "      <td>7</td>\n",
       "      <td>fc chelsea</td>\n",
       "      <td>France</td>\n",
       "    </tr>\n",
       "    <tr>\n",
       "      <th>9</th>\n",
       "      <td>Leroy Sané</td>\n",
       "      <td>90.0</td>\n",
       "      <td>23</td>\n",
       "      <td>Left Winger</td>\n",
       "      <td>19</td>\n",
       "      <td>manchester city</td>\n",
       "      <td>Germany</td>\n",
       "    </tr>\n",
       "  </tbody>\n",
       "</table>\n",
       "</div>"
      ],
      "text/plain": [
       "                   Player  Value  Age            Position  Number  \\\n",
       "0         Raheem Sterling  144.0   25         Left Winger       7   \n",
       "1           Mohamed Salah  135.0   27        Right Winger      11   \n",
       "2         Kevin De Bruyne  135.0   28  Attacking Midfield      17   \n",
       "3              Sadio Mané  135.0   27         Left Winger      10   \n",
       "4              Harry Kane  135.0   26      Centre Forward      10   \n",
       "5  Trent Alexander Arnold   99.0   21          Right Back      66   \n",
       "6              Paul Pogba   90.0   26    Central Midfield       6   \n",
       "7          Bernardo Silva   90.0   25        Right Winger      20   \n",
       "8            N'Golo Kanté   90.0   28    Central Midfield       7   \n",
       "9              Leroy Sané   90.0   23         Left Winger      19   \n",
       "\n",
       "                 Club Citizenship  \n",
       "0     manchester city     England  \n",
       "1        fc liverpool       Egypt  \n",
       "2     manchester city     Belgium  \n",
       "3        fc liverpool     Senegal  \n",
       "4  tottenham hotspurs     England  \n",
       "5        fc liverpool     England  \n",
       "6   manchester united      France  \n",
       "7     manchester city    Portugal  \n",
       "8          fc chelsea      France  \n",
       "9     manchester city     Germany  "
      ]
     },
     "execution_count": 5,
     "metadata": {},
     "output_type": "execute_result"
    }
   ],
   "source": [
    "Ranking.sort_values(\"Value\",ascending = False).reset_index(drop = 'True').iloc[:10,]"
   ]
  },
  {
   "cell_type": "markdown",
   "metadata": {},
   "source": [
    "#### Players Age Distribution"
   ]
  },
  {
   "cell_type": "code",
   "execution_count": 6,
   "metadata": {},
   "outputs": [
    {
     "data": {
      "image/png": "[encoded data removed]",
      "text/plain": [
       "<Figure size 432x288 with 1 Axes>"
      ]
     },
     "metadata": {
      "needs_background": "light"
     },
     "output_type": "display_data"
    }
   ],
   "source": [
    "Ranking.groupby('Age')[['Player']].count().plot()\n",
    "plt.xlabel('Age')\n",
    "plt.ylabel('Count')\n",
    "plt.title('Age Distribution')\n",
    "plt.show()"
   ]
  },
  {
   "cell_type": "markdown",
   "metadata": {},
   "source": [
    "#### The relationship between Age and Market Value"
   ]
  },
  {
   "cell_type": "code",
   "execution_count": 7,
   "metadata": {},
   "outputs": [
    {
     "data": {
      "image/png": "[encoded data removed]",
      "text/plain": [
       "<Figure size 432x288 with 1 Axes>"
      ]
     },
     "metadata": {
      "needs_background": "light"
     },
     "output_type": "display_data"
    }
   ],
   "source": [
    "Ranking.groupby('Age')[['Value']].mean().plot.bar()\n",
    "plt.xlabel('Age')\n",
    "plt.ylabel('Average Value in Million ₤')\n",
    "plt.title('Average Value in different age group')\n",
    "plt.show()"
   ]
  },
  {
   "cell_type": "code",
   "execution_count": 8,
   "metadata": {},
   "outputs": [
    {
     "data": {
      "image/png": "[encoded data removed]",
      "text/plain": [
       "<Figure size 432x288 with 1 Axes>"
      ]
     },
     "metadata": {
      "needs_background": "light"
     },
     "output_type": "display_data"
    }
   ],
   "source": [
    "plt.scatter('Age','Value',data=Ranking, color = 'green')\n",
    "plt.xlabel('Age')\n",
    "plt.ylabel('Value')\n",
    "plt.title('Age vs. Value')\n",
    "plt.show()\n"
   ]
  },
  {
   "cell_type": "markdown",
   "metadata": {},
   "source": [
    "#### Clubs Value Ranking "
   ]
  },
  {
   "cell_type": "code",
   "execution_count": 9,
   "metadata": {},
   "outputs": [
    {
     "data": {
      "image/png": "[encoded data removed]",
      "text/plain": [
       "<Figure size 432x288 with 1 Axes>"
      ]
     },
     "metadata": {
      "needs_background": "light"
     },
     "output_type": "display_data"
    }
   ],
   "source": [
    "Ranking.groupby('Club')[['Value']].sum().sort_values('Value',ascending = False).plot.bar()\n",
    "plt.show()"
   ]
  },
  {
   "cell_type": "markdown",
   "metadata": {},
   "source": [
    "#### Top 10 countries where players come from"
   ]
  },
  {
   "cell_type": "code",
   "execution_count": 10,
   "metadata": {},
   "outputs": [
    {
     "data": {
      "text/html": [
       "<div>\n",
       "<style scoped>\n",
       "    .dataframe tbody tr th:only-of-type {\n",
       "        vertical-align: middle;\n",
       "    }\n",
       "\n",
       "    .dataframe tbody tr th {\n",
       "        vertical-align: top;\n",
       "    }\n",
       "\n",
       "    .dataframe thead th {\n",
       "        text-align: right;\n",
       "    }\n",
       "</style>\n",
       "<table border=\"1\" class=\"dataframe\">\n",
       "  <thead>\n",
       "    <tr style=\"text-align: right;\">\n",
       "      <th></th>\n",
       "      <th>Player</th>\n",
       "    </tr>\n",
       "    <tr>\n",
       "      <th>Citizenship</th>\n",
       "      <th></th>\n",
       "    </tr>\n",
       "  </thead>\n",
       "  <tbody>\n",
       "    <tr>\n",
       "      <th>England</th>\n",
       "      <td>182</td>\n",
       "    </tr>\n",
       "    <tr>\n",
       "      <th>France</th>\n",
       "      <td>29</td>\n",
       "    </tr>\n",
       "    <tr>\n",
       "      <th>Spain</th>\n",
       "      <td>26</td>\n",
       "    </tr>\n",
       "    <tr>\n",
       "      <th>Ireland</th>\n",
       "      <td>21</td>\n",
       "    </tr>\n",
       "    <tr>\n",
       "      <th>Brazil</th>\n",
       "      <td>20</td>\n",
       "    </tr>\n",
       "    <tr>\n",
       "      <th>Netherlands</th>\n",
       "      <td>18</td>\n",
       "    </tr>\n",
       "    <tr>\n",
       "      <th>Portugal</th>\n",
       "      <td>17</td>\n",
       "    </tr>\n",
       "    <tr>\n",
       "      <th>Argentina</th>\n",
       "      <td>16</td>\n",
       "    </tr>\n",
       "    <tr>\n",
       "      <th>Scotland</th>\n",
       "      <td>14</td>\n",
       "    </tr>\n",
       "    <tr>\n",
       "      <th>Wales</th>\n",
       "      <td>14</td>\n",
       "    </tr>\n",
       "  </tbody>\n",
       "</table>\n",
       "</div>"
      ],
      "text/plain": [
       "             Player\n",
       "Citizenship        \n",
       "England         182\n",
       "France           29\n",
       "Spain            26\n",
       "Ireland          21\n",
       "Brazil           20\n",
       "Netherlands      18\n",
       "Portugal         17\n",
       "Argentina        16\n",
       "Scotland         14\n",
       "Wales            14"
      ]
     },
     "execution_count": 10,
     "metadata": {},
     "output_type": "execute_result"
    }
   ],
   "source": [
    "Ranking.groupby('Citizenship')[['Player']].count().sort_values('Player',ascending = False).head(10)"
   ]
  }
 ],
 "metadata": {
  "kernelspec": {
   "display_name": "Python 3",
   "language": "python",
   "name": "python3"
  },
  "language_info": {
   "codemirror_mode": {
    "name": "ipython",
    "version": 3
   },
   "file_extension": ".py",
   "mimetype": "text/x-python",
   "name": "python",
   "nbconvert_exporter": "python",
   "pygments_lexer": "ipython3",
   "version": "3.6.7"
  }
 },
 "nbformat": 4,
 "nbformat_minor": 2
}
