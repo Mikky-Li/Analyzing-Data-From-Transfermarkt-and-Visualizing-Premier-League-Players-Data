{
 "cells": [
  {
   "cell_type": "markdown",
   "metadata": {},
   "source": [
    "# Scrapping Data from Transfermarkt and Visualize"
   ]
  },
  {
   "cell_type": "markdown",
   "metadata": {},
   "source": [
    "### 1. Read Libraries"
   ]
  },
  {
   "cell_type": "code",
   "execution_count": 1,
   "metadata": {},
   "outputs": [],
   "source": [
    "import requests\n",
    "import pandas as pd\n",
    "from bs4 import BeautifulSoup\n",
    "import matplotlib.pyplot as plt\n",
    "import numpy\n",
    "import seaborn as sns"
   ]
  },
  {
   "cell_type": "markdown",
   "metadata": {},
   "source": [
    "### 2. Building function to scrap data"
   ]
  },
  {
   "cell_type": "code",
   "execution_count": 2,
   "metadata": {},
   "outputs": [],
   "source": [
    "def Team(sequence):\n",
    "    #Things we need (Name, Value, Age, Position, Number, Team)\n",
    "    Player_List = []\n",
    "    Value_List = []\n",
    "    Age_List = []\n",
    "    Position_List = []\n",
    "    Number_List = []\n",
    "    Team_List = []\n",
    "    headers = {'User-Agent': \n",
    "           'Mozilla/5.0 (X11; Linux x86_64) AppleWebKit/537.36 (KHTML, like Gecko) Chrome/47.0.2526.106 Safari/537.36'}\n",
    "    for i in range(len(sequence)):\n",
    "        e = sequence[i]\n",
    "        # Scraping\n",
    "        pageTree = requests.get(e, headers=headers)\n",
    "        pageSoup = BeautifulSoup(pageTree.content, 'html.parser')\n",
    "        Players = pageSoup.find_all(\"td\", {\"class\": \"hide\"})\n",
    "        Values = pageSoup.find_all(\"td\", {\"class\": \"rechts hauptlink\"})\n",
    "        Age = pageSoup.find_all(\"td\", {\"class\": \"zentriert\"})\n",
    "        Position = pageSoup.find_all(\"tr\")\n",
    "        Number = pageSoup.find_all(\"td\")\n",
    "        a = 0\n",
    "        b = 0 \n",
    "        c = 1\n",
    "        d = 4\n",
    "        e = 3\n",
    "        while a < len(Players):\n",
    "            Player_List.append(Players[a].text)\n",
    "            a = a + 1\n",
    "            Team_List.append(sequence[i][32:(len(sequence[i])-22)])\n",
    "        while b < len(Values):\n",
    "            Value_List.append(Values[b].text)\n",
    "            b = b + 1\n",
    "        while c < (1+len(Players)*3):\n",
    "            Age_List.append(Age[c].text)\n",
    "            c = c + 3\n",
    "        while d < (4+len(Players)*3):\n",
    "            Position_List.append(Position[d].text)\n",
    "            d = d + 3 \n",
    "        while e < (3+len(Players)*9):\n",
    "            Number_List.append(Number[e].text)\n",
    "            e = e + 9\n",
    "    # Return these results to dataframe\n",
    "    Player = pd.DataFrame({'Player':Player_List})\n",
    "    Value = pd.DataFrame({'Value':Value_List})\n",
    "    Age = pd.DataFrame({'Age':Age_List})    \n",
    "    Position = pd.DataFrame({'Position':Position_List})  \n",
    "    Number = pd.DataFrame({'Number':Number_List})  \n",
    "    Club = pd.DataFrame({'Club':Team_List})\n",
    "    return Player, Value, Age, Position, Number, Club"
   ]
  },
  {
   "cell_type": "code",
   "execution_count": 3,
   "metadata": {},
   "outputs": [],
   "source": [
    "# Scrapping 20 Clubs data\n",
    "Player,Value,Age, Position, Number, Club = Team(['https://www.transfermarkt.co.uk/manchester-city/startseite/verein/281',\n",
    "      'https://www.transfermarkt.co.uk/fc-liverpool/startseite/verein/31',\n",
    "      'https://www.transfermarkt.co.uk/fc-chelsea/startseite/verein/631',\n",
    "      'https://www.transfermarkt.co.uk/tottenham-hotspur/startseite/verein/148',\n",
    "      'https://www.transfermarkt.co.uk/fc-arsenal/startseite/verein/11',\n",
    "      'https://www.transfermarkt.co.uk/manchester-united/startseite/verein/985',\n",
    "      'https://www.transfermarkt.co.uk/wolverhampton-wanderers/startseite/verein/543',\n",
    "      'https://www.transfermarkt.co.uk/fc-everton/startseite/verein/29',\n",
    "      'https://www.transfermarkt.co.uk/leicester-city/startseite/verein/1003',\n",
    "      'https://www.transfermarkt.co.uk/west-ham-united/startseite/verein/379',\n",
    "      'https://www.transfermarkt.co.uk/fc-watford/startseite/verein/1010',\n",
    "      'https://www.transfermarkt.co.uk/crystal-palace/startseite/verein/873',\n",
    "      'https://www.transfermarkt.co.uk/newcastle-united/startseite/verein/762',\n",
    "      'https://www.transfermarkt.co.uk/afc-bournemouth/startseite/verein/989',\n",
    "      'https://www.transfermarkt.co.uk/fc-burnley/startseite/verein/1132',\n",
    "      'https://www.transfermarkt.co.uk/fc-southampton/startseite/verein/180',\n",
    "      'https://www.transfermarkt.co.uk/brighton-amp-hove-albion/startseite/verein/1237',\n",
    "      'https://www.transfermarkt.co.uk/norwich-city/startseite/verein/1123',\n",
    "      'https://www.transfermarkt.co.uk/sheffield-united/startseite/verein/350',\n",
    "      'https://www.transfermarkt.co.uk/aston-villa/startseite/verein/405'])"
   ]
  },
  {
   "cell_type": "code",
   "execution_count": 4,
   "metadata": {},
   "outputs": [],
   "source": [
    "# Join Together\n",
    "EPL =  Player.join(Value).join(Age).join(Position).join(Number).join(Club)\n"
   ]
  },
  {
   "cell_type": "code",
   "execution_count": 16,
   "metadata": {
    "scrolled": true
   },
   "outputs": [],
   "source": [
    "# Transform player value to float for further analysis\n",
    "EPL[['Value']] = pd.concat([Value[col].str.split()\n",
    "                       .str[0]\n",
    "                       .str.replace('£','')\n",
    "                       .str.replace('k','000')\n",
    "                       .str.replace('m','').astype(float) for col in Value], axis=1)"
   ]
  },
  {
   "cell_type": "code",
   "execution_count": 32,
   "metadata": {},
   "outputs": [],
   "source": [
    "Filter = EPL[EPL.Value>200].copy(deep=False)\n",
    "Filter['Value'] = Filter['Value'].div(1000000).round(2)\n",
    "EPL[EPL.Value>200] = Filter"
   ]
  },
  {
   "cell_type": "code",
   "execution_count": 33,
   "metadata": {},
   "outputs": [],
   "source": [
    "Ranking = EPL.sort_values('Value',ascending = False).reset_index(drop = 'True')\n",
    "Age = Ranking['Age'].str[-3:-1]\n",
    "Ranking['Age'] = Age.astype(int)"
   ]
  },
  {
   "cell_type": "code",
   "execution_count": 41,
   "metadata": {},
   "outputs": [],
   "source": [
    "Ranking"
   ]
  },
  {
   "cell_type": "markdown",
   "metadata": {},
   "source": [
    "### 3. Data Visualization"
   ]
  },
  {
   "cell_type": "code",
   "execution_count": 42,
   "metadata": {},
   "outputs": [
    {
     "data": {
      "text/plain": [
       "count    523.000000\n",
       "mean      26.560229\n",
       "std        4.200632\n",
       "min       18.000000\n",
       "25%       23.000000\n",
       "50%       27.000000\n",
       "75%       30.000000\n",
       "max       39.000000\n",
       "Name: Age, dtype: float64"
      ]
     },
     "execution_count": 42,
     "metadata": {},
     "output_type": "execute_result"
    }
   ],
   "source": [
    "Ranking['Age'].describe()"
   ]
  },
  {
   "cell_type": "markdown",
   "metadata": {},
   "source": [
    "#### Top 10 Players with highest values"
   ]
  },
  {
   "cell_type": "code",
   "execution_count": 43,
   "metadata": {},
   "outputs": [
    {
     "data": {
      "text/html": [
       "<div>\n",
       "<style scoped>\n",
       "    .dataframe tbody tr th:only-of-type {\n",
       "        vertical-align: middle;\n",
       "    }\n",
       "\n",
       "    .dataframe tbody tr th {\n",
       "        vertical-align: top;\n",
       "    }\n",
       "\n",
       "    .dataframe thead th {\n",
       "        text-align: right;\n",
       "    }\n",
       "</style>\n",
       "<table border=\"1\" class=\"dataframe\">\n",
       "  <thead>\n",
       "    <tr style=\"text-align: right;\">\n",
       "      <th></th>\n",
       "      <th>Player</th>\n",
       "      <th>Value</th>\n",
       "      <th>Age</th>\n",
       "      <th>Position</th>\n",
       "      <th>Number</th>\n",
       "      <th>Club</th>\n",
       "    </tr>\n",
       "  </thead>\n",
       "  <tbody>\n",
       "    <tr>\n",
       "      <th>0</th>\n",
       "      <td>Raheem Sterling</td>\n",
       "      <td>144.0</td>\n",
       "      <td>25</td>\n",
       "      <td>Left Winger</td>\n",
       "      <td>7</td>\n",
       "      <td>manchester-city</td>\n",
       "    </tr>\n",
       "    <tr>\n",
       "      <th>1</th>\n",
       "      <td>Kevin De Bruyne</td>\n",
       "      <td>135.0</td>\n",
       "      <td>28</td>\n",
       "      <td>Attacking Midfield</td>\n",
       "      <td>17</td>\n",
       "      <td>manchester-city</td>\n",
       "    </tr>\n",
       "    <tr>\n",
       "      <th>2</th>\n",
       "      <td>Harry Kane</td>\n",
       "      <td>135.0</td>\n",
       "      <td>26</td>\n",
       "      <td>Centre-Forward</td>\n",
       "      <td>10</td>\n",
       "      <td>tottenham-hotspur</td>\n",
       "    </tr>\n",
       "    <tr>\n",
       "      <th>3</th>\n",
       "      <td>Mohamed Salah</td>\n",
       "      <td>135.0</td>\n",
       "      <td>27</td>\n",
       "      <td>Right Winger</td>\n",
       "      <td>11</td>\n",
       "      <td>fc-liverpoo</td>\n",
       "    </tr>\n",
       "    <tr>\n",
       "      <th>4</th>\n",
       "      <td>Sadio Mané</td>\n",
       "      <td>135.0</td>\n",
       "      <td>27</td>\n",
       "      <td>Left Winger</td>\n",
       "      <td>10</td>\n",
       "      <td>fc-liverpoo</td>\n",
       "    </tr>\n",
       "    <tr>\n",
       "      <th>5</th>\n",
       "      <td>Trent Alexander-Arnold</td>\n",
       "      <td>99.0</td>\n",
       "      <td>21</td>\n",
       "      <td>Right-Back</td>\n",
       "      <td>66</td>\n",
       "      <td>fc-liverpoo</td>\n",
       "    </tr>\n",
       "    <tr>\n",
       "      <th>6</th>\n",
       "      <td>Virgil van Dijk</td>\n",
       "      <td>90.0</td>\n",
       "      <td>28</td>\n",
       "      <td>Centre-Back</td>\n",
       "      <td>4</td>\n",
       "      <td>fc-liverpoo</td>\n",
       "    </tr>\n",
       "    <tr>\n",
       "      <th>7</th>\n",
       "      <td>Bernardo Silva</td>\n",
       "      <td>90.0</td>\n",
       "      <td>25</td>\n",
       "      <td>Right Winger</td>\n",
       "      <td>20</td>\n",
       "      <td>manchester-city</td>\n",
       "    </tr>\n",
       "    <tr>\n",
       "      <th>8</th>\n",
       "      <td>N'Golo Kanté</td>\n",
       "      <td>90.0</td>\n",
       "      <td>28</td>\n",
       "      <td>Central Midfield</td>\n",
       "      <td>7</td>\n",
       "      <td>fc-chelsea</td>\n",
       "    </tr>\n",
       "    <tr>\n",
       "      <th>9</th>\n",
       "      <td>Paul Pogba</td>\n",
       "      <td>90.0</td>\n",
       "      <td>26</td>\n",
       "      <td>Central Midfield</td>\n",
       "      <td>6</td>\n",
       "      <td>manchester-united</td>\n",
       "    </tr>\n",
       "  </tbody>\n",
       "</table>\n",
       "</div>"
      ],
      "text/plain": [
       "                   Player  Value  Age            Position Number  \\\n",
       "0         Raheem Sterling  144.0   25         Left Winger      7   \n",
       "1         Kevin De Bruyne  135.0   28  Attacking Midfield     17   \n",
       "2              Harry Kane  135.0   26      Centre-Forward     10   \n",
       "3           Mohamed Salah  135.0   27        Right Winger     11   \n",
       "4              Sadio Mané  135.0   27         Left Winger     10   \n",
       "5  Trent Alexander-Arnold   99.0   21          Right-Back     66   \n",
       "6         Virgil van Dijk   90.0   28         Centre-Back      4   \n",
       "7          Bernardo Silva   90.0   25        Right Winger     20   \n",
       "8            N'Golo Kanté   90.0   28    Central Midfield      7   \n",
       "9              Paul Pogba   90.0   26    Central Midfield      6   \n",
       "\n",
       "                Club  \n",
       "0    manchester-city  \n",
       "1    manchester-city  \n",
       "2  tottenham-hotspur  \n",
       "3        fc-liverpoo  \n",
       "4        fc-liverpoo  \n",
       "5        fc-liverpoo  \n",
       "6        fc-liverpoo  \n",
       "7    manchester-city  \n",
       "8         fc-chelsea  \n",
       "9  manchester-united  "
      ]
     },
     "execution_count": 43,
     "metadata": {},
     "output_type": "execute_result"
    }
   ],
   "source": [
    "Ranking.sort_values(\"Value\",ascending = False).reset_index(drop = 'True').iloc[:10,]"
   ]
  },
  {
   "cell_type": "markdown",
   "metadata": {},
   "source": [
    "#### Players Age Distribution"
   ]
  },
  {
   "cell_type": "code",
   "execution_count": 45,
   "metadata": {},
   "outputs": [
    {
     "data": {
      "image/png": "[encoded data removed]",
      "text/plain": [
       "<Figure size 432x288 with 1 Axes>"
      ]
     },
     "metadata": {
      "needs_background": "light"
     },
     "output_type": "display_data"
    }
   ],
   "source": [
    "Ranking.groupby('Age')[['Value']].mean().plot.bar()\n",
    "plt.xlabel('Age')\n",
    "plt.ylabel('Average Value in Million ₤')\n",
    "plt.title('Average Value in different age group')\n",
    "plt.show()"
   ]
  },
  {
   "cell_type": "markdown",
   "metadata": {},
   "source": [
    "#### Clubs Value Ranking "
   ]
  },
  {
   "cell_type": "code",
   "execution_count": 56,
   "metadata": {},
   "outputs": [
    {
     "data": {
      "text/plain": [
       "<matplotlib.axes._subplots.AxesSubplot at 0x1abe1c3a9b0>"
      ]
     },
     "execution_count": 56,
     "metadata": {},
     "output_type": "execute_result"
    },
    {
     "data": {
      "image/png": "[encoded data removed]",
      "text/plain": [
       "<Figure size 432x288 with 1 Axes>"
      ]
     },
     "metadata": {
      "needs_background": "light"
     },
     "output_type": "display_data"
    }
   ],
   "source": [
    "Ranking.groupby('Club')[['Value']].sum().sort_values('Value',ascending = False).plot.bar()"
   ]
  }
 ],
 "metadata": {
  "kernelspec": {
   "display_name": "Python 3",
   "language": "python",
   "name": "python3"
  },
  "language_info": {
   "codemirror_mode": {
    "name": "ipython",
    "version": 3
   },
   "file_extension": ".py",
   "mimetype": "text/x-python",
   "name": "python",
   "nbconvert_exporter": "python",
   "pygments_lexer": "ipython3",
   "version": "3.6.7"
  }
 },
 "nbformat": 4,
 "nbformat_minor": 2
}
